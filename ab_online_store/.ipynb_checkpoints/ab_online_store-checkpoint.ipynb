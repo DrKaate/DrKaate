{
 "cells": [
  {
   "cell_type": "markdown",
   "metadata": {},
   "source": [
    "# Принятие решений в бизнесе на основе данных. Приотизация гипотез, А/В тестирование для интернет-магазина."
   ]
  },
  {
   "cell_type": "markdown",
   "metadata": {},
   "source": [
    "Исследование данных крупного интеренет-магазина. \n",
    "\n",
    "Цель - увеличение выручки. \n",
    "Совместно с отделом маркетинга подготовлены гипотезы, приоритизируем их, запустим A/B-тест и проанализируем результаты.\n",
    "\n",
    "Описание данных:\n",
    "\n",
    "\n",
    "**Файл `/datasets/hypothesis.csv`** - содержит 9 гипотез по увеличению выручки интернет-магазина \n",
    "- `Hypothesis` — краткое описание гипотезы;\n",
    "- `Reach` — охват пользователей по 10-балльной шкале;\n",
    "- `Impact` — влияние на пользователей по 10-балльной шкале;\n",
    "- `Confidence` — уверенность в гипотезе по 10-балльной шкале;\n",
    "- `Efforts` — затраты ресурсов на проверку гипотезы по 10-балльной шкале. Чем больше значение Efforts, тем дороже проверка гипотезы.\n",
    "\n",
    "\n",
    "**Файл `/datasets/orders.csv`** - данные для A/B-теста\n",
    "- `transactionId` — идентификатор заказа;\n",
    "- `visitorId` — идентификатор пользователя, совершившего заказ;\n",
    "- `date` — дата, когда был совершён заказ;\n",
    "- `revenue` — выручка заказа;\n",
    "- `group` — группа A/B-теста, в которую попал заказ.\n",
    "\n",
    "\n",
    "**Файл `/datasets/visitors.csv`**\n",
    "- `date` — дата;\n",
    "- `group` — группа A/B-теста;\n",
    "- `visitors` — количество пользователей в указанную дату в указанной группе A/B-теста\n",
    "\n",
    "\n",
    "Для анализа нам необходимо:\n",
    "- изучить данные, проверить датафреймы на наличие пропусков и аномалий\n",
    "- провести А/А-тестирование\n",
    "- приотизировать гипотезы\n",
    "- оценить А/В-тестирование: изучить измнение кумулятивной выручки, кумулятивного среднего чека, кумулятивного среднего количества заказов по группам\n",
    "- оценить статистическую значимость различий \n",
    "- сформулировать выводы\n"
   ]
  },
  {
   "cell_type": "markdown",
   "metadata": {},
   "source": [
    "## Откроем файлы с данными и изучим общую информацию\n",
    "\n",
    "Импортируем необходимые библиотеки, считываем данные из csv-файла в датафрейм и сохраняем в переменную hypothesis."
   ]
  },
  {
   "cell_type": "code",
   "execution_count": 44,
   "metadata": {},
   "outputs": [],
   "source": [
    "import pandas as pd\n",
    "import seaborn as sns\n",
    "import pylab as pl\n",
    "import numpy as np\n",
    "import plotly.graph_objs as go\n",
    "import matplotlib.pyplot as plt\n",
    "%matplotlib inline\n",
    "import datetime as dt\n",
    "import math as mth\n",
    "from matplotlib.ticker import FuncFormatter\n",
    "from scipy import stats as sts"
   ]
  },
  {
   "cell_type": "code",
   "execution_count": 45,
   "metadata": {},
   "outputs": [],
   "source": [
    "try:\n",
    "    hipothesis = pd.read_csv('datasets/hypothesis.csv')\n",
    "except:\n",
    "    hipothesis = pd.read_csv('https://code.s3.yandex.net/datasets/hypothesis.csv')"
   ]
  },
  {
   "cell_type": "markdown",
   "metadata": {},
   "source": [
    "Выведем 9 строчек датафрейма data на экран"
   ]
  },
  {
   "cell_type": "code",
   "execution_count": 46,
   "metadata": {},
   "outputs": [
    {
     "data": {
      "text/html": [
       "<div>\n",
       "<style scoped>\n",
       "    .dataframe tbody tr th:only-of-type {\n",
       "        vertical-align: middle;\n",
       "    }\n",
       "\n",
       "    .dataframe tbody tr th {\n",
       "        vertical-align: top;\n",
       "    }\n",
       "\n",
       "    .dataframe thead th {\n",
       "        text-align: right;\n",
       "    }\n",
       "</style>\n",
       "<table border=\"1\" class=\"dataframe\">\n",
       "  <thead>\n",
       "    <tr style=\"text-align: right;\">\n",
       "      <th></th>\n",
       "      <th>Hypothesis</th>\n",
       "      <th>Reach</th>\n",
       "      <th>Impact</th>\n",
       "      <th>Confidence</th>\n",
       "      <th>Efforts</th>\n",
       "    </tr>\n",
       "  </thead>\n",
       "  <tbody>\n",
       "    <tr>\n",
       "      <th>0</th>\n",
       "      <td>Добавить два новых канала привлечения трафика, что позволит привлекать на 30% больше пользователей</td>\n",
       "      <td>3</td>\n",
       "      <td>10</td>\n",
       "      <td>8</td>\n",
       "      <td>6</td>\n",
       "    </tr>\n",
       "    <tr>\n",
       "      <th>1</th>\n",
       "      <td>Запустить собственную службу доставки, что сократит срок доставки заказов</td>\n",
       "      <td>2</td>\n",
       "      <td>5</td>\n",
       "      <td>4</td>\n",
       "      <td>10</td>\n",
       "    </tr>\n",
       "    <tr>\n",
       "      <th>2</th>\n",
       "      <td>Добавить блоки рекомендаций товаров на сайт интернет магазина, чтобы повысить конверсию и средний чек заказа</td>\n",
       "      <td>8</td>\n",
       "      <td>3</td>\n",
       "      <td>7</td>\n",
       "      <td>3</td>\n",
       "    </tr>\n",
       "    <tr>\n",
       "      <th>3</th>\n",
       "      <td>Изменить структура категорий, что увеличит конверсию, т.к. пользователи быстрее найдут нужный товар</td>\n",
       "      <td>8</td>\n",
       "      <td>3</td>\n",
       "      <td>3</td>\n",
       "      <td>8</td>\n",
       "    </tr>\n",
       "    <tr>\n",
       "      <th>4</th>\n",
       "      <td>Изменить цвет фона главной страницы, чтобы увеличить вовлеченность пользователей</td>\n",
       "      <td>3</td>\n",
       "      <td>1</td>\n",
       "      <td>1</td>\n",
       "      <td>1</td>\n",
       "    </tr>\n",
       "    <tr>\n",
       "      <th>5</th>\n",
       "      <td>Добавить страницу отзывов клиентов о магазине, что позволит увеличить количество заказов</td>\n",
       "      <td>3</td>\n",
       "      <td>2</td>\n",
       "      <td>2</td>\n",
       "      <td>3</td>\n",
       "    </tr>\n",
       "    <tr>\n",
       "      <th>6</th>\n",
       "      <td>Показать на главной странице баннеры с актуальными акциями и распродажами, чтобы увеличить конверсию</td>\n",
       "      <td>5</td>\n",
       "      <td>3</td>\n",
       "      <td>8</td>\n",
       "      <td>3</td>\n",
       "    </tr>\n",
       "    <tr>\n",
       "      <th>7</th>\n",
       "      <td>Добавить форму подписки на все основные страницы, чтобы собрать базу клиентов для email-рассылок</td>\n",
       "      <td>10</td>\n",
       "      <td>7</td>\n",
       "      <td>8</td>\n",
       "      <td>5</td>\n",
       "    </tr>\n",
       "    <tr>\n",
       "      <th>8</th>\n",
       "      <td>Запустить акцию, дающую скидку на товар в день рождения</td>\n",
       "      <td>1</td>\n",
       "      <td>9</td>\n",
       "      <td>9</td>\n",
       "      <td>5</td>\n",
       "    </tr>\n",
       "  </tbody>\n",
       "</table>\n",
       "</div>"
      ],
      "text/plain": [
       "                                                                                                     Hypothesis  \\\n",
       "0            Добавить два новых канала привлечения трафика, что позволит привлекать на 30% больше пользователей   \n",
       "1                                     Запустить собственную службу доставки, что сократит срок доставки заказов   \n",
       "2  Добавить блоки рекомендаций товаров на сайт интернет магазина, чтобы повысить конверсию и средний чек заказа   \n",
       "3           Изменить структура категорий, что увеличит конверсию, т.к. пользователи быстрее найдут нужный товар   \n",
       "4                              Изменить цвет фона главной страницы, чтобы увеличить вовлеченность пользователей   \n",
       "5                      Добавить страницу отзывов клиентов о магазине, что позволит увеличить количество заказов   \n",
       "6          Показать на главной странице баннеры с актуальными акциями и распродажами, чтобы увеличить конверсию   \n",
       "7              Добавить форму подписки на все основные страницы, чтобы собрать базу клиентов для email-рассылок   \n",
       "8                                                       Запустить акцию, дающую скидку на товар в день рождения   \n",
       "\n",
       "   Reach  Impact  Confidence  Efforts  \n",
       "0      3      10           8        6  \n",
       "1      2       5           4       10  \n",
       "2      8       3           7        3  \n",
       "3      8       3           3        8  \n",
       "4      3       1           1        1  \n",
       "5      3       2           2        3  \n",
       "6      5       3           8        3  \n",
       "7     10       7           8        5  \n",
       "8      1       9           9        5  "
      ]
     },
     "execution_count": 46,
     "metadata": {},
     "output_type": "execute_result"
    }
   ],
   "source": [
    "hipothesis.head(9)"
   ]
  },
  {
   "cell_type": "code",
   "execution_count": 47,
   "metadata": {},
   "outputs": [
    {
     "data": {
      "text/plain": [
       "Index(['hypothesis', 'reach', 'impact', 'confidence', 'efforts'], dtype='object')"
      ]
     },
     "execution_count": 47,
     "metadata": {},
     "output_type": "execute_result"
    }
   ],
   "source": [
    "# приведем названия столбцов к нижнему регистру\n",
    "hipothesis.columns = hipothesis.columns.str.lower()\n",
    "# проверим, как изменились названия\n",
    "hipothesis.columns"
   ]
  },
  {
   "cell_type": "markdown",
   "metadata": {},
   "source": [
    "Выведем основную информацию о датафрейме:"
   ]
  },
  {
   "cell_type": "code",
   "execution_count": 48,
   "metadata": {},
   "outputs": [
    {
     "name": "stdout",
     "output_type": "stream",
     "text": [
      "<class 'pandas.core.frame.DataFrame'>\n",
      "RangeIndex: 9 entries, 0 to 8\n",
      "Data columns (total 5 columns):\n",
      " #   Column      Non-Null Count  Dtype \n",
      "---  ------      --------------  ----- \n",
      " 0   hypothesis  9 non-null      object\n",
      " 1   reach       9 non-null      int64 \n",
      " 2   impact      9 non-null      int64 \n",
      " 3   confidence  9 non-null      int64 \n",
      " 4   efforts     9 non-null      int64 \n",
      "dtypes: int64(4), object(1)\n",
      "memory usage: 488.0+ bytes\n"
     ]
    }
   ],
   "source": [
    "hipothesis.info()"
   ]
  },
  {
   "cell_type": "code",
   "execution_count": 49,
   "metadata": {},
   "outputs": [
    {
     "data": {
      "text/plain": [
       "0"
      ]
     },
     "execution_count": 49,
     "metadata": {},
     "output_type": "execute_result"
    }
   ],
   "source": [
    "hipothesis.duplicated().sum()"
   ]
  },
  {
   "cell_type": "code",
   "execution_count": 50,
   "metadata": {},
   "outputs": [],
   "source": [
    "try:\n",
    "    orders = pd.read_csv('/datasets/orders.csv')\n",
    "except: \n",
    "    orders = pd.read_csv('https://code.s3.yandex.net/datasets/orders.csv')"
   ]
  },
  {
   "cell_type": "code",
   "execution_count": 51,
   "metadata": {},
   "outputs": [
    {
     "data": {
      "text/html": [
       "<div>\n",
       "<style scoped>\n",
       "    .dataframe tbody tr th:only-of-type {\n",
       "        vertical-align: middle;\n",
       "    }\n",
       "\n",
       "    .dataframe tbody tr th {\n",
       "        vertical-align: top;\n",
       "    }\n",
       "\n",
       "    .dataframe thead th {\n",
       "        text-align: right;\n",
       "    }\n",
       "</style>\n",
       "<table border=\"1\" class=\"dataframe\">\n",
       "  <thead>\n",
       "    <tr style=\"text-align: right;\">\n",
       "      <th></th>\n",
       "      <th>transactionId</th>\n",
       "      <th>visitorId</th>\n",
       "      <th>date</th>\n",
       "      <th>revenue</th>\n",
       "      <th>group</th>\n",
       "    </tr>\n",
       "  </thead>\n",
       "  <tbody>\n",
       "    <tr>\n",
       "      <th>0</th>\n",
       "      <td>3667963787</td>\n",
       "      <td>3312258926</td>\n",
       "      <td>2019-08-15</td>\n",
       "      <td>1650</td>\n",
       "      <td>B</td>\n",
       "    </tr>\n",
       "    <tr>\n",
       "      <th>1</th>\n",
       "      <td>2804400009</td>\n",
       "      <td>3642806036</td>\n",
       "      <td>2019-08-15</td>\n",
       "      <td>730</td>\n",
       "      <td>B</td>\n",
       "    </tr>\n",
       "    <tr>\n",
       "      <th>2</th>\n",
       "      <td>2961555356</td>\n",
       "      <td>4069496402</td>\n",
       "      <td>2019-08-15</td>\n",
       "      <td>400</td>\n",
       "      <td>A</td>\n",
       "    </tr>\n",
       "    <tr>\n",
       "      <th>3</th>\n",
       "      <td>3797467345</td>\n",
       "      <td>1196621759</td>\n",
       "      <td>2019-08-15</td>\n",
       "      <td>9759</td>\n",
       "      <td>B</td>\n",
       "    </tr>\n",
       "    <tr>\n",
       "      <th>4</th>\n",
       "      <td>2282983706</td>\n",
       "      <td>2322279887</td>\n",
       "      <td>2019-08-15</td>\n",
       "      <td>2308</td>\n",
       "      <td>B</td>\n",
       "    </tr>\n",
       "    <tr>\n",
       "      <th>5</th>\n",
       "      <td>182168103</td>\n",
       "      <td>935554773</td>\n",
       "      <td>2019-08-15</td>\n",
       "      <td>2210</td>\n",
       "      <td>B</td>\n",
       "    </tr>\n",
       "    <tr>\n",
       "      <th>6</th>\n",
       "      <td>398296753</td>\n",
       "      <td>2900797465</td>\n",
       "      <td>2019-08-15</td>\n",
       "      <td>1860</td>\n",
       "      <td>B</td>\n",
       "    </tr>\n",
       "    <tr>\n",
       "      <th>7</th>\n",
       "      <td>2626614568</td>\n",
       "      <td>78758296</td>\n",
       "      <td>2019-08-15</td>\n",
       "      <td>1044</td>\n",
       "      <td>A</td>\n",
       "    </tr>\n",
       "    <tr>\n",
       "      <th>8</th>\n",
       "      <td>1576988021</td>\n",
       "      <td>295230930</td>\n",
       "      <td>2019-08-15</td>\n",
       "      <td>13710</td>\n",
       "      <td>A</td>\n",
       "    </tr>\n",
       "    <tr>\n",
       "      <th>9</th>\n",
       "      <td>1506739906</td>\n",
       "      <td>1882260405</td>\n",
       "      <td>2019-08-15</td>\n",
       "      <td>1855</td>\n",
       "      <td>B</td>\n",
       "    </tr>\n",
       "  </tbody>\n",
       "</table>\n",
       "</div>"
      ],
      "text/plain": [
       "   transactionId   visitorId        date  revenue group\n",
       "0     3667963787  3312258926  2019-08-15     1650     B\n",
       "1     2804400009  3642806036  2019-08-15      730     B\n",
       "2     2961555356  4069496402  2019-08-15      400     A\n",
       "3     3797467345  1196621759  2019-08-15     9759     B\n",
       "4     2282983706  2322279887  2019-08-15     2308     B\n",
       "5      182168103   935554773  2019-08-15     2210     B\n",
       "6      398296753  2900797465  2019-08-15     1860     B\n",
       "7     2626614568    78758296  2019-08-15     1044     A\n",
       "8     1576988021   295230930  2019-08-15    13710     A\n",
       "9     1506739906  1882260405  2019-08-15     1855     B"
      ]
     },
     "execution_count": 51,
     "metadata": {},
     "output_type": "execute_result"
    }
   ],
   "source": [
    "orders.head(10)"
   ]
  },
  {
   "cell_type": "code",
   "execution_count": 52,
   "metadata": {},
   "outputs": [
    {
     "data": {
      "text/plain": [
       "Index(['transaction_id', 'visitor_id', 'date', 'revenue', 'group'], dtype='object')"
      ]
     },
     "execution_count": 52,
     "metadata": {},
     "output_type": "execute_result"
    }
   ],
   "source": [
    "# переименуем столбцы\n",
    "orders = orders.rename(columns = {'transactionId':'transaction_id', 'visitorId':'visitor_id'})\n",
    "# проверим, как изменились названия\n",
    "orders.columns"
   ]
  },
  {
   "cell_type": "code",
   "execution_count": 53,
   "metadata": {},
   "outputs": [
    {
     "name": "stdout",
     "output_type": "stream",
     "text": [
      "<class 'pandas.core.frame.DataFrame'>\n",
      "RangeIndex: 1197 entries, 0 to 1196\n",
      "Data columns (total 5 columns):\n",
      " #   Column          Non-Null Count  Dtype \n",
      "---  ------          --------------  ----- \n",
      " 0   transaction_id  1197 non-null   int64 \n",
      " 1   visitor_id      1197 non-null   int64 \n",
      " 2   date            1197 non-null   object\n",
      " 3   revenue         1197 non-null   int64 \n",
      " 4   group           1197 non-null   object\n",
      "dtypes: int64(3), object(2)\n",
      "memory usage: 46.9+ KB\n"
     ]
    }
   ],
   "source": [
    "orders.info()"
   ]
  },
  {
   "cell_type": "code",
   "execution_count": 54,
   "metadata": {},
   "outputs": [
    {
     "data": {
      "text/plain": [
       "0"
      ]
     },
     "execution_count": 54,
     "metadata": {},
     "output_type": "execute_result"
    }
   ],
   "source": [
    "orders.duplicated().sum()"
   ]
  },
  {
   "cell_type": "code",
   "execution_count": 55,
   "metadata": {},
   "outputs": [],
   "source": [
    "try:\n",
    "    visitors = pd.read_csv('/datasets/visitors.csv')\n",
    "except: \n",
    "    visitors = pd.read_csv('https://code.s3.yandex.net/datasets/visitors.csv')"
   ]
  },
  {
   "cell_type": "code",
   "execution_count": 56,
   "metadata": {},
   "outputs": [
    {
     "data": {
      "text/html": [
       "<div>\n",
       "<style scoped>\n",
       "    .dataframe tbody tr th:only-of-type {\n",
       "        vertical-align: middle;\n",
       "    }\n",
       "\n",
       "    .dataframe tbody tr th {\n",
       "        vertical-align: top;\n",
       "    }\n",
       "\n",
       "    .dataframe thead th {\n",
       "        text-align: right;\n",
       "    }\n",
       "</style>\n",
       "<table border=\"1\" class=\"dataframe\">\n",
       "  <thead>\n",
       "    <tr style=\"text-align: right;\">\n",
       "      <th></th>\n",
       "      <th>date</th>\n",
       "      <th>group</th>\n",
       "      <th>visitors</th>\n",
       "    </tr>\n",
       "  </thead>\n",
       "  <tbody>\n",
       "    <tr>\n",
       "      <th>0</th>\n",
       "      <td>2019-08-01</td>\n",
       "      <td>A</td>\n",
       "      <td>719</td>\n",
       "    </tr>\n",
       "    <tr>\n",
       "      <th>1</th>\n",
       "      <td>2019-08-02</td>\n",
       "      <td>A</td>\n",
       "      <td>619</td>\n",
       "    </tr>\n",
       "    <tr>\n",
       "      <th>2</th>\n",
       "      <td>2019-08-03</td>\n",
       "      <td>A</td>\n",
       "      <td>507</td>\n",
       "    </tr>\n",
       "    <tr>\n",
       "      <th>3</th>\n",
       "      <td>2019-08-04</td>\n",
       "      <td>A</td>\n",
       "      <td>717</td>\n",
       "    </tr>\n",
       "    <tr>\n",
       "      <th>4</th>\n",
       "      <td>2019-08-05</td>\n",
       "      <td>A</td>\n",
       "      <td>756</td>\n",
       "    </tr>\n",
       "    <tr>\n",
       "      <th>5</th>\n",
       "      <td>2019-08-06</td>\n",
       "      <td>A</td>\n",
       "      <td>667</td>\n",
       "    </tr>\n",
       "    <tr>\n",
       "      <th>6</th>\n",
       "      <td>2019-08-07</td>\n",
       "      <td>A</td>\n",
       "      <td>644</td>\n",
       "    </tr>\n",
       "    <tr>\n",
       "      <th>7</th>\n",
       "      <td>2019-08-08</td>\n",
       "      <td>A</td>\n",
       "      <td>610</td>\n",
       "    </tr>\n",
       "    <tr>\n",
       "      <th>8</th>\n",
       "      <td>2019-08-09</td>\n",
       "      <td>A</td>\n",
       "      <td>617</td>\n",
       "    </tr>\n",
       "    <tr>\n",
       "      <th>9</th>\n",
       "      <td>2019-08-10</td>\n",
       "      <td>A</td>\n",
       "      <td>406</td>\n",
       "    </tr>\n",
       "  </tbody>\n",
       "</table>\n",
       "</div>"
      ],
      "text/plain": [
       "         date group  visitors\n",
       "0  2019-08-01     A       719\n",
       "1  2019-08-02     A       619\n",
       "2  2019-08-03     A       507\n",
       "3  2019-08-04     A       717\n",
       "4  2019-08-05     A       756\n",
       "5  2019-08-06     A       667\n",
       "6  2019-08-07     A       644\n",
       "7  2019-08-08     A       610\n",
       "8  2019-08-09     A       617\n",
       "9  2019-08-10     A       406"
      ]
     },
     "execution_count": 56,
     "metadata": {},
     "output_type": "execute_result"
    }
   ],
   "source": [
    "visitors.head(10)"
   ]
  },
  {
   "cell_type": "code",
   "execution_count": 57,
   "metadata": {},
   "outputs": [
    {
     "name": "stdout",
     "output_type": "stream",
     "text": [
      "<class 'pandas.core.frame.DataFrame'>\n",
      "RangeIndex: 62 entries, 0 to 61\n",
      "Data columns (total 3 columns):\n",
      " #   Column    Non-Null Count  Dtype \n",
      "---  ------    --------------  ----- \n",
      " 0   date      62 non-null     object\n",
      " 1   group     62 non-null     object\n",
      " 2   visitors  62 non-null     int64 \n",
      "dtypes: int64(1), object(2)\n",
      "memory usage: 1.6+ KB\n"
     ]
    }
   ],
   "source": [
    "visitors.info()"
   ]
  },
  {
   "cell_type": "code",
   "execution_count": 58,
   "metadata": {},
   "outputs": [],
   "source": [
    "# поменяем типы данных столбцов \n",
    "orders['date'] = orders['date'].astype('datetime64[D]')\n",
    "visitors['date'] = visitors['date'].astype('datetime64[D]')"
   ]
  },
  {
   "cell_type": "code",
   "execution_count": 59,
   "metadata": {},
   "outputs": [
    {
     "name": "stdout",
     "output_type": "stream",
     "text": [
      "<class 'pandas.core.frame.DataFrame'>\n",
      "RangeIndex: 62 entries, 0 to 61\n",
      "Data columns (total 3 columns):\n",
      " #   Column    Non-Null Count  Dtype         \n",
      "---  ------    --------------  -----         \n",
      " 0   date      62 non-null     datetime64[ns]\n",
      " 1   group     62 non-null     object        \n",
      " 2   visitors  62 non-null     int64         \n",
      "dtypes: datetime64[ns](1), int64(1), object(1)\n",
      "memory usage: 1.6+ KB\n"
     ]
    }
   ],
   "source": [
    "visitors.info()"
   ]
  },
  {
   "cell_type": "code",
   "execution_count": 60,
   "metadata": {},
   "outputs": [
    {
     "data": {
      "text/plain": [
       "0"
      ]
     },
     "execution_count": 60,
     "metadata": {},
     "output_type": "execute_result"
    }
   ],
   "source": [
    "visitors.duplicated().sum()"
   ]
  },
  {
   "cell_type": "markdown",
   "metadata": {},
   "source": [
    "На текущем этапе мы ознакомились с даными трех датафреймов, изменили названия столбцов, убедились в отсутствии явных дубликатов, преобразовали типы данных столбцов date таблиц visitors и orders."
   ]
  },
  {
   "cell_type": "markdown",
   "metadata": {},
   "source": [
    "###  Проведем базовую проверку данных\n",
    "\n",
    "- Для начала определим количество групп А/В-теста \n",
    "- Период, за который нам доступны данные \n",
    "- Проверим корректность распределения на группы "
   ]
  },
  {
   "cell_type": "code",
   "execution_count": 61,
   "metadata": {},
   "outputs": [
    {
     "data": {
      "text/plain": [
       "array(['A', 'B'], dtype=object)"
      ]
     },
     "execution_count": 61,
     "metadata": {},
     "output_type": "execute_result"
    }
   ],
   "source": [
    "#Определим количество групп А/В-теста:\n",
    "\n",
    "visitors['group'].unique()"
   ]
  },
  {
   "cell_type": "code",
   "execution_count": 62,
   "metadata": {},
   "outputs": [
    {
     "name": "stdout",
     "output_type": "stream",
     "text": [
      "\n",
      "Дата начала теста 2019-08-01 00:00:00\n",
      "Дата окончания теста 2019-08-31 00:00:00\n",
      "\n"
     ]
    }
   ],
   "source": [
    "# Определим дату начала и окончания теста\n",
    "print('\\nДата начала теста {}\\nДата окончания теста {}\\n'.format(orders['date'].min(),\\\n",
    "                                                                 orders['date'].max()))\n"
   ]
  },
  {
   "cell_type": "code",
   "execution_count": 63,
   "metadata": {},
   "outputs": [
    {
     "name": "stdout",
     "output_type": "stream",
     "text": [
      "Кол-во посетителей в группе А: 18736\n",
      "Кол-во посетителей в группе B: 18916\n",
      "Кол-во покупок в группе A: 557\n",
      "Кол-во покупок в группе B: 640\n"
     ]
    },
    {
     "data": {
      "image/png": "[encoded data removed]",
      "text/plain": [
       "<Figure size 640x480 with 1 Axes>"
      ]
     },
     "metadata": {},
     "output_type": "display_data"
    }
   ],
   "source": [
    "# определим количество посетителей в каждой группе\n",
    "print('Кол-во посетителей в группе А: {}\\n'\n",
    "      'Кол-во посетителей в группе B: {}'.format(visitors[visitors['group']=='A']['visitors']\\\n",
    "                                                 .sum(), visitors[visitors['group']=='B']\\\n",
    "                                                 ['visitors'].sum()))\n",
    "# количество покупок в группах\n",
    "purchasesA = len(orders[orders['group']=='A'])\n",
    "purchasesB = len(orders[orders['group']=='B'])\n",
    "print('Кол-во покупок в группе A: {}'.format(purchasesA))\n",
    "print('Кол-во покупок в группе B: {}'.format(purchasesB))\n",
    "# построим график распределения посетителей по группам\n",
    "plt.hist(visitors[visitors['group']=='A']['visitors'], alpha = 0.8,\\\n",
    "         label='группа A', bins = 30)\n",
    "plt.hist(visitors[visitors['group']=='B']['visitors'], alpha = 0.8, \\\n",
    "         label='группа B', bins = 30)\n",
    "plt.legend()\n",
    "plt.title('График распределения посетителей по группам A и B')\n",
    "plt.show()"
   ]
  },
  {
   "cell_type": "code",
   "execution_count": 64,
   "metadata": {},
   "outputs": [
    {
     "name": "stdout",
     "output_type": "stream",
     "text": [
      "      visitor_id  group\n",
      "0        5114589      1\n",
      "1        6958315      1\n",
      "2        8300375      2\n",
      "3       11685486      1\n",
      "4       39475350      1\n",
      "...          ...    ...\n",
      "1026  4266935830      2\n",
      "1027  4278982564      1\n",
      "1028  4279090005      1\n",
      "1029  4281247801      1\n",
      "1030  4283872382      1\n",
      "\n",
      "[1031 rows x 2 columns]\n",
      "Количество пользователей, находящихся одновременно в 2 группах: 58\n"
     ]
    }
   ],
   "source": [
    "# проверим, встречаются ли пользователти, попавшие в обе группы\n",
    "ab_group = orders.pivot_table(index='visitor_id',\\\n",
    "                              values='group', aggfunc='nunique').reset_index()\n",
    "print(ab_group)\n",
    "ab_group_count = ab_group.query('group == 2')['visitor_id'].count()\n",
    "print('Количество пользователей, находящихся одновременно в 2 группах:', ab_group_count)"
   ]
  },
  {
   "cell_type": "code",
   "execution_count": 65,
   "metadata": {},
   "outputs": [
    {
     "name": "stdout",
     "output_type": "stream",
     "text": [
      "Доля пользователей, попавших в обе группы составляет 5 %\n"
     ]
    }
   ],
   "source": [
    "print('Доля пользователей, попавших в обе группы составляет {} %'.format\\\n",
    "      (round(100*ab_group_count/(orders['visitor_id'].count()))))"
   ]
  },
  {
   "cell_type": "markdown",
   "metadata": {},
   "source": [
    "Перед нами данные за август 2019 года, пользователи распределены на 2 группы - А и В. Кроме того, некоторые пользователи попали одновременно в обе группы, доля таких пользователей составляет около 5%. Принимаем решение оставить в датасете пользователей, попоавших в обе группы, так как их удаление может уменьшить выборку и повлиять на дальнейший анализ."
   ]
  },
  {
   "cell_type": "markdown",
   "metadata": {},
   "source": [
    "## Приоритизация гипотез."
   ]
  },
  {
   "cell_type": "markdown",
   "metadata": {},
   "source": [
    "### Фреймворк ICE\n",
    "Один из самых популярных способов приоритизации задач — **ICE** \n",
    "\n",
    "(от англ. `impact, confidence, effort / ease` «влияние, уверенность, усилия / простота»):"
   ]
  },
  {
   "cell_type": "code",
   "execution_count": 66,
   "metadata": {},
   "outputs": [
    {
     "data": {
      "text/html": [
       "<div>\n",
       "<style scoped>\n",
       "    .dataframe tbody tr th:only-of-type {\n",
       "        vertical-align: middle;\n",
       "    }\n",
       "\n",
       "    .dataframe tbody tr th {\n",
       "        vertical-align: top;\n",
       "    }\n",
       "\n",
       "    .dataframe thead th {\n",
       "        text-align: right;\n",
       "    }\n",
       "</style>\n",
       "<table border=\"1\" class=\"dataframe\">\n",
       "  <thead>\n",
       "    <tr style=\"text-align: right;\">\n",
       "      <th></th>\n",
       "      <th>hypothesis</th>\n",
       "      <th>ICE</th>\n",
       "    </tr>\n",
       "  </thead>\n",
       "  <tbody>\n",
       "    <tr>\n",
       "      <th>8</th>\n",
       "      <td>Запустить акцию, дающую скидку на товар в день рождения</td>\n",
       "      <td>16.20</td>\n",
       "    </tr>\n",
       "    <tr>\n",
       "      <th>0</th>\n",
       "      <td>Добавить два новых канала привлечения трафика, что позволит привлекать на 30% больше пользователей</td>\n",
       "      <td>13.33</td>\n",
       "    </tr>\n",
       "    <tr>\n",
       "      <th>7</th>\n",
       "      <td>Добавить форму подписки на все основные страницы, чтобы собрать базу клиентов для email-рассылок</td>\n",
       "      <td>11.20</td>\n",
       "    </tr>\n",
       "    <tr>\n",
       "      <th>6</th>\n",
       "      <td>Показать на главной странице баннеры с актуальными акциями и распродажами, чтобы увеличить конверсию</td>\n",
       "      <td>8.00</td>\n",
       "    </tr>\n",
       "    <tr>\n",
       "      <th>2</th>\n",
       "      <td>Добавить блоки рекомендаций товаров на сайт интернет магазина, чтобы повысить конверсию и средний чек заказа</td>\n",
       "      <td>7.00</td>\n",
       "    </tr>\n",
       "    <tr>\n",
       "      <th>1</th>\n",
       "      <td>Запустить собственную службу доставки, что сократит срок доставки заказов</td>\n",
       "      <td>2.00</td>\n",
       "    </tr>\n",
       "    <tr>\n",
       "      <th>5</th>\n",
       "      <td>Добавить страницу отзывов клиентов о магазине, что позволит увеличить количество заказов</td>\n",
       "      <td>1.33</td>\n",
       "    </tr>\n",
       "    <tr>\n",
       "      <th>3</th>\n",
       "      <td>Изменить структура категорий, что увеличит конверсию, т.к. пользователи быстрее найдут нужный товар</td>\n",
       "      <td>1.12</td>\n",
       "    </tr>\n",
       "    <tr>\n",
       "      <th>4</th>\n",
       "      <td>Изменить цвет фона главной страницы, чтобы увеличить вовлеченность пользователей</td>\n",
       "      <td>1.00</td>\n",
       "    </tr>\n",
       "  </tbody>\n",
       "</table>\n",
       "</div>"
      ],
      "text/plain": [
       "                                                                                                     hypothesis  \\\n",
       "8                                                       Запустить акцию, дающую скидку на товар в день рождения   \n",
       "0            Добавить два новых канала привлечения трафика, что позволит привлекать на 30% больше пользователей   \n",
       "7              Добавить форму подписки на все основные страницы, чтобы собрать базу клиентов для email-рассылок   \n",
       "6          Показать на главной странице баннеры с актуальными акциями и распродажами, чтобы увеличить конверсию   \n",
       "2  Добавить блоки рекомендаций товаров на сайт интернет магазина, чтобы повысить конверсию и средний чек заказа   \n",
       "1                                     Запустить собственную службу доставки, что сократит срок доставки заказов   \n",
       "5                      Добавить страницу отзывов клиентов о магазине, что позволит увеличить количество заказов   \n",
       "3           Изменить структура категорий, что увеличит конверсию, т.к. пользователи быстрее найдут нужный товар   \n",
       "4                              Изменить цвет фона главной страницы, чтобы увеличить вовлеченность пользователей   \n",
       "\n",
       "     ICE  \n",
       "8  16.20  \n",
       "0  13.33  \n",
       "7  11.20  \n",
       "6   8.00  \n",
       "2   7.00  \n",
       "1   2.00  \n",
       "5   1.33  \n",
       "3   1.12  \n",
       "4   1.00  "
      ]
     },
     "execution_count": 66,
     "metadata": {},
     "output_type": "execute_result"
    }
   ],
   "source": [
    "pd.options.display.max_colwidth = 210\n",
    "hipothesis_priority = pd.DataFrame()\n",
    "hipothesis_priority['hypothesis'] = hipothesis['hypothesis']\n",
    "hipothesis_priority['ICE'] = round(((hipothesis['impact'] *\\\n",
    "                              hipothesis['confidence'] )/ hipothesis['efforts']),2)\n",
    "hipothesis_priority.sort_values(by='ICE', ascending=False)"
   ]
  },
  {
   "cell_type": "markdown",
   "metadata": {},
   "source": [
    "**Наиболее перспективные гипотезы по ICE: 8, 0, 7**\n",
    "\n",
    "\n",
    "### Фреймворк RICE\n",
    "\n",
    "Фреймворк **RICE** состоит из четырёх компонент:\n",
    "- `Reach` — скольких пользователей затронет изменение, которое вы хотите внести;\n",
    "- `Impact` — насколько сильно изменение повлияет на пользователей, их опыт и удовлетворение от продукта;\n",
    "- `Confidence` — насколько вы уверены, что это изменение повлияет на пользователей именно так;\n",
    "- `Efforts` — сколько стоит протестировать эту гипотезу.\n"
   ]
  },
  {
   "cell_type": "code",
   "execution_count": 67,
   "metadata": {},
   "outputs": [
    {
     "data": {
      "text/html": [
       "<div>\n",
       "<style scoped>\n",
       "    .dataframe tbody tr th:only-of-type {\n",
       "        vertical-align: middle;\n",
       "    }\n",
       "\n",
       "    .dataframe tbody tr th {\n",
       "        vertical-align: top;\n",
       "    }\n",
       "\n",
       "    .dataframe thead th {\n",
       "        text-align: right;\n",
       "    }\n",
       "</style>\n",
       "<table border=\"1\" class=\"dataframe\">\n",
       "  <thead>\n",
       "    <tr style=\"text-align: right;\">\n",
       "      <th></th>\n",
       "      <th>hypothesis</th>\n",
       "      <th>ICE</th>\n",
       "      <th>RICE</th>\n",
       "    </tr>\n",
       "  </thead>\n",
       "  <tbody>\n",
       "    <tr>\n",
       "      <th>7</th>\n",
       "      <td>Добавить форму подписки на все основные страницы, чтобы собрать базу клиентов для email-рассылок</td>\n",
       "      <td>11.20</td>\n",
       "      <td>112.0</td>\n",
       "    </tr>\n",
       "    <tr>\n",
       "      <th>2</th>\n",
       "      <td>Добавить блоки рекомендаций товаров на сайт интернет магазина, чтобы повысить конверсию и средний чек заказа</td>\n",
       "      <td>7.00</td>\n",
       "      <td>56.0</td>\n",
       "    </tr>\n",
       "    <tr>\n",
       "      <th>0</th>\n",
       "      <td>Добавить два новых канала привлечения трафика, что позволит привлекать на 30% больше пользователей</td>\n",
       "      <td>13.33</td>\n",
       "      <td>40.0</td>\n",
       "    </tr>\n",
       "    <tr>\n",
       "      <th>6</th>\n",
       "      <td>Показать на главной странице баннеры с актуальными акциями и распродажами, чтобы увеличить конверсию</td>\n",
       "      <td>8.00</td>\n",
       "      <td>40.0</td>\n",
       "    </tr>\n",
       "    <tr>\n",
       "      <th>8</th>\n",
       "      <td>Запустить акцию, дающую скидку на товар в день рождения</td>\n",
       "      <td>16.20</td>\n",
       "      <td>16.2</td>\n",
       "    </tr>\n",
       "    <tr>\n",
       "      <th>3</th>\n",
       "      <td>Изменить структура категорий, что увеличит конверсию, т.к. пользователи быстрее найдут нужный товар</td>\n",
       "      <td>1.12</td>\n",
       "      <td>9.0</td>\n",
       "    </tr>\n",
       "    <tr>\n",
       "      <th>1</th>\n",
       "      <td>Запустить собственную службу доставки, что сократит срок доставки заказов</td>\n",
       "      <td>2.00</td>\n",
       "      <td>4.0</td>\n",
       "    </tr>\n",
       "    <tr>\n",
       "      <th>5</th>\n",
       "      <td>Добавить страницу отзывов клиентов о магазине, что позволит увеличить количество заказов</td>\n",
       "      <td>1.33</td>\n",
       "      <td>4.0</td>\n",
       "    </tr>\n",
       "    <tr>\n",
       "      <th>4</th>\n",
       "      <td>Изменить цвет фона главной страницы, чтобы увеличить вовлеченность пользователей</td>\n",
       "      <td>1.00</td>\n",
       "      <td>3.0</td>\n",
       "    </tr>\n",
       "  </tbody>\n",
       "</table>\n",
       "</div>"
      ],
      "text/plain": [
       "                                                                                                     hypothesis  \\\n",
       "7              Добавить форму подписки на все основные страницы, чтобы собрать базу клиентов для email-рассылок   \n",
       "2  Добавить блоки рекомендаций товаров на сайт интернет магазина, чтобы повысить конверсию и средний чек заказа   \n",
       "0            Добавить два новых канала привлечения трафика, что позволит привлекать на 30% больше пользователей   \n",
       "6          Показать на главной странице баннеры с актуальными акциями и распродажами, чтобы увеличить конверсию   \n",
       "8                                                       Запустить акцию, дающую скидку на товар в день рождения   \n",
       "3           Изменить структура категорий, что увеличит конверсию, т.к. пользователи быстрее найдут нужный товар   \n",
       "1                                     Запустить собственную службу доставки, что сократит срок доставки заказов   \n",
       "5                      Добавить страницу отзывов клиентов о магазине, что позволит увеличить количество заказов   \n",
       "4                              Изменить цвет фона главной страницы, чтобы увеличить вовлеченность пользователей   \n",
       "\n",
       "     ICE   RICE  \n",
       "7  11.20  112.0  \n",
       "2   7.00   56.0  \n",
       "0  13.33   40.0  \n",
       "6   8.00   40.0  \n",
       "8  16.20   16.2  \n",
       "3   1.12    9.0  \n",
       "1   2.00    4.0  \n",
       "5   1.33    4.0  \n",
       "4   1.00    3.0  "
      ]
     },
     "execution_count": 67,
     "metadata": {},
     "output_type": "execute_result"
    }
   ],
   "source": [
    "hipothesis_priority['RICE'] = (hipothesis['reach']* hipothesis['impact']* \\\n",
    "                      hipothesis['confidence'])/hipothesis['efforts']\n",
    "hipothesis_priority.sort_values(by='RICE', ascending=False)"
   ]
  },
  {
   "cell_type": "code",
   "execution_count": 68,
   "metadata": {},
   "outputs": [
    {
     "data": {
      "image/png": "[encoded data removed]",
      "text/plain": [
       "<Figure size 640x480 with 1 Axes>"
      ]
     },
     "metadata": {},
     "output_type": "display_data"
    }
   ],
   "source": [
    "sns.scatterplot(data=hipothesis_priority, x='ICE', y=\"RICE\", hue='hypothesis', sizes=(20, 200), legend='auto')\n",
    "plt.legend(loc = 1, bbox_to_anchor = (2,1.7));"
   ]
  },
  {
   "cell_type": "markdown",
   "metadata": {},
   "source": [
    "**Наиболее перспективными оказались гипотезы 7, 2, 0**, гипотеза 8, лидирующая по ICE имеет пятый приоритет по RICE. Первая позиция гипотезы 7 связана со значением параметра Reach равеного 10, в то время, как у других гипотез он меньше.\n",
    "\n",
    "Как можно заметить, при применении RICE вместо ICE, приоритизация гипотез меняется. Поэтому кроме силы гипотез следует обращать внимание на то, скольких пользователей затронут изменения.\n",
    "\n",
    "Для нас наиболее приоритетными являются гипотезы 7, 2, 0.\n",
    "\n",
    "- (7) Добавить форму подписки на все основные страницы, чтобы собрать базу клиентов для email-рассылок\n",
    "- (2) Добавить блоки рекомендаций товаров на сайт интернет магазина, чтобы повысить конверсию и средний чек заказа\n",
    "- (0) Добавить два новых канала привлечения трафика, что позволит привлекать на 30% больше пользователей\n",
    "\n",
    "\n",
    "## Анализ A/B-теста\n",
    "\n",
    "Результаты А/В-тестирования описаны в датафреймах orders и visitors.\n",
    "### Оценим кумулятивную выручку по группам:"
   ]
  },
  {
   "cell_type": "code",
   "execution_count": 69,
   "metadata": {},
   "outputs": [
    {
     "data": {
      "text/html": [
       "<div>\n",
       "<style scoped>\n",
       "    .dataframe tbody tr th:only-of-type {\n",
       "        vertical-align: middle;\n",
       "    }\n",
       "\n",
       "    .dataframe tbody tr th {\n",
       "        vertical-align: top;\n",
       "    }\n",
       "\n",
       "    .dataframe thead th {\n",
       "        text-align: right;\n",
       "    }\n",
       "</style>\n",
       "<table border=\"1\" class=\"dataframe\">\n",
       "  <thead>\n",
       "    <tr style=\"text-align: right;\">\n",
       "      <th></th>\n",
       "      <th>date</th>\n",
       "      <th>group</th>\n",
       "      <th>orders</th>\n",
       "      <th>buyers</th>\n",
       "      <th>revenue</th>\n",
       "      <th>visitors</th>\n",
       "    </tr>\n",
       "  </thead>\n",
       "  <tbody>\n",
       "    <tr>\n",
       "      <th>0</th>\n",
       "      <td>2019-08-01</td>\n",
       "      <td>A</td>\n",
       "      <td>24</td>\n",
       "      <td>20</td>\n",
       "      <td>148579</td>\n",
       "      <td>719</td>\n",
       "    </tr>\n",
       "    <tr>\n",
       "      <th>1</th>\n",
       "      <td>2019-08-01</td>\n",
       "      <td>B</td>\n",
       "      <td>21</td>\n",
       "      <td>20</td>\n",
       "      <td>101217</td>\n",
       "      <td>713</td>\n",
       "    </tr>\n",
       "    <tr>\n",
       "      <th>2</th>\n",
       "      <td>2019-08-02</td>\n",
       "      <td>A</td>\n",
       "      <td>44</td>\n",
       "      <td>38</td>\n",
       "      <td>242401</td>\n",
       "      <td>1338</td>\n",
       "    </tr>\n",
       "    <tr>\n",
       "      <th>3</th>\n",
       "      <td>2019-08-02</td>\n",
       "      <td>B</td>\n",
       "      <td>45</td>\n",
       "      <td>43</td>\n",
       "      <td>266748</td>\n",
       "      <td>1294</td>\n",
       "    </tr>\n",
       "    <tr>\n",
       "      <th>4</th>\n",
       "      <td>2019-08-03</td>\n",
       "      <td>A</td>\n",
       "      <td>68</td>\n",
       "      <td>62</td>\n",
       "      <td>354874</td>\n",
       "      <td>1845</td>\n",
       "    </tr>\n",
       "  </tbody>\n",
       "</table>\n",
       "</div>"
      ],
      "text/plain": [
       "        date group  orders  buyers  revenue  visitors\n",
       "0 2019-08-01     A      24      20   148579       719\n",
       "1 2019-08-01     B      21      20   101217       713\n",
       "2 2019-08-02     A      44      38   242401      1338\n",
       "3 2019-08-02     B      45      43   266748      1294\n",
       "4 2019-08-03     A      68      62   354874      1845"
      ]
     },
     "execution_count": 69,
     "metadata": {},
     "output_type": "execute_result"
    }
   ],
   "source": [
    "# создадим массив уникальных пар значений дат и групп тестирования\n",
    "date_group = orders[['date','group']].drop_duplicates().sort_values(by=['date', 'group'])\n",
    "# выведем кумулятивные показатели таблицы orders\n",
    "orders_cmlt = date_group.apply(lambda x: orders[np.logical_and(x['date'] >= orders['date'],\\\n",
    "            x['group']==orders['group'])].agg({'date':'max', 'group':'max',\\\n",
    "            'transaction_id':'nunique', 'visitor_id':'nunique', 'revenue':'sum'}), axis = 1)\n",
    "orders_cmlt.columns = ['date', 'group', 'orders', 'buyers', 'revenue']\n",
    "# выведем кумулятивные показатели таблицы visitors\n",
    "visitors_cmlt = date_group.apply(lambda x: visitors[np.logical_and\\\n",
    "            (x['date'] >= visitors['date'], x['group']==visitors['group'])]\\\n",
    "            .agg({'date':'max', 'group':'max', 'visitors':'sum'}), axis = 1)\n",
    "#объединим полученные данные в один датарейм\n",
    "cumulative_data = orders_cmlt.merge(visitors_cmlt, left_on=['date', 'group'], right_on=['date', 'group'])\n",
    "cumulative_data.head(5)"
   ]
  },
  {
   "cell_type": "markdown",
   "metadata": {},
   "source": [
    "*пояснения к таблице:*\n",
    "- `orders` количество покупок\n",
    "- `buyers` количество покупателей\n",
    "- `revenue` выручка\n",
    "- `visitors` количество посетителей\n",
    "\n",
    "Построим график кумулятивной выручки по группам:"
   ]
  },
  {
   "cell_type": "code",
   "execution_count": 70,
   "metadata": {},
   "outputs": [
    {
     "data": {
      "image/png": "[encoded data removed]",
      "text/plain": [
       "<Figure size 1000x400 with 1 Axes>"
      ]
     },
     "metadata": {},
     "output_type": "display_data"
    }
   ],
   "source": [
    "cumulative_data_a = cumulative_data[cumulative_data['group']=='A']\n",
    "cumulative_data_b = cumulative_data[cumulative_data['group']=='B']\n",
    "plt.figure(figsize=(10,4))\n",
    "plt.plot(cumulative_data_a['date'], cumulative_data_a['revenue'], label = 'группа A')\n",
    "plt.plot(cumulative_data_b['date'], cumulative_data_b['revenue'], label = 'группа B')\n",
    "plt.ylabel('Выручка')\n",
    "plt.xlabel('Дата')\n",
    "plt.title('Графики кумулятивной выручки по датам по группам')\n",
    "plt.legend()\n",
    "plt.show()"
   ]
  },
  {
   "cell_type": "markdown",
   "metadata": {},
   "source": [
    "Исходя из графика, куммулятивная выручка `группы В` в течение всего анализируемого периода выше того же показателя `группы А`. При этом, наблюдаем увеличение выручки `группы В` с 20 августа почти в 2 раза, что может быть связано с увеличением количества заказов или с увеличеснием их стоимости (среднего чека). \n",
    "\n",
    "### Построим график кумулятивного среднего чека по группам. "
   ]
  },
  {
   "cell_type": "code",
   "execution_count": 71,
   "metadata": {},
   "outputs": [
    {
     "data": {
      "image/png": "[encoded data removed]",
      "text/plain": [
       "<Figure size 1000x400 with 1 Axes>"
      ]
     },
     "metadata": {},
     "output_type": "display_data"
    }
   ],
   "source": [
    "plt.figure(figsize=(10,4))\n",
    "plt.plot(cumulative_data_a['date'], cumulative_data_a['revenue']/cumulative_data_a['orders'],\\\n",
    "         label = 'группа A')\n",
    "plt.plot(cumulative_data_b['date'], cumulative_data_b['revenue']/cumulative_data_b['orders'],\\\n",
    "         label = 'группа B')\n",
    "plt.title('График кумулятивного среднего чека по группам')\n",
    "plt.ylabel('Средний чек')\n",
    "plt.xlabel('Дата')\n",
    "plt.xticks(rotation=25)\n",
    "plt.legend()\n",
    "plt.show()"
   ]
  },
  {
   "cell_type": "markdown",
   "metadata": {},
   "source": [
    "В период с 17.08 по 21.08 кумулятивный средний чек `группы В` стремиотельно увеличивается, после чего до конца месяца относительно стабилен, уменьшается в пределах 10%. Показатель кумулятивного среднего чека `группы В` мог быть искажет более крупными заказами. Кумулятивный средний чек `группы А` в первую неделю месяца падает, затем возвращается к исходному уровню, увеличивается примерно до 7500 и остается стабильным до конца месяца. \n",
    "      \n",
    "### Построим график относительного изменения кумулятивного среднего чека группы B к группе A. "
   ]
  },
  {
   "cell_type": "code",
   "execution_count": 72,
   "metadata": {},
   "outputs": [
    {
     "data": {
      "image/png": "[encoded data removed]",
      "text/plain": [
       "<Figure size 1000x400 with 1 Axes>"
      ]
     },
     "metadata": {},
     "output_type": "display_data"
    }
   ],
   "source": [
    "# собираем данные в одном датафрейме\n",
    "merge_cmulative = cumulative_data_a.merge(cumulative_data_b, \n",
    "                                                   left_on='date', \n",
    "                                                   right_on='date',\n",
    "                                                   how='left',\n",
    "                                                   suffixes=['A', 'B'])\n",
    "# cтроим отношение средних чеков\n",
    "plt.figure(figsize=(10,4))\n",
    "plt.plot(merge_cmulative['date'], \n",
    "        (merge_cmulative['revenueB']/merge_cmulative['ordersB']) / \n",
    "        (merge_cmulative['revenueA']/merge_cmulative['ordersA'])-1)\n",
    "# добавляем ось X\n",
    "plt.axhline(y=0, color='grey', linestyle='--')\n",
    "plt.title('График относительного изменения кумулятивного среднего чека группы В к группе А')\n",
    "plt.ylabel('Кумулятивный средний чек\\n')\n",
    "plt.xlabel('\\nДата')\n",
    "plt.xticks(rotation=25);"
   ]
  },
  {
   "cell_type": "markdown",
   "metadata": {},
   "source": [
    "Все три графика демонстрируют похожую картину. Относительное изменение кумулятивного среднего чека `группы В` к `группе А` имеет так же резкие скачки, на что могли оказать влияние, как было отмечено выше, увеличение стоимости заказа. \n",
    "\n",
    "### Построим график кумулятивного среднего количества заказов на посетителя по группам."
   ]
  },
  {
   "cell_type": "code",
   "execution_count": 73,
   "metadata": {},
   "outputs": [
    {
     "data": {
      "image/png": "[encoded data removed]",
      "text/plain": [
       "<Figure size 1000x400 with 1 Axes>"
      ]
     },
     "metadata": {},
     "output_type": "display_data"
    }
   ],
   "source": [
    "merge_cmulative['conversionA'] =  merge_cmulative['ordersA'] / merge_cmulative['visitorsA'] \n",
    "merge_cmulative['conversionB'] =  merge_cmulative['ordersB'] / merge_cmulative['visitorsB']\n",
    "plt.figure(figsize=(10,4))\n",
    "plt.plot(merge_cmulative['date'], merge_cmulative['conversionA'], label='группа A')\n",
    "plt.plot(merge_cmulative['date'], merge_cmulative['conversionB'], label='группа B')\n",
    "plt.title('График кумулятивной конверсии по группам')\n",
    "plt.xlabel('Дата')\n",
    "plt.xticks(rotation=25)\n",
    "plt.ylabel('Конверсия')\n",
    "plt.legend()\n",
    "plt.show()"
   ]
  },
  {
   "cell_type": "markdown",
   "metadata": {},
   "source": [
    "В первую неделю августа `группа А` лидировала по уровню кумулятивной конверсии, в последующем, конверсия группы А падала с резкими перепадами. Кумулятивная конверсия `группы В` так же имеет резкие изменения, однако со второй недели месяца стабильно показывает большую конверсию, чем группа А. \n",
    "\n",
    "### Постройте график относительного изменения кумулятивного среднего количества заказов на посетителя группы B к группе A. Сделайте выводы и предположения."
   ]
  },
  {
   "cell_type": "code",
   "execution_count": 74,
   "metadata": {},
   "outputs": [
    {
     "data": {
      "image/png": "[encoded data removed]",
      "text/plain": [
       "<Figure size 1000x400 with 1 Axes>"
      ]
     },
     "metadata": {},
     "output_type": "display_data"
    }
   ],
   "source": [
    "plt.figure(figsize=(10,4))\n",
    "plt.plot(merge_cmulative['date'], ((merge_cmulative['conversionB']/merge_cmulative['conversionA'])-1))\n",
    "plt.title('График относительного изменения кумулятивной конверсии группы B к группе A')\n",
    "plt.axhline(y=0, color='black', linestyle='--')\n",
    "plt.axhline(y=0.15, color='grey', linestyle='--')\n",
    "plt.xlabel('Дата')\n",
    "plt.ylabel('Кумулятивная конверсия')\n",
    "plt.xticks(rotation=25)\n",
    "plt.show()"
   ]
  },
  {
   "cell_type": "markdown",
   "metadata": {},
   "source": [
    "Почти с самого начала теста `группа В` лидирует по конверсии и имеет прирост около 15% относительно `группы А`, затем после 21.08 конверсия снижается примерно на 5% и до конца исследования остается примерно на одном уровне.\n",
    "\n",
    "### Построим точечный график количества заказов по пользователям. "
   ]
  },
  {
   "cell_type": "code",
   "execution_count": 75,
   "metadata": {},
   "outputs": [
    {
     "data": {
      "text/html": [
       "<div>\n",
       "<style scoped>\n",
       "    .dataframe tbody tr th:only-of-type {\n",
       "        vertical-align: middle;\n",
       "    }\n",
       "\n",
       "    .dataframe tbody tr th {\n",
       "        vertical-align: top;\n",
       "    }\n",
       "\n",
       "    .dataframe thead th {\n",
       "        text-align: right;\n",
       "    }\n",
       "</style>\n",
       "<table border=\"1\" class=\"dataframe\">\n",
       "  <thead>\n",
       "    <tr style=\"text-align: right;\">\n",
       "      <th></th>\n",
       "      <th>visitor_id</th>\n",
       "      <th>orders</th>\n",
       "    </tr>\n",
       "  </thead>\n",
       "  <tbody>\n",
       "    <tr>\n",
       "      <th>0</th>\n",
       "      <td>5114589</td>\n",
       "      <td>1</td>\n",
       "    </tr>\n",
       "    <tr>\n",
       "      <th>1</th>\n",
       "      <td>6958315</td>\n",
       "      <td>1</td>\n",
       "    </tr>\n",
       "    <tr>\n",
       "      <th>2</th>\n",
       "      <td>8300375</td>\n",
       "      <td>2</td>\n",
       "    </tr>\n",
       "    <tr>\n",
       "      <th>3</th>\n",
       "      <td>11685486</td>\n",
       "      <td>1</td>\n",
       "    </tr>\n",
       "    <tr>\n",
       "      <th>4</th>\n",
       "      <td>39475350</td>\n",
       "      <td>1</td>\n",
       "    </tr>\n",
       "  </tbody>\n",
       "</table>\n",
       "</div>"
      ],
      "text/plain": [
       "   visitor_id  orders\n",
       "0     5114589       1\n",
       "1     6958315       1\n",
       "2     8300375       2\n",
       "3    11685486       1\n",
       "4    39475350       1"
      ]
     },
     "execution_count": 75,
     "metadata": {},
     "output_type": "execute_result"
    }
   ],
   "source": [
    "users_orders = orders.groupby('visitor_id', as_index=False).agg({'transaction_id':'nunique'})\\\n",
    "                         .rename(columns={'transaction_id':'orders'})\n",
    "users_orders.head(5)"
   ]
  },
  {
   "cell_type": "code",
   "execution_count": 76,
   "metadata": {},
   "outputs": [
    {
     "data": {
      "image/png": "[encoded data removed]",
      "text/plain": [
       "<Figure size 1000x400 with 1 Axes>"
      ]
     },
     "metadata": {},
     "output_type": "display_data"
    }
   ],
   "source": [
    "plt.figure(figsize=(10,4))\n",
    "x_values = pd.Series(range(0,len(users_orders)))\n",
    "plt.scatter(x_values, users_orders['orders']) \n",
    "plt.title('Точечный график количества заказов')\n",
    "plt.xlabel('Пользователи')\n",
    "plt.ylabel('Количество заказов')\n",
    "plt.show()\n"
   ]
  },
  {
   "cell_type": "markdown",
   "metadata": {},
   "source": [
    "Большинство пользователей совершают 1-3 заказа, для определения порога аномалий рассчитаем 95-й и 99-й процентили.\n",
    "\n",
    "\n",
    "### Посчитаем 95-й и 99-й перцентили количества заказов на пользователя. Определим границу для определения аномальных пользователей."
   ]
  },
  {
   "cell_type": "code",
   "execution_count": 77,
   "metadata": {},
   "outputs": [
    {
     "name": "stdout",
     "output_type": "stream",
     "text": [
      "95 перцентиль: 2.00\n",
      "99 перцентиль: 4.00\n"
     ]
    }
   ],
   "source": [
    "print('95 перцентиль: %.2f' % (np.percentile(users_orders['orders'], [95])))\n",
    "print('99 перцентиль: %.2f' % (np.percentile(users_orders['orders'], [99])))"
   ]
  },
  {
   "cell_type": "markdown",
   "metadata": {},
   "source": [
    "Только 5% пользователей совершают более 2 заказов, и только 1% пользователей - больше 4.\n",
    "Границу для определения аномальных пользователей определим по 95 прецентилю, т.е. пользователи, совершившие более 2 покупок.\n",
    "\n",
    "\n",
    "### Построим точечный график стоимостей заказов. "
   ]
  },
  {
   "cell_type": "code",
   "execution_count": 78,
   "metadata": {},
   "outputs": [
    {
     "data": {
      "image/png": "[encoded data removed]",
      "text/plain": [
       "<Figure size 1000x400 with 1 Axes>"
      ]
     },
     "metadata": {},
     "output_type": "display_data"
    }
   ],
   "source": [
    "plt.figure(figsize=(10,4))\n",
    "x_values = pd.Series(range(0,len(orders['revenue'])))\n",
    "plt.scatter(x_values, orders['revenue'])\n",
    "plt.title('Точечный график стоимостей заказов')\n",
    "plt.xlabel('Пользователи')\n",
    "plt.ylabel('Стоимость заказа')\n",
    "plt.show()"
   ]
  },
  {
   "cell_type": "code",
   "execution_count": 79,
   "metadata": {},
   "outputs": [
    {
     "data": {
      "image/png": "[encoded data removed]",
      "text/plain": [
       "<Figure size 1000x400 with 1 Axes>"
      ]
     },
     "metadata": {},
     "output_type": "display_data"
    }
   ],
   "source": [
    "# построим тот же график в меньшем масштабе\n",
    "plt.figure(figsize=(10,4))\n",
    "x_values = pd.Series(range(0,len(orders['revenue'])))\n",
    "plt.axis([0, 1200, 0, 110000])\n",
    "plt.title('Точечный график стоимостей заказов')\n",
    "plt.xlabel('Пользователи')\n",
    "plt.ylabel('Стоимость заказа')\n",
    "plt.show()\n"
   ]
  },
  {
   "cell_type": "markdown",
   "metadata": {},
   "source": [
    "На первом графике определяем 2 выбивающихся значения, которые, как раз таки могли повлиять на показатели, рассматриваемые ранее. Судя по второму графику, большая часть заказов интернет-магазина стоимостью до 30000.\n",
    "\n",
    "### Посчитаем 95-й и 99-й перцентили стоимости заказов. Выберем границу для определения аномальных заказов."
   ]
  },
  {
   "cell_type": "code",
   "execution_count": 37,
   "metadata": {},
   "outputs": [
    {
     "name": "stdout",
     "output_type": "stream",
     "text": [
      "95 перцентиль: 28000.00\n",
      "99 перцентиль: 58233.20\n"
     ]
    }
   ],
   "source": [
    "print('95 перцентиль: %.2f' % (np.percentile(orders['revenue'], [95])))\n",
    "print('99 перцентиль: %.2f' % (np.percentile(orders['revenue'], [99])))"
   ]
  },
  {
   "cell_type": "markdown",
   "metadata": {},
   "source": [
    "В данных только 5% заказов сотоимостью более 28тыс заказов, и только 1% пользователей - более 58,233тыс. Границу для определения аномальных заказов определим по 95 прецентилю, т.е. заказы, стоимостью более 28тыс.\n",
    "\n",
    "### Посчитаем статистическую значимость различий в среднем количестве заказов на посетителя между группами по «сырым» данным."
   ]
  },
  {
   "cell_type": "code",
   "execution_count": 38,
   "metadata": {},
   "outputs": [
    {
     "data": {
      "text/html": [
       "<div>\n",
       "<style scoped>\n",
       "    .dataframe tbody tr th:only-of-type {\n",
       "        vertical-align: middle;\n",
       "    }\n",
       "\n",
       "    .dataframe tbody tr th {\n",
       "        vertical-align: top;\n",
       "    }\n",
       "\n",
       "    .dataframe thead th {\n",
       "        text-align: right;\n",
       "    }\n",
       "</style>\n",
       "<table border=\"1\" class=\"dataframe\">\n",
       "  <thead>\n",
       "    <tr style=\"text-align: right;\">\n",
       "      <th></th>\n",
       "      <th>group</th>\n",
       "      <th>orders</th>\n",
       "      <th>visitors</th>\n",
       "      <th>conversion</th>\n",
       "    </tr>\n",
       "  </thead>\n",
       "  <tbody>\n",
       "    <tr>\n",
       "      <th>0</th>\n",
       "      <td>A</td>\n",
       "      <td>557</td>\n",
       "      <td>18736</td>\n",
       "      <td>0.029729</td>\n",
       "    </tr>\n",
       "    <tr>\n",
       "      <th>1</th>\n",
       "      <td>B</td>\n",
       "      <td>640</td>\n",
       "      <td>18916</td>\n",
       "      <td>0.033834</td>\n",
       "    </tr>\n",
       "  </tbody>\n",
       "</table>\n",
       "</div>"
      ],
      "text/plain": [
       "  group  orders  visitors  conversion\n",
       "0     A     557     18736    0.029729\n",
       "1     B     640     18916    0.033834"
      ]
     },
     "execution_count": 38,
     "metadata": {},
     "output_type": "execute_result"
    }
   ],
   "source": [
    "conversion = (orders.groupby('group').agg({'transaction_id':'count'}).rename(columns={'transaction_id':'orders'}))\\\n",
    "                                     .join((visitors.groupby('group').agg({'visitors':'sum'}))).reset_index()\n",
    "conversion['conversion'] = conversion['orders'] / conversion['visitors']\n",
    "conversion"
   ]
  },
  {
   "cell_type": "markdown",
   "metadata": {},
   "source": [
    "Для определения статистической значимости различий будем использовать Z-критерий для разности двух долей. \n",
    "\n",
    "Сформулируем гипотезы:\n",
    "- **`H0:`** Конверсия в `группе A` по \"сырым\" данным **равна** конверсии в `группе B`\n",
    "- **`H1:`** Конверсия в `группе A` по \"сырым\" данным **не равна** конверсии в `группе B`"
   ]
  },
  {
   "cell_type": "code",
   "execution_count": 39,
   "metadata": {},
   "outputs": [
    {
     "name": "stdout",
     "output_type": "stream",
     "text": [
      "p-значение:  0.02320723394441848\n",
      "Отвергаем нулевую гипотезу\n"
     ]
    }
   ],
   "source": [
    "alpha=0.05\n",
    "purchases = np.array(conversion['orders'])\n",
    "leads = np.array(conversion['visitors'])\n",
    "\n",
    "p1 = purchases[0] / leads[0]\n",
    "p2 = purchases[1] / leads[1]\n",
    "combined = (purchases[0] + purchases[1]) / (leads[0] + leads[1])\n",
    "difference = p1-p2\n",
    "z_value = difference / mth.sqrt(combined * (1 - combined) * (1 / leads[0] + 1 / leads[1]))\n",
    "distr = sts.norm(0,1)\n",
    "p_value = (1 - distr.cdf(abs(z_value))) * 2\n",
    "print('p-значение: ', p_value)\n",
    "if (p_value < alpha):\n",
    "    print(\"Отвергаем нулевую гипотезу\")\n",
    "else:\n",
    "    print(\"Не получилось отвергнуть нулевую гипотезу\")"
   ]
  },
  {
   "cell_type": "markdown",
   "metadata": {},
   "source": [
    "Нулевая гипотеза отвергнута, следовательно конверия в `группе А` **по \"сырым\" данным НЕ равна** конверсии в `группе В`. Конверсия группы В превышает значение конверсии группы А, различия статистически значимы.\n",
    "\n",
    "### Посчитаем статистическую значимость различий в среднем чеке заказа между группами по «сырым» данным. \n",
    "\n",
    "Как было определено ранее, в данных о среднем чеке встречались значительные выбросы, которые могут сдвигать параметрические результаты, поэтому для оценки воспользуемся критерием Манна-Уитни.\n",
    "\n",
    "Сформулируем гипотезы:\n",
    "- `H0`: Средние чеки групп А и В по \"сырым\" данным **равны**  \n",
    "- `H1`: **Существует разница** между средними чеками групп А и В по \"сырым\" данным "
   ]
  },
  {
   "cell_type": "code",
   "execution_count": 40,
   "metadata": {},
   "outputs": [
    {
     "name": "stdout",
     "output_type": "stream",
     "text": [
      "p-значение:  0.7292909855432458\n",
      "Не получилось отвергнуть нулевую гипотезу\n"
     ]
    }
   ],
   "source": [
    "alpha = 0.05\n",
    "results = sts.mannwhitneyu(orders[orders['group']=='A']['revenue'],\\\n",
    "                           orders[orders['group']=='B']['revenue'])\n",
    "pvalue = results.pvalue\n",
    "print('p-значение: ', pvalue)\n",
    "if (pvalue < alpha):\n",
    "    print(\"Отвергаем нулевую гипотезу\")\n",
    "else:\n",
    "    print(\"Не получилось отвергнуть нулевую гипотезу\")"
   ]
  },
  {
   "cell_type": "markdown",
   "metadata": {},
   "source": [
    "Разница между средними чеками заказов по \"сырым\" данным групп А и В статистически не значима. \n",
    "### Посчитаем статистическую значимость различий в среднем количестве заказов на посетителя между группами по «очищенным» данным. \n",
    "\n",
    "В предыдущих шагах нами были определены границы для определения аномальных пользователей."
   ]
  },
  {
   "cell_type": "code",
   "execution_count": 41,
   "metadata": {},
   "outputs": [],
   "source": [
    "# оставим пользователей, совершивших не более 2 заказов\n",
    "\n",
    "orders_lmt = orders.query('revenue >= 2')\n",
    "conversion_clear = (orders_lmt.groupby('group').agg({'transaction_id':'count'})\\\n",
    "                    .rename(columns={'transaction_id':'orders'})).join((visitors\\\n",
    "                    .groupby('group').agg({'visitors':'sum'}))).reset_index()\n"
   ]
  },
  {
   "cell_type": "markdown",
   "metadata": {},
   "source": [
    "Для определения статистической значимости различий будем использовать Z-критерий для разности двух долей.\n",
    "\n",
    "Сформулируем гипотезы:\n",
    "\n",
    "- `H0`: Конверсия в `группе A` по \"очищенным\" данным **равна** конверсии в `группе B`\n",
    "- `H1`: Конверсия в `группе A` по \"очищенным\" данным **не равна** конверсии в `группе B`"
   ]
  },
  {
   "cell_type": "code",
   "execution_count": 42,
   "metadata": {},
   "outputs": [
    {
     "name": "stdout",
     "output_type": "stream",
     "text": [
      "p-значение:  0.02320723394441848\n",
      "Отвергаем нулевую гипотезу\n"
     ]
    }
   ],
   "source": [
    "alpha=0.05\n",
    "purchases = np.array(conversion_clear['orders'])\n",
    "leads = np.array(conversion_clear['visitors'])\n",
    "p1 = purchases[0] / leads[0]\n",
    "p2 = purchases[1] / leads[1]\n",
    "combined = (purchases[0] + purchases[1]) / (leads[0] + leads[1])\n",
    "difference = p1-p2\n",
    "z_value = difference / mth.sqrt(combined * (1 - combined) * (1 / leads[0] + 1 / leads[1]))\n",
    "distr = sts.norm(0,1)\n",
    "p_value = (1 - distr.cdf(abs(z_value))) * 2\n",
    "print('p-значение: ', p_value)\n",
    "if (p_value < alpha):\n",
    "    print(\"Отвергаем нулевую гипотезу\")\n",
    "else:\n",
    "    print(\"Не получилось отвергнуть нулевую гипотезу\")"
   ]
  },
  {
   "cell_type": "markdown",
   "metadata": {},
   "source": [
    "Конверсия в группе A по \"очищенным\" данным не равна конверсии в группе B, разнца статистически значима. Аналогично анализу \"неочищенных данных\".\n",
    "\n",
    "### Посчитайте статистическую значимость различий в среднем чеке заказа между группами по «очищенным» данным. Сделайте выводы и предположения.\n",
    "\n",
    "\n",
    "Сформулируем гипотезы:\n",
    "\n",
    "- `H0`: Средние чеки групп А и В по \"очищенным\" данным **равны**\n",
    "- `H1`: **Существует разница** между средними чеками групп А и В по \"очищенным\" данным"
   ]
  },
  {
   "cell_type": "code",
   "execution_count": 43,
   "metadata": {},
   "outputs": [
    {
     "name": "stdout",
     "output_type": "stream",
     "text": [
      "p-значение:  0.851874185940575\n",
      "Не получилось отвергнуть нулевую гипотезу\n"
     ]
    }
   ],
   "source": [
    "# оставим пользователей, совершивших не более 2 заказов\n",
    "orders_clear = orders.query('revenue <= 28000')\n",
    "alpha = 0.05\n",
    "results = sts.mannwhitneyu(orders_clear[orders_clear['group']=='A']['revenue'],\\\n",
    "                           orders_clear[orders_clear['group']=='B']['revenue'])\n",
    "pvalue = results.pvalue\n",
    "print('p-значение: ', pvalue)\n",
    "if (pvalue < alpha):\n",
    "    print(\"Отвергаем нулевую гипотезу\")\n",
    "else:\n",
    "    print(\"Не получилось отвергнуть нулевую гипотезу\")"
   ]
  },
  {
   "cell_type": "markdown",
   "metadata": {},
   "source": [
    "Разница между средними чеками групп А и В по \"очищенным\" данным статистичекси не значима. Выбросы повлияли на результат теста.\n",
    "\n",
    "## Вывод:\n",
    "\n",
    "Нами были определены наиболее перспективные гипотезы на основе ICE и RICE:\n",
    "\n",
    "\n",
    "- (7) Добавить форму подписки на все основные страницы, чтобы собрать базу клиентов для email-рассылок\n",
    "- (2) Добавить блоки рекомендаций товаров на сайт интернет магазина, чтобы повысить конверсию и средний чек заказа\n",
    "- (0) Добавить два новых канала привлечения трафика, что позволит привлекать на 30% больше пользователей\n",
    "\n",
    "По результатам А/В теста:\n",
    "\n",
    " Кумулятивные метрики по выручке, среднему чеку и конверсии на протяжении почти всего анализируемого периода лидировали в группе B. При этом, наблюдали увеличение выручки группы В с 20 августа почти в 2 раза, что было связано с увеличением среднего чека заказов в указанный промежуток времени за счет присутствия более крупных заказов. Отметим, что кумулятивный средний чек группы А стабильно уступает показателю группы В. Так же,  группа В лидирует по конверсии и имеет прирост около 15% относительно группы А.\n",
    "\n",
    "Большинство пользователей совершают 1-3 заказа,в даных только 5% заказов сотоимостью более 28тыс, и только 1% пользователей - более 58,233тыс. Только 5% пользователей совершают более 2 заказов, и только 1% пользователей - больше 4. Границу для определения аномальных пользователей определим по 95 прецентилю, т.е. пользователи, совершившие более 2 покупок. Исходя из чего, нами были определены границы для определения аномальных пользователей: количество заказов больше 2 и сумма покупки более 58233.\n",
    "\n",
    "Определена статистически значимая разница конверсий групп А и В, как по сырым данным, так и по данным после фильтрации аномалий, выше конверсия группы В. \n",
    "По средним чекам статистической разницы не зафиксировано ни в \"сырых\", ни в \"очищенных\" данных. \n",
    "\n",
    "На мой взгляд, мы можем **остановить тест и зафиксировать победу группы B**, так как, несмотря на отсутсвие различий в средних чеках двух групп, разница показателей конверсии между группами и до и после фильтрации данных является статистически значимой."
   ]
  }
 ],
 "metadata": {
  "ExecuteTimeLog": [
   {
    "duration": 48,
    "start_time": "2022-12-19T04:52:53.656Z"
   },
   {
    "duration": 7,
    "start_time": "2022-12-19T04:52:56.109Z"
   },
   {
    "duration": 1295,
    "start_time": "2022-12-19T04:52:59.988Z"
   },
   {
    "duration": 77,
    "start_time": "2022-12-19T04:53:01.285Z"
   },
   {
    "duration": 13,
    "start_time": "2022-12-19T04:53:02.316Z"
   },
   {
    "duration": 10,
    "start_time": "2022-12-19T04:53:22.028Z"
   },
   {
    "duration": 12,
    "start_time": "2022-12-19T04:59:08.784Z"
   },
   {
    "duration": 5,
    "start_time": "2022-12-19T08:39:19.313Z"
   },
   {
    "duration": 66,
    "start_time": "2022-12-19T10:39:00.897Z"
   },
   {
    "duration": 114,
    "start_time": "2022-12-19T10:39:11.508Z"
   },
   {
    "duration": 13,
    "start_time": "2022-12-19T10:39:20.809Z"
   },
   {
    "duration": 11,
    "start_time": "2022-12-19T10:39:34.104Z"
   },
   {
    "duration": 14,
    "start_time": "2022-12-19T10:39:48.467Z"
   },
   {
    "duration": 79,
    "start_time": "2022-12-19T10:40:44.080Z"
   },
   {
    "duration": 28,
    "start_time": "2022-12-19T10:40:58.542Z"
   },
   {
    "duration": 8,
    "start_time": "2022-12-19T10:41:13.902Z"
   },
   {
    "duration": 10,
    "start_time": "2022-12-19T10:41:22.047Z"
   },
   {
    "duration": 11,
    "start_time": "2022-12-19T10:41:39.677Z"
   },
   {
    "duration": 1876,
    "start_time": "2022-12-20T09:29:10.741Z"
   },
   {
    "duration": 118,
    "start_time": "2022-12-20T09:29:12.619Z"
   },
   {
    "duration": 18,
    "start_time": "2022-12-20T09:29:12.740Z"
   },
   {
    "duration": 4,
    "start_time": "2022-12-20T09:30:05.195Z"
   },
   {
    "duration": 11,
    "start_time": "2022-12-20T09:30:22.559Z"
   },
   {
    "duration": 155,
    "start_time": "2022-12-20T09:49:20.454Z"
   },
   {
    "duration": 17,
    "start_time": "2022-12-20T09:49:30.268Z"
   },
   {
    "duration": 9,
    "start_time": "2022-12-20T09:49:41.647Z"
   },
   {
    "duration": 47,
    "start_time": "2022-12-20T12:22:28.581Z"
   },
   {
    "duration": 9,
    "start_time": "2022-12-20T12:22:43.284Z"
   },
   {
    "duration": 6,
    "start_time": "2022-12-20T12:22:46.623Z"
   },
   {
    "duration": 1520,
    "start_time": "2022-12-20T12:22:49.169Z"
   },
   {
    "duration": 71,
    "start_time": "2022-12-20T12:22:50.691Z"
   },
   {
    "duration": 14,
    "start_time": "2022-12-20T12:22:50.778Z"
   },
   {
    "duration": 5,
    "start_time": "2022-12-20T12:22:51.696Z"
   },
   {
    "duration": 8,
    "start_time": "2022-12-20T12:22:52.138Z"
   },
   {
    "duration": 12,
    "start_time": "2022-12-20T12:22:58.850Z"
   },
   {
    "duration": 13,
    "start_time": "2022-12-20T12:26:58.759Z"
   },
   {
    "duration": 12,
    "start_time": "2022-12-20T12:37:24.340Z"
   },
   {
    "duration": 12,
    "start_time": "2022-12-20T12:37:52.307Z"
   },
   {
    "duration": 13,
    "start_time": "2022-12-20T12:39:56.628Z"
   },
   {
    "duration": 46,
    "start_time": "2022-12-22T10:45:52.238Z"
   },
   {
    "duration": 1332,
    "start_time": "2022-12-22T10:46:00.961Z"
   },
   {
    "duration": 64,
    "start_time": "2022-12-22T10:46:02.295Z"
   },
   {
    "duration": 13,
    "start_time": "2022-12-22T10:46:02.361Z"
   },
   {
    "duration": 10,
    "start_time": "2022-12-22T10:46:02.376Z"
   },
   {
    "duration": 13,
    "start_time": "2022-12-22T10:46:04.858Z"
   },
   {
    "duration": 96,
    "start_time": "2022-12-22T10:46:05.233Z"
   },
   {
    "duration": 9,
    "start_time": "2022-12-22T10:46:05.950Z"
   },
   {
    "duration": 68,
    "start_time": "2022-12-22T10:46:06.706Z"
   },
   {
    "duration": 3,
    "start_time": "2022-12-22T10:46:53.274Z"
   },
   {
    "duration": 3,
    "start_time": "2022-12-22T10:47:23.625Z"
   },
   {
    "duration": 9,
    "start_time": "2022-12-22T10:47:24.719Z"
   },
   {
    "duration": 4,
    "start_time": "2022-12-22T10:47:59.923Z"
   },
   {
    "duration": 6,
    "start_time": "2022-12-22T10:48:16.862Z"
   },
   {
    "duration": 12,
    "start_time": "2022-12-22T11:10:39.998Z"
   },
   {
    "duration": 4,
    "start_time": "2022-12-22T11:10:49.245Z"
   },
   {
    "duration": 27,
    "start_time": "2022-12-22T11:10:49.824Z"
   },
   {
    "duration": 9,
    "start_time": "2022-12-22T11:10:50.825Z"
   },
   {
    "duration": 5,
    "start_time": "2022-12-22T11:10:51.834Z"
   },
   {
    "duration": 9,
    "start_time": "2022-12-22T11:10:52.609Z"
   },
   {
    "duration": 96,
    "start_time": "2022-12-22T11:10:52.949Z"
   },
   {
    "duration": 8,
    "start_time": "2022-12-22T11:10:53.269Z"
   },
   {
    "duration": 5,
    "start_time": "2022-12-22T11:10:53.600Z"
   },
   {
    "duration": 9,
    "start_time": "2022-12-22T11:10:53.930Z"
   },
   {
    "duration": 67,
    "start_time": "2022-12-22T11:10:54.334Z"
   },
   {
    "duration": 7,
    "start_time": "2022-12-22T11:10:54.925Z"
   },
   {
    "duration": 11,
    "start_time": "2022-12-22T11:10:55.653Z"
   },
   {
    "duration": 6,
    "start_time": "2022-12-22T11:10:56.371Z"
   },
   {
    "duration": 10,
    "start_time": "2022-12-22T11:11:09.134Z"
   },
   {
    "duration": 7,
    "start_time": "2022-12-22T11:13:53.389Z"
   },
   {
    "duration": 12,
    "start_time": "2022-12-22T11:14:26.447Z"
   },
   {
    "duration": 5,
    "start_time": "2022-12-22T11:14:51.891Z"
   },
   {
    "duration": 6,
    "start_time": "2022-12-22T11:15:26.288Z"
   },
   {
    "duration": 12,
    "start_time": "2022-12-22T11:17:31.367Z"
   },
   {
    "duration": 12,
    "start_time": "2022-12-22T11:17:34.181Z"
   },
   {
    "duration": 5,
    "start_time": "2022-12-22T12:11:30.154Z"
   },
   {
    "duration": 28,
    "start_time": "2022-12-22T12:11:33.459Z"
   },
   {
    "duration": 9,
    "start_time": "2022-12-22T12:11:33.783Z"
   },
   {
    "duration": 5,
    "start_time": "2022-12-22T12:11:33.926Z"
   },
   {
    "duration": 10,
    "start_time": "2022-12-22T12:11:34.219Z"
   },
   {
    "duration": 5,
    "start_time": "2022-12-22T12:11:34.368Z"
   },
   {
    "duration": 50,
    "start_time": "2022-12-22T12:11:34.521Z"
   },
   {
    "duration": 13,
    "start_time": "2022-12-22T12:11:34.759Z"
   },
   {
    "duration": 6,
    "start_time": "2022-12-22T12:11:35.005Z"
   },
   {
    "duration": 15,
    "start_time": "2022-12-22T12:11:35.201Z"
   },
   {
    "duration": 7,
    "start_time": "2022-12-22T12:11:35.368Z"
   },
   {
    "duration": 28,
    "start_time": "2022-12-22T12:11:35.581Z"
   },
   {
    "duration": 8,
    "start_time": "2022-12-22T12:11:35.728Z"
   },
   {
    "duration": 11,
    "start_time": "2022-12-22T12:11:35.973Z"
   },
   {
    "duration": 5,
    "start_time": "2022-12-22T12:11:36.272Z"
   },
   {
    "duration": 10,
    "start_time": "2022-12-22T12:11:36.547Z"
   },
   {
    "duration": 5,
    "start_time": "2022-12-22T12:11:36.946Z"
   },
   {
    "duration": 16,
    "start_time": "2022-12-22T12:11:42.133Z"
   },
   {
    "duration": 17,
    "start_time": "2022-12-22T12:11:42.813Z"
   },
   {
    "duration": 261,
    "start_time": "2022-12-22T12:11:44.545Z"
   },
   {
    "duration": 252,
    "start_time": "2022-12-22T12:19:56.560Z"
   },
   {
    "duration": 726,
    "start_time": "2022-12-22T13:01:34.984Z"
   },
   {
    "duration": 773,
    "start_time": "2022-12-22T13:01:43.652Z"
   },
   {
    "duration": 51,
    "start_time": "2022-12-23T04:25:34.868Z"
   },
   {
    "duration": 10,
    "start_time": "2022-12-23T05:01:24.242Z"
   },
   {
    "duration": 1371,
    "start_time": "2022-12-23T05:01:34.198Z"
   },
   {
    "duration": 67,
    "start_time": "2022-12-23T05:01:35.571Z"
   },
   {
    "duration": 12,
    "start_time": "2022-12-23T05:01:35.639Z"
   },
   {
    "duration": 4,
    "start_time": "2022-12-23T05:01:35.700Z"
   },
   {
    "duration": 11,
    "start_time": "2022-12-23T05:01:37.000Z"
   },
   {
    "duration": 5,
    "start_time": "2022-12-23T05:01:37.278Z"
   },
   {
    "duration": 98,
    "start_time": "2022-12-23T05:01:37.551Z"
   },
   {
    "duration": 8,
    "start_time": "2022-12-23T05:01:37.774Z"
   },
   {
    "duration": 5,
    "start_time": "2022-12-23T05:01:38.000Z"
   },
   {
    "duration": 10,
    "start_time": "2022-12-23T05:01:38.231Z"
   },
   {
    "duration": 6,
    "start_time": "2022-12-23T05:01:38.436Z"
   },
   {
    "duration": 66,
    "start_time": "2022-12-23T05:01:38.687Z"
   },
   {
    "duration": 9,
    "start_time": "2022-12-23T05:01:38.904Z"
   },
   {
    "duration": 11,
    "start_time": "2022-12-23T05:01:39.141Z"
   },
   {
    "duration": 7,
    "start_time": "2022-12-23T05:01:39.379Z"
   },
   {
    "duration": 12,
    "start_time": "2022-12-23T05:01:39.599Z"
   },
   {
    "duration": 5,
    "start_time": "2022-12-23T05:01:39.830Z"
   },
   {
    "duration": 14,
    "start_time": "2022-12-23T05:01:41.071Z"
   },
   {
    "duration": 12,
    "start_time": "2022-12-23T05:01:42.031Z"
   },
   {
    "duration": 283,
    "start_time": "2022-12-23T05:01:44.315Z"
   },
   {
    "duration": 88,
    "start_time": "2022-12-23T05:01:47.193Z"
   },
   {
    "duration": 4,
    "start_time": "2022-12-23T05:01:47.748Z"
   },
   {
    "duration": 291,
    "start_time": "2022-12-23T05:02:13.662Z"
   },
   {
    "duration": 264,
    "start_time": "2022-12-23T05:03:05.617Z"
   },
   {
    "duration": 53,
    "start_time": "2022-12-23T06:12:13.095Z"
   },
   {
    "duration": 289,
    "start_time": "2022-12-23T06:12:22.068Z"
   },
   {
    "duration": 259,
    "start_time": "2022-12-23T06:23:57.890Z"
   },
   {
    "duration": 309,
    "start_time": "2022-12-23T06:33:00.446Z"
   },
   {
    "duration": 196,
    "start_time": "2022-12-23T06:48:51.065Z"
   },
   {
    "duration": 208,
    "start_time": "2022-12-23T06:49:42.233Z"
   },
   {
    "duration": 219,
    "start_time": "2022-12-23T06:51:01.850Z"
   },
   {
    "duration": 144,
    "start_time": "2022-12-23T07:06:05.640Z"
   },
   {
    "duration": 276,
    "start_time": "2022-12-23T07:06:50.575Z"
   },
   {
    "duration": 193,
    "start_time": "2022-12-23T07:07:33.236Z"
   },
   {
    "duration": 195,
    "start_time": "2022-12-23T07:09:11.451Z"
   },
   {
    "duration": 205,
    "start_time": "2022-12-23T07:18:37.803Z"
   },
   {
    "duration": 242,
    "start_time": "2022-12-23T07:18:46.410Z"
   },
   {
    "duration": 215,
    "start_time": "2022-12-23T07:18:55.684Z"
   },
   {
    "duration": 222,
    "start_time": "2022-12-23T07:19:02.182Z"
   },
   {
    "duration": 203,
    "start_time": "2022-12-23T07:19:09.668Z"
   },
   {
    "duration": 211,
    "start_time": "2022-12-23T07:19:17.441Z"
   },
   {
    "duration": 211,
    "start_time": "2022-12-23T07:19:28.638Z"
   },
   {
    "duration": 218,
    "start_time": "2022-12-23T07:19:37.077Z"
   },
   {
    "duration": 288,
    "start_time": "2022-12-23T07:19:50.773Z"
   },
   {
    "duration": 211,
    "start_time": "2022-12-23T07:19:59.071Z"
   },
   {
    "duration": 53,
    "start_time": "2022-12-23T09:12:05.191Z"
   },
   {
    "duration": 9,
    "start_time": "2022-12-23T09:12:43.635Z"
   },
   {
    "duration": 1361,
    "start_time": "2022-12-23T09:12:57.448Z"
   },
   {
    "duration": 63,
    "start_time": "2022-12-23T09:12:58.811Z"
   },
   {
    "duration": 12,
    "start_time": "2022-12-23T09:12:58.876Z"
   },
   {
    "duration": 13,
    "start_time": "2022-12-23T09:12:58.890Z"
   },
   {
    "duration": 11,
    "start_time": "2022-12-23T09:12:59.221Z"
   },
   {
    "duration": 6,
    "start_time": "2022-12-23T09:12:59.854Z"
   },
   {
    "duration": 99,
    "start_time": "2022-12-23T09:13:00.266Z"
   },
   {
    "duration": 9,
    "start_time": "2022-12-23T09:13:00.619Z"
   },
   {
    "duration": 6,
    "start_time": "2022-12-23T09:13:00.869Z"
   },
   {
    "duration": 11,
    "start_time": "2022-12-23T09:13:01.035Z"
   },
   {
    "duration": 7,
    "start_time": "2022-12-23T09:13:01.194Z"
   },
   {
    "duration": 69,
    "start_time": "2022-12-23T09:13:01.566Z"
   },
   {
    "duration": 9,
    "start_time": "2022-12-23T09:13:01.748Z"
   },
   {
    "duration": 13,
    "start_time": "2022-12-23T09:13:01.926Z"
   },
   {
    "duration": 7,
    "start_time": "2022-12-23T09:13:02.099Z"
   },
   {
    "duration": 11,
    "start_time": "2022-12-23T09:13:02.458Z"
   },
   {
    "duration": 5,
    "start_time": "2022-12-23T09:13:02.808Z"
   },
   {
    "duration": 14,
    "start_time": "2022-12-23T09:13:03.622Z"
   },
   {
    "duration": 11,
    "start_time": "2022-12-23T09:13:04.414Z"
   },
   {
    "duration": 288,
    "start_time": "2022-12-23T09:13:04.817Z"
   },
   {
    "duration": 340,
    "start_time": "2022-12-23T09:13:05.851Z"
   },
   {
    "duration": 213,
    "start_time": "2022-12-23T09:13:07.374Z"
   },
   {
    "duration": 7,
    "start_time": "2022-12-23T09:13:09.536Z"
   },
   {
    "duration": 363,
    "start_time": "2022-12-23T09:14:21.043Z"
   },
   {
    "duration": 302,
    "start_time": "2022-12-23T09:14:29.097Z"
   },
   {
    "duration": 235,
    "start_time": "2022-12-23T09:14:40.863Z"
   },
   {
    "duration": 303,
    "start_time": "2022-12-23T09:15:22.940Z"
   },
   {
    "duration": 355,
    "start_time": "2022-12-23T09:15:34.456Z"
   },
   {
    "duration": 408,
    "start_time": "2022-12-23T09:17:28.348Z"
   },
   {
    "duration": 296,
    "start_time": "2022-12-23T09:21:31.355Z"
   },
   {
    "duration": 309,
    "start_time": "2022-12-23T09:21:49.817Z"
   },
   {
    "duration": 222,
    "start_time": "2022-12-23T10:01:46.963Z"
   },
   {
    "duration": 216,
    "start_time": "2022-12-23T10:01:58.174Z"
   },
   {
    "duration": 351,
    "start_time": "2022-12-23T10:03:59.894Z"
   },
   {
    "duration": 301,
    "start_time": "2022-12-23T10:04:11.430Z"
   },
   {
    "duration": 226,
    "start_time": "2022-12-23T10:04:35.180Z"
   },
   {
    "duration": 212,
    "start_time": "2022-12-23T10:04:41.669Z"
   },
   {
    "duration": 222,
    "start_time": "2022-12-23T10:11:54.851Z"
   },
   {
    "duration": 13,
    "start_time": "2022-12-23T10:35:37.529Z"
   },
   {
    "duration": 370,
    "start_time": "2022-12-23T10:36:46.434Z"
   },
   {
    "duration": 287,
    "start_time": "2022-12-23T10:37:09.827Z"
   },
   {
    "duration": 292,
    "start_time": "2022-12-23T10:39:49.126Z"
   },
   {
    "duration": 7,
    "start_time": "2022-12-23T10:46:54.487Z"
   },
   {
    "duration": 11,
    "start_time": "2022-12-23T10:47:23.995Z"
   },
   {
    "duration": 9,
    "start_time": "2022-12-23T10:48:33.429Z"
   },
   {
    "duration": 9,
    "start_time": "2022-12-23T10:48:49.234Z"
   },
   {
    "duration": 120,
    "start_time": "2022-12-23T10:48:59.358Z"
   },
   {
    "duration": 307,
    "start_time": "2022-12-23T10:49:34.312Z"
   },
   {
    "duration": 295,
    "start_time": "2022-12-23T10:52:49.452Z"
   },
   {
    "duration": 238,
    "start_time": "2022-12-23T10:53:05.572Z"
   },
   {
    "duration": 140,
    "start_time": "2022-12-23T10:53:25.491Z"
   },
   {
    "duration": 771,
    "start_time": "2022-12-23T11:02:40.697Z"
   },
   {
    "duration": 895,
    "start_time": "2022-12-23T11:03:02.145Z"
   },
   {
    "duration": 748,
    "start_time": "2022-12-23T11:04:43.795Z"
   },
   {
    "duration": 1188,
    "start_time": "2022-12-23T11:05:16.669Z"
   },
   {
    "duration": 29,
    "start_time": "2022-12-23T11:05:17.860Z"
   },
   {
    "duration": 12,
    "start_time": "2022-12-23T11:05:17.891Z"
   },
   {
    "duration": 5,
    "start_time": "2022-12-23T11:05:17.905Z"
   },
   {
    "duration": 17,
    "start_time": "2022-12-23T11:05:17.912Z"
   },
   {
    "duration": 12,
    "start_time": "2022-12-23T11:05:17.930Z"
   },
   {
    "duration": 46,
    "start_time": "2022-12-23T11:05:17.943Z"
   },
   {
    "duration": 10,
    "start_time": "2022-12-23T11:05:17.990Z"
   },
   {
    "duration": 11,
    "start_time": "2022-12-23T11:05:18.001Z"
   },
   {
    "duration": 13,
    "start_time": "2022-12-23T11:05:18.014Z"
   },
   {
    "duration": 13,
    "start_time": "2022-12-23T11:05:18.029Z"
   },
   {
    "duration": 21,
    "start_time": "2022-12-23T11:05:18.044Z"
   },
   {
    "duration": 8,
    "start_time": "2022-12-23T11:05:18.067Z"
   },
   {
    "duration": 27,
    "start_time": "2022-12-23T11:05:18.077Z"
   },
   {
    "duration": 18,
    "start_time": "2022-12-23T11:05:18.106Z"
   },
   {
    "duration": 23,
    "start_time": "2022-12-23T11:05:18.126Z"
   },
   {
    "duration": 12,
    "start_time": "2022-12-23T11:05:18.151Z"
   },
   {
    "duration": 37,
    "start_time": "2022-12-23T11:05:18.164Z"
   },
   {
    "duration": 13,
    "start_time": "2022-12-23T11:05:18.203Z"
   },
   {
    "duration": 307,
    "start_time": "2022-12-23T11:05:18.218Z"
   },
   {
    "duration": 320,
    "start_time": "2022-12-23T11:05:18.527Z"
   },
   {
    "duration": 223,
    "start_time": "2022-12-23T11:05:18.849Z"
   },
   {
    "duration": 356,
    "start_time": "2022-12-23T11:05:19.074Z"
   },
   {
    "duration": 247,
    "start_time": "2022-12-23T11:05:19.432Z"
   },
   {
    "duration": 342,
    "start_time": "2022-12-23T11:05:19.680Z"
   },
   {
    "duration": 11,
    "start_time": "2022-12-23T11:05:20.024Z"
   },
   {
    "duration": 159,
    "start_time": "2022-12-23T11:05:20.037Z"
   },
   {
    "duration": 841,
    "start_time": "2022-12-23T11:05:20.198Z"
   },
   {
    "duration": 0,
    "start_time": "2022-12-23T11:05:21.041Z"
   },
   {
    "duration": 786,
    "start_time": "2022-12-23T11:05:26.277Z"
   },
   {
    "duration": 755,
    "start_time": "2022-12-23T11:06:42.751Z"
   },
   {
    "duration": 13,
    "start_time": "2022-12-23T11:07:05.999Z"
   },
   {
    "duration": 914,
    "start_time": "2022-12-23T11:07:08.803Z"
   },
   {
    "duration": 6,
    "start_time": "2022-12-23T11:07:10.114Z"
   },
   {
    "duration": 5,
    "start_time": "2022-12-23T11:08:18.073Z"
   },
   {
    "duration": 6,
    "start_time": "2022-12-23T11:08:36.749Z"
   },
   {
    "duration": 5,
    "start_time": "2022-12-23T11:08:53.302Z"
   },
   {
    "duration": 5,
    "start_time": "2022-12-23T11:10:26.341Z"
   },
   {
    "duration": 208,
    "start_time": "2022-12-23T11:16:42.454Z"
   },
   {
    "duration": 167,
    "start_time": "2022-12-23T11:19:08.819Z"
   },
   {
    "duration": 49,
    "start_time": "2022-12-23T11:19:14.593Z"
   },
   {
    "duration": 158,
    "start_time": "2022-12-23T11:19:18.653Z"
   },
   {
    "duration": 167,
    "start_time": "2022-12-23T11:19:59.853Z"
   },
   {
    "duration": 165,
    "start_time": "2022-12-23T11:21:28.675Z"
   },
   {
    "duration": 165,
    "start_time": "2022-12-23T11:21:36.596Z"
   },
   {
    "duration": 150,
    "start_time": "2022-12-23T11:22:27.833Z"
   },
   {
    "duration": 156,
    "start_time": "2022-12-23T11:22:29.466Z"
   },
   {
    "duration": 145,
    "start_time": "2022-12-23T11:29:38.645Z"
   },
   {
    "duration": 5,
    "start_time": "2022-12-23T11:32:37.788Z"
   },
   {
    "duration": 16,
    "start_time": "2022-12-23T11:39:49.831Z"
   },
   {
    "duration": 8,
    "start_time": "2022-12-23T11:41:14.235Z"
   },
   {
    "duration": 27,
    "start_time": "2022-12-23T11:46:33.506Z"
   },
   {
    "duration": 17,
    "start_time": "2022-12-23T11:47:06.888Z"
   },
   {
    "duration": 46,
    "start_time": "2022-12-23T11:48:06.315Z"
   },
   {
    "duration": 40,
    "start_time": "2022-12-23T11:48:20.790Z"
   },
   {
    "duration": 5,
    "start_time": "2022-12-23T11:48:28.779Z"
   },
   {
    "duration": 5,
    "start_time": "2022-12-23T11:48:40.015Z"
   },
   {
    "duration": 53,
    "start_time": "2022-12-23T11:49:57.117Z"
   },
   {
    "duration": 54,
    "start_time": "2022-12-23T11:50:50.352Z"
   },
   {
    "duration": 25,
    "start_time": "2022-12-23T11:51:15.324Z"
   },
   {
    "duration": 22,
    "start_time": "2022-12-23T11:52:01.918Z"
   },
   {
    "duration": 17,
    "start_time": "2022-12-23T11:57:00.262Z"
   },
   {
    "duration": 10,
    "start_time": "2022-12-23T11:57:25.015Z"
   },
   {
    "duration": 17,
    "start_time": "2022-12-23T11:57:43.943Z"
   },
   {
    "duration": 13,
    "start_time": "2022-12-23T12:04:54.301Z"
   },
   {
    "duration": 12,
    "start_time": "2022-12-23T12:05:30.677Z"
   },
   {
    "duration": 8,
    "start_time": "2022-12-23T12:05:53.221Z"
   },
   {
    "duration": 46,
    "start_time": "2022-12-23T12:08:22.129Z"
   },
   {
    "duration": 844,
    "start_time": "2022-12-23T12:14:45.836Z"
   },
   {
    "duration": 765,
    "start_time": "2022-12-23T12:15:28.882Z"
   },
   {
    "duration": 5,
    "start_time": "2022-12-23T12:16:47.484Z"
   },
   {
    "duration": 4,
    "start_time": "2022-12-23T12:16:54.841Z"
   },
   {
    "duration": 6,
    "start_time": "2022-12-23T12:18:07.429Z"
   },
   {
    "duration": 9,
    "start_time": "2022-12-23T12:45:56.679Z"
   },
   {
    "duration": 10,
    "start_time": "2022-12-23T12:46:07.555Z"
   },
   {
    "duration": 12,
    "start_time": "2022-12-23T13:13:43.920Z"
   },
   {
    "duration": 10,
    "start_time": "2022-12-23T13:20:59.594Z"
   },
   {
    "duration": 764,
    "start_time": "2022-12-23T13:29:11.108Z"
   },
   {
    "duration": 10,
    "start_time": "2022-12-23T13:29:17.066Z"
   },
   {
    "duration": 94,
    "start_time": "2022-12-23T13:40:42.851Z"
   },
   {
    "duration": 14,
    "start_time": "2022-12-23T13:41:54.196Z"
   },
   {
    "duration": 9,
    "start_time": "2022-12-23T13:56:51.248Z"
   },
   {
    "duration": 5,
    "start_time": "2022-12-23T13:57:11.069Z"
   },
   {
    "duration": 7,
    "start_time": "2022-12-23T13:57:22.222Z"
   },
   {
    "duration": 4,
    "start_time": "2022-12-23T13:57:33.427Z"
   },
   {
    "duration": 12,
    "start_time": "2022-12-23T13:59:30.730Z"
   },
   {
    "duration": 17,
    "start_time": "2022-12-23T14:00:01.408Z"
   },
   {
    "duration": 859,
    "start_time": "2022-12-23T14:00:48.311Z"
   },
   {
    "duration": 11,
    "start_time": "2022-12-23T14:01:11.085Z"
   },
   {
    "duration": 11,
    "start_time": "2022-12-23T14:01:14.813Z"
   },
   {
    "duration": 18,
    "start_time": "2022-12-23T14:01:21.844Z"
   },
   {
    "duration": 21,
    "start_time": "2022-12-23T14:04:40.547Z"
   },
   {
    "duration": 22,
    "start_time": "2022-12-23T14:07:08.803Z"
   },
   {
    "duration": 12,
    "start_time": "2022-12-23T14:08:10.796Z"
   },
   {
    "duration": 12,
    "start_time": "2022-12-23T14:10:03.419Z"
   },
   {
    "duration": 12,
    "start_time": "2022-12-23T14:10:43.998Z"
   },
   {
    "duration": 12,
    "start_time": "2022-12-23T14:18:13.743Z"
   },
   {
    "duration": 8,
    "start_time": "2022-12-23T14:18:17.023Z"
   },
   {
    "duration": 6,
    "start_time": "2022-12-23T14:19:19.891Z"
   },
   {
    "duration": 12,
    "start_time": "2022-12-23T14:21:49.019Z"
   },
   {
    "duration": 9,
    "start_time": "2022-12-23T14:24:49.437Z"
   },
   {
    "duration": 7,
    "start_time": "2022-12-23T14:24:54.472Z"
   },
   {
    "duration": 12,
    "start_time": "2022-12-23T14:25:03.154Z"
   },
   {
    "duration": 12,
    "start_time": "2022-12-23T14:27:14.246Z"
   },
   {
    "duration": 7,
    "start_time": "2022-12-23T14:27:19.526Z"
   },
   {
    "duration": 12,
    "start_time": "2022-12-23T14:27:57.455Z"
   },
   {
    "duration": 10,
    "start_time": "2022-12-23T14:27:58.552Z"
   },
   {
    "duration": 14,
    "start_time": "2022-12-23T14:27:59.982Z"
   },
   {
    "duration": 11,
    "start_time": "2022-12-23T14:28:17.416Z"
   },
   {
    "duration": 52,
    "start_time": "2022-12-23T14:28:51.343Z"
   },
   {
    "duration": 70,
    "start_time": "2022-12-23T14:29:01.439Z"
   },
   {
    "duration": 48,
    "start_time": "2022-12-23T14:29:06.810Z"
   },
   {
    "duration": 13,
    "start_time": "2022-12-23T14:29:25.217Z"
   },
   {
    "duration": 10,
    "start_time": "2022-12-23T14:30:03.249Z"
   },
   {
    "duration": 1145,
    "start_time": "2022-12-23T15:35:06.036Z"
   },
   {
    "duration": 28,
    "start_time": "2022-12-23T15:35:07.183Z"
   },
   {
    "duration": 13,
    "start_time": "2022-12-23T15:35:07.213Z"
   },
   {
    "duration": 5,
    "start_time": "2022-12-23T15:35:07.227Z"
   },
   {
    "duration": 13,
    "start_time": "2022-12-23T15:35:07.234Z"
   },
   {
    "duration": 10,
    "start_time": "2022-12-23T15:35:07.249Z"
   },
   {
    "duration": 43,
    "start_time": "2022-12-23T15:35:07.261Z"
   },
   {
    "duration": 9,
    "start_time": "2022-12-23T15:35:07.306Z"
   },
   {
    "duration": 6,
    "start_time": "2022-12-23T15:35:07.317Z"
   },
   {
    "duration": 12,
    "start_time": "2022-12-23T15:35:07.324Z"
   },
   {
    "duration": 5,
    "start_time": "2022-12-23T15:35:07.338Z"
   },
   {
    "duration": 16,
    "start_time": "2022-12-23T15:35:07.345Z"
   },
   {
    "duration": 8,
    "start_time": "2022-12-23T15:35:07.363Z"
   },
   {
    "duration": 29,
    "start_time": "2022-12-23T15:35:07.374Z"
   },
   {
    "duration": 10,
    "start_time": "2022-12-23T15:35:07.404Z"
   },
   {
    "duration": 12,
    "start_time": "2022-12-23T15:35:07.416Z"
   },
   {
    "duration": 7,
    "start_time": "2022-12-23T15:35:07.430Z"
   },
   {
    "duration": 15,
    "start_time": "2022-12-23T15:35:07.439Z"
   },
   {
    "duration": 12,
    "start_time": "2022-12-23T15:35:07.456Z"
   },
   {
    "duration": 304,
    "start_time": "2022-12-23T15:35:07.496Z"
   },
   {
    "duration": 297,
    "start_time": "2022-12-23T15:35:07.802Z"
   },
   {
    "duration": 217,
    "start_time": "2022-12-23T15:35:08.101Z"
   },
   {
    "duration": 302,
    "start_time": "2022-12-23T15:35:08.319Z"
   },
   {
    "duration": 221,
    "start_time": "2022-12-23T15:35:08.622Z"
   },
   {
    "duration": 289,
    "start_time": "2022-12-23T15:35:08.845Z"
   },
   {
    "duration": 12,
    "start_time": "2022-12-23T15:35:09.135Z"
   },
   {
    "duration": 157,
    "start_time": "2022-12-23T15:35:09.148Z"
   },
   {
    "duration": 5,
    "start_time": "2022-12-23T15:35:09.306Z"
   },
   {
    "duration": 293,
    "start_time": "2022-12-23T15:35:09.313Z"
   },
   {
    "duration": 503,
    "start_time": "2022-12-23T15:35:09.608Z"
   },
   {
    "duration": 5,
    "start_time": "2022-12-23T15:35:10.113Z"
   },
   {
    "duration": 18,
    "start_time": "2022-12-23T15:35:10.119Z"
   },
   {
    "duration": 59,
    "start_time": "2022-12-23T15:35:10.139Z"
   },
   {
    "duration": 14,
    "start_time": "2022-12-23T15:35:10.200Z"
   },
   {
    "duration": 16,
    "start_time": "2022-12-23T15:35:10.216Z"
   },
   {
    "duration": 65,
    "start_time": "2022-12-23T15:35:10.234Z"
   },
   {
    "duration": 14,
    "start_time": "2022-12-23T15:35:10.301Z"
   },
   {
    "duration": 1481,
    "start_time": "2022-12-23T21:40:01.762Z"
   },
   {
    "duration": 91,
    "start_time": "2022-12-23T21:40:03.246Z"
   },
   {
    "duration": 11,
    "start_time": "2022-12-23T21:40:03.339Z"
   },
   {
    "duration": 18,
    "start_time": "2022-12-23T21:40:03.352Z"
   },
   {
    "duration": 56,
    "start_time": "2022-12-23T21:40:03.373Z"
   },
   {
    "duration": 33,
    "start_time": "2022-12-23T21:40:03.431Z"
   },
   {
    "duration": 149,
    "start_time": "2022-12-23T21:40:03.465Z"
   },
   {
    "duration": 8,
    "start_time": "2022-12-23T21:40:03.615Z"
   },
   {
    "duration": 40,
    "start_time": "2022-12-23T21:40:03.624Z"
   },
   {
    "duration": 57,
    "start_time": "2022-12-23T21:40:03.665Z"
   },
   {
    "duration": 32,
    "start_time": "2022-12-23T21:40:03.724Z"
   },
   {
    "duration": 71,
    "start_time": "2022-12-23T21:40:03.758Z"
   },
   {
    "duration": 7,
    "start_time": "2022-12-23T21:40:03.831Z"
   },
   {
    "duration": 29,
    "start_time": "2022-12-23T21:40:03.841Z"
   },
   {
    "duration": 65,
    "start_time": "2022-12-23T21:40:03.872Z"
   },
   {
    "duration": 71,
    "start_time": "2022-12-23T21:40:03.939Z"
   },
   {
    "duration": 43,
    "start_time": "2022-12-23T21:40:04.016Z"
   },
   {
    "duration": 71,
    "start_time": "2022-12-23T21:40:04.061Z"
   },
   {
    "duration": 32,
    "start_time": "2022-12-23T21:40:04.134Z"
   },
   {
    "duration": 358,
    "start_time": "2022-12-23T21:40:04.168Z"
   },
   {
    "duration": 307,
    "start_time": "2022-12-23T21:40:04.527Z"
   },
   {
    "duration": 210,
    "start_time": "2022-12-23T21:40:04.836Z"
   },
   {
    "duration": 392,
    "start_time": "2022-12-23T21:40:05.048Z"
   },
   {
    "duration": 230,
    "start_time": "2022-12-23T21:40:05.442Z"
   },
   {
    "duration": 331,
    "start_time": "2022-12-23T21:40:05.678Z"
   },
   {
    "duration": 10,
    "start_time": "2022-12-23T21:40:06.011Z"
   },
   {
    "duration": 236,
    "start_time": "2022-12-23T21:40:06.022Z"
   },
   {
    "duration": 5,
    "start_time": "2022-12-23T21:40:06.259Z"
   },
   {
    "duration": 178,
    "start_time": "2022-12-23T21:40:06.266Z"
   },
   {
    "duration": 160,
    "start_time": "2022-12-23T21:40:06.446Z"
   },
   {
    "duration": 6,
    "start_time": "2022-12-23T21:40:06.607Z"
   },
   {
    "duration": 31,
    "start_time": "2022-12-23T21:40:06.614Z"
   },
   {
    "duration": 23,
    "start_time": "2022-12-23T21:40:06.647Z"
   },
   {
    "duration": 45,
    "start_time": "2022-12-23T21:40:06.672Z"
   },
   {
    "duration": 29,
    "start_time": "2022-12-23T21:40:06.719Z"
   },
   {
    "duration": 22,
    "start_time": "2022-12-23T21:40:06.750Z"
   },
   {
    "duration": 43,
    "start_time": "2022-12-23T21:40:06.773Z"
   },
   {
    "duration": 5,
    "start_time": "2022-12-23T21:43:52.206Z"
   },
   {
    "duration": 4,
    "start_time": "2022-12-23T21:44:08.725Z"
   },
   {
    "duration": 50,
    "start_time": "2022-12-26T05:14:58.663Z"
   },
   {
    "duration": 1271,
    "start_time": "2022-12-26T05:15:08.427Z"
   },
   {
    "duration": 56,
    "start_time": "2022-12-26T05:15:09.700Z"
   },
   {
    "duration": 12,
    "start_time": "2022-12-26T05:15:09.757Z"
   },
   {
    "duration": 4,
    "start_time": "2022-12-26T05:15:09.771Z"
   },
   {
    "duration": 11,
    "start_time": "2022-12-26T05:15:10.812Z"
   },
   {
    "duration": 6,
    "start_time": "2022-12-26T05:15:11.287Z"
   },
   {
    "duration": 83,
    "start_time": "2022-12-26T05:15:11.785Z"
   },
   {
    "duration": 8,
    "start_time": "2022-12-26T05:15:12.298Z"
   },
   {
    "duration": 6,
    "start_time": "2022-12-26T05:15:12.893Z"
   },
   {
    "duration": 10,
    "start_time": "2022-12-26T05:15:13.584Z"
   },
   {
    "duration": 6,
    "start_time": "2022-12-26T05:15:14.241Z"
   },
   {
    "duration": 58,
    "start_time": "2022-12-26T05:15:15.277Z"
   },
   {
    "duration": 7,
    "start_time": "2022-12-26T05:15:16.570Z"
   },
   {
    "duration": 9,
    "start_time": "2022-12-26T05:15:17.668Z"
   },
   {
    "duration": 7,
    "start_time": "2022-12-26T05:15:18.439Z"
   },
   {
    "duration": 10,
    "start_time": "2022-12-26T05:15:18.863Z"
   },
   {
    "duration": 5,
    "start_time": "2022-12-26T05:15:19.321Z"
   },
   {
    "duration": 295,
    "start_time": "2022-12-26T05:15:21.714Z"
   },
   {
    "duration": 260,
    "start_time": "2022-12-26T05:15:46.333Z"
   },
   {
    "duration": 230,
    "start_time": "2022-12-26T05:33:54.367Z"
   },
   {
    "duration": 31,
    "start_time": "2022-12-26T05:35:11.850Z"
   },
   {
    "duration": 16,
    "start_time": "2022-12-26T05:35:28.754Z"
   },
   {
    "duration": 9,
    "start_time": "2022-12-26T05:36:18.080Z"
   },
   {
    "duration": 8,
    "start_time": "2022-12-26T05:36:23.646Z"
   },
   {
    "duration": 8,
    "start_time": "2022-12-26T05:36:39.194Z"
   },
   {
    "duration": 775,
    "start_time": "2022-12-26T05:37:02.510Z"
   },
   {
    "duration": 4,
    "start_time": "2022-12-26T05:37:23.508Z"
   },
   {
    "duration": 3,
    "start_time": "2022-12-26T05:38:23.844Z"
   },
   {
    "duration": 5,
    "start_time": "2022-12-26T05:38:26.640Z"
   },
   {
    "duration": 4,
    "start_time": "2022-12-26T05:38:53.751Z"
   },
   {
    "duration": 187,
    "start_time": "2022-12-26T05:40:45.380Z"
   },
   {
    "duration": 198,
    "start_time": "2022-12-26T05:41:30.112Z"
   },
   {
    "duration": 209,
    "start_time": "2022-12-26T05:42:35.273Z"
   },
   {
    "duration": 5,
    "start_time": "2022-12-26T05:42:43.693Z"
   },
   {
    "duration": 25,
    "start_time": "2022-12-26T05:42:44.105Z"
   },
   {
    "duration": 9,
    "start_time": "2022-12-26T05:42:45.357Z"
   },
   {
    "duration": 5,
    "start_time": "2022-12-26T05:42:46.475Z"
   },
   {
    "duration": 12,
    "start_time": "2022-12-26T05:42:49.036Z"
   },
   {
    "duration": 5,
    "start_time": "2022-12-26T05:42:49.340Z"
   },
   {
    "duration": 44,
    "start_time": "2022-12-26T05:42:49.579Z"
   },
   {
    "duration": 9,
    "start_time": "2022-12-26T05:42:49.798Z"
   },
   {
    "duration": 7,
    "start_time": "2022-12-26T05:42:50.056Z"
   },
   {
    "duration": 13,
    "start_time": "2022-12-26T05:42:50.290Z"
   },
   {
    "duration": 5,
    "start_time": "2022-12-26T05:42:50.531Z"
   },
   {
    "duration": 26,
    "start_time": "2022-12-26T05:42:50.732Z"
   },
   {
    "duration": 7,
    "start_time": "2022-12-26T05:42:51.399Z"
   },
   {
    "duration": 13,
    "start_time": "2022-12-26T05:42:52.191Z"
   },
   {
    "duration": 6,
    "start_time": "2022-12-26T05:42:52.834Z"
   },
   {
    "duration": 10,
    "start_time": "2022-12-26T05:42:53.366Z"
   },
   {
    "duration": 5,
    "start_time": "2022-12-26T05:42:54.241Z"
   },
   {
    "duration": 5,
    "start_time": "2022-12-26T05:42:58.523Z"
   },
   {
    "duration": 12,
    "start_time": "2022-12-26T05:43:00.838Z"
   },
   {
    "duration": 191,
    "start_time": "2022-12-26T05:43:08.829Z"
   },
   {
    "duration": 226,
    "start_time": "2022-12-26T05:43:10.156Z"
   },
   {
    "duration": 4,
    "start_time": "2022-12-26T05:43:34.377Z"
   },
   {
    "duration": 5,
    "start_time": "2022-12-26T05:44:11.620Z"
   },
   {
    "duration": 5,
    "start_time": "2022-12-26T05:44:30.715Z"
   },
   {
    "duration": 6,
    "start_time": "2022-12-26T05:44:56.797Z"
   },
   {
    "duration": 4,
    "start_time": "2022-12-26T05:45:09.758Z"
   },
   {
    "duration": 310,
    "start_time": "2022-12-26T05:46:38.769Z"
   },
   {
    "duration": 5,
    "start_time": "2022-12-26T06:05:24.624Z"
   },
   {
    "duration": 4,
    "start_time": "2022-12-26T06:05:37.851Z"
   },
   {
    "duration": 8,
    "start_time": "2022-12-26T06:05:44.902Z"
   },
   {
    "duration": 13,
    "start_time": "2022-12-26T06:18:29.588Z"
   },
   {
    "duration": 12,
    "start_time": "2022-12-26T06:18:38.316Z"
   },
   {
    "duration": 14,
    "start_time": "2022-12-26T06:18:54.320Z"
   },
   {
    "duration": 9,
    "start_time": "2022-12-26T06:19:07.494Z"
   },
   {
    "duration": 10,
    "start_time": "2022-12-26T06:19:23.646Z"
   },
   {
    "duration": 6,
    "start_time": "2022-12-26T06:19:31.446Z"
   },
   {
    "duration": 9,
    "start_time": "2022-12-26T06:19:39.736Z"
   },
   {
    "duration": 6,
    "start_time": "2022-12-26T06:19:55.934Z"
   },
   {
    "duration": 223,
    "start_time": "2022-12-26T06:42:28.650Z"
   },
   {
    "duration": 239,
    "start_time": "2022-12-26T06:42:35.936Z"
   },
   {
    "duration": 245,
    "start_time": "2022-12-26T06:43:00.795Z"
   },
   {
    "duration": 50,
    "start_time": "2022-12-26T10:05:49.441Z"
   },
   {
    "duration": 0,
    "start_time": "2022-12-26T10:05:49.493Z"
   },
   {
    "duration": 7,
    "start_time": "2022-12-26T10:05:52.484Z"
   },
   {
    "duration": 1511,
    "start_time": "2022-12-26T10:15:09.765Z"
   },
   {
    "duration": 71,
    "start_time": "2022-12-26T10:15:11.278Z"
   },
   {
    "duration": 7,
    "start_time": "2022-12-26T10:15:17.213Z"
   },
   {
    "duration": 28,
    "start_time": "2022-12-26T10:15:17.713Z"
   },
   {
    "duration": 13,
    "start_time": "2022-12-26T10:15:20.459Z"
   },
   {
    "duration": 4,
    "start_time": "2022-12-26T10:15:23.226Z"
   },
   {
    "duration": 12,
    "start_time": "2022-12-26T10:15:24.316Z"
   },
   {
    "duration": 7,
    "start_time": "2022-12-26T10:15:24.702Z"
   },
   {
    "duration": 114,
    "start_time": "2022-12-26T10:15:25.079Z"
   },
   {
    "duration": 11,
    "start_time": "2022-12-26T10:15:25.466Z"
   },
   {
    "duration": 6,
    "start_time": "2022-12-26T10:15:25.790Z"
   },
   {
    "duration": 15,
    "start_time": "2022-12-26T10:15:26.186Z"
   },
   {
    "duration": 7,
    "start_time": "2022-12-26T10:15:26.687Z"
   },
   {
    "duration": 65,
    "start_time": "2022-12-26T10:15:27.245Z"
   },
   {
    "duration": 9,
    "start_time": "2022-12-26T10:15:27.716Z"
   },
   {
    "duration": 11,
    "start_time": "2022-12-26T10:15:28.951Z"
   },
   {
    "duration": 7,
    "start_time": "2022-12-26T10:15:30.135Z"
   },
   {
    "duration": 13,
    "start_time": "2022-12-26T10:15:30.906Z"
   },
   {
    "duration": 7,
    "start_time": "2022-12-26T10:15:31.671Z"
   },
   {
    "duration": 5,
    "start_time": "2022-12-26T10:15:34.582Z"
   },
   {
    "duration": 4,
    "start_time": "2022-12-26T10:15:35.382Z"
   },
   {
    "duration": 323,
    "start_time": "2022-12-26T10:15:36.476Z"
   },
   {
    "duration": 10,
    "start_time": "2022-12-26T10:52:02.412Z"
   },
   {
    "duration": 9,
    "start_time": "2022-12-26T10:53:25.520Z"
   },
   {
    "duration": 9,
    "start_time": "2022-12-26T10:54:04.955Z"
   },
   {
    "duration": 14,
    "start_time": "2022-12-26T10:54:09.351Z"
   },
   {
    "duration": 100,
    "start_time": "2022-12-26T10:54:29.651Z"
   },
   {
    "duration": 90,
    "start_time": "2022-12-26T10:54:35.300Z"
   },
   {
    "duration": 7,
    "start_time": "2022-12-26T10:54:40.273Z"
   },
   {
    "duration": 11,
    "start_time": "2022-12-26T10:55:22.021Z"
   },
   {
    "duration": 12,
    "start_time": "2022-12-26T10:55:30.353Z"
   },
   {
    "duration": 185,
    "start_time": "2022-12-26T11:09:06.281Z"
   },
   {
    "duration": 158,
    "start_time": "2022-12-26T11:09:16.209Z"
   },
   {
    "duration": 161,
    "start_time": "2022-12-26T11:09:26.057Z"
   },
   {
    "duration": 147,
    "start_time": "2022-12-26T11:09:54.874Z"
   },
   {
    "duration": 16,
    "start_time": "2022-12-26T11:19:23.465Z"
   },
   {
    "duration": 13,
    "start_time": "2022-12-26T11:20:12.480Z"
   },
   {
    "duration": 15,
    "start_time": "2022-12-26T11:20:25.744Z"
   },
   {
    "duration": 128,
    "start_time": "2022-12-26T11:34:35.394Z"
   },
   {
    "duration": 16,
    "start_time": "2022-12-26T11:34:59.602Z"
   },
   {
    "duration": 76,
    "start_time": "2022-12-26T11:35:25.953Z"
   },
   {
    "duration": 77,
    "start_time": "2022-12-26T11:35:36.586Z"
   },
   {
    "duration": 97,
    "start_time": "2022-12-26T11:36:22.363Z"
   },
   {
    "duration": 76,
    "start_time": "2022-12-26T11:36:41.006Z"
   },
   {
    "duration": 14,
    "start_time": "2022-12-26T11:38:41.388Z"
   },
   {
    "duration": 72,
    "start_time": "2022-12-26T11:38:53.468Z"
   },
   {
    "duration": 230,
    "start_time": "2022-12-26T11:39:07.527Z"
   },
   {
    "duration": 1329,
    "start_time": "2022-12-27T06:45:31.097Z"
   },
   {
    "duration": 68,
    "start_time": "2022-12-27T06:45:32.428Z"
   },
   {
    "duration": 10,
    "start_time": "2022-12-27T06:45:32.497Z"
   },
   {
    "duration": 37,
    "start_time": "2022-12-27T06:45:32.509Z"
   },
   {
    "duration": 10,
    "start_time": "2022-12-27T06:49:28.048Z"
   },
   {
    "duration": 6,
    "start_time": "2022-12-27T06:49:28.297Z"
   },
   {
    "duration": 78,
    "start_time": "2022-12-27T06:49:28.540Z"
   },
   {
    "duration": 9,
    "start_time": "2022-12-27T06:49:28.828Z"
   },
   {
    "duration": 5,
    "start_time": "2022-12-27T06:49:29.219Z"
   },
   {
    "duration": 11,
    "start_time": "2022-12-27T06:49:29.762Z"
   },
   {
    "duration": 6,
    "start_time": "2022-12-27T06:49:30.242Z"
   },
   {
    "duration": 65,
    "start_time": "2022-12-27T06:49:30.879Z"
   },
   {
    "duration": 7,
    "start_time": "2022-12-27T08:29:08.219Z"
   },
   {
    "duration": 10,
    "start_time": "2022-12-27T08:29:08.438Z"
   },
   {
    "duration": 7,
    "start_time": "2022-12-27T08:29:08.887Z"
   },
   {
    "duration": 9,
    "start_time": "2022-12-27T08:29:09.948Z"
   },
   {
    "duration": 5,
    "start_time": "2022-12-27T08:29:10.762Z"
   },
   {
    "duration": 4,
    "start_time": "2022-12-27T08:29:12.000Z"
   },
   {
    "duration": 5,
    "start_time": "2022-12-27T08:29:12.346Z"
   },
   {
    "duration": 254,
    "start_time": "2022-12-27T08:29:13.190Z"
   },
   {
    "duration": 102,
    "start_time": "2022-12-27T08:32:09.850Z"
   },
   {
    "duration": 14,
    "start_time": "2022-12-27T08:32:20.644Z"
   },
   {
    "duration": 76,
    "start_time": "2022-12-27T08:34:33.852Z"
   },
   {
    "duration": 19,
    "start_time": "2022-12-27T08:35:05.446Z"
   },
   {
    "duration": 18,
    "start_time": "2022-12-27T08:35:19.294Z"
   },
   {
    "duration": 14,
    "start_time": "2022-12-27T08:36:26.478Z"
   },
   {
    "duration": 13,
    "start_time": "2022-12-27T08:36:54.482Z"
   },
   {
    "duration": 8,
    "start_time": "2022-12-27T08:37:03.784Z"
   },
   {
    "duration": 13,
    "start_time": "2022-12-27T08:37:18.567Z"
   },
   {
    "duration": 8,
    "start_time": "2022-12-27T08:37:19.033Z"
   },
   {
    "duration": 8,
    "start_time": "2022-12-27T08:38:36.876Z"
   },
   {
    "duration": 4,
    "start_time": "2022-12-27T08:38:53.604Z"
   },
   {
    "duration": 74,
    "start_time": "2022-12-27T08:40:26.738Z"
   },
   {
    "duration": 9,
    "start_time": "2022-12-27T08:40:44.265Z"
   },
   {
    "duration": 4,
    "start_time": "2022-12-27T08:41:15.265Z"
   },
   {
    "duration": 4,
    "start_time": "2022-12-27T08:41:33.509Z"
   },
   {
    "duration": 4,
    "start_time": "2022-12-27T08:41:46.563Z"
   },
   {
    "duration": 69,
    "start_time": "2022-12-27T08:50:23.278Z"
   },
   {
    "duration": 249,
    "start_time": "2022-12-27T08:50:38.076Z"
   },
   {
    "duration": 239,
    "start_time": "2022-12-27T08:50:58.455Z"
   },
   {
    "duration": 233,
    "start_time": "2022-12-27T08:52:29.857Z"
   },
   {
    "duration": 9,
    "start_time": "2022-12-27T08:53:23.675Z"
   },
   {
    "duration": 5,
    "start_time": "2022-12-27T08:53:30.238Z"
   },
   {
    "duration": 106,
    "start_time": "2022-12-27T09:12:09.381Z"
   },
   {
    "duration": 205,
    "start_time": "2022-12-27T09:12:33.381Z"
   },
   {
    "duration": 30,
    "start_time": "2022-12-27T09:35:08.616Z"
   },
   {
    "duration": 26,
    "start_time": "2022-12-27T09:35:29.841Z"
   },
   {
    "duration": 2,
    "start_time": "2022-12-27T09:36:34.500Z"
   },
   {
    "duration": 12,
    "start_time": "2022-12-27T09:37:09.801Z"
   },
   {
    "duration": 29,
    "start_time": "2022-12-27T09:37:48.685Z"
   },
   {
    "duration": 11,
    "start_time": "2022-12-27T09:38:08.571Z"
   },
   {
    "duration": 10,
    "start_time": "2022-12-27T09:48:39.645Z"
   },
   {
    "duration": 12,
    "start_time": "2022-12-27T09:48:51.524Z"
   },
   {
    "duration": 17,
    "start_time": "2022-12-27T10:40:13.019Z"
   },
   {
    "duration": 13,
    "start_time": "2022-12-27T10:40:18.896Z"
   },
   {
    "duration": 1201,
    "start_time": "2022-12-27T10:40:31.982Z"
   },
   {
    "duration": 30,
    "start_time": "2022-12-27T10:40:33.184Z"
   },
   {
    "duration": 12,
    "start_time": "2022-12-27T10:40:33.216Z"
   },
   {
    "duration": 5,
    "start_time": "2022-12-27T10:40:33.230Z"
   },
   {
    "duration": 17,
    "start_time": "2022-12-27T10:40:33.236Z"
   },
   {
    "duration": 11,
    "start_time": "2022-12-27T10:40:33.255Z"
   },
   {
    "duration": 41,
    "start_time": "2022-12-27T10:40:33.268Z"
   },
   {
    "duration": 9,
    "start_time": "2022-12-27T10:40:33.315Z"
   },
   {
    "duration": 11,
    "start_time": "2022-12-27T10:40:33.326Z"
   },
   {
    "duration": 12,
    "start_time": "2022-12-27T10:40:33.339Z"
   },
   {
    "duration": 9,
    "start_time": "2022-12-27T10:40:33.353Z"
   },
   {
    "duration": 15,
    "start_time": "2022-12-27T10:40:33.364Z"
   },
   {
    "duration": 8,
    "start_time": "2022-12-27T10:40:33.380Z"
   },
   {
    "duration": 25,
    "start_time": "2022-12-27T10:40:33.391Z"
   },
   {
    "duration": 10,
    "start_time": "2022-12-27T10:40:33.418Z"
   },
   {
    "duration": 12,
    "start_time": "2022-12-27T10:40:33.430Z"
   },
   {
    "duration": 8,
    "start_time": "2022-12-27T10:40:33.444Z"
   },
   {
    "duration": 8,
    "start_time": "2022-12-27T10:40:33.453Z"
   },
   {
    "duration": 7,
    "start_time": "2022-12-27T10:40:33.462Z"
   },
   {
    "duration": 292,
    "start_time": "2022-12-27T10:40:33.471Z"
   },
   {
    "duration": 16,
    "start_time": "2022-12-27T10:40:33.765Z"
   },
   {
    "duration": 10,
    "start_time": "2022-12-27T10:40:33.783Z"
   },
   {
    "duration": 41,
    "start_time": "2022-12-27T10:40:33.795Z"
   },
   {
    "duration": 36,
    "start_time": "2022-12-27T10:40:33.837Z"
   },
   {
    "duration": 297,
    "start_time": "2022-12-27T10:40:33.875Z"
   },
   {
    "duration": 291,
    "start_time": "2022-12-27T10:40:34.173Z"
   },
   {
    "duration": 212,
    "start_time": "2022-12-27T10:40:34.465Z"
   },
   {
    "duration": 346,
    "start_time": "2022-12-27T10:40:34.678Z"
   },
   {
    "duration": 232,
    "start_time": "2022-12-27T10:40:35.025Z"
   },
   {
    "duration": 291,
    "start_time": "2022-12-27T10:40:35.259Z"
   },
   {
    "duration": 10,
    "start_time": "2022-12-27T10:40:35.552Z"
   },
   {
    "duration": 164,
    "start_time": "2022-12-27T10:40:35.564Z"
   },
   {
    "duration": 6,
    "start_time": "2022-12-27T10:40:35.730Z"
   },
   {
    "duration": 264,
    "start_time": "2022-12-27T10:40:35.738Z"
   },
   {
    "duration": 173,
    "start_time": "2022-12-27T10:40:36.005Z"
   },
   {
    "duration": 6,
    "start_time": "2022-12-27T10:40:36.180Z"
   },
   {
    "duration": 44,
    "start_time": "2022-12-27T10:40:36.188Z"
   },
   {
    "duration": 44,
    "start_time": "2022-12-27T10:40:36.234Z"
   },
   {
    "duration": 143,
    "start_time": "2022-12-27T10:40:36.279Z"
   },
   {
    "duration": 0,
    "start_time": "2022-12-27T10:40:36.424Z"
   },
   {
    "duration": 0,
    "start_time": "2022-12-27T10:40:36.426Z"
   },
   {
    "duration": 0,
    "start_time": "2022-12-27T10:40:36.427Z"
   },
   {
    "duration": 0,
    "start_time": "2022-12-27T10:40:36.428Z"
   },
   {
    "duration": 4,
    "start_time": "2022-12-27T11:24:04.039Z"
   },
   {
    "duration": 25,
    "start_time": "2022-12-27T11:24:04.337Z"
   },
   {
    "duration": 10,
    "start_time": "2022-12-27T11:24:05.098Z"
   },
   {
    "duration": 5,
    "start_time": "2022-12-27T11:24:05.398Z"
   },
   {
    "duration": 11,
    "start_time": "2022-12-27T11:24:07.928Z"
   },
   {
    "duration": 7,
    "start_time": "2022-12-27T11:24:08.155Z"
   },
   {
    "duration": 46,
    "start_time": "2022-12-27T11:24:08.449Z"
   },
   {
    "duration": 8,
    "start_time": "2022-12-27T11:24:08.638Z"
   },
   {
    "duration": 5,
    "start_time": "2022-12-27T11:24:08.947Z"
   },
   {
    "duration": 10,
    "start_time": "2022-12-27T11:24:09.158Z"
   },
   {
    "duration": 5,
    "start_time": "2022-12-27T11:24:09.483Z"
   },
   {
    "duration": 25,
    "start_time": "2022-12-27T11:24:09.773Z"
   },
   {
    "duration": 9,
    "start_time": "2022-12-27T11:24:10.129Z"
   },
   {
    "duration": 10,
    "start_time": "2022-12-27T11:24:10.489Z"
   },
   {
    "duration": 7,
    "start_time": "2022-12-27T11:24:10.887Z"
   },
   {
    "duration": 10,
    "start_time": "2022-12-27T11:24:11.214Z"
   },
   {
    "duration": 5,
    "start_time": "2022-12-27T11:24:11.428Z"
   },
   {
    "duration": 4,
    "start_time": "2022-12-27T11:24:12.328Z"
   },
   {
    "duration": 4,
    "start_time": "2022-12-27T11:24:12.762Z"
   },
   {
    "duration": 228,
    "start_time": "2022-12-27T11:24:13.201Z"
   },
   {
    "duration": 15,
    "start_time": "2022-12-27T11:24:13.659Z"
   },
   {
    "duration": 5,
    "start_time": "2022-12-27T11:24:14.083Z"
   },
   {
    "duration": 15,
    "start_time": "2022-12-27T11:24:17.411Z"
   },
   {
    "duration": 12,
    "start_time": "2022-12-27T11:24:23.746Z"
   },
   {
    "duration": 21,
    "start_time": "2022-12-27T11:28:21.878Z"
   },
   {
    "duration": 447,
    "start_time": "2022-12-27T11:28:36.946Z"
   },
   {
    "duration": 402,
    "start_time": "2022-12-27T11:30:47.709Z"
   },
   {
    "duration": 409,
    "start_time": "2022-12-27T11:31:16.689Z"
   },
   {
    "duration": 399,
    "start_time": "2022-12-27T11:31:24.783Z"
   },
   {
    "duration": 382,
    "start_time": "2022-12-27T11:32:24.891Z"
   },
   {
    "duration": 421,
    "start_time": "2022-12-27T11:32:31.956Z"
   },
   {
    "duration": 456,
    "start_time": "2022-12-27T11:35:14.548Z"
   },
   {
    "duration": 153,
    "start_time": "2022-12-27T11:35:22.863Z"
   },
   {
    "duration": 393,
    "start_time": "2022-12-27T11:35:29.393Z"
   },
   {
    "duration": 409,
    "start_time": "2022-12-27T11:35:37.446Z"
   },
   {
    "duration": 159,
    "start_time": "2022-12-27T11:35:47.008Z"
   },
   {
    "duration": 155,
    "start_time": "2022-12-27T11:36:24.658Z"
   },
   {
    "duration": 371,
    "start_time": "2022-12-27T11:36:28.896Z"
   },
   {
    "duration": 439,
    "start_time": "2022-12-27T11:36:35.565Z"
   },
   {
    "duration": 446,
    "start_time": "2022-12-27T11:36:47.502Z"
   },
   {
    "duration": 380,
    "start_time": "2022-12-27T11:37:46.724Z"
   },
   {
    "duration": 468,
    "start_time": "2022-12-27T11:37:57.200Z"
   },
   {
    "duration": 499,
    "start_time": "2022-12-27T11:38:06.453Z"
   },
   {
    "duration": 373,
    "start_time": "2022-12-27T11:38:15.353Z"
   },
   {
    "duration": 402,
    "start_time": "2022-12-27T11:38:22.157Z"
   },
   {
    "duration": 378,
    "start_time": "2022-12-27T11:40:21.855Z"
   },
   {
    "duration": 368,
    "start_time": "2022-12-27T11:40:25.623Z"
   },
   {
    "duration": 120,
    "start_time": "2022-12-27T11:43:07.662Z"
   },
   {
    "duration": 13,
    "start_time": "2022-12-27T11:43:24.139Z"
   },
   {
    "duration": 121,
    "start_time": "2022-12-27T11:43:58.247Z"
   },
   {
    "duration": 123,
    "start_time": "2022-12-27T11:44:03.668Z"
   },
   {
    "duration": 1070,
    "start_time": "2022-12-27T11:44:12.465Z"
   },
   {
    "duration": 26,
    "start_time": "2022-12-27T11:44:13.537Z"
   },
   {
    "duration": 11,
    "start_time": "2022-12-27T11:44:13.565Z"
   },
   {
    "duration": 18,
    "start_time": "2022-12-27T11:44:13.578Z"
   },
   {
    "duration": 29,
    "start_time": "2022-12-27T11:44:13.598Z"
   },
   {
    "duration": 16,
    "start_time": "2022-12-27T11:44:13.628Z"
   },
   {
    "duration": 55,
    "start_time": "2022-12-27T11:44:13.645Z"
   },
   {
    "duration": 8,
    "start_time": "2022-12-27T11:44:13.702Z"
   },
   {
    "duration": 21,
    "start_time": "2022-12-27T11:44:13.711Z"
   },
   {
    "duration": 32,
    "start_time": "2022-12-27T11:44:13.735Z"
   },
   {
    "duration": 33,
    "start_time": "2022-12-27T11:44:13.769Z"
   },
   {
    "duration": 26,
    "start_time": "2022-12-27T11:44:13.803Z"
   },
   {
    "duration": 8,
    "start_time": "2022-12-27T11:44:13.831Z"
   },
   {
    "duration": 35,
    "start_time": "2022-12-27T11:44:13.841Z"
   },
   {
    "duration": 29,
    "start_time": "2022-12-27T11:44:13.877Z"
   },
   {
    "duration": 41,
    "start_time": "2022-12-27T11:44:13.907Z"
   },
   {
    "duration": 40,
    "start_time": "2022-12-27T11:44:13.949Z"
   },
   {
    "duration": 23,
    "start_time": "2022-12-27T11:44:13.991Z"
   },
   {
    "duration": 40,
    "start_time": "2022-12-27T11:44:14.015Z"
   },
   {
    "duration": 268,
    "start_time": "2022-12-27T11:44:14.057Z"
   },
   {
    "duration": 17,
    "start_time": "2022-12-27T11:44:14.326Z"
   },
   {
    "duration": 28,
    "start_time": "2022-12-27T11:44:14.344Z"
   },
   {
    "duration": 58,
    "start_time": "2022-12-27T11:44:14.374Z"
   },
   {
    "duration": 75,
    "start_time": "2022-12-27T11:44:14.433Z"
   },
   {
    "duration": 478,
    "start_time": "2022-12-27T11:44:14.510Z"
   },
   {
    "duration": 279,
    "start_time": "2022-12-27T11:44:14.989Z"
   },
   {
    "duration": 266,
    "start_time": "2022-12-27T11:44:15.272Z"
   },
   {
    "duration": 199,
    "start_time": "2022-12-27T11:44:15.541Z"
   },
   {
    "duration": 291,
    "start_time": "2022-12-27T11:44:15.742Z"
   },
   {
    "duration": 219,
    "start_time": "2022-12-27T11:44:16.034Z"
   },
   {
    "duration": 279,
    "start_time": "2022-12-27T11:44:16.254Z"
   },
   {
    "duration": 9,
    "start_time": "2022-12-27T11:44:16.535Z"
   },
   {
    "duration": 230,
    "start_time": "2022-12-27T11:44:16.546Z"
   },
   {
    "duration": 4,
    "start_time": "2022-12-27T11:44:16.778Z"
   },
   {
    "duration": 164,
    "start_time": "2022-12-27T11:44:16.784Z"
   },
   {
    "duration": 131,
    "start_time": "2022-12-27T11:44:16.950Z"
   },
   {
    "duration": 5,
    "start_time": "2022-12-27T11:44:17.083Z"
   },
   {
    "duration": 52,
    "start_time": "2022-12-27T11:44:17.089Z"
   },
   {
    "duration": 42,
    "start_time": "2022-12-27T11:44:17.142Z"
   },
   {
    "duration": 26,
    "start_time": "2022-12-27T11:44:17.186Z"
   },
   {
    "duration": 21,
    "start_time": "2022-12-27T11:44:17.214Z"
   },
   {
    "duration": 13,
    "start_time": "2022-12-27T11:44:17.237Z"
   },
   {
    "duration": 29,
    "start_time": "2022-12-27T11:44:17.252Z"
   },
   {
    "duration": 1495,
    "start_time": "2022-12-27T18:55:26.894Z"
   },
   {
    "duration": 62,
    "start_time": "2022-12-27T18:55:28.394Z"
   },
   {
    "duration": 13,
    "start_time": "2022-12-27T18:55:28.458Z"
   },
   {
    "duration": 7,
    "start_time": "2022-12-27T18:55:28.473Z"
   },
   {
    "duration": 30,
    "start_time": "2022-12-27T18:55:28.482Z"
   },
   {
    "duration": 8,
    "start_time": "2022-12-27T18:55:28.514Z"
   },
   {
    "duration": 134,
    "start_time": "2022-12-27T18:55:28.524Z"
   },
   {
    "duration": 10,
    "start_time": "2022-12-27T18:55:28.660Z"
   },
   {
    "duration": 11,
    "start_time": "2022-12-27T18:55:28.672Z"
   },
   {
    "duration": 30,
    "start_time": "2022-12-27T18:55:28.689Z"
   },
   {
    "duration": 9,
    "start_time": "2022-12-27T18:55:28.721Z"
   },
   {
    "duration": 72,
    "start_time": "2022-12-27T18:55:28.731Z"
   },
   {
    "duration": 9,
    "start_time": "2022-12-27T18:55:28.805Z"
   },
   {
    "duration": 27,
    "start_time": "2022-12-27T18:55:28.816Z"
   },
   {
    "duration": 14,
    "start_time": "2022-12-27T18:55:28.845Z"
   },
   {
    "duration": 13,
    "start_time": "2022-12-27T18:55:28.861Z"
   },
   {
    "duration": 29,
    "start_time": "2022-12-27T18:55:28.877Z"
   },
   {
    "duration": 32,
    "start_time": "2022-12-27T18:55:28.908Z"
   },
   {
    "duration": 6,
    "start_time": "2022-12-27T18:55:28.942Z"
   },
   {
    "duration": 301,
    "start_time": "2022-12-27T18:55:28.950Z"
   },
   {
    "duration": 26,
    "start_time": "2022-12-27T18:55:29.252Z"
   },
   {
    "duration": 8,
    "start_time": "2022-12-27T18:55:29.281Z"
   },
   {
    "duration": 49,
    "start_time": "2022-12-27T18:55:29.292Z"
   },
   {
    "duration": 42,
    "start_time": "2022-12-27T18:55:29.343Z"
   },
   {
    "duration": 505,
    "start_time": "2022-12-27T18:55:29.388Z"
   },
   {
    "duration": 321,
    "start_time": "2022-12-27T18:55:29.896Z"
   },
   {
    "duration": 306,
    "start_time": "2022-12-27T18:55:30.219Z"
   },
   {
    "duration": 250,
    "start_time": "2022-12-27T18:55:30.530Z"
   },
   {
    "duration": 357,
    "start_time": "2022-12-27T18:55:30.782Z"
   },
   {
    "duration": 252,
    "start_time": "2022-12-27T18:55:31.141Z"
   },
   {
    "duration": 331,
    "start_time": "2022-12-27T18:55:31.396Z"
   },
   {
    "duration": 11,
    "start_time": "2022-12-27T18:55:31.730Z"
   },
   {
    "duration": 243,
    "start_time": "2022-12-27T18:55:31.743Z"
   },
   {
    "duration": 5,
    "start_time": "2022-12-27T18:55:31.988Z"
   },
   {
    "duration": 185,
    "start_time": "2022-12-27T18:55:31.995Z"
   },
   {
    "duration": 141,
    "start_time": "2022-12-27T18:55:32.182Z"
   },
   {
    "duration": 5,
    "start_time": "2022-12-27T18:55:32.324Z"
   },
   {
    "duration": 23,
    "start_time": "2022-12-27T18:55:32.330Z"
   },
   {
    "duration": 21,
    "start_time": "2022-12-27T18:55:32.355Z"
   },
   {
    "duration": 36,
    "start_time": "2022-12-27T18:55:32.378Z"
   },
   {
    "duration": 12,
    "start_time": "2022-12-27T18:55:32.417Z"
   },
   {
    "duration": 8,
    "start_time": "2022-12-27T18:55:32.431Z"
   },
   {
    "duration": 15,
    "start_time": "2022-12-27T18:55:32.441Z"
   },
   {
    "duration": 57,
    "start_time": "2023-01-12T10:37:03.128Z"
   },
   {
    "duration": 7,
    "start_time": "2023-01-12T10:37:04.106Z"
   }
  ],
  "kernelspec": {
   "display_name": "Python 3 (ipykernel)",
   "language": "python",
   "name": "python3"
  },
  "language_info": {
   "codemirror_mode": {
    "name": "ipython",
    "version": 3
   },
   "file_extension": ".py",
   "mimetype": "text/x-python",
   "name": "python",
   "nbconvert_exporter": "python",
   "pygments_lexer": "ipython3",
   "version": "3.9.8"
  },
  "toc": {
   "base_numbering": 1,
   "nav_menu": {},
   "number_sections": true,
   "sideBar": true,
   "skip_h1_title": true,
   "title_cell": "Table of Contents",
   "title_sidebar": "Contents",
   "toc_cell": false,
   "toc_position": {
    "height": "calc(100% - 180px)",
    "left": "10px",
    "top": "150px",
    "width": "238.188px"
   },
   "toc_section_display": true,
   "toc_window_display": true
  }
 },
 "nbformat": 4,
 "nbformat_minor": 2
}
