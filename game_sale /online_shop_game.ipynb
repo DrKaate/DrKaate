{
 "cells": [
  {
   "cell_type": "markdown",
   "metadata": {},
   "source": [
    "# Исследование данных интернет-магазина игр\n",
    "\n",
    "Международный интернет-магазин \"Стримчик\", занимается продажей компьютерных игр. Перед нами исторические данные из открытых источников, включающие в себя информацию о продажах игр, оценки пользователей и экспертов, жанры и платформы (например, Xbox или PlayStation). Перед нами стоит задача: выявить закономерности, определяющие успешность игры, что позволит сделать ставку на потенциально популярный продукт и спланировать рекламные кампании. Нам доступны данные до 2016 года."
   ]
  },
  {
   "cell_type": "markdown",
   "metadata": {},
   "source": [
    "Описание данных:"
   ]
  },
  {
   "cell_type": "markdown",
   "metadata": {},
   "source": [
    "- `Name` — название игры\n",
    "- `Platform` — платформа\n",
    "- `Year_of_Release` — год выпуска\n",
    "- `Genre` — жанр игры\n",
    "- `NA_sales` — продажи в Северной Америке (миллионы проданных копий)\n",
    "- `EU_sales` — продажи в Европе (миллионы проданных копий)\n",
    "- `JP_sales` — продажи в Японии (миллионы проданных копий)\n",
    "- `Other_sales` — продажи в других странах (миллионы проданных копий)\n",
    "- `Critic_Score` — оценка критиков (максимум 100)\n",
    "- `User_Score` — оценка пользователей (максимум 10)\n",
    "- `Rating` — рейтинг от ассоциации ESRB (англ. Entertainment Software Rating Board). Согласно данному рейтингу определяются возрастные ограничения, игре присваивается возрастная категория."
   ]
  },
  {
   "cell_type": "markdown",
   "metadata": {},
   "source": [
    "## Откроем файл с данными и изучим общую информацию.\n",
    "Импортируем необходимые библиотеки, считываем данные из csv-файла в датафрейм и сохраняем в переменную data."
   ]
  },
  {
   "cell_type": "code",
   "execution_count": 2,
   "metadata": {},
   "outputs": [],
   "source": [
    "import pandas as pd\n",
    "import seaborn as sns\n",
    "import pylab as pl\n",
    "import numpy as np\n",
    "import plotly.graph_objs as go\n",
    "import matplotlib.pyplot as plt\n",
    "%matplotlib inline\n",
    "\n",
    "from matplotlib.ticker import FuncFormatter\n",
    "from scipy import stats as sts\n",
    "\n"
   ]
  },
  {
   "cell_type": "code",
   "execution_count": 3,
   "metadata": {},
   "outputs": [],
   "source": [
    "try:\n",
    "    data = pd.read_csv('datasets/games.csv')\n",
    "except:\n",
    "    data = pd.read_csv('https://code.s3.yandex.net/datasets/games.csv')"
   ]
  },
  {
   "cell_type": "markdown",
   "metadata": {},
   "source": [
    "Выведем первые 10 строчек датафрейма data на экран"
   ]
  },
  {
   "cell_type": "code",
   "execution_count": 4,
   "metadata": {},
   "outputs": [
    {
     "data": {
      "text/html": [
       "<div>\n",
       "<style scoped>\n",
       "    .dataframe tbody tr th:only-of-type {\n",
       "        vertical-align: middle;\n",
       "    }\n",
       "\n",
       "    .dataframe tbody tr th {\n",
       "        vertical-align: top;\n",
       "    }\n",
       "\n",
       "    .dataframe thead th {\n",
       "        text-align: right;\n",
       "    }\n",
       "</style>\n",
       "<table border=\"1\" class=\"dataframe\">\n",
       "  <thead>\n",
       "    <tr style=\"text-align: right;\">\n",
       "      <th></th>\n",
       "      <th>Name</th>\n",
       "      <th>Platform</th>\n",
       "      <th>Year_of_Release</th>\n",
       "      <th>Genre</th>\n",
       "      <th>NA_sales</th>\n",
       "      <th>EU_sales</th>\n",
       "      <th>JP_sales</th>\n",
       "      <th>Other_sales</th>\n",
       "      <th>Critic_Score</th>\n",
       "      <th>User_Score</th>\n",
       "      <th>Rating</th>\n",
       "    </tr>\n",
       "  </thead>\n",
       "  <tbody>\n",
       "    <tr>\n",
       "      <th>0</th>\n",
       "      <td>Wii Sports</td>\n",
       "      <td>Wii</td>\n",
       "      <td>2006.0</td>\n",
       "      <td>Sports</td>\n",
       "      <td>41.36</td>\n",
       "      <td>28.96</td>\n",
       "      <td>3.77</td>\n",
       "      <td>8.45</td>\n",
       "      <td>76.0</td>\n",
       "      <td>8</td>\n",
       "      <td>E</td>\n",
       "    </tr>\n",
       "    <tr>\n",
       "      <th>1</th>\n",
       "      <td>Super Mario Bros.</td>\n",
       "      <td>NES</td>\n",
       "      <td>1985.0</td>\n",
       "      <td>Platform</td>\n",
       "      <td>29.08</td>\n",
       "      <td>3.58</td>\n",
       "      <td>6.81</td>\n",
       "      <td>0.77</td>\n",
       "      <td>NaN</td>\n",
       "      <td>NaN</td>\n",
       "      <td>NaN</td>\n",
       "    </tr>\n",
       "    <tr>\n",
       "      <th>2</th>\n",
       "      <td>Mario Kart Wii</td>\n",
       "      <td>Wii</td>\n",
       "      <td>2008.0</td>\n",
       "      <td>Racing</td>\n",
       "      <td>15.68</td>\n",
       "      <td>12.76</td>\n",
       "      <td>3.79</td>\n",
       "      <td>3.29</td>\n",
       "      <td>82.0</td>\n",
       "      <td>8.3</td>\n",
       "      <td>E</td>\n",
       "    </tr>\n",
       "    <tr>\n",
       "      <th>3</th>\n",
       "      <td>Wii Sports Resort</td>\n",
       "      <td>Wii</td>\n",
       "      <td>2009.0</td>\n",
       "      <td>Sports</td>\n",
       "      <td>15.61</td>\n",
       "      <td>10.93</td>\n",
       "      <td>3.28</td>\n",
       "      <td>2.95</td>\n",
       "      <td>80.0</td>\n",
       "      <td>8</td>\n",
       "      <td>E</td>\n",
       "    </tr>\n",
       "    <tr>\n",
       "      <th>4</th>\n",
       "      <td>Pokemon Red/Pokemon Blue</td>\n",
       "      <td>GB</td>\n",
       "      <td>1996.0</td>\n",
       "      <td>Role-Playing</td>\n",
       "      <td>11.27</td>\n",
       "      <td>8.89</td>\n",
       "      <td>10.22</td>\n",
       "      <td>1.00</td>\n",
       "      <td>NaN</td>\n",
       "      <td>NaN</td>\n",
       "      <td>NaN</td>\n",
       "    </tr>\n",
       "  </tbody>\n",
       "</table>\n",
       "</div>"
      ],
      "text/plain": [
       "                       Name Platform  Year_of_Release         Genre  NA_sales  \\\n",
       "0                Wii Sports      Wii           2006.0        Sports     41.36   \n",
       "1         Super Mario Bros.      NES           1985.0      Platform     29.08   \n",
       "2            Mario Kart Wii      Wii           2008.0        Racing     15.68   \n",
       "3         Wii Sports Resort      Wii           2009.0        Sports     15.61   \n",
       "4  Pokemon Red/Pokemon Blue       GB           1996.0  Role-Playing     11.27   \n",
       "\n",
       "   EU_sales  JP_sales  Other_sales  Critic_Score User_Score Rating  \n",
       "0     28.96      3.77         8.45          76.0          8      E  \n",
       "1      3.58      6.81         0.77           NaN        NaN    NaN  \n",
       "2     12.76      3.79         3.29          82.0        8.3      E  \n",
       "3     10.93      3.28         2.95          80.0          8      E  \n",
       "4      8.89     10.22         1.00           NaN        NaN    NaN  "
      ]
     },
     "execution_count": 4,
     "metadata": {},
     "output_type": "execute_result"
    }
   ],
   "source": [
    "data.head(5)"
   ]
  },
  {
   "cell_type": "markdown",
   "metadata": {},
   "source": [
    "Выведем основную информацию о датафрейме:"
   ]
  },
  {
   "cell_type": "code",
   "execution_count": 5,
   "metadata": {},
   "outputs": [
    {
     "name": "stdout",
     "output_type": "stream",
     "text": [
      "<class 'pandas.core.frame.DataFrame'>\n",
      "RangeIndex: 16715 entries, 0 to 16714\n",
      "Data columns (total 11 columns):\n",
      " #   Column           Non-Null Count  Dtype  \n",
      "---  ------           --------------  -----  \n",
      " 0   Name             16713 non-null  object \n",
      " 1   Platform         16715 non-null  object \n",
      " 2   Year_of_Release  16446 non-null  float64\n",
      " 3   Genre            16713 non-null  object \n",
      " 4   NA_sales         16715 non-null  float64\n",
      " 5   EU_sales         16715 non-null  float64\n",
      " 6   JP_sales         16715 non-null  float64\n",
      " 7   Other_sales      16715 non-null  float64\n",
      " 8   Critic_Score     8137 non-null   float64\n",
      " 9   User_Score       10014 non-null  object \n",
      " 10  Rating           9949 non-null   object \n",
      "dtypes: float64(6), object(5)\n",
      "memory usage: 1.4+ MB\n"
     ]
    }
   ],
   "source": [
    "data.info()"
   ]
  },
  {
   "cell_type": "code",
   "execution_count": 6,
   "metadata": {},
   "outputs": [
    {
     "data": {
      "image/png": "[encoded data removed]",
      "text/plain": [
       "<Figure size 700x1200 with 6 Axes>"
      ]
     },
     "metadata": {},
     "output_type": "display_data"
    }
   ],
   "source": [
    "data.hist(figsize=(7, 12), color='#86bf91', rwidth=0.9);"
   ]
  },
  {
   "cell_type": "code",
   "execution_count": 6,
   "metadata": {},
   "outputs": [
    {
     "data": {
      "image/png": "[encoded data removed]",
      "text/plain": [
       "<Figure size 432x288 with 2 Axes>"
      ]
     },
     "metadata": {
      "needs_background": "light"
     },
     "output_type": "display_data"
    }
   ],
   "source": [
    "sns.heatmap(data.corr());"
   ]
  },
  {
   "cell_type": "markdown",
   "metadata": {},
   "source": [
    "`В датафрейме 11 столбцов и 16715 строк, в некоторых встречаютя пропуски.` В последующих шагах заменим пропуски, где это необходимо. Кроме того, `измененим тип данных` в столбцах: год выпуска *(float->int)*, оценки пользователей *(object->float)*. И займемся более детальным изучением корреляции факторов, влияющих на успешность игры.\n",
    "\n",
    "*Займемся предобработкой данных:*"
   ]
  },
  {
   "cell_type": "markdown",
   "metadata": {},
   "source": [
    "## Предобработка данных"
   ]
  },
  {
   "cell_type": "markdown",
   "metadata": {},
   "source": [
    "Поменяем стиль заголовков:"
   ]
  },
  {
   "cell_type": "code",
   "execution_count": 7,
   "metadata": {},
   "outputs": [
    {
     "name": "stdout",
     "output_type": "stream",
     "text": [
      "Index(['Name', 'Platform', 'Year_of_Release', 'Genre', 'NA_sales', 'EU_sales',\n",
      "       'JP_sales', 'Other_sales', 'Critic_Score', 'User_Score', 'Rating'],\n",
      "      dtype='object')\n"
     ]
    }
   ],
   "source": [
    "# перечень названий столбцов таблицы data \n",
    "print(data.columns) "
   ]
  },
  {
   "cell_type": "code",
   "execution_count": 8,
   "metadata": {},
   "outputs": [
    {
     "data": {
      "text/plain": [
       "Index(['name', 'platform', 'year_of_release', 'genre', 'na_sales', 'eu_sales',\n",
       "       'jp_sales', 'other_sales', 'critic_score', 'user_score', 'rating'],\n",
       "      dtype='object')"
      ]
     },
     "execution_count": 8,
     "metadata": {},
     "output_type": "execute_result"
    }
   ],
   "source": [
    "# приведем названия столбцов к нижнему регистру\n",
    "data.columns = data.columns.str.lower()\n",
    "# проверим, как изменились названия\n",
    "data.columns"
   ]
  },
  {
   "cell_type": "markdown",
   "metadata": {},
   "source": [
    "Приведем к нижнему регистру столбцы `'name','platform','genre','rating'` этим же шагом избавимся от возможных дубликатов (связанных с регистром)"
   ]
  },
  {
   "cell_type": "code",
   "execution_count": 9,
   "metadata": {},
   "outputs": [],
   "source": [
    "for column in data[['name','platform','genre','rating']]:\n",
    "    data[column] = data[column].str.lower()"
   ]
  },
  {
   "cell_type": "markdown",
   "metadata": {},
   "source": [
    "Определим количество пропущенных значений в каждом столбце:"
   ]
  },
  {
   "cell_type": "code",
   "execution_count": 10,
   "metadata": {},
   "outputs": [
    {
     "data": {
      "text/plain": [
       "name                  2\n",
       "platform              0\n",
       "year_of_release     269\n",
       "genre                 2\n",
       "na_sales              0\n",
       "eu_sales              0\n",
       "jp_sales              0\n",
       "other_sales           0\n",
       "critic_score       8578\n",
       "user_score         6701\n",
       "rating             6766\n",
       "dtype: int64"
      ]
     },
     "execution_count": 10,
     "metadata": {},
     "output_type": "execute_result"
    }
   ],
   "source": [
    "data.isna().sum()"
   ]
  },
  {
   "cell_type": "markdown",
   "metadata": {},
   "source": [
    "Определим процентное соотношение пропусков в каждом столбце:"
   ]
  },
  {
   "cell_type": "code",
   "execution_count": 11,
   "metadata": {},
   "outputs": [],
   "source": [
    "data_pct =[]\n",
    "data_pct_name = []\n",
    "for col in data:\n",
    "    pct = np.mean(data[col].isnull()) \n",
    "    data_pct_name.append(col)\n",
    "    data_pct.append(pct*100)\n",
    "\n",
    "df_pct = pd.DataFrame(data_pct, index = data_pct_name, columns = ['%'])"
   ]
  },
  {
   "cell_type": "code",
   "execution_count": 12,
   "metadata": {},
   "outputs": [
    {
     "data": {
      "text/html": [
       "<style  type=\"text/css\" >\n",
       "#T_1ae19_row0_col0,#T_1ae19_row2_col0,#T_1ae19_row3_col0,#T_1ae19_row8_col0,#T_1ae19_row9_col0,#T_1ae19_row10_col0{\n",
       "            background-color:  #023858;\n",
       "            color:  #f1f1f1;\n",
       "        }#T_1ae19_row1_col0,#T_1ae19_row4_col0,#T_1ae19_row5_col0,#T_1ae19_row6_col0,#T_1ae19_row7_col0{\n",
       "            background-color:  #fff7fb;\n",
       "            color:  #000000;\n",
       "        }</style><table id=\"T_1ae19_\" ><thead>    <tr>        <th class=\"blank level0\" ></th>        <th class=\"col_heading level0 col0\" >%</th>    </tr></thead><tbody>\n",
       "                <tr>\n",
       "                        <th id=\"T_1ae19_level0_row0\" class=\"row_heading level0 row0\" >name</th>\n",
       "                        <td id=\"T_1ae19_row0_col0\" class=\"data row0 col0\" >0.011965</td>\n",
       "            </tr>\n",
       "            <tr>\n",
       "                        <th id=\"T_1ae19_level0_row1\" class=\"row_heading level0 row1\" >platform</th>\n",
       "                        <td id=\"T_1ae19_row1_col0\" class=\"data row1 col0\" >0.000000</td>\n",
       "            </tr>\n",
       "            <tr>\n",
       "                        <th id=\"T_1ae19_level0_row2\" class=\"row_heading level0 row2\" >year_of_release</th>\n",
       "                        <td id=\"T_1ae19_row2_col0\" class=\"data row2 col0\" >1.609333</td>\n",
       "            </tr>\n",
       "            <tr>\n",
       "                        <th id=\"T_1ae19_level0_row3\" class=\"row_heading level0 row3\" >genre</th>\n",
       "                        <td id=\"T_1ae19_row3_col0\" class=\"data row3 col0\" >0.011965</td>\n",
       "            </tr>\n",
       "            <tr>\n",
       "                        <th id=\"T_1ae19_level0_row4\" class=\"row_heading level0 row4\" >na_sales</th>\n",
       "                        <td id=\"T_1ae19_row4_col0\" class=\"data row4 col0\" >0.000000</td>\n",
       "            </tr>\n",
       "            <tr>\n",
       "                        <th id=\"T_1ae19_level0_row5\" class=\"row_heading level0 row5\" >eu_sales</th>\n",
       "                        <td id=\"T_1ae19_row5_col0\" class=\"data row5 col0\" >0.000000</td>\n",
       "            </tr>\n",
       "            <tr>\n",
       "                        <th id=\"T_1ae19_level0_row6\" class=\"row_heading level0 row6\" >jp_sales</th>\n",
       "                        <td id=\"T_1ae19_row6_col0\" class=\"data row6 col0\" >0.000000</td>\n",
       "            </tr>\n",
       "            <tr>\n",
       "                        <th id=\"T_1ae19_level0_row7\" class=\"row_heading level0 row7\" >other_sales</th>\n",
       "                        <td id=\"T_1ae19_row7_col0\" class=\"data row7 col0\" >0.000000</td>\n",
       "            </tr>\n",
       "            <tr>\n",
       "                        <th id=\"T_1ae19_level0_row8\" class=\"row_heading level0 row8\" >critic_score</th>\n",
       "                        <td id=\"T_1ae19_row8_col0\" class=\"data row8 col0\" >51.319174</td>\n",
       "            </tr>\n",
       "            <tr>\n",
       "                        <th id=\"T_1ae19_level0_row9\" class=\"row_heading level0 row9\" >user_score</th>\n",
       "                        <td id=\"T_1ae19_row9_col0\" class=\"data row9 col0\" >40.089740</td>\n",
       "            </tr>\n",
       "            <tr>\n",
       "                        <th id=\"T_1ae19_level0_row10\" class=\"row_heading level0 row10\" >rating</th>\n",
       "                        <td id=\"T_1ae19_row10_col0\" class=\"data row10 col0\" >40.478612</td>\n",
       "            </tr>\n",
       "    </tbody></table>"
      ],
      "text/plain": [
       "<pandas.io.formats.style.Styler at 0x7f3a264e3070>"
      ]
     },
     "execution_count": 12,
     "metadata": {},
     "output_type": "execute_result"
    }
   ],
   "source": [
    "df_pct.style.background_gradient(cmap = 'PuBu', text_color_threshold = 0.48,\\\n",
    "                                 vmin = 0.00001, vmax = 0.0001, axis=0)"
   ]
  },
  {
   "cell_type": "code",
   "execution_count": 13,
   "metadata": {},
   "outputs": [
    {
     "data": {
      "text/plain": [
       "(16715, 11)"
      ]
     },
     "execution_count": 13,
     "metadata": {},
     "output_type": "execute_result"
    }
   ],
   "source": [
    "data.shape"
   ]
  },
  {
   "cell_type": "markdown",
   "metadata": {},
   "source": [
    "Займемся обработкой пропусков:"
   ]
  },
  {
   "cell_type": "markdown",
   "metadata": {},
   "source": [
    "в столбцах `name` и `genre` из 16715 строк в 2 встречаются пропуски (много меньше 1%), поэтому строки с пропусками в названии игры и названии жанра можем удалить.  "
   ]
  },
  {
   "cell_type": "code",
   "execution_count": 14,
   "metadata": {},
   "outputs": [],
   "source": [
    "data = data.dropna(subset=['name','genre'])"
   ]
  },
  {
   "cell_type": "code",
   "execution_count": 15,
   "metadata": {},
   "outputs": [
    {
     "data": {
      "text/plain": [
       "(16713, 11)"
      ]
     },
     "execution_count": 15,
     "metadata": {},
     "output_type": "execute_result"
    }
   ],
   "source": [
    "data.shape # во избежание ошибок, проверим, сколько строк удалилось"
   ]
  },
  {
   "cell_type": "markdown",
   "metadata": {},
   "source": [
    "Аналогично для столбца `year_of_release` 269 пропусков, относительно нашего датафрейма это меньше 1%. Кроме того, встречаются столбцы, где пропущен не только год выспуска, но и показатели оценки критиков, пользователей, а так же рейтинг. При заполнении выше перечисленных столбцов синтетическими значениями (например, медианой или средним) увеличивается риск искажения результатов исследования. Поэтому на данном этапе удалим строки с пропусками в столбце `year_of_release`"
   ]
  },
  {
   "cell_type": "code",
   "execution_count": 16,
   "metadata": {},
   "outputs": [
    {
     "data": {
      "text/html": [
       "<div>\n",
       "<style scoped>\n",
       "    .dataframe tbody tr th:only-of-type {\n",
       "        vertical-align: middle;\n",
       "    }\n",
       "\n",
       "    .dataframe tbody tr th {\n",
       "        vertical-align: top;\n",
       "    }\n",
       "\n",
       "    .dataframe thead th {\n",
       "        text-align: right;\n",
       "    }\n",
       "</style>\n",
       "<table border=\"1\" class=\"dataframe\">\n",
       "  <thead>\n",
       "    <tr style=\"text-align: right;\">\n",
       "      <th></th>\n",
       "      <th>name</th>\n",
       "      <th>platform</th>\n",
       "      <th>year_of_release</th>\n",
       "      <th>genre</th>\n",
       "      <th>na_sales</th>\n",
       "      <th>eu_sales</th>\n",
       "      <th>jp_sales</th>\n",
       "      <th>other_sales</th>\n",
       "      <th>critic_score</th>\n",
       "      <th>user_score</th>\n",
       "      <th>rating</th>\n",
       "    </tr>\n",
       "  </thead>\n",
       "  <tbody>\n",
       "    <tr>\n",
       "      <th>183</th>\n",
       "      <td>madden nfl 2004</td>\n",
       "      <td>ps2</td>\n",
       "      <td>NaN</td>\n",
       "      <td>sports</td>\n",
       "      <td>4.26</td>\n",
       "      <td>0.26</td>\n",
       "      <td>0.01</td>\n",
       "      <td>0.71</td>\n",
       "      <td>94.0</td>\n",
       "      <td>8.5</td>\n",
       "      <td>e</td>\n",
       "    </tr>\n",
       "    <tr>\n",
       "      <th>377</th>\n",
       "      <td>fifa soccer 2004</td>\n",
       "      <td>ps2</td>\n",
       "      <td>NaN</td>\n",
       "      <td>sports</td>\n",
       "      <td>0.59</td>\n",
       "      <td>2.36</td>\n",
       "      <td>0.04</td>\n",
       "      <td>0.51</td>\n",
       "      <td>84.0</td>\n",
       "      <td>6.4</td>\n",
       "      <td>e</td>\n",
       "    </tr>\n",
       "    <tr>\n",
       "      <th>456</th>\n",
       "      <td>lego batman: the videogame</td>\n",
       "      <td>wii</td>\n",
       "      <td>NaN</td>\n",
       "      <td>action</td>\n",
       "      <td>1.80</td>\n",
       "      <td>0.97</td>\n",
       "      <td>0.00</td>\n",
       "      <td>0.29</td>\n",
       "      <td>74.0</td>\n",
       "      <td>7.9</td>\n",
       "      <td>e10+</td>\n",
       "    </tr>\n",
       "    <tr>\n",
       "      <th>475</th>\n",
       "      <td>wwe smackdown vs. raw 2006</td>\n",
       "      <td>ps2</td>\n",
       "      <td>NaN</td>\n",
       "      <td>fighting</td>\n",
       "      <td>1.57</td>\n",
       "      <td>1.02</td>\n",
       "      <td>0.00</td>\n",
       "      <td>0.41</td>\n",
       "      <td>NaN</td>\n",
       "      <td>NaN</td>\n",
       "      <td>NaN</td>\n",
       "    </tr>\n",
       "    <tr>\n",
       "      <th>609</th>\n",
       "      <td>space invaders</td>\n",
       "      <td>2600</td>\n",
       "      <td>NaN</td>\n",
       "      <td>shooter</td>\n",
       "      <td>2.36</td>\n",
       "      <td>0.14</td>\n",
       "      <td>0.00</td>\n",
       "      <td>0.03</td>\n",
       "      <td>NaN</td>\n",
       "      <td>NaN</td>\n",
       "      <td>NaN</td>\n",
       "    </tr>\n",
       "  </tbody>\n",
       "</table>\n",
       "</div>"
      ],
      "text/plain": [
       "                           name platform  year_of_release     genre  na_sales  \\\n",
       "183             madden nfl 2004      ps2              NaN    sports      4.26   \n",
       "377            fifa soccer 2004      ps2              NaN    sports      0.59   \n",
       "456  lego batman: the videogame      wii              NaN    action      1.80   \n",
       "475  wwe smackdown vs. raw 2006      ps2              NaN  fighting      1.57   \n",
       "609              space invaders     2600              NaN   shooter      2.36   \n",
       "\n",
       "     eu_sales  jp_sales  other_sales  critic_score user_score rating  \n",
       "183      0.26      0.01         0.71          94.0        8.5      e  \n",
       "377      2.36      0.04         0.51          84.0        6.4      e  \n",
       "456      0.97      0.00         0.29          74.0        7.9   e10+  \n",
       "475      1.02      0.00         0.41           NaN        NaN    NaN  \n",
       "609      0.14      0.00         0.03           NaN        NaN    NaN  "
      ]
     },
     "execution_count": 16,
     "metadata": {},
     "output_type": "execute_result"
    }
   ],
   "source": [
    "data.loc[data['year_of_release'].isnull()].head(5)"
   ]
  },
  {
   "cell_type": "code",
   "execution_count": 17,
   "metadata": {},
   "outputs": [
    {
     "data": {
      "text/plain": [
       "(16444, 11)"
      ]
     },
     "execution_count": 17,
     "metadata": {},
     "output_type": "execute_result"
    }
   ],
   "source": [
    "data = data.dropna(subset=['year_of_release'])\n",
    "data.shape # во избежание ошибок, проверим, сколько строк удалилось"
   ]
  },
  {
   "cell_type": "markdown",
   "metadata": {},
   "source": [
    "Остались пропуски в столбцах:`critic_score`, `user_score`, `rating`.\n",
    "Начнем с рейтинга\n"
   ]
  },
  {
   "cell_type": "code",
   "execution_count": 18,
   "metadata": {},
   "outputs": [
    {
     "data": {
      "text/plain": [
       "array(['e', nan, 'm', 't', 'e10+', 'k-a', 'ao', 'ec', 'rp'], dtype=object)"
      ]
     },
     "execution_count": 18,
     "metadata": {},
     "output_type": "execute_result"
    }
   ],
   "source": [
    "data['rating'].unique() # определим уникальные значения столбца"
   ]
  },
  {
   "cell_type": "code",
   "execution_count": 19,
   "metadata": {},
   "outputs": [
    {
     "data": {
      "text/plain": [
       "e       3921\n",
       "t       2905\n",
       "m       1536\n",
       "e10+    1393\n",
       "ec         8\n",
       "k-a        3\n",
       "rp         1\n",
       "ao         1\n",
       "Name: rating, dtype: int64"
      ]
     },
     "execution_count": 19,
     "metadata": {},
     "output_type": "execute_result"
    }
   ],
   "source": [
    "data['rating'].value_counts()"
   ]
  },
  {
   "cell_type": "markdown",
   "metadata": {},
   "source": [
    "- «EC» («Early childhood») — «Для детей младшего возраста»\n",
    "- «E» («Everyone») — «Для всех»`Первоначально \"K-A\" (\"Kids to Adults\")` **поэтому можем играм с рейтингом k-a присвоить рейтинг e**\n",
    "- «E10+» («Everyone 10 and older») — «Для всех от 10 лет и старше»\n",
    "- «T» («Teen») — «Подросткам»\n",
    "- «M» («Mature») — «Для взрослых»\n",
    "- «AO» («Adults Only 18+») \n",
    "- «RP» («Rating Pending») — «Рейтинг ожидается»"
   ]
  },
  {
   "cell_type": "code",
   "execution_count": 20,
   "metadata": {},
   "outputs": [],
   "source": [
    "# k-a = e \n",
    "data['rating'] = data['rating'].replace({'k-a':'e'}) "
   ]
  },
  {
   "cell_type": "code",
   "execution_count": 21,
   "metadata": {},
   "outputs": [
    {
     "data": {
      "text/plain": [
       "6676"
      ]
     },
     "execution_count": 21,
     "metadata": {},
     "output_type": "execute_result"
    }
   ],
   "source": [
    "data['rating'].isna().sum() # количество пропускоы в столбце"
   ]
  },
  {
   "cell_type": "markdown",
   "metadata": {},
   "source": [
    "За счет устранения пропусков в уже обработанных столбцах, количество пропущенных значений в столбце `rating` уменьшилось, рассчитаем долю пропусков:"
   ]
  },
  {
   "cell_type": "code",
   "execution_count": 22,
   "metadata": {},
   "outputs": [
    {
     "data": {
      "text/plain": [
       "0.40598394551204087"
      ]
     },
     "execution_count": 22,
     "metadata": {},
     "output_type": "execute_result"
    }
   ],
   "source": [
    "data['rating'].isna().mean() # доля"
   ]
  },
  {
   "cell_type": "markdown",
   "metadata": {},
   "source": [
    "Для исследования того, как отсутствие рейтинга игры влияет на покупательские способности, заменим пропуски в столбцах с указанием рейтинга на `no_rating`, так как пропуски в данном столбце могли появиться по причине отсутствия такового у некоторых игр. \n",
    "\n",
    "*Ассоциации ESRB (англ. Entertainment Software Rating Board), присваивающая возраствую категорию, была основана в 1994 году, и не всем играм, выпущенным ранее(до 1994 года), был присвое рейтинг.*\n"
   ]
  },
  {
   "cell_type": "code",
   "execution_count": 23,
   "metadata": {},
   "outputs": [
    {
     "data": {
      "text/plain": [
       "(16444, 11)"
      ]
     },
     "execution_count": 23,
     "metadata": {},
     "output_type": "execute_result"
    }
   ],
   "source": [
    "data['rating'] = data['rating'].fillna('no_rating')\n",
    "data.shape # во избежание ошибок, проверим, количество строк и столбцов"
   ]
  },
  {
   "cell_type": "markdown",
   "metadata": {},
   "source": [
    "Перейдем к пропускам в столбцах: `user_score`, `critic_score`"
   ]
  },
  {
   "cell_type": "code",
   "execution_count": 24,
   "metadata": {},
   "outputs": [
    {
     "data": {
      "text/plain": [
       "array(['8', nan, '8.3', '8.5', '6.6', '8.4', '8.6', '7.7', '6.3', '7.4',\n",
       "       '8.2', '9', '7.9', '8.1', '8.7', '7.1', '3.4', '5.3', '4.8', '3.2',\n",
       "       '8.9', '6.4', '7.8', '7.5', '2.6', '7.2', '9.2', '7', '7.3', '4.3',\n",
       "       '7.6', '5.7', '5', '9.1', '6.5', 'tbd', '8.8', '6.9', '9.4', '6.8',\n",
       "       '6.1', '6.7', '5.4', '4', '4.9', '4.5', '9.3', '6.2', '4.2', '6',\n",
       "       '3.7', '4.1', '5.8', '5.6', '5.5', '4.4', '4.6', '5.9', '3.9',\n",
       "       '3.1', '2.9', '5.2', '3.3', '4.7', '5.1', '3.5', '2.5', '1.9', '3',\n",
       "       '2.7', '2.2', '2', '9.5', '2.1', '3.6', '2.8', '1.8', '3.8', '0',\n",
       "       '1.6', '9.6', '2.4', '1.7', '1.1', '0.3', '1.5', '0.7', '1.2',\n",
       "       '2.3', '0.5', '1.3', '0.2', '0.6', '1.4', '0.9', '1', '9.7'],\n",
       "      dtype=object)"
      ]
     },
     "execution_count": 24,
     "metadata": {},
     "output_type": "execute_result"
    }
   ],
   "source": [
    "data['user_score'].unique()"
   ]
  },
  {
   "cell_type": "markdown",
   "metadata": {},
   "source": [
    "В столбце с оценкой пользователей встречается аббревиатура `'tbd'`, что значит `'To Be Determined' - 'Будет определено'`. Следовательно `'tbd'` = неизвестное значение, `меняем на 'NaN'`."
   ]
  },
  {
   "cell_type": "code",
   "execution_count": 25,
   "metadata": {},
   "outputs": [
    {
     "data": {
      "text/plain": [
       "0.5461566528825104"
      ]
     },
     "execution_count": 25,
     "metadata": {},
     "output_type": "execute_result"
    }
   ],
   "source": [
    "data['user_score'] = data['user_score'].replace('tbd', np.nan, regex=True)\n",
    "data['user_score'].isna().mean() # определим долю пропусков в столбце"
   ]
  },
  {
   "cell_type": "code",
   "execution_count": 26,
   "metadata": {},
   "outputs": [
    {
     "data": {
      "text/plain": [
       "array([76., nan, 82., 80., 89., 58., 87., 91., 61., 97., 95., 77., 88.,\n",
       "       83., 94., 93., 85., 86., 98., 96., 90., 84., 73., 74., 78., 92.,\n",
       "       71., 72., 68., 62., 49., 67., 81., 66., 56., 79., 70., 59., 64.,\n",
       "       75., 60., 63., 69., 50., 25., 42., 44., 55., 48., 57., 29., 47.,\n",
       "       65., 54., 20., 53., 37., 38., 33., 52., 30., 32., 43., 45., 51.,\n",
       "       40., 46., 39., 34., 41., 36., 31., 27., 35., 26., 19., 28., 23.,\n",
       "       24., 21., 17., 13.])"
      ]
     },
     "execution_count": 26,
     "metadata": {},
     "output_type": "execute_result"
    }
   ],
   "source": [
    "data['critic_score'].unique()"
   ]
  },
  {
   "cell_type": "markdown",
   "metadata": {},
   "source": [
    "Градация оценок критиков для видеоигр обычно от 0 - 10, приведем значения стоблца в привычный вид"
   ]
  },
  {
   "cell_type": "code",
   "execution_count": 27,
   "metadata": {},
   "outputs": [
    {
     "data": {
      "text/plain": [
       "array([7.6, nan, 8.2, 8. , 8.9, 5.8, 8.7, 9.1, 6.1, 9.7, 9.5, 7.7, 8.8,\n",
       "       8.3, 9.4, 9.3, 8.5, 8.6, 9.8, 9.6, 9. , 8.4, 7.3, 7.4, 7.8, 9.2,\n",
       "       7.1, 7.2, 6.8, 6.2, 4.9, 6.7, 8.1, 6.6, 5.6, 7.9, 7. , 5.9, 6.4,\n",
       "       7.5, 6. , 6.3, 6.9, 5. , 2.5, 4.2, 4.4, 5.5, 4.8, 5.7, 2.9, 4.7,\n",
       "       6.5, 5.4, 2. , 5.3, 3.7, 3.8, 3.3, 5.2, 3. , 3.2, 4.3, 4.5, 5.1,\n",
       "       4. , 4.6, 3.9, 3.4, 4.1, 3.6, 3.1, 2.7, 3.5, 2.6, 1.9, 2.8, 2.3,\n",
       "       2.4, 2.1, 1.7, 1.3])"
      ]
     },
     "execution_count": 27,
     "metadata": {},
     "output_type": "execute_result"
    }
   ],
   "source": [
    "data['critic_score'] = data['critic_score'] * 0.1\n",
    "data['critic_score'].unique()"
   ]
  },
  {
   "cell_type": "code",
   "execution_count": 28,
   "metadata": {},
   "outputs": [
    {
     "data": {
      "text/plain": [
       "0.5145341765993675"
      ]
     },
     "execution_count": 28,
     "metadata": {},
     "output_type": "execute_result"
    }
   ],
   "source": [
    "data['critic_score'].isna().mean() # определим долю пропусков в столбце"
   ]
  },
  {
   "cell_type": "markdown",
   "metadata": {},
   "source": [
    "В столбцах с оценками более 50% пропущенных ячеек. \n",
    "Что, вероятно, связанос тем, что пользователи не всегда охотно оставляют оценки, а для получение оценки критиков - платная процедура и разработчики не всегда на это идут.\n",
    "\n",
    "Поэтому: заменить пропуски синтетическими значениями мы не можем, удалить значения с пропусками тоже, это повлияет на анализ,  заменим пропущенные значения в обоих столбцах маркером (например -1, значением, не встречающемся в столбцах)"
   ]
  },
  {
   "cell_type": "code",
   "execution_count": 29,
   "metadata": {},
   "outputs": [
    {
     "data": {
      "text/plain": [
       "(16444, 11)"
      ]
     },
     "execution_count": 29,
     "metadata": {},
     "output_type": "execute_result"
    }
   ],
   "source": [
    "data['user_score'] = data['user_score'].fillna(-1)\n",
    "data['critic_score'] = data['critic_score'].fillna(-1)\n",
    "data.shape # во избежание ошибок, проверим, количество строк и столбцов"
   ]
  },
  {
   "cell_type": "markdown",
   "metadata": {},
   "source": [
    "**Важно!** `в дальнейших шагах: при построении графиков, определении корреляции индикаторные значения исключаем`"
   ]
  },
  {
   "cell_type": "markdown",
   "metadata": {},
   "source": [
    "Преобразуем данные столбцов `year_of_release` и `user_score` в нужные типы. \n",
    "- год выпуска - целое число, меняем  *float -> int* \n",
    "- оценки пользователей меняем на вещественный тип *object -> float*"
   ]
  },
  {
   "cell_type": "code",
   "execution_count": 30,
   "metadata": {},
   "outputs": [],
   "source": [
    "# меняем типы данных столбцов \n",
    "data['year_of_release'] = np.floor(pd.to_numeric\\\n",
    "                                 (data['year_of_release'], errors='coerce')).astype('Int64')\n",
    "data['user_score'] = np.floor(pd.to_numeric\\\n",
    "                                 (data['user_score'], errors='coerce')).astype('float64')"
   ]
  },
  {
   "cell_type": "markdown",
   "metadata": {},
   "source": [
    "Посчитаем суммарные продажи во всех регионах и запишите их в новый, отдельный столбец `total_sales`."
   ]
  },
  {
   "cell_type": "code",
   "execution_count": 31,
   "metadata": {},
   "outputs": [],
   "source": [
    "data['total_sales'] = data[['na_sales','eu_sales','jp_sales', 'other_sales']].sum(axis = 1) "
   ]
  },
  {
   "cell_type": "markdown",
   "metadata": {},
   "source": [
    "Еще раз проверим количество пропусков в данных:"
   ]
  },
  {
   "cell_type": "code",
   "execution_count": 32,
   "metadata": {},
   "outputs": [
    {
     "data": {
      "text/plain": [
       "name               0\n",
       "platform           0\n",
       "year_of_release    0\n",
       "genre              0\n",
       "na_sales           0\n",
       "eu_sales           0\n",
       "jp_sales           0\n",
       "other_sales        0\n",
       "critic_score       0\n",
       "user_score         0\n",
       "rating             0\n",
       "total_sales        0\n",
       "dtype: int64"
      ]
     },
     "execution_count": 32,
     "metadata": {},
     "output_type": "execute_result"
    }
   ],
   "source": [
    "data.isna().sum()"
   ]
  },
  {
   "cell_type": "markdown",
   "metadata": {},
   "source": [
    "**Пропуски устранены.**\n",
    "\n",
    "Проверим наличие `дубликатов`:"
   ]
  },
  {
   "cell_type": "code",
   "execution_count": 33,
   "metadata": {},
   "outputs": [
    {
     "data": {
      "text/plain": [
       "0"
      ]
     },
     "execution_count": 33,
     "metadata": {},
     "output_type": "execute_result"
    }
   ],
   "source": [
    "# посчитаем явные дубликаты в датафрейме\n",
    "data.duplicated().sum()"
   ]
  },
  {
   "cell_type": "code",
   "execution_count": 34,
   "metadata": {},
   "outputs": [
    {
     "data": {
      "text/plain": [
       "2"
      ]
     },
     "execution_count": 34,
     "metadata": {},
     "output_type": "execute_result"
    }
   ],
   "source": [
    "# посчитаем неявные дубликаты, с совпадениями в имени, плотформе и году выпуска \n",
    "data.duplicated(subset=['name','platform', 'year_of_release'],keep=False).sum()"
   ]
  },
  {
   "cell_type": "markdown",
   "metadata": {},
   "source": [
    "обнаружено всего 2 дубликата, они не повлияют на результаты анализа"
   ]
  },
  {
   "cell_type": "markdown",
   "metadata": {},
   "source": [
    "**`Данные подготовлены к дальнейшему анализу:`**\n",
    "- изменили формат сстолбцов\n",
    "- обработали пропуски (*в столбцах name, year_of_release, genre  пропуски были удалены в виду небольшого количества, данный шаг не влияет на результаты исследования*)\n",
    "- там, где это возможно, заменили пропущенные значения(*в столбцах critic_score и user_score более 50% значний пропущены, заменили пропуски на маркеры*)\n",
    "- определили вероятные причины пропусков данных\n",
    "- добавили столбец с суммарными продажами во всех регионах\n",
    "- определили дубликаты в таблице"
   ]
  },
  {
   "cell_type": "markdown",
   "metadata": {},
   "source": [
    "## Исследовательский анализ данных\n",
    "\n",
    "Выясним, сколько игр выпускалось в разные годы:"
   ]
  },
  {
   "cell_type": "code",
   "execution_count": 35,
   "metadata": {},
   "outputs": [
    {
     "data": {
      "text/html": [
       "<div>\n",
       "<style scoped>\n",
       "    .dataframe tbody tr th:only-of-type {\n",
       "        vertical-align: middle;\n",
       "    }\n",
       "\n",
       "    .dataframe tbody tr th {\n",
       "        vertical-align: top;\n",
       "    }\n",
       "\n",
       "    .dataframe thead th {\n",
       "        text-align: right;\n",
       "    }\n",
       "</style>\n",
       "<table border=\"1\" class=\"dataframe\">\n",
       "  <thead>\n",
       "    <tr style=\"text-align: right;\">\n",
       "      <th></th>\n",
       "      <th>name</th>\n",
       "    </tr>\n",
       "    <tr>\n",
       "      <th>year_of_release</th>\n",
       "      <th></th>\n",
       "    </tr>\n",
       "  </thead>\n",
       "  <tbody>\n",
       "    <tr>\n",
       "      <th>2016</th>\n",
       "      <td>502</td>\n",
       "    </tr>\n",
       "    <tr>\n",
       "      <th>2015</th>\n",
       "      <td>606</td>\n",
       "    </tr>\n",
       "    <tr>\n",
       "      <th>2014</th>\n",
       "      <td>581</td>\n",
       "    </tr>\n",
       "    <tr>\n",
       "      <th>2013</th>\n",
       "      <td>544</td>\n",
       "    </tr>\n",
       "    <tr>\n",
       "      <th>2012</th>\n",
       "      <td>653</td>\n",
       "    </tr>\n",
       "    <tr>\n",
       "      <th>2011</th>\n",
       "      <td>1136</td>\n",
       "    </tr>\n",
       "    <tr>\n",
       "      <th>2010</th>\n",
       "      <td>1255</td>\n",
       "    </tr>\n",
       "    <tr>\n",
       "      <th>2009</th>\n",
       "      <td>1426</td>\n",
       "    </tr>\n",
       "    <tr>\n",
       "      <th>2008</th>\n",
       "      <td>1427</td>\n",
       "    </tr>\n",
       "    <tr>\n",
       "      <th>2007</th>\n",
       "      <td>1197</td>\n",
       "    </tr>\n",
       "    <tr>\n",
       "      <th>2006</th>\n",
       "      <td>1006</td>\n",
       "    </tr>\n",
       "    <tr>\n",
       "      <th>2005</th>\n",
       "      <td>939</td>\n",
       "    </tr>\n",
       "    <tr>\n",
       "      <th>2004</th>\n",
       "      <td>762</td>\n",
       "    </tr>\n",
       "    <tr>\n",
       "      <th>2003</th>\n",
       "      <td>775</td>\n",
       "    </tr>\n",
       "    <tr>\n",
       "      <th>2002</th>\n",
       "      <td>829</td>\n",
       "    </tr>\n",
       "    <tr>\n",
       "      <th>2001</th>\n",
       "      <td>482</td>\n",
       "    </tr>\n",
       "    <tr>\n",
       "      <th>2000</th>\n",
       "      <td>350</td>\n",
       "    </tr>\n",
       "    <tr>\n",
       "      <th>1999</th>\n",
       "      <td>338</td>\n",
       "    </tr>\n",
       "    <tr>\n",
       "      <th>1998</th>\n",
       "      <td>379</td>\n",
       "    </tr>\n",
       "    <tr>\n",
       "      <th>1997</th>\n",
       "      <td>289</td>\n",
       "    </tr>\n",
       "    <tr>\n",
       "      <th>1996</th>\n",
       "      <td>263</td>\n",
       "    </tr>\n",
       "    <tr>\n",
       "      <th>1995</th>\n",
       "      <td>219</td>\n",
       "    </tr>\n",
       "    <tr>\n",
       "      <th>1994</th>\n",
       "      <td>121</td>\n",
       "    </tr>\n",
       "    <tr>\n",
       "      <th>1993</th>\n",
       "      <td>60</td>\n",
       "    </tr>\n",
       "    <tr>\n",
       "      <th>1992</th>\n",
       "      <td>43</td>\n",
       "    </tr>\n",
       "    <tr>\n",
       "      <th>1991</th>\n",
       "      <td>41</td>\n",
       "    </tr>\n",
       "    <tr>\n",
       "      <th>1990</th>\n",
       "      <td>16</td>\n",
       "    </tr>\n",
       "    <tr>\n",
       "      <th>1989</th>\n",
       "      <td>17</td>\n",
       "    </tr>\n",
       "    <tr>\n",
       "      <th>1988</th>\n",
       "      <td>15</td>\n",
       "    </tr>\n",
       "    <tr>\n",
       "      <th>1987</th>\n",
       "      <td>16</td>\n",
       "    </tr>\n",
       "    <tr>\n",
       "      <th>1986</th>\n",
       "      <td>21</td>\n",
       "    </tr>\n",
       "    <tr>\n",
       "      <th>1985</th>\n",
       "      <td>14</td>\n",
       "    </tr>\n",
       "    <tr>\n",
       "      <th>1984</th>\n",
       "      <td>14</td>\n",
       "    </tr>\n",
       "    <tr>\n",
       "      <th>1983</th>\n",
       "      <td>17</td>\n",
       "    </tr>\n",
       "    <tr>\n",
       "      <th>1982</th>\n",
       "      <td>36</td>\n",
       "    </tr>\n",
       "    <tr>\n",
       "      <th>1981</th>\n",
       "      <td>46</td>\n",
       "    </tr>\n",
       "    <tr>\n",
       "      <th>1980</th>\n",
       "      <td>9</td>\n",
       "    </tr>\n",
       "  </tbody>\n",
       "</table>\n",
       "</div>"
      ],
      "text/plain": [
       "                 name\n",
       "year_of_release      \n",
       "2016              502\n",
       "2015              606\n",
       "2014              581\n",
       "2013              544\n",
       "2012              653\n",
       "2011             1136\n",
       "2010             1255\n",
       "2009             1426\n",
       "2008             1427\n",
       "2007             1197\n",
       "2006             1006\n",
       "2005              939\n",
       "2004              762\n",
       "2003              775\n",
       "2002              829\n",
       "2001              482\n",
       "2000              350\n",
       "1999              338\n",
       "1998              379\n",
       "1997              289\n",
       "1996              263\n",
       "1995              219\n",
       "1994              121\n",
       "1993               60\n",
       "1992               43\n",
       "1991               41\n",
       "1990               16\n",
       "1989               17\n",
       "1988               15\n",
       "1987               16\n",
       "1986               21\n",
       "1985               14\n",
       "1984               14\n",
       "1983               17\n",
       "1982               36\n",
       "1981               46\n",
       "1980                9"
      ]
     },
     "execution_count": 35,
     "metadata": {},
     "output_type": "execute_result"
    }
   ],
   "source": [
    "data.groupby('year_of_release').agg({'name': 'count'})\\\n",
    ".sort_values('year_of_release', ascending=False)"
   ]
  },
  {
   "cell_type": "markdown",
   "metadata": {},
   "source": [
    "Для наглядности построим график распределения продаж видеоигр по годам:"
   ]
  },
  {
   "cell_type": "code",
   "execution_count": 36,
   "metadata": {},
   "outputs": [
    {
     "data": {
      "image/png": "[encoded data removed]",
      "text/plain": [
       "<Figure size 2160x720 with 1 Axes>"
      ]
     },
     "metadata": {},
     "output_type": "display_data"
    }
   ],
   "source": [
    "sns.set_style('darkgrid')\n",
    "sns.set_context('poster')\n",
    "games_by_year = data.pivot_table(index='year_of_release', values='name', aggfunc='count')\n",
    "plt.figure(figsize=(30,10))\n",
    "sns.lineplot(data=games_by_year)\n",
    "plt.title('\\n Распределение продаж по годам', size=40)\n",
    "plt.xlabel('\\n Год', size=28)\n",
    "plt.ylabel('кол-во игр', size=28)\n",
    "plt.legend('');"
   ]
  },
  {
   "cell_type": "markdown",
   "metadata": {},
   "source": [
    "С 1980-1993 количество проданных игр в год  исчислялось в десятках, с 1994 года наблюдаем заметный рост продаж, с скачком в 2002 году и максимальным значением в 2008-2009 годы, после количество продаж видеоигр снова идет на спад. \n",
    "\n",
    "Наиболее важными для нас являются данные с 2000 года, именно в этом периоде мы определили значительное развитие рынка видеоигр. \n",
    "\n",
    "`Посмотрим, как менялись продажи по платформам:`\n",
    "Выделим платформы с наибольшими суммарными продажами:"
   ]
  },
  {
   "cell_type": "code",
   "execution_count": 37,
   "metadata": {},
   "outputs": [
    {
     "data": {
      "image/png": "[encoded data removed]",
      "text/plain": [
       "<Figure size 2160x720 with 1 Axes>"
      ]
     },
     "metadata": {},
     "output_type": "display_data"
    }
   ],
   "source": [
    "# Построим график распределения продажи игр по платформам\n",
    "sns.set_style('darkgrid')\n",
    "plt.figure(figsize=(30, 10))\n",
    "top = data.pivot_table(index='platform', values='total_sales', aggfunc='sum')\\\n",
    ".sort_values(by='total_sales', ascending=False)\n",
    "sns.barplot(x = top.index, y = top['total_sales'],\\\n",
    "            palette=sns.color_palette(\"Spectral\", 48))\n",
    "plt.xticks(rotation = 90)\n",
    "plt.title('\\n Рарспределение продаж по платформам', size=40)\n",
    "plt.xlabel('\\n Платформа', size=28)\n",
    "plt.ylabel('Видеоигр, млн. ', size=28);\n"
   ]
  },
  {
   "cell_type": "code",
   "execution_count": 38,
   "metadata": {},
   "outputs": [
    {
     "data": {
      "text/plain": [
       "['ps2', 'x360', 'ps3', 'wii', 'ds', 'ps']"
      ]
     },
     "execution_count": 38,
     "metadata": {},
     "output_type": "execute_result"
    }
   ],
   "source": [
    "# выборем 6 платформ с наибольшими суммарными продажами\n",
    "top_platforms = top[:6].index.tolist()\n",
    "top_platforms "
   ]
  },
  {
   "cell_type": "markdown",
   "metadata": {},
   "source": [
    "`Построим распределение по годам:`"
   ]
  },
  {
   "cell_type": "code",
   "execution_count": null,
   "metadata": {},
   "outputs": [],
   "source": [
    "# как мы уже определили ранее, значимым для нашего анализа является отрезок времени с начала 2000\n",
    "\n",
    "data_2000 = data[data['year_of_release']>=2000]\n",
    "dt = []\n",
    "for platform in top_platforms:\n",
    "    dt.append(\n",
    "        go.Bar(x=data_2000[data_2000.platform==platform].groupby(\"year_of_release\")\\\n",
    "               ['total_sales'].sum().index, \n",
    "               y=data[data.platform==platform].groupby(\"year_of_release\")\\\n",
    "               ['total_sales'].sum(),\n",
    "               name=platform)\n",
    "              )\n",
    "\n",
    "fig = go.Figure(data=dt, layout={'title': 'Распределение продаж по годам - топ 6 платформ'}, skip_invalid=True)\n",
    "fig.show()"
   ]
  },
  {
   "cell_type": "markdown",
   "metadata": {},
   "source": [
    "Мы визуализировали `распределение продаж видеоигр на 6 самых популярных платформах по годам`. \n",
    "\n",
    "Как заметно из графика - платформы появляются, постепенно набирают популярность, а после, замещаются более современными игровыми консолями. Исходя из графика, видно, что этот процесс занимает около `10 лет`, затем приставки устаревают, игры выпускают и продают уже на новые модели.\n",
    "\n",
    "Для прогноза на 2017 год, `актуальным периодом для нас будет 2006-2016 гг.` Данные за предыдущие годы можем не учитывать. "
   ]
  },
  {
   "cell_type": "code",
   "execution_count": null,
   "metadata": {},
   "outputs": [],
   "source": [
    "# для прогноза на 2017 актуальными будут данные за период с 2014-2016 года \n",
    "data_2014 = data[data['year_of_release']>=2014]\n",
    "dt = []\n",
    "for platform in top_platforms:\n",
    "    dt.append(\n",
    "        go.Bar(x=data_2014[data_2014.platform==platform].groupby(\"year_of_release\")\\\n",
    "               ['total_sales'].sum().index, \n",
    "               y=data[data.platform==platform].groupby(\"year_of_release\")\\\n",
    "               ['total_sales'].sum(),\n",
    "               name=platform)\n",
    "              )\n",
    "\n",
    "fig = go.Figure(data=dt, layout={'title': 'Распределение продаж по годам - топ 6 платформ'}, skip_invalid=True)\n",
    "fig.show()"
   ]
  },
  {
   "cell_type": "markdown",
   "metadata": {},
   "source": [
    "Определим, какие платформы лидируют по продажам."
   ]
  },
  {
   "cell_type": "code",
   "execution_count": null,
   "metadata": {},
   "outputs": [],
   "source": [
    "df = []\n",
    "# начиная с 2006 года выведем распределение количества игр на различных платформах\n",
    "for platform in data_2014['platform'].unique():\n",
    "    df.append(\n",
    "        go.Scatter(x=data_2014[data_2014.platform==platform]\\\n",
    "                   .groupby(\"year_of_release\")['total_sales'].sum().index,\n",
    "               y=data_2014[data_2014.platform==platform]\\\n",
    "                   .groupby(\"year_of_release\")['total_sales'].sum(),\n",
    "               name=platform)\n",
    "    )\n",
    "\n",
    "    \n",
    "fig = go.Figure(data=df,\\\n",
    "                layout={'title': \\\n",
    "                        'Распределение продаж млн.шт. видеоигр на различных платформах c 2014-2016гг.'})\n",
    "fig.show()"
   ]
  },
  {
   "cell_type": "markdown",
   "metadata": {},
   "source": [
    "К 2016 году продажи видеоигр на всех платформах падают, наиболее прибыльными на интересующий нас момент являются `ps4 с продажами 69.25 млн. экзкмпляров` в 2016, `xone - 26.16 млн. экзкмпляров`, `3dc - 15.14 млн. экзкмпляров`, `pcv - 4.25млн. экзкмпляров`. Кроме того четко прослеживается заметное падение к 2013 году и в том же году появляются игры на платформах ps4 и xb. Сузим актуальный период для прогноза на 2017 год до 3 предыдущих лет.\n",
    "\n",
    "Построим график по глобальным продажам игр в разбивке по платформам:"
   ]
  },
  {
   "cell_type": "code",
   "execution_count": null,
   "metadata": {},
   "outputs": [],
   "source": [
    "df = []\n",
    "\n",
    "for platform in data_2014['platform'].unique():\n",
    "    df.append(go.Box(y=data_2013[data_2013.platform==platform]['total_sales'],\\\n",
    "               name=platform ))\n",
    "    \n",
    "fig = go.Figure(data=df, layout={'title': 'График глобальных продаж игр в разбивке по платформам'})\n",
    "fig.update_layout(yaxis=dict(range=[0, 4.5])) \n"
   ]
  },
  {
   "cell_type": "markdown",
   "metadata": {},
   "source": [
    "Наибольшая медиана продаж в интересующем нас периоде у платформы `x360 (равно 0.265)`, далее следует `xone (медиана 0.22)`, следом за ней с небольшим отрывом `ps4 и wiiu (медиана 0.2)`. Отметим, что в данных встречается достаточно много выбивающихся значений, что связано с большей популярностью какой-то определенной игры, относительно остальных.\n",
    "\n",
    "**На основании данных одной платформы** (выберем `x360`, так как у нее самая высокая медиана продаж с 2013-2016гг.) **определим, как влияют на продажи отзывы пользователей и критиков:**\n",
    "\n",
    "Построим диаграмму рассеяния."
   ]
  },
  {
   "cell_type": "code",
   "execution_count": null,
   "metadata": {},
   "outputs": [],
   "source": [
    "# обращаем внимание на значения-маркеры, которыми мы заполнили пропуски в столбцах с отзывами\n",
    "# исключим эти значения из анализа\n",
    "x360_score = data_2013.query('platform == \"x360\"')\n",
    "\n",
    "x360_score[x360_score['critic_score'] != -1].plot(kind='scatter', x='critic_score',\\\n",
    "        y='total_sales', color='orange')\n",
    "plt.xlabel('Оценка критиков', fontsize=15)\n",
    "plt.ylabel('Общие продажи', fontsize=15)\n",
    "plt.title('Зависимость продаж от оценки критиков плотформы x360', fontsize=18)\n",
    "\n",
    "x360_score[x360_score['user_score'] != -1].plot(kind='scatter', x='user_score',\\\n",
    "        y='total_sales', color='forestgreen')\n",
    "plt.xlabel('Оценка пользователей', fontsize=15)\n",
    "plt.ylabel('Общие продажи', fontsize=15)\n",
    "plt.title('Зависимость продаж от оценки пользователей плотформы x360', fontsize=18);\n"
   ]
  },
  {
   "cell_type": "markdown",
   "metadata": {},
   "source": [
    "\n",
    "\n",
    "**Посчитаем корреляцию между отзывами и продажами:**"
   ]
  },
  {
   "cell_type": "code",
   "execution_count": null,
   "metadata": {},
   "outputs": [],
   "source": [
    "x360_score[(x360_score['critic_score'] != -1) & (x360_score['user_score'] != -1)]\\\n",
    " [['critic_score', 'user_score', 'total_sales']].corr()"
   ]
  },
  {
   "cell_type": "markdown",
   "metadata": {},
   "source": [
    "Наблюдаем слабую положительную корреляцию между оценками критиков и общими продажами, а так же между оценками критиков и оценками пользователей. При этом, оценки пользователей с продажами не коррелируют.\n",
    "\n",
    "Соотнесем полученные результаты с продажами игр на других платформах:"
   ]
  },
  {
   "cell_type": "code",
   "execution_count": null,
   "metadata": {},
   "outputs": [],
   "source": [
    "for platform in ['ps4', 'xone', 'wiiu']:\n",
    "    print('\\n{0}:'.format(platform))\n",
    "    for column in ['user_score', 'critic_score']:\n",
    "        temp = data_2013.query('platform == platform and user_score >= 0 & critic_score >= 0')\n",
    "        print('{0} и total_sales: {1}'.\\\n",
    "              format(column, round(temp[column]).corr(temp['total_sales']), 2))\n"
   ]
  },
  {
   "cell_type": "markdown",
   "metadata": {},
   "source": [
    "Аналогично предыдущему замечанию: наблюдаем слабую положительную связь между оценкой критиков и продажами, оценки пользователей, при этом, не коррелируют с объемом продаж. "
   ]
  },
  {
   "cell_type": "markdown",
   "metadata": {},
   "source": [
    "**Определим, как распределяются игры по жанрам:**"
   ]
  },
  {
   "cell_type": "code",
   "execution_count": null,
   "metadata": {},
   "outputs": [],
   "source": [
    "pt_genre = data_2013.pivot_table(index = ['genre'], values = 'total_sales',\\\n",
    "    aggfunc = 'mean').reset_index().sort_values(by = 'total_sales',ascending = False)\n",
    "\n",
    "plt.figure(figsize=(24, 10))\n",
    "sns.set(style=\"darkgrid\")\n",
    "sns.barplot(x = pt_genre['genre'], y = pt_genre['total_sales'])\n",
    "plt.xlabel('Жанры', fontsize=20)\n",
    "plt.ylabel('Общие продажи', fontsize=20)\n",
    "plt.title('Зависимость уровня продаж от жанра', fontsize=35);\n"
   ]
  },
  {
   "cell_type": "markdown",
   "metadata": {},
   "source": [
    "Согласно распределению, за актуальный период, самым прибыльным жанром является `shooter`, следующий по доходности жанр с объемом продаж меньшим практически в 2 раза  - `sports`, за ним следуют `platform`и `role-playing`. Самый низкий уровень продаж у игр жанва `adventure`."
   ]
  },
  {
   "cell_type": "markdown",
   "metadata": {},
   "source": [
    "**Нами был проведен исследовательский анализ данных:**\n",
    "- Выяснили, какое количество игр выпускалось в разные годы. С 1980-1993 количество проданных игр в год  исчислялось в десятках, с 1994 года наблюдаем заметный рост продаж, с скачком в 2002 году и максимальным значением в 2008-2009 годы, после количество продаж видеоигр снова идет на спад. \n",
    "- Определили, что с 2000 года происходило значительное развитие рынка видеоигр. \n",
    "- Выделим платформы с наибольшими суммарными продажами:\n",
    "- Визуализировали распределение продаж видеоигр на 6 самых популярных платформах по годам. Заметили, что  платформы появляются, постепенно набирают популярность, а после, замещаются более современными игровыми консолями. Данный процесс занимает около 10 лет, затем приставки устаревают, а игры выпускают и продают уже на новые модели.\n",
    "- Определили актуальный период для прогноза на 2017 год: нас это 2006-2016 гг. Данные за предыдущие годы можем не учитывать. \n",
    "- Узнали, какие платформы лидируют по продажам. К 2016 году продажи видеоигр на всех платформах падают, наиболее прибыльными на интересующий нас момент являются ps4 с продажами 69.25 млн. экзкмпляров в 2016, xone - 26.16 млн. экзкмпляров, 3dc - 15.14 млн. экзкмпляров, pcv - 4.25млн. экзкмпляров. Кроме того четко прослеживается заметное падение к 2013 году и в том же году появляются игры на платформах ps4 и xb. Сузили актуальный период для прогноза на 2017 год до 3 предыдущих лет.\n",
    "- Построили график продаж игр в разбивке по платформам: Наибольшая медиана продаж в интересующем нас периоде у платформы x360 (равно 0.265), далее следует xone (медиана 0.22), следом за ней с небольшим отрывом ps4 и wiiu (медиана 0.2). Отметим, что в данных встречается достаточно много выбивающихся значений, что связано с большей популярностью какой-то определенной игры, относительно остальных.\n",
    "- Определили влияние на продажи отзывов пользователей и критиков: наблюдается слабая положительная корреляцию между оценками критиков и общими продажами, а так же между оценками критиков и оценками пользователей. При этом, оценки пользователей с продажами не коррелируют."
   ]
  },
  {
   "cell_type": "markdown",
   "metadata": {},
   "source": [
    "## Составление портрета пользователя каждого региона"
   ]
  },
  {
   "cell_type": "markdown",
   "metadata": {},
   "source": [
    "`Выделим топ-5 самых популярных платформ по регионам за актуальный период:`"
   ]
  },
  {
   "cell_type": "code",
   "execution_count": null,
   "metadata": {},
   "outputs": [],
   "source": [
    "# топ-5 в Северной Америке\n",
    "na_platform = data_2013.groupby('platform')['na_sales'].sum().sort_values(ascending=False)[:5]\n",
    "# топ-5 в Европе\n",
    "eu_platform = data_2013.groupby('platform')['eu_sales'].sum().sort_values(ascending=False)[:5]\n",
    "# топ-5 в Японии\n",
    "jp_platform = data_2013.groupby('platform')['jp_sales'].sum().sort_values(ascending=False)[:5]\n",
    "\n",
    "fig, (ax1, ax2, ax3) = plt.subplots(1, 3, figsize=(20,4))\n",
    "plt.suptitle('Распределение топ-5 самых популярных платформ по регионам:', y=1.08, fontsize=20)\n",
    "\n",
    "ax1.bar(na_platform.index.tolist(), na_platform)\n",
    "ax1.set_title(\"Северная Америка\", fontsize=18)\n",
    "\n",
    "ax2.bar(eu_platform.index.tolist(), eu_platform)\n",
    "ax2.set_title(\"Европа\", fontsize=18)\n",
    "\n",
    "ax3.bar(jp_platform.index.tolist(), jp_platform)\n",
    "ax3.set_title(\"Япония\", fontsize=18)\n",
    "\n",
    "plt.show()"
   ]
  },
  {
   "cell_type": "markdown",
   "metadata": {},
   "source": [
    "Как видно из графиков: лидирующую позицию в Северной Америке и Европе за последние 3 года, занимает ps4, в то время, как в Японии данная платформа лишь на 4 месте по популярности, самая популярная 3ds. Любопытно заметить, что в NA и EU 3ds лишь на 5 месте, отметим, что топ-5 рейтинги этих регионов представлены одними и теми же платформами, в то время, как из 5 самых популярных платформ JP 2 позиции отличаются от выбора европейцев и североамериканцев. \n",
    "\n",
    "Остановимся на различиях в долях продаж игр на 5 самых популярных платформах каждого региона:"
   ]
  },
  {
   "cell_type": "markdown",
   "metadata": {},
   "source": [
    "В **Северной Америке** четверть продаж приходится на ps4, остальные платформы расположились с небольшим, примерно одинаковым отрывом друг от друга - xone, x360, ps3 и 3ds соответственно.\n",
    "\n",
    "В **Европе** около 40% продаж игр на платформе ps4, на втором месте примерно на 20% продаж приходится на игры платформы ps3, далее с небольшим отрывом между собой следуют: xone, x360 и 3ds.\n",
    "\n",
    "В **Японии** картина кардинально меняется: половина продаж на платформе 3ds, примерно пятая часть за вторым местом,- ps3, далее с небольшим отрывом psv (не попавшая в топ 5 предыдущих регионов), затем ps4 и wiiu(так же не вошедшая в рейтинг самых популярных платформ Северной Америки и Европы).\n",
    "\n",
    "\n",
    "`Определим, как отличаются рейтинги 5 самых популярных жанров по регионам:`"
   ]
  },
  {
   "cell_type": "code",
   "execution_count": null,
   "metadata": {},
   "outputs": [],
   "source": [
    "# топ-5 в Северной Америке\n",
    "na_genre = data_2013.groupby('genre')['na_sales'].sum().sort_values(ascending=False)[:5]\n",
    "# топ-5 в Европе\n",
    "eu_genre = data_2013.groupby('genre')['eu_sales'].sum().sort_values(ascending=False)[:5]\n",
    "# топ-5 в Японии\n",
    "jp_genre = data_2013.groupby('genre')['jp_sales'].sum().sort_values(ascending=False)[:5]\n",
    "\n",
    "fig, (ax1, ax2, ax3) = plt.subplots(1, 3, figsize=(20,4))\n",
    "plt.suptitle('Распределение топ-5 самых популярных жанров по регионам:', y=1.08, fontsize=20)\n",
    "ax1.bar(na_genre.index.tolist(), na_genre, color='darksalmon')\n",
    "ax1.set_title(\"Северная Америка\", fontsize=18)\n",
    "\n",
    "ax2.bar(eu_genre.index.tolist(), eu_genre, color='darksalmon')\n",
    "ax2.set_title(\"Европа\", fontsize=18)\n",
    "\n",
    "ax3.bar(jp_genre.index.tolist(), jp_genre, color='darksalmon')\n",
    "ax3.set_title(\"Япония\", fontsize=18)\n",
    "\n",
    "plt.show()"
   ]
  },
  {
   "cell_type": "markdown",
   "metadata": {},
   "source": [
    "Распределения топ-4 самых популярных видеоигр по жанрам в Северной Америке и Европе совпсовпадают: на первом месте жанр action, затем shooter, после sports и role-playing, на пятом месте в NA misc, а в EU - racing.\n",
    "\n",
    "В то время, как в Японии самым популярным жанром стал role-playing (четвертый по популярности в выше описаных регионах), за ним следует action - лидер в NA и EU, затем misc, fighting  и shooter соответственно.\n",
    "\n",
    "`Определим, влияет ли рейтинг ESRB на продажи в каждом регионе:`"
   ]
  },
  {
   "cell_type": "code",
   "execution_count": null,
   "metadata": {},
   "outputs": [],
   "source": [
    "for region in ['eu_sales', 'na_sales', 'jp_sales']:\n",
    "    plt.figure(figsize = (20,5))\n",
    "    \n",
    "    region_ersb = data_2013.pivot_table(index = 'rating', values = region,\\\n",
    "                aggfunc = 'sum').sort_values(by = region, ascending = False).reset_index()    \n",
    "    sns.barplot(data = region_ersb, x = 'rating', y = region)\n",
    "    plt.xlabel('Рейтинг', fontsize=18)\n",
    "    plt.ylabel('Продажи', fontsize=18)\n",
    "    if region == 'eu_sales':\n",
    "        plt.title('Европа', fontsize=23)\n",
    "    elif region == 'na_sales':\n",
    "        plt.title('Северная Америка', fontsize=23)\n",
    "    else: plt.title('Япония', fontsize=23)\n",
    "    plt.show()"
   ]
  },
  {
   "cell_type": "markdown",
   "metadata": {},
   "source": [
    "Как описывалось ранее:\n",
    "- «EC» («Early childhood») — «Для детей младшего возраста»\n",
    "- «E» («Everyone») — «Для всех»`Первоначально \"K-A\" (\"Kids to Adults\")` \n",
    "- «E10+» («Everyone 10 and older») — «Для всех от 10 лет и старше»\n",
    "- «T» («Teen») — «Подросткам»\n",
    "- «M» («Mature») — «Для взрослых»\n",
    "- «AO» («Adults Only 18+») \n",
    "- «RP» («Rating Pending») — «Рейтинг ожидается»\n",
    "- «no_rating» - видеоигры без рейтинга\n",
    "\n",
    "\n",
    "В Европе и Северной Америке лидируют продажи игр с рейтингом «M» («Mature») — «Для взрослых», а в Японии лучше продаются игры без рейтинга, что, вероятно связано с популярностью в Японии игр на 3ds."
   ]
  },
  {
   "cell_type": "markdown",
   "metadata": {},
   "source": [
    "## Проверка гипотез"
   ]
  },
  {
   "cell_type": "markdown",
   "metadata": {},
   "source": [
    "### Проверим гипотезы:\n",
    "\n",
    "\n",
    "**H0:** \n",
    "`среднее значение генеральной совокупности PC `**`равно`**` среднему значению генеральной совокупности Xbox One`\n",
    "\n",
    "\n",
    "**H1:** \n",
    "`среднее значение генеральной совокупности PC `**`не равно`**` среднему значению генеральной совокупности Xbox One`\n",
    "\n",
    "\n",
    "*при уровне статистической значимости 0.05*"
   ]
  },
  {
   "cell_type": "code",
   "execution_count": null,
   "metadata": {},
   "outputs": [],
   "source": [
    "xone_sample = data_2013.query('platform == \"xone\" and user_score != -1')['user_score']\n",
    "ps_sample = data_2013.query('platform == \"pc\" and user_score != -1')['user_score']\n",
    "\n",
    "alpha = .05 # уровень статистической значимости\n",
    "results = sts.ttest_ind(xone_sample, ps_sample, equal_var=False)\n",
    "\n",
    "print('p-значение:', results.pvalue.round(2))\n",
    "\n",
    "if (results.pvalue < alpha):\n",
    "    print(\"Отвергаем нулевую гипотезу\")\n",
    "else:\n",
    "    print(\"Не получилось отвергнуть нулевую гипотезу\")\n",
    "    "
   ]
  },
  {
   "cell_type": "markdown",
   "metadata": {},
   "source": [
    "**Нулевая гипотеза не отвергнута, а значит, средние пользовательские рейтинги платформ Xbox One и PC равны.**\n",
    "\n",
    "### Проверим гипотезы:\n",
    "\n",
    "\n",
    "**H0:** \n",
    "`Средние пользовательские рейтинги жанров Action (англ. «действие», экшен-игры) и Sports (англ. «спортивные соревнования»)`**`равны`** \n",
    "\n",
    "\n",
    "**H1:** \n",
    "`Средние пользовательские рейтинги жанров Action и Sports `**`разные`**\n",
    "\n",
    "*при уровне статистической значимости 0.05*"
   ]
  },
  {
   "cell_type": "code",
   "execution_count": null,
   "metadata": {},
   "outputs": [],
   "source": [
    "action = data_2013.query('genre == \"action\" and user_score != -1')['user_score']\n",
    "sports = data_2013.query('genre == \"sports\" and user_score != -1')['user_score']\n",
    "\n",
    "\n",
    "results_2 = sts.ttest_ind(action, sports, equal_var=False)\n",
    "\n",
    "print('p-значение:', results.pvalue)\n",
    "\n",
    "if (results.pvalue < alpha):\n",
    "    print(\"Отвергаем нулевую гипотезу\")\n",
    "else:\n",
    "    print(\"Не получилось отвергнуть нулевую гипотезу\")"
   ]
  },
  {
   "cell_type": "markdown",
   "metadata": {},
   "source": [
    "**Нулевая гипотеза не отвергнута, следовательно, средние пользовательские рейтинги жанров Action (англ. «действие», экшен-игры) и Sports (англ. «спортивные соревнования») не отличаются**"
   ]
  },
  {
   "cell_type": "markdown",
   "metadata": {},
   "source": [
    "Для проверки гипотез мы использовали двусторонний тест.\n",
    "\n",
    "Существует два типа проверки гипотез:\n",
    "Односторонний тест : альтернативная гипотеза содержит знак < или >\n",
    "Двусторонний тест : альтернативная гипотеза содержит знак ≠\n",
    "\n",
    "В сформулированных нами гипотезах, альтернативная имеет знак ≠, следовательно целесообразно применять именно двусторонний тест. Мы проверяем, существует ли какой-либо эффект, независимо от того, положительный он или отрицательный."
   ]
  },
  {
   "cell_type": "markdown",
   "metadata": {},
   "source": [
    "## Вывод"
   ]
  },
  {
   "cell_type": "markdown",
   "metadata": {},
   "source": [
    "**Для оценки закономерностей, влияющих на успешность игры, было проведено исследование.\n",
    "Результаты, полученные из анализа позволят сделать ставку на потенциально популярный продукт и спланировать рекламные кампании.**\n",
    "\n",
    "В ходе проведения анализа, мы выяснили что с начала 90-х и до 2009 года количество игр стремительно увеличивалось, после 2009 количество продаж видеоигр снова идет на спад, что, вероятно, связано с развитием мобильных приложений. После визуализации распределния продаж видеоигр на 6 самых популярных платформах по годам. Заметили, что платформы появляются, постепенно набирают популярность, а после, замещаются более современными игровыми консолями. Данный процесс занимает около 10 лет, а \"пик\" продаж наступает через 5 лет, затем приставки устаревают, а игры выпускают и продают уже на новые модели.\n",
    "\n",
    "\n",
    "Определили актуальный период для прогноза на 2017 год: нас это 2006-2016 гг. \n",
    "К 2016 году продажи видеоигр на всех платформах падают, наиболее прибыльными на интересующий нас момент являются ps4 с продажами 69.25 млн. экзкмпляров в 2016, xone - 26.16 млн. экзкмпляров, 3dc - 15.14 млн. экземпляров, pcv - 4.25млн. экзкмпляров. Кроме того четко прослеживается заметное падение к 2013 году и в том же году появляются игры на платформах ps4 и xb. Сузили актуальный период для прогноза на 2017 год до 3 предыдущих лет(2013-2017гг).\n",
    "\n",
    "Построили график продаж игр в разбивке по платформам: наибольшая медиана продаж в интересующем нас периоде у платформы x360 (равно 0.265), далее следует xone (медиана 0.22), следом за ней с небольшим отрывом ps4 и wiiu (медиана 0.2). Отметим, что в данных встречается достаточно много выбивающихся значений, что связано с большей популярностью какой-то определенной игры, относительно остальных.\n",
    "Определили влияние отзывов пользователей и критиков на продажи: наблюдается слабая положительная корреляция между оценками критиков и общими продажами, а так же между оценками критиков и оценками пользователей. При этом, оценки пользователей с продажами не коррелируют. Что указывает на то, что для пользователей не играют значимой роли оценки других пользователей, в то время, как положительные оценки критиков заставляют задуматься о покупке.\n",
    "\n",
    "Согласно распределению, за актуальный период, самым прибыльным жанром является shooter, следующий по доходности жанр с объемом продаж меньшим практически в 2 раза - sports, за ним следуют platformи role-playing. Самый низкий уровень продаж у игр жанра adventure.\n",
    "\n",
    "Так же нами были составлены **портреты пользователей** каждого региона:\n",
    "\n",
    "- Самые популярные `игровые платформы` в **`Северной Америке`**: `ps4, xone, x360, ps3` и `3ds`.    `Топ 5 жанров`: action, shooter, sports, platform, misc. Лидируют продажи игр с `рейтингом` **«M»** *(«Mature») — «Для взрослых»*, на втором месте игры с рейтингом **«E»** («Everyone») — «Для всех» и на третьем месте игры без рейтинга.\n",
    "\n",
    "- Самые популярные `игровые платформы` в **`Европе`**: `ps4, xone, x360` и `3ds`.                   `Топ 5 жанров`: action, shooter, sports, platform, racing. Лидируют продажи игр с `рейтингом` **«M»** *(«Mature») — «Для взрослых»*, на втором месте игры с неизвестным рейтингом, на третьем - с  рейтингом **«E»** («Everyone») — «Для всех».\n",
    "\n",
    "- Самые популярные `игровые платформы` в **`Японии`**: `3ds, ps3, psv, ps4` и `wiiu`. `Топ 5 жанров`: role-playing, action, misc, fighting, shooter. Лидируют продажи игр с неизвестным `рейтингом`, на втором месте игры с рейтингом **«Т»** *(«Teen») — «Подросткам»*, на третьем - с  рейтингом **«E»** («Everyone») — «Для всех».\n",
    "\n",
    "\n",
    "Следовательно, по нашим рассчетам, в **2017 году больше прибыли будут приносить игры** жанра `shooter`, для платформы `PS4` с рейтингом `\"для взрослых\"`. На втором месте по продажам разместятся игры того же жанра, для платформы `PS4` и с рейтингом `\"для всех\"`. Так же прибыльньными будут актуальные по большей мере для пользователей из `Японии`, видеоигры жанра `role-playing` на платформе `3ds`.\n",
    "`Самый низкая доходность предполагается у игр жанра adventure.`\n"
   ]
  }
 ],
 "metadata": {
  "ExecuteTimeLog": [
   {
    "duration": 1204,
    "start_time": "2022-10-20T15:16:53.246Z"
   },
   {
    "duration": 121,
    "start_time": "2022-10-20T15:16:54.451Z"
   },
   {
    "duration": 196,
    "start_time": "2022-10-20T15:17:07.678Z"
   },
   {
    "duration": 18,
    "start_time": "2022-10-20T15:18:00.140Z"
   },
   {
    "duration": 79,
    "start_time": "2022-10-20T15:19:02.701Z"
   },
   {
    "duration": 14,
    "start_time": "2022-10-20T15:19:16.613Z"
   },
   {
    "duration": 695,
    "start_time": "2022-10-20T15:20:18.227Z"
   },
   {
    "duration": 663,
    "start_time": "2022-10-20T15:20:32.087Z"
   },
   {
    "duration": 698,
    "start_time": "2022-10-20T15:20:46.928Z"
   },
   {
    "duration": 597,
    "start_time": "2022-10-20T15:20:57.901Z"
   },
   {
    "duration": 19,
    "start_time": "2022-10-20T15:22:55.987Z"
   },
   {
    "duration": 382,
    "start_time": "2022-10-20T15:23:14.369Z"
   },
   {
    "duration": 283,
    "start_time": "2022-10-20T17:10:29.010Z"
   },
   {
    "duration": 49,
    "start_time": "2022-10-21T09:49:38.181Z"
   },
   {
    "duration": 1289,
    "start_time": "2022-10-21T09:49:47.627Z"
   },
   {
    "duration": 73,
    "start_time": "2022-10-21T09:49:48.921Z"
   },
   {
    "duration": 25,
    "start_time": "2022-10-21T09:49:48.996Z"
   },
   {
    "duration": 16,
    "start_time": "2022-10-21T09:49:49.023Z"
   },
   {
    "duration": 682,
    "start_time": "2022-10-21T09:49:49.041Z"
   },
   {
    "duration": 341,
    "start_time": "2022-10-21T09:49:49.724Z"
   },
   {
    "duration": 4,
    "start_time": "2022-10-21T09:49:50.067Z"
   },
   {
    "duration": 5,
    "start_time": "2022-10-21T09:50:12.442Z"
   },
   {
    "duration": 5,
    "start_time": "2022-10-21T09:55:14.707Z"
   },
   {
    "duration": 6,
    "start_time": "2022-10-21T09:55:36.199Z"
   },
   {
    "duration": 28,
    "start_time": "2022-10-21T09:58:15.931Z"
   },
   {
    "duration": 6,
    "start_time": "2022-10-21T10:09:27.410Z"
   },
   {
    "duration": 7,
    "start_time": "2022-10-21T10:10:15.259Z"
   },
   {
    "duration": 5,
    "start_time": "2022-10-21T10:19:53.753Z"
   },
   {
    "duration": 5,
    "start_time": "2022-10-21T10:20:19.133Z"
   },
   {
    "duration": 98,
    "start_time": "2022-10-21T10:29:00.912Z"
   },
   {
    "duration": 25,
    "start_time": "2022-10-21T10:29:26.850Z"
   },
   {
    "duration": 11,
    "start_time": "2022-10-21T10:36:42.860Z"
   },
   {
    "duration": 9,
    "start_time": "2022-10-21T10:36:52.005Z"
   },
   {
    "duration": 20,
    "start_time": "2022-10-21T10:37:38.410Z"
   },
   {
    "duration": 574,
    "start_time": "2022-10-21T10:39:02.969Z"
   },
   {
    "duration": 383,
    "start_time": "2022-10-21T10:39:59.277Z"
   },
   {
    "duration": 5,
    "start_time": "2022-10-21T10:41:03.233Z"
   },
   {
    "duration": 539,
    "start_time": "2022-10-21T10:41:18.516Z"
   },
   {
    "duration": 774,
    "start_time": "2022-10-21T10:41:38.081Z"
   },
   {
    "duration": 216,
    "start_time": "2022-10-21T10:51:00.882Z"
   },
   {
    "duration": 256,
    "start_time": "2022-10-21T10:52:19.122Z"
   },
   {
    "duration": 313,
    "start_time": "2022-10-21T10:52:29.722Z"
   },
   {
    "duration": 1140,
    "start_time": "2022-10-21T10:53:10.302Z"
   },
   {
    "duration": 45,
    "start_time": "2022-10-21T10:53:11.444Z"
   },
   {
    "duration": 23,
    "start_time": "2022-10-21T10:53:11.491Z"
   },
   {
    "duration": 16,
    "start_time": "2022-10-21T10:53:11.521Z"
   },
   {
    "duration": 606,
    "start_time": "2022-10-21T10:53:11.540Z"
   },
   {
    "duration": 279,
    "start_time": "2022-10-21T10:53:12.148Z"
   },
   {
    "duration": 26,
    "start_time": "2022-10-21T10:53:12.428Z"
   },
   {
    "duration": 3,
    "start_time": "2022-10-21T10:53:12.456Z"
   },
   {
    "duration": 9,
    "start_time": "2022-10-21T10:53:12.460Z"
   },
   {
    "duration": 51,
    "start_time": "2022-10-21T10:53:12.470Z"
   },
   {
    "duration": 0,
    "start_time": "2022-10-21T10:53:12.523Z"
   },
   {
    "duration": 0,
    "start_time": "2022-10-21T10:53:12.524Z"
   },
   {
    "duration": 0,
    "start_time": "2022-10-21T10:53:12.525Z"
   },
   {
    "duration": 0,
    "start_time": "2022-10-21T10:53:12.526Z"
   },
   {
    "duration": 0,
    "start_time": "2022-10-21T10:53:12.527Z"
   },
   {
    "duration": 0,
    "start_time": "2022-10-21T10:53:12.528Z"
   },
   {
    "duration": 0,
    "start_time": "2022-10-21T10:53:12.528Z"
   },
   {
    "duration": 0,
    "start_time": "2022-10-21T10:53:12.529Z"
   },
   {
    "duration": 0,
    "start_time": "2022-10-21T10:53:12.531Z"
   },
   {
    "duration": 29,
    "start_time": "2022-10-21T10:53:30.636Z"
   },
   {
    "duration": 4,
    "start_time": "2022-10-21T10:53:32.139Z"
   },
   {
    "duration": 6,
    "start_time": "2022-10-21T10:53:32.748Z"
   },
   {
    "duration": 5,
    "start_time": "2022-10-21T10:53:35.910Z"
   },
   {
    "duration": 6,
    "start_time": "2022-10-21T10:53:36.134Z"
   },
   {
    "duration": 6,
    "start_time": "2022-10-21T10:53:36.405Z"
   },
   {
    "duration": 5,
    "start_time": "2022-10-21T10:53:36.927Z"
   },
   {
    "duration": 6,
    "start_time": "2022-10-21T10:53:37.592Z"
   },
   {
    "duration": 28,
    "start_time": "2022-10-21T10:53:38.899Z"
   },
   {
    "duration": 243,
    "start_time": "2022-10-21T10:53:39.697Z"
   },
   {
    "duration": 215,
    "start_time": "2022-10-21T10:53:44.526Z"
   },
   {
    "duration": 281,
    "start_time": "2022-10-21T10:54:28.056Z"
   },
   {
    "duration": 92,
    "start_time": "2022-10-21T10:55:30.854Z"
   },
   {
    "duration": 231,
    "start_time": "2022-10-21T10:55:35.376Z"
   },
   {
    "duration": 231,
    "start_time": "2022-10-21T10:55:39.592Z"
   },
   {
    "duration": 38,
    "start_time": "2022-10-21T11:00:25.001Z"
   },
   {
    "duration": 233,
    "start_time": "2022-10-21T11:51:55.480Z"
   },
   {
    "duration": 5,
    "start_time": "2022-10-21T12:09:09.584Z"
   },
   {
    "duration": 66,
    "start_time": "2022-10-21T12:11:45.837Z"
   },
   {
    "duration": 7,
    "start_time": "2022-10-21T12:35:16.017Z"
   },
   {
    "duration": 4,
    "start_time": "2022-10-21T12:37:01.691Z"
   },
   {
    "duration": 48,
    "start_time": "2022-10-21T12:37:10.151Z"
   },
   {
    "duration": 1276,
    "start_time": "2022-10-21T12:37:10.430Z"
   },
   {
    "duration": 42,
    "start_time": "2022-10-21T12:37:11.708Z"
   },
   {
    "duration": 20,
    "start_time": "2022-10-21T12:37:11.751Z"
   },
   {
    "duration": 26,
    "start_time": "2022-10-21T12:37:11.773Z"
   },
   {
    "duration": 613,
    "start_time": "2022-10-21T12:37:11.801Z"
   },
   {
    "duration": 69,
    "start_time": "2022-10-21T12:37:12.415Z"
   },
   {
    "duration": 0,
    "start_time": "2022-10-21T12:37:12.486Z"
   },
   {
    "duration": 0,
    "start_time": "2022-10-21T12:37:12.487Z"
   },
   {
    "duration": 0,
    "start_time": "2022-10-21T12:37:12.488Z"
   },
   {
    "duration": 0,
    "start_time": "2022-10-21T12:37:12.489Z"
   },
   {
    "duration": 0,
    "start_time": "2022-10-21T12:37:12.490Z"
   },
   {
    "duration": 0,
    "start_time": "2022-10-21T12:37:12.491Z"
   },
   {
    "duration": 0,
    "start_time": "2022-10-21T12:37:12.492Z"
   },
   {
    "duration": 0,
    "start_time": "2022-10-21T12:37:12.493Z"
   },
   {
    "duration": 0,
    "start_time": "2022-10-21T12:37:12.495Z"
   },
   {
    "duration": 0,
    "start_time": "2022-10-21T12:37:12.496Z"
   },
   {
    "duration": 0,
    "start_time": "2022-10-21T12:37:12.497Z"
   },
   {
    "duration": 0,
    "start_time": "2022-10-21T12:37:12.522Z"
   },
   {
    "duration": 0,
    "start_time": "2022-10-21T12:37:12.523Z"
   },
   {
    "duration": 0,
    "start_time": "2022-10-21T12:37:12.524Z"
   },
   {
    "duration": 287,
    "start_time": "2022-10-21T12:37:40.975Z"
   },
   {
    "duration": 28,
    "start_time": "2022-10-21T12:40:26.929Z"
   },
   {
    "duration": 3,
    "start_time": "2022-10-21T12:45:23.072Z"
   },
   {
    "duration": 5,
    "start_time": "2022-10-21T12:45:24.281Z"
   },
   {
    "duration": 8,
    "start_time": "2022-10-21T12:53:20.182Z"
   },
   {
    "duration": 4,
    "start_time": "2022-10-21T12:53:31.763Z"
   },
   {
    "duration": 10,
    "start_time": "2022-10-21T12:54:47.072Z"
   },
   {
    "duration": 6,
    "start_time": "2022-10-21T12:55:26.299Z"
   },
   {
    "duration": 9,
    "start_time": "2022-10-21T15:04:04.426Z"
   },
   {
    "duration": 1499,
    "start_time": "2022-10-24T07:40:01.806Z"
   },
   {
    "duration": 82,
    "start_time": "2022-10-24T07:40:03.307Z"
   },
   {
    "duration": 22,
    "start_time": "2022-10-24T07:40:03.391Z"
   },
   {
    "duration": 33,
    "start_time": "2022-10-24T07:40:03.415Z"
   },
   {
    "duration": 730,
    "start_time": "2022-10-24T07:40:03.451Z"
   },
   {
    "duration": 343,
    "start_time": "2022-10-24T07:40:04.182Z"
   },
   {
    "duration": 3,
    "start_time": "2022-10-24T07:40:04.527Z"
   },
   {
    "duration": 25,
    "start_time": "2022-10-24T07:40:04.532Z"
   },
   {
    "duration": 22,
    "start_time": "2022-10-24T07:40:04.559Z"
   },
   {
    "duration": 11,
    "start_time": "2022-10-24T07:40:04.583Z"
   },
   {
    "duration": 9,
    "start_time": "2022-10-24T07:40:04.596Z"
   },
   {
    "duration": 32,
    "start_time": "2022-10-24T07:40:04.607Z"
   },
   {
    "duration": 27,
    "start_time": "2022-10-24T07:40:04.641Z"
   },
   {
    "duration": 25,
    "start_time": "2022-10-24T07:40:04.671Z"
   },
   {
    "duration": 16,
    "start_time": "2022-10-24T07:40:04.698Z"
   },
   {
    "duration": 175,
    "start_time": "2022-10-24T07:40:04.716Z"
   },
   {
    "duration": 0,
    "start_time": "2022-10-24T07:40:04.892Z"
   },
   {
    "duration": 0,
    "start_time": "2022-10-24T07:40:04.894Z"
   },
   {
    "duration": 0,
    "start_time": "2022-10-24T07:40:04.895Z"
   },
   {
    "duration": 0,
    "start_time": "2022-10-24T07:40:04.896Z"
   },
   {
    "duration": 0,
    "start_time": "2022-10-24T07:40:04.898Z"
   },
   {
    "duration": 0,
    "start_time": "2022-10-24T07:40:04.899Z"
   },
   {
    "duration": 6,
    "start_time": "2022-10-24T07:41:44.459Z"
   },
   {
    "duration": 127,
    "start_time": "2022-10-24T07:45:08.674Z"
   },
   {
    "duration": 7,
    "start_time": "2022-10-24T07:45:44.545Z"
   },
   {
    "duration": 5,
    "start_time": "2022-10-24T07:45:51.935Z"
   },
   {
    "duration": 10,
    "start_time": "2022-10-24T09:28:14.527Z"
   },
   {
    "duration": 27,
    "start_time": "2022-10-24T09:28:28.046Z"
   },
   {
    "duration": 6,
    "start_time": "2022-10-24T09:28:56.936Z"
   },
   {
    "duration": 5,
    "start_time": "2022-10-24T09:48:50.641Z"
   },
   {
    "duration": 6,
    "start_time": "2022-10-24T09:48:55.876Z"
   },
   {
    "duration": 5,
    "start_time": "2022-10-24T10:24:14.862Z"
   },
   {
    "duration": 8,
    "start_time": "2022-10-24T10:43:45.647Z"
   },
   {
    "duration": 7,
    "start_time": "2022-10-24T10:44:41.419Z"
   },
   {
    "duration": 6,
    "start_time": "2022-10-24T10:44:49.497Z"
   },
   {
    "duration": 7,
    "start_time": "2022-10-24T10:46:12.202Z"
   },
   {
    "duration": 4,
    "start_time": "2022-10-24T10:48:22.011Z"
   },
   {
    "duration": 201,
    "start_time": "2022-10-24T10:48:50.787Z"
   },
   {
    "duration": 206,
    "start_time": "2022-10-24T10:48:59.451Z"
   },
   {
    "duration": 217,
    "start_time": "2022-10-24T10:49:09.249Z"
   },
   {
    "duration": 340,
    "start_time": "2022-10-24T10:50:19.744Z"
   },
   {
    "duration": 261,
    "start_time": "2022-10-24T10:51:21.347Z"
   },
   {
    "duration": 196,
    "start_time": "2022-10-24T10:51:33.342Z"
   },
   {
    "duration": 300,
    "start_time": "2022-10-24T10:52:11.590Z"
   },
   {
    "duration": 211,
    "start_time": "2022-10-24T10:52:27.191Z"
   },
   {
    "duration": 260,
    "start_time": "2022-10-24T10:53:35.471Z"
   },
   {
    "duration": 250,
    "start_time": "2022-10-24T10:53:43.798Z"
   },
   {
    "duration": 327,
    "start_time": "2022-10-24T10:58:12.615Z"
   },
   {
    "duration": 272,
    "start_time": "2022-10-24T10:58:19.997Z"
   },
   {
    "duration": 408,
    "start_time": "2022-10-24T10:58:35.740Z"
   },
   {
    "duration": 323,
    "start_time": "2022-10-24T10:58:41.492Z"
   },
   {
    "duration": 253,
    "start_time": "2022-10-24T10:58:46.341Z"
   },
   {
    "duration": 275,
    "start_time": "2022-10-24T11:06:09.516Z"
   },
   {
    "duration": 256,
    "start_time": "2022-10-24T11:06:25.781Z"
   },
   {
    "duration": 49,
    "start_time": "2022-10-24T11:09:43.990Z"
   },
   {
    "duration": 50,
    "start_time": "2022-10-24T11:10:05.947Z"
   },
   {
    "duration": 1200,
    "start_time": "2022-10-24T11:10:14.691Z"
   },
   {
    "duration": 46,
    "start_time": "2022-10-24T11:10:15.893Z"
   },
   {
    "duration": 24,
    "start_time": "2022-10-24T11:10:15.941Z"
   },
   {
    "duration": 35,
    "start_time": "2022-10-24T11:10:15.966Z"
   },
   {
    "duration": 695,
    "start_time": "2022-10-24T11:10:16.004Z"
   },
   {
    "duration": 357,
    "start_time": "2022-10-24T11:10:16.702Z"
   },
   {
    "duration": 3,
    "start_time": "2022-10-24T11:10:17.062Z"
   },
   {
    "duration": 7,
    "start_time": "2022-10-24T11:10:17.068Z"
   },
   {
    "duration": 27,
    "start_time": "2022-10-24T11:10:17.077Z"
   },
   {
    "duration": 11,
    "start_time": "2022-10-24T11:10:17.106Z"
   },
   {
    "duration": 38,
    "start_time": "2022-10-24T11:10:17.119Z"
   },
   {
    "duration": 13,
    "start_time": "2022-10-24T11:10:17.159Z"
   },
   {
    "duration": 10,
    "start_time": "2022-10-24T11:10:17.174Z"
   },
   {
    "duration": 10,
    "start_time": "2022-10-24T11:10:17.188Z"
   },
   {
    "duration": 10,
    "start_time": "2022-10-24T11:10:17.200Z"
   },
   {
    "duration": 8,
    "start_time": "2022-10-24T11:10:17.213Z"
   },
   {
    "duration": 63,
    "start_time": "2022-10-24T11:10:17.223Z"
   },
   {
    "duration": 27,
    "start_time": "2022-10-24T11:10:17.288Z"
   },
   {
    "duration": 4,
    "start_time": "2022-10-24T11:10:17.317Z"
   },
   {
    "duration": 132,
    "start_time": "2022-10-24T11:10:17.322Z"
   },
   {
    "duration": 0,
    "start_time": "2022-10-24T11:10:17.455Z"
   },
   {
    "duration": 0,
    "start_time": "2022-10-24T11:10:17.457Z"
   },
   {
    "duration": 0,
    "start_time": "2022-10-24T11:10:17.458Z"
   },
   {
    "duration": 0,
    "start_time": "2022-10-24T11:10:17.459Z"
   },
   {
    "duration": 0,
    "start_time": "2022-10-24T11:10:17.461Z"
   },
   {
    "duration": 0,
    "start_time": "2022-10-24T11:10:17.462Z"
   },
   {
    "duration": 0,
    "start_time": "2022-10-24T11:10:17.463Z"
   },
   {
    "duration": 0,
    "start_time": "2022-10-24T11:10:17.464Z"
   },
   {
    "duration": 0,
    "start_time": "2022-10-24T11:10:17.465Z"
   },
   {
    "duration": 68,
    "start_time": "2022-10-24T11:10:34.127Z"
   },
   {
    "duration": 10,
    "start_time": "2022-10-24T11:10:44.495Z"
   },
   {
    "duration": 5,
    "start_time": "2022-10-24T11:10:58.226Z"
   },
   {
    "duration": 43,
    "start_time": "2022-10-24T11:10:58.516Z"
   },
   {
    "duration": 16,
    "start_time": "2022-10-24T11:10:59.160Z"
   },
   {
    "duration": 15,
    "start_time": "2022-10-24T11:10:59.986Z"
   },
   {
    "duration": 800,
    "start_time": "2022-10-24T11:11:00.493Z"
   },
   {
    "duration": 364,
    "start_time": "2022-10-24T11:11:01.295Z"
   },
   {
    "duration": 4,
    "start_time": "2022-10-24T11:11:02.857Z"
   },
   {
    "duration": 6,
    "start_time": "2022-10-24T11:11:03.403Z"
   },
   {
    "duration": 23,
    "start_time": "2022-10-24T11:11:04.581Z"
   },
   {
    "duration": 11,
    "start_time": "2022-10-24T11:11:05.490Z"
   },
   {
    "duration": 6,
    "start_time": "2022-10-24T11:11:05.806Z"
   },
   {
    "duration": 8,
    "start_time": "2022-10-24T11:11:06.210Z"
   },
   {
    "duration": 7,
    "start_time": "2022-10-24T11:11:06.575Z"
   },
   {
    "duration": 6,
    "start_time": "2022-10-24T11:11:07.123Z"
   },
   {
    "duration": 6,
    "start_time": "2022-10-24T11:11:07.610Z"
   },
   {
    "duration": 6,
    "start_time": "2022-10-24T11:11:09.118Z"
   },
   {
    "duration": 34,
    "start_time": "2022-10-24T11:11:09.967Z"
   },
   {
    "duration": 28,
    "start_time": "2022-10-24T11:11:10.494Z"
   },
   {
    "duration": 3,
    "start_time": "2022-10-24T11:11:10.925Z"
   },
   {
    "duration": 13,
    "start_time": "2022-10-24T11:11:11.506Z"
   },
   {
    "duration": 51,
    "start_time": "2022-10-24T11:11:26.583Z"
   },
   {
    "duration": 260,
    "start_time": "2022-10-24T11:11:28.304Z"
   },
   {
    "duration": 8,
    "start_time": "2022-10-24T11:11:37.421Z"
   },
   {
    "duration": 18,
    "start_time": "2022-10-24T11:11:37.764Z"
   },
   {
    "duration": 11,
    "start_time": "2022-10-24T11:11:38.482Z"
   },
   {
    "duration": 6,
    "start_time": "2022-10-24T11:11:39.416Z"
   },
   {
    "duration": 48,
    "start_time": "2022-10-24T11:11:42.743Z"
   },
   {
    "duration": 8,
    "start_time": "2022-10-24T11:11:42.995Z"
   },
   {
    "duration": 7,
    "start_time": "2022-10-24T11:11:43.599Z"
   },
   {
    "duration": 111,
    "start_time": "2022-10-24T11:11:44.467Z"
   },
   {
    "duration": 10,
    "start_time": "2022-10-24T11:11:47.615Z"
   },
   {
    "duration": 5,
    "start_time": "2022-10-24T11:12:15.420Z"
   },
   {
    "duration": 262,
    "start_time": "2022-10-24T11:12:31.109Z"
   },
   {
    "duration": 59,
    "start_time": "2022-10-24T11:12:45.775Z"
   },
   {
    "duration": 235,
    "start_time": "2022-10-24T11:12:52.230Z"
   },
   {
    "duration": 247,
    "start_time": "2022-10-24T11:13:05.824Z"
   },
   {
    "duration": 292,
    "start_time": "2022-10-24T11:13:17.996Z"
   },
   {
    "duration": 10,
    "start_time": "2022-10-24T11:19:14.202Z"
   },
   {
    "duration": 6,
    "start_time": "2022-10-24T11:19:48.718Z"
   },
   {
    "duration": 6,
    "start_time": "2022-10-24T11:19:54.450Z"
   },
   {
    "duration": 1451,
    "start_time": "2022-10-24T11:20:00.772Z"
   },
   {
    "duration": 55,
    "start_time": "2022-10-24T11:20:02.226Z"
   },
   {
    "duration": 23,
    "start_time": "2022-10-24T11:20:02.283Z"
   },
   {
    "duration": 28,
    "start_time": "2022-10-24T11:20:02.308Z"
   },
   {
    "duration": 790,
    "start_time": "2022-10-24T11:20:02.339Z"
   },
   {
    "duration": 372,
    "start_time": "2022-10-24T11:20:03.130Z"
   },
   {
    "duration": 4,
    "start_time": "2022-10-24T11:20:03.505Z"
   },
   {
    "duration": 13,
    "start_time": "2022-10-24T11:20:03.512Z"
   },
   {
    "duration": 54,
    "start_time": "2022-10-24T11:20:03.527Z"
   },
   {
    "duration": 11,
    "start_time": "2022-10-24T11:20:03.583Z"
   },
   {
    "duration": 11,
    "start_time": "2022-10-24T11:20:03.596Z"
   },
   {
    "duration": 13,
    "start_time": "2022-10-24T11:20:03.609Z"
   },
   {
    "duration": 13,
    "start_time": "2022-10-24T11:20:03.624Z"
   },
   {
    "duration": 7,
    "start_time": "2022-10-24T11:20:03.654Z"
   },
   {
    "duration": 26,
    "start_time": "2022-10-24T11:20:03.663Z"
   },
   {
    "duration": 25,
    "start_time": "2022-10-24T11:20:03.691Z"
   },
   {
    "duration": 60,
    "start_time": "2022-10-24T11:20:03.718Z"
   },
   {
    "duration": 30,
    "start_time": "2022-10-24T11:20:03.780Z"
   },
   {
    "duration": 67,
    "start_time": "2022-10-24T11:20:03.811Z"
   },
   {
    "duration": 281,
    "start_time": "2022-10-24T11:20:03.880Z"
   },
   {
    "duration": 9,
    "start_time": "2022-10-24T11:20:04.163Z"
   },
   {
    "duration": 35,
    "start_time": "2022-10-24T11:20:04.174Z"
   },
   {
    "duration": 13,
    "start_time": "2022-10-24T11:20:04.212Z"
   },
   {
    "duration": 28,
    "start_time": "2022-10-24T11:20:04.227Z"
   },
   {
    "duration": 70,
    "start_time": "2022-10-24T11:20:04.258Z"
   },
   {
    "duration": 0,
    "start_time": "2022-10-24T11:20:04.330Z"
   },
   {
    "duration": 0,
    "start_time": "2022-10-24T11:20:04.332Z"
   },
   {
    "duration": 0,
    "start_time": "2022-10-24T11:20:04.333Z"
   },
   {
    "duration": 0,
    "start_time": "2022-10-24T11:20:04.334Z"
   },
   {
    "duration": 280,
    "start_time": "2022-10-24T11:20:19.153Z"
   },
   {
    "duration": 114,
    "start_time": "2022-10-24T11:20:22.346Z"
   },
   {
    "duration": 55,
    "start_time": "2022-10-24T13:39:47.473Z"
   },
   {
    "duration": 46,
    "start_time": "2022-10-24T13:40:07.947Z"
   },
   {
    "duration": 9,
    "start_time": "2022-10-24T13:40:36.992Z"
   },
   {
    "duration": 1358,
    "start_time": "2022-10-24T13:40:55.811Z"
   },
   {
    "duration": 96,
    "start_time": "2022-10-24T13:40:57.171Z"
   },
   {
    "duration": 25,
    "start_time": "2022-10-24T13:40:57.269Z"
   },
   {
    "duration": 15,
    "start_time": "2022-10-24T13:40:57.296Z"
   },
   {
    "duration": 696,
    "start_time": "2022-10-24T13:40:57.314Z"
   },
   {
    "duration": 320,
    "start_time": "2022-10-24T13:40:58.011Z"
   },
   {
    "duration": 4,
    "start_time": "2022-10-24T13:40:58.332Z"
   },
   {
    "duration": 7,
    "start_time": "2022-10-24T13:40:58.338Z"
   },
   {
    "duration": 44,
    "start_time": "2022-10-24T13:40:58.346Z"
   },
   {
    "duration": 10,
    "start_time": "2022-10-24T13:40:58.392Z"
   },
   {
    "duration": 8,
    "start_time": "2022-10-24T13:40:58.404Z"
   },
   {
    "duration": 9,
    "start_time": "2022-10-24T13:40:58.414Z"
   },
   {
    "duration": 6,
    "start_time": "2022-10-24T13:40:58.424Z"
   },
   {
    "duration": 6,
    "start_time": "2022-10-24T13:40:58.432Z"
   },
   {
    "duration": 11,
    "start_time": "2022-10-24T13:40:58.439Z"
   },
   {
    "duration": 27,
    "start_time": "2022-10-24T13:40:58.452Z"
   },
   {
    "duration": 31,
    "start_time": "2022-10-24T13:40:58.480Z"
   },
   {
    "duration": 27,
    "start_time": "2022-10-24T13:40:58.513Z"
   },
   {
    "duration": 69,
    "start_time": "2022-10-24T13:40:58.542Z"
   },
   {
    "duration": 240,
    "start_time": "2022-10-24T13:40:58.613Z"
   },
   {
    "duration": 6,
    "start_time": "2022-10-24T13:40:58.854Z"
   },
   {
    "duration": 33,
    "start_time": "2022-10-24T13:40:58.862Z"
   },
   {
    "duration": 20,
    "start_time": "2022-10-24T13:40:58.896Z"
   },
   {
    "duration": 5,
    "start_time": "2022-10-24T13:40:58.917Z"
   },
   {
    "duration": 8,
    "start_time": "2022-10-24T13:40:58.924Z"
   },
   {
    "duration": 10,
    "start_time": "2022-10-24T13:40:58.934Z"
   },
   {
    "duration": 259,
    "start_time": "2022-10-24T13:40:58.945Z"
   },
   {
    "duration": 6,
    "start_time": "2022-10-24T13:40:59.206Z"
   },
   {
    "duration": 85,
    "start_time": "2022-10-24T13:40:59.214Z"
   },
   {
    "duration": 9,
    "start_time": "2022-10-24T13:41:51.989Z"
   },
   {
    "duration": 1404,
    "start_time": "2022-10-24T17:40:37.492Z"
   },
   {
    "duration": 94,
    "start_time": "2022-10-24T17:40:38.899Z"
   },
   {
    "duration": 20,
    "start_time": "2022-10-24T17:40:38.994Z"
   },
   {
    "duration": 14,
    "start_time": "2022-10-24T17:40:39.016Z"
   },
   {
    "duration": 635,
    "start_time": "2022-10-24T17:40:39.032Z"
   },
   {
    "duration": 392,
    "start_time": "2022-10-24T17:40:39.669Z"
   },
   {
    "duration": 3,
    "start_time": "2022-10-24T17:40:40.063Z"
   },
   {
    "duration": 38,
    "start_time": "2022-10-24T17:40:40.068Z"
   },
   {
    "duration": 25,
    "start_time": "2022-10-24T17:40:40.108Z"
   },
   {
    "duration": 9,
    "start_time": "2022-10-24T17:40:40.134Z"
   },
   {
    "duration": 5,
    "start_time": "2022-10-24T17:40:40.144Z"
   },
   {
    "duration": 10,
    "start_time": "2022-10-24T17:40:40.151Z"
   },
   {
    "duration": 11,
    "start_time": "2022-10-24T17:40:40.163Z"
   },
   {
    "duration": 10,
    "start_time": "2022-10-24T17:40:40.176Z"
   },
   {
    "duration": 11,
    "start_time": "2022-10-24T17:40:40.187Z"
   },
   {
    "duration": 19,
    "start_time": "2022-10-24T17:40:40.199Z"
   },
   {
    "duration": 38,
    "start_time": "2022-10-24T17:40:40.219Z"
   },
   {
    "duration": 22,
    "start_time": "2022-10-24T17:40:40.259Z"
   },
   {
    "duration": 6,
    "start_time": "2022-10-24T17:40:40.283Z"
   },
   {
    "duration": 19,
    "start_time": "2022-10-24T17:40:40.290Z"
   },
   {
    "duration": 31,
    "start_time": "2022-10-24T17:40:40.310Z"
   },
   {
    "duration": 4,
    "start_time": "2022-10-24T17:40:40.343Z"
   },
   {
    "duration": 9,
    "start_time": "2022-10-24T17:40:40.349Z"
   },
   {
    "duration": 9,
    "start_time": "2022-10-24T17:40:40.359Z"
   },
   {
    "duration": 238,
    "start_time": "2022-10-24T17:40:40.369Z"
   },
   {
    "duration": 6,
    "start_time": "2022-10-24T17:40:40.609Z"
   },
   {
    "duration": 110,
    "start_time": "2022-10-24T17:40:40.617Z"
   },
   {
    "duration": 5,
    "start_time": "2022-10-24T18:12:25.478Z"
   },
   {
    "duration": 58,
    "start_time": "2022-10-24T18:12:25.792Z"
   },
   {
    "duration": 22,
    "start_time": "2022-10-24T18:12:26.244Z"
   },
   {
    "duration": 14,
    "start_time": "2022-10-24T18:12:29.504Z"
   },
   {
    "duration": 674,
    "start_time": "2022-10-24T18:12:29.968Z"
   },
   {
    "duration": 300,
    "start_time": "2022-10-24T18:12:30.644Z"
   },
   {
    "duration": 11,
    "start_time": "2022-10-24T18:30:25.907Z"
   },
   {
    "duration": 10,
    "start_time": "2022-10-24T18:31:07.881Z"
   },
   {
    "duration": 1055,
    "start_time": "2022-10-24T18:31:41.788Z"
   },
   {
    "duration": 52,
    "start_time": "2022-10-24T18:31:42.845Z"
   },
   {
    "duration": 19,
    "start_time": "2022-10-24T18:31:42.899Z"
   },
   {
    "duration": 24,
    "start_time": "2022-10-24T18:31:42.920Z"
   },
   {
    "duration": 625,
    "start_time": "2022-10-24T18:31:42.947Z"
   },
   {
    "duration": 293,
    "start_time": "2022-10-24T18:31:43.574Z"
   },
   {
    "duration": 3,
    "start_time": "2022-10-24T18:31:43.869Z"
   },
   {
    "duration": 21,
    "start_time": "2022-10-24T18:31:43.874Z"
   },
   {
    "duration": 46,
    "start_time": "2022-10-24T18:31:43.897Z"
   },
   {
    "duration": 19,
    "start_time": "2022-10-24T18:31:43.945Z"
   },
   {
    "duration": 9,
    "start_time": "2022-10-24T18:31:43.966Z"
   },
   {
    "duration": 12,
    "start_time": "2022-10-24T18:31:43.977Z"
   },
   {
    "duration": 22,
    "start_time": "2022-10-24T18:31:43.990Z"
   },
   {
    "duration": 29,
    "start_time": "2022-10-24T18:31:44.015Z"
   },
   {
    "duration": 17,
    "start_time": "2022-10-24T18:31:44.046Z"
   },
   {
    "duration": 24,
    "start_time": "2022-10-24T18:31:44.065Z"
   },
   {
    "duration": 30,
    "start_time": "2022-10-24T18:31:44.090Z"
   },
   {
    "duration": 39,
    "start_time": "2022-10-24T18:31:44.121Z"
   },
   {
    "duration": 25,
    "start_time": "2022-10-24T18:31:44.162Z"
   },
   {
    "duration": 5,
    "start_time": "2022-10-24T18:31:44.189Z"
   },
   {
    "duration": 22,
    "start_time": "2022-10-24T18:31:44.196Z"
   },
   {
    "duration": 24,
    "start_time": "2022-10-24T18:31:44.219Z"
   },
   {
    "duration": 20,
    "start_time": "2022-10-24T18:31:44.245Z"
   },
   {
    "duration": 27,
    "start_time": "2022-10-24T18:31:44.267Z"
   },
   {
    "duration": 14,
    "start_time": "2022-10-24T18:31:44.296Z"
   },
   {
    "duration": 247,
    "start_time": "2022-10-24T18:31:44.311Z"
   },
   {
    "duration": 7,
    "start_time": "2022-10-24T18:31:44.559Z"
   },
   {
    "duration": 113,
    "start_time": "2022-10-24T18:31:44.568Z"
   },
   {
    "duration": 28,
    "start_time": "2022-10-24T18:31:49.549Z"
   },
   {
    "duration": 9,
    "start_time": "2022-10-24T18:31:54.750Z"
   },
   {
    "duration": 12,
    "start_time": "2022-10-24T18:31:56.260Z"
   },
   {
    "duration": 5,
    "start_time": "2022-10-24T18:31:59.591Z"
   },
   {
    "duration": 9,
    "start_time": "2022-10-24T18:38:41.981Z"
   },
   {
    "duration": 9,
    "start_time": "2022-10-24T18:38:49.551Z"
   },
   {
    "duration": 8,
    "start_time": "2022-10-24T18:38:54.543Z"
   },
   {
    "duration": 633,
    "start_time": "2022-10-24T18:39:15.921Z"
   },
   {
    "duration": 615,
    "start_time": "2022-10-24T18:39:47.086Z"
   },
   {
    "duration": 696,
    "start_time": "2022-10-24T18:40:12.313Z"
   },
   {
    "duration": 67,
    "start_time": "2022-10-24T18:40:49.222Z"
   },
   {
    "duration": 637,
    "start_time": "2022-10-24T18:40:57.536Z"
   },
   {
    "duration": 594,
    "start_time": "2022-10-24T18:41:03.092Z"
   },
   {
    "duration": 530,
    "start_time": "2022-10-24T18:41:13.159Z"
   },
   {
    "duration": 571,
    "start_time": "2022-10-24T18:41:22.060Z"
   },
   {
    "duration": 568,
    "start_time": "2022-10-24T18:42:04.910Z"
   },
   {
    "duration": 4,
    "start_time": "2022-10-24T18:42:30.710Z"
   },
   {
    "duration": 50,
    "start_time": "2022-10-24T18:42:31.089Z"
   },
   {
    "duration": 16,
    "start_time": "2022-10-24T18:42:32.044Z"
   },
   {
    "duration": 20,
    "start_time": "2022-10-24T18:42:33.200Z"
   },
   {
    "duration": 612,
    "start_time": "2022-10-24T18:42:33.761Z"
   },
   {
    "duration": 306,
    "start_time": "2022-10-24T18:42:34.374Z"
   },
   {
    "duration": 3,
    "start_time": "2022-10-24T18:42:36.836Z"
   },
   {
    "duration": 6,
    "start_time": "2022-10-24T18:42:37.211Z"
   },
   {
    "duration": 24,
    "start_time": "2022-10-24T18:42:38.041Z"
   },
   {
    "duration": 9,
    "start_time": "2022-10-24T18:42:38.971Z"
   },
   {
    "duration": 646,
    "start_time": "2022-10-24T18:42:44.301Z"
   },
   {
    "duration": 560,
    "start_time": "2022-10-24T18:43:52.994Z"
   },
   {
    "duration": 1301,
    "start_time": "2022-10-25T08:21:06.600Z"
   },
   {
    "duration": 91,
    "start_time": "2022-10-25T08:21:07.902Z"
   },
   {
    "duration": 18,
    "start_time": "2022-10-25T08:21:07.995Z"
   },
   {
    "duration": 29,
    "start_time": "2022-10-25T08:21:08.014Z"
   },
   {
    "duration": 609,
    "start_time": "2022-10-25T08:21:08.045Z"
   },
   {
    "duration": 403,
    "start_time": "2022-10-25T08:21:08.655Z"
   },
   {
    "duration": 4,
    "start_time": "2022-10-25T08:21:09.060Z"
   },
   {
    "duration": 30,
    "start_time": "2022-10-25T08:21:09.065Z"
   },
   {
    "duration": 35,
    "start_time": "2022-10-25T08:21:09.096Z"
   },
   {
    "duration": 10,
    "start_time": "2022-10-25T08:21:09.133Z"
   },
   {
    "duration": 578,
    "start_time": "2022-10-25T08:21:09.144Z"
   },
   {
    "duration": 9,
    "start_time": "2022-10-25T08:21:09.724Z"
   },
   {
    "duration": 20,
    "start_time": "2022-10-25T08:21:09.734Z"
   },
   {
    "duration": 22,
    "start_time": "2022-10-25T08:21:09.757Z"
   },
   {
    "duration": 21,
    "start_time": "2022-10-25T08:21:09.780Z"
   },
   {
    "duration": 18,
    "start_time": "2022-10-25T08:21:09.802Z"
   },
   {
    "duration": 12,
    "start_time": "2022-10-25T08:21:09.822Z"
   },
   {
    "duration": 20,
    "start_time": "2022-10-25T08:21:09.835Z"
   },
   {
    "duration": 41,
    "start_time": "2022-10-25T08:21:09.857Z"
   },
   {
    "duration": 27,
    "start_time": "2022-10-25T08:21:09.899Z"
   },
   {
    "duration": 6,
    "start_time": "2022-10-25T08:21:09.928Z"
   },
   {
    "duration": 35,
    "start_time": "2022-10-25T08:21:09.935Z"
   },
   {
    "duration": 9,
    "start_time": "2022-10-25T08:21:09.971Z"
   },
   {
    "duration": 13,
    "start_time": "2022-10-25T08:21:09.982Z"
   },
   {
    "duration": 21,
    "start_time": "2022-10-25T08:21:09.997Z"
   },
   {
    "duration": 16,
    "start_time": "2022-10-25T08:21:10.019Z"
   },
   {
    "duration": 237,
    "start_time": "2022-10-25T08:21:10.036Z"
   },
   {
    "duration": 6,
    "start_time": "2022-10-25T08:21:10.275Z"
   },
   {
    "duration": 105,
    "start_time": "2022-10-25T08:21:10.282Z"
   },
   {
    "duration": 8,
    "start_time": "2022-10-25T08:34:53.343Z"
   },
   {
    "duration": 1107,
    "start_time": "2022-10-25T08:35:08.256Z"
   },
   {
    "duration": 52,
    "start_time": "2022-10-25T08:35:09.364Z"
   },
   {
    "duration": 20,
    "start_time": "2022-10-25T08:35:09.417Z"
   },
   {
    "duration": 25,
    "start_time": "2022-10-25T08:35:09.438Z"
   },
   {
    "duration": 632,
    "start_time": "2022-10-25T08:35:09.465Z"
   },
   {
    "duration": 309,
    "start_time": "2022-10-25T08:35:10.099Z"
   },
   {
    "duration": 3,
    "start_time": "2022-10-25T08:35:10.410Z"
   },
   {
    "duration": 38,
    "start_time": "2022-10-25T08:35:10.414Z"
   },
   {
    "duration": 34,
    "start_time": "2022-10-25T08:35:10.454Z"
   },
   {
    "duration": 8,
    "start_time": "2022-10-25T08:35:10.491Z"
   },
   {
    "duration": 538,
    "start_time": "2022-10-25T08:35:10.500Z"
   },
   {
    "duration": 97,
    "start_time": "2022-10-25T08:35:11.039Z"
   },
   {
    "duration": 0,
    "start_time": "2022-10-25T08:35:11.137Z"
   },
   {
    "duration": 0,
    "start_time": "2022-10-25T08:35:11.139Z"
   },
   {
    "duration": 0,
    "start_time": "2022-10-25T08:35:11.139Z"
   },
   {
    "duration": 0,
    "start_time": "2022-10-25T08:35:11.140Z"
   },
   {
    "duration": 0,
    "start_time": "2022-10-25T08:35:11.141Z"
   },
   {
    "duration": 0,
    "start_time": "2022-10-25T08:35:11.142Z"
   },
   {
    "duration": 0,
    "start_time": "2022-10-25T08:35:11.143Z"
   },
   {
    "duration": 0,
    "start_time": "2022-10-25T08:35:11.144Z"
   },
   {
    "duration": 0,
    "start_time": "2022-10-25T08:35:11.145Z"
   },
   {
    "duration": 0,
    "start_time": "2022-10-25T08:35:11.146Z"
   },
   {
    "duration": 0,
    "start_time": "2022-10-25T08:35:11.146Z"
   },
   {
    "duration": 0,
    "start_time": "2022-10-25T08:35:11.148Z"
   },
   {
    "duration": 0,
    "start_time": "2022-10-25T08:35:11.148Z"
   },
   {
    "duration": 0,
    "start_time": "2022-10-25T08:35:11.149Z"
   },
   {
    "duration": 0,
    "start_time": "2022-10-25T08:35:11.150Z"
   },
   {
    "duration": 0,
    "start_time": "2022-10-25T08:35:11.151Z"
   },
   {
    "duration": 0,
    "start_time": "2022-10-25T08:35:11.152Z"
   },
   {
    "duration": 0,
    "start_time": "2022-10-25T08:35:11.152Z"
   },
   {
    "duration": 4,
    "start_time": "2022-10-25T08:35:27.373Z"
   },
   {
    "duration": 3,
    "start_time": "2022-10-25T08:35:46.076Z"
   },
   {
    "duration": 12,
    "start_time": "2022-10-25T08:35:48.868Z"
   },
   {
    "duration": 4,
    "start_time": "2022-10-25T08:35:49.524Z"
   },
   {
    "duration": 4,
    "start_time": "2022-10-25T08:36:38.100Z"
   },
   {
    "duration": 6,
    "start_time": "2022-10-25T08:44:14.629Z"
   },
   {
    "duration": 5,
    "start_time": "2022-10-25T08:46:14.636Z"
   },
   {
    "duration": 21,
    "start_time": "2022-10-25T08:46:36.105Z"
   },
   {
    "duration": 16,
    "start_time": "2022-10-25T08:47:45.918Z"
   },
   {
    "duration": 17,
    "start_time": "2022-10-25T08:47:55.676Z"
   },
   {
    "duration": 8,
    "start_time": "2022-10-25T08:54:12.952Z"
   },
   {
    "duration": 6,
    "start_time": "2022-10-25T08:56:59.289Z"
   },
   {
    "duration": 7,
    "start_time": "2022-10-25T08:57:32.443Z"
   },
   {
    "duration": 8,
    "start_time": "2022-10-25T08:58:00.686Z"
   },
   {
    "duration": 6,
    "start_time": "2022-10-25T08:58:07.835Z"
   },
   {
    "duration": 9,
    "start_time": "2022-10-25T08:58:25.525Z"
   },
   {
    "duration": 523,
    "start_time": "2022-10-25T08:58:26.321Z"
   },
   {
    "duration": 3,
    "start_time": "2022-10-25T08:58:26.858Z"
   },
   {
    "duration": 9,
    "start_time": "2022-10-25T08:58:28.210Z"
   },
   {
    "duration": 4,
    "start_time": "2022-10-25T08:58:28.634Z"
   },
   {
    "duration": 10,
    "start_time": "2022-10-25T08:58:30.077Z"
   },
   {
    "duration": 8,
    "start_time": "2022-10-25T08:58:30.621Z"
   },
   {
    "duration": 6,
    "start_time": "2022-10-25T08:58:31.969Z"
   },
   {
    "duration": 7,
    "start_time": "2022-10-25T08:58:32.649Z"
   },
   {
    "duration": 5,
    "start_time": "2022-10-25T08:58:33.365Z"
   },
   {
    "duration": 6,
    "start_time": "2022-10-25T08:58:34.207Z"
   },
   {
    "duration": 1170,
    "start_time": "2022-10-25T08:59:08.543Z"
   },
   {
    "duration": 50,
    "start_time": "2022-10-25T08:59:09.715Z"
   },
   {
    "duration": 21,
    "start_time": "2022-10-25T08:59:09.767Z"
   },
   {
    "duration": 14,
    "start_time": "2022-10-25T08:59:09.789Z"
   },
   {
    "duration": 665,
    "start_time": "2022-10-25T08:59:09.806Z"
   },
   {
    "duration": 308,
    "start_time": "2022-10-25T08:59:10.473Z"
   },
   {
    "duration": 3,
    "start_time": "2022-10-25T08:59:10.783Z"
   },
   {
    "duration": 13,
    "start_time": "2022-10-25T08:59:10.788Z"
   },
   {
    "duration": 46,
    "start_time": "2022-10-25T08:59:10.802Z"
   },
   {
    "duration": 9,
    "start_time": "2022-10-25T08:59:10.852Z"
   },
   {
    "duration": 600,
    "start_time": "2022-10-25T08:59:10.862Z"
   },
   {
    "duration": 4,
    "start_time": "2022-10-25T08:59:11.464Z"
   },
   {
    "duration": 32,
    "start_time": "2022-10-25T08:59:11.469Z"
   },
   {
    "duration": 11,
    "start_time": "2022-10-25T08:59:11.504Z"
   },
   {
    "duration": 31,
    "start_time": "2022-10-25T08:59:11.517Z"
   },
   {
    "duration": 24,
    "start_time": "2022-10-25T08:59:11.550Z"
   },
   {
    "duration": 25,
    "start_time": "2022-10-25T08:59:11.576Z"
   },
   {
    "duration": 32,
    "start_time": "2022-10-25T08:59:11.603Z"
   },
   {
    "duration": 22,
    "start_time": "2022-10-25T08:59:11.637Z"
   },
   {
    "duration": 20,
    "start_time": "2022-10-25T08:59:11.661Z"
   },
   {
    "duration": 30,
    "start_time": "2022-10-25T08:59:11.683Z"
   },
   {
    "duration": 19,
    "start_time": "2022-10-25T08:59:11.715Z"
   },
   {
    "duration": 49,
    "start_time": "2022-10-25T08:59:11.736Z"
   },
   {
    "duration": 31,
    "start_time": "2022-10-25T08:59:11.787Z"
   },
   {
    "duration": 7,
    "start_time": "2022-10-25T08:59:11.819Z"
   },
   {
    "duration": 61,
    "start_time": "2022-10-25T08:59:11.828Z"
   },
   {
    "duration": 12,
    "start_time": "2022-10-25T08:59:11.891Z"
   },
   {
    "duration": 5,
    "start_time": "2022-10-25T08:59:11.905Z"
   },
   {
    "duration": 9,
    "start_time": "2022-10-25T08:59:11.912Z"
   },
   {
    "duration": 10,
    "start_time": "2022-10-25T08:59:11.923Z"
   },
   {
    "duration": 280,
    "start_time": "2022-10-25T08:59:11.935Z"
   },
   {
    "duration": 11,
    "start_time": "2022-10-25T08:59:12.218Z"
   },
   {
    "duration": 157,
    "start_time": "2022-10-25T08:59:12.231Z"
   },
   {
    "duration": 5,
    "start_time": "2022-10-25T09:01:20.288Z"
   },
   {
    "duration": 5,
    "start_time": "2022-10-25T09:01:27.353Z"
   },
   {
    "duration": 44,
    "start_time": "2022-10-25T09:30:05.218Z"
   },
   {
    "duration": 43,
    "start_time": "2022-10-25T09:30:25.517Z"
   },
   {
    "duration": 77,
    "start_time": "2022-10-25T09:30:30.005Z"
   },
   {
    "duration": 8,
    "start_time": "2022-10-25T09:30:44.236Z"
   },
   {
    "duration": 5,
    "start_time": "2022-10-25T09:30:54.389Z"
   },
   {
    "duration": 4,
    "start_time": "2022-10-25T09:33:32.875Z"
   },
   {
    "duration": 46,
    "start_time": "2022-10-25T09:33:36.252Z"
   },
   {
    "duration": 4,
    "start_time": "2022-10-25T09:35:24.412Z"
   },
   {
    "duration": 8,
    "start_time": "2022-10-25T09:36:04.283Z"
   },
   {
    "duration": 14,
    "start_time": "2022-10-25T09:36:44.988Z"
   },
   {
    "duration": 5,
    "start_time": "2022-10-25T09:42:59.394Z"
   },
   {
    "duration": 1129,
    "start_time": "2022-10-25T09:43:15.810Z"
   },
   {
    "duration": 52,
    "start_time": "2022-10-25T09:43:16.942Z"
   },
   {
    "duration": 22,
    "start_time": "2022-10-25T09:43:16.996Z"
   },
   {
    "duration": 17,
    "start_time": "2022-10-25T09:43:17.020Z"
   },
   {
    "duration": 646,
    "start_time": "2022-10-25T09:43:17.039Z"
   },
   {
    "duration": 325,
    "start_time": "2022-10-25T09:43:17.687Z"
   },
   {
    "duration": 8,
    "start_time": "2022-10-25T09:43:18.014Z"
   },
   {
    "duration": 9,
    "start_time": "2022-10-25T09:43:18.023Z"
   },
   {
    "duration": 30,
    "start_time": "2022-10-25T09:43:18.033Z"
   },
   {
    "duration": 8,
    "start_time": "2022-10-25T09:43:18.066Z"
   },
   {
    "duration": 577,
    "start_time": "2022-10-25T09:43:18.075Z"
   },
   {
    "duration": 3,
    "start_time": "2022-10-25T09:43:18.654Z"
   },
   {
    "duration": 31,
    "start_time": "2022-10-25T09:43:18.659Z"
   },
   {
    "duration": 7,
    "start_time": "2022-10-25T09:43:18.691Z"
   },
   {
    "duration": 33,
    "start_time": "2022-10-25T09:43:18.700Z"
   },
   {
    "duration": 20,
    "start_time": "2022-10-25T09:43:18.734Z"
   },
   {
    "duration": 8,
    "start_time": "2022-10-25T09:43:18.755Z"
   },
   {
    "duration": 25,
    "start_time": "2022-10-25T09:43:18.764Z"
   },
   {
    "duration": 24,
    "start_time": "2022-10-25T09:43:18.791Z"
   },
   {
    "duration": 33,
    "start_time": "2022-10-25T09:43:18.817Z"
   },
   {
    "duration": 29,
    "start_time": "2022-10-25T09:43:18.853Z"
   },
   {
    "duration": 18,
    "start_time": "2022-10-25T09:43:18.886Z"
   },
   {
    "duration": 42,
    "start_time": "2022-10-25T09:43:18.906Z"
   },
   {
    "duration": 37,
    "start_time": "2022-10-25T09:43:18.950Z"
   },
   {
    "duration": 29,
    "start_time": "2022-10-25T09:43:18.990Z"
   },
   {
    "duration": 18,
    "start_time": "2022-10-25T09:43:19.021Z"
   },
   {
    "duration": 40,
    "start_time": "2022-10-25T09:43:19.041Z"
   },
   {
    "duration": 34,
    "start_time": "2022-10-25T09:43:19.085Z"
   },
   {
    "duration": 254,
    "start_time": "2022-10-25T09:43:19.121Z"
   },
   {
    "duration": 6,
    "start_time": "2022-10-25T09:43:19.376Z"
   },
   {
    "duration": 116,
    "start_time": "2022-10-25T09:43:19.384Z"
   },
   {
    "duration": 6,
    "start_time": "2022-10-25T09:49:13.618Z"
   },
   {
    "duration": 6,
    "start_time": "2022-10-25T09:49:44.265Z"
   },
   {
    "duration": 104,
    "start_time": "2022-10-25T09:54:11.014Z"
   },
   {
    "duration": 6,
    "start_time": "2022-10-25T09:54:46.966Z"
   },
   {
    "duration": 4,
    "start_time": "2022-10-25T09:55:27.165Z"
   },
   {
    "duration": 66,
    "start_time": "2022-10-25T09:56:29.040Z"
   },
   {
    "duration": 5,
    "start_time": "2022-10-25T10:02:18.610Z"
   },
   {
    "duration": 6,
    "start_time": "2022-10-25T10:02:55.782Z"
   },
   {
    "duration": 5,
    "start_time": "2022-10-25T10:03:17.421Z"
   },
   {
    "duration": 4,
    "start_time": "2022-10-25T10:03:50.372Z"
   },
   {
    "duration": 10,
    "start_time": "2022-10-25T10:06:35.875Z"
   },
   {
    "duration": 2,
    "start_time": "2022-10-25T10:08:32.049Z"
   },
   {
    "duration": 22,
    "start_time": "2022-10-25T10:08:49.722Z"
   },
   {
    "duration": 9,
    "start_time": "2022-10-25T10:23:24.034Z"
   },
   {
    "duration": 63,
    "start_time": "2022-10-25T10:24:47.899Z"
   },
   {
    "duration": 9,
    "start_time": "2022-10-25T10:24:55.634Z"
   },
   {
    "duration": 9,
    "start_time": "2022-10-25T10:26:02.380Z"
   },
   {
    "duration": 55,
    "start_time": "2022-10-25T10:27:00.907Z"
   },
   {
    "duration": 8,
    "start_time": "2022-10-25T10:45:24.705Z"
   },
   {
    "duration": 11,
    "start_time": "2022-10-25T10:46:28.430Z"
   },
   {
    "duration": 46,
    "start_time": "2022-10-25T10:47:07.132Z"
   },
   {
    "duration": 646,
    "start_time": "2022-10-25T10:47:57.235Z"
   },
   {
    "duration": 14,
    "start_time": "2022-10-25T10:48:56.203Z"
   },
   {
    "duration": 866,
    "start_time": "2022-10-25T10:49:40.302Z"
   },
   {
    "duration": 435,
    "start_time": "2022-10-25T10:49:58.324Z"
   },
   {
    "duration": 470,
    "start_time": "2022-10-25T10:56:11.185Z"
   },
   {
    "duration": 445,
    "start_time": "2022-10-25T10:57:15.268Z"
   },
   {
    "duration": 535,
    "start_time": "2022-10-25T10:57:25.561Z"
   },
   {
    "duration": 289,
    "start_time": "2022-10-25T10:58:19.192Z"
   },
   {
    "duration": 437,
    "start_time": "2022-10-25T10:58:31.446Z"
   },
   {
    "duration": 441,
    "start_time": "2022-10-25T10:58:37.213Z"
   },
   {
    "duration": 534,
    "start_time": "2022-10-25T10:58:49.005Z"
   },
   {
    "duration": 438,
    "start_time": "2022-10-25T10:58:55.820Z"
   },
   {
    "duration": 518,
    "start_time": "2022-10-25T10:59:03.893Z"
   },
   {
    "duration": 454,
    "start_time": "2022-10-25T11:01:58.431Z"
   },
   {
    "duration": 49,
    "start_time": "2022-10-25T11:02:10.118Z"
   },
   {
    "duration": 459,
    "start_time": "2022-10-25T11:02:15.089Z"
   },
   {
    "duration": 449,
    "start_time": "2022-10-25T11:03:56.735Z"
   },
   {
    "duration": 27,
    "start_time": "2022-10-25T11:04:40.284Z"
   },
   {
    "duration": 26,
    "start_time": "2022-10-25T11:05:12.411Z"
   },
   {
    "duration": 442,
    "start_time": "2022-10-25T11:05:18.225Z"
   },
   {
    "duration": 520,
    "start_time": "2022-10-25T11:05:32.904Z"
   },
   {
    "duration": 438,
    "start_time": "2022-10-25T11:05:51.516Z"
   },
   {
    "duration": 434,
    "start_time": "2022-10-25T11:06:31.595Z"
   },
   {
    "duration": 439,
    "start_time": "2022-10-25T11:06:42.178Z"
   },
   {
    "duration": 449,
    "start_time": "2022-10-25T11:06:47.816Z"
   },
   {
    "duration": 505,
    "start_time": "2022-10-25T11:06:52.957Z"
   },
   {
    "duration": 425,
    "start_time": "2022-10-25T11:07:32.547Z"
   },
   {
    "duration": 434,
    "start_time": "2022-10-25T11:07:39.567Z"
   },
   {
    "duration": 449,
    "start_time": "2022-10-25T11:07:49.254Z"
   },
   {
    "duration": 513,
    "start_time": "2022-10-25T11:07:58.895Z"
   },
   {
    "duration": 472,
    "start_time": "2022-10-25T11:08:19.222Z"
   },
   {
    "duration": 516,
    "start_time": "2022-10-25T11:08:23.754Z"
   },
   {
    "duration": 63,
    "start_time": "2022-10-25T17:42:00.365Z"
   },
   {
    "duration": 1406,
    "start_time": "2022-10-25T17:42:08.081Z"
   },
   {
    "duration": 190,
    "start_time": "2022-10-25T17:42:09.491Z"
   },
   {
    "duration": 24,
    "start_time": "2022-10-25T17:42:09.683Z"
   },
   {
    "duration": 15,
    "start_time": "2022-10-25T17:42:09.709Z"
   },
   {
    "duration": 706,
    "start_time": "2022-10-25T17:42:09.726Z"
   },
   {
    "duration": 385,
    "start_time": "2022-10-25T17:42:10.434Z"
   },
   {
    "duration": 3,
    "start_time": "2022-10-25T17:42:10.821Z"
   },
   {
    "duration": 13,
    "start_time": "2022-10-25T17:42:10.826Z"
   },
   {
    "duration": 35,
    "start_time": "2022-10-25T17:42:10.840Z"
   },
   {
    "duration": 15,
    "start_time": "2022-10-25T17:42:10.877Z"
   },
   {
    "duration": 577,
    "start_time": "2022-10-25T17:42:10.893Z"
   },
   {
    "duration": 5,
    "start_time": "2022-10-25T17:42:11.471Z"
   },
   {
    "duration": 17,
    "start_time": "2022-10-25T17:42:11.483Z"
   },
   {
    "duration": 8,
    "start_time": "2022-10-25T17:42:11.504Z"
   },
   {
    "duration": 21,
    "start_time": "2022-10-25T17:42:11.514Z"
   },
   {
    "duration": 9,
    "start_time": "2022-10-25T17:42:11.536Z"
   },
   {
    "duration": 6,
    "start_time": "2022-10-25T17:42:11.547Z"
   },
   {
    "duration": 36,
    "start_time": "2022-10-25T17:42:11.555Z"
   },
   {
    "duration": 5,
    "start_time": "2022-10-25T17:42:11.594Z"
   },
   {
    "duration": 7,
    "start_time": "2022-10-25T17:42:11.601Z"
   },
   {
    "duration": 6,
    "start_time": "2022-10-25T17:42:11.611Z"
   },
   {
    "duration": 6,
    "start_time": "2022-10-25T17:42:11.619Z"
   },
   {
    "duration": 6,
    "start_time": "2022-10-25T17:42:11.626Z"
   },
   {
    "duration": 59,
    "start_time": "2022-10-25T17:42:11.634Z"
   },
   {
    "duration": 9,
    "start_time": "2022-10-25T17:42:11.695Z"
   },
   {
    "duration": 9,
    "start_time": "2022-10-25T17:42:11.707Z"
   },
   {
    "duration": 5,
    "start_time": "2022-10-25T17:42:11.718Z"
   },
   {
    "duration": 8,
    "start_time": "2022-10-25T17:42:11.724Z"
   },
   {
    "duration": 12,
    "start_time": "2022-10-25T17:42:11.733Z"
   },
   {
    "duration": 6,
    "start_time": "2022-10-25T17:42:11.746Z"
   },
   {
    "duration": 51,
    "start_time": "2022-10-25T17:42:11.753Z"
   },
   {
    "duration": 17,
    "start_time": "2022-10-25T17:42:11.807Z"
   },
   {
    "duration": 8,
    "start_time": "2022-10-25T17:42:11.826Z"
   },
   {
    "duration": 10,
    "start_time": "2022-10-25T17:42:11.835Z"
   },
   {
    "duration": 569,
    "start_time": "2022-10-25T17:42:11.847Z"
   },
   {
    "duration": 7,
    "start_time": "2022-10-25T17:42:12.418Z"
   },
   {
    "duration": 6,
    "start_time": "2022-10-25T17:42:12.427Z"
   },
   {
    "duration": 283,
    "start_time": "2022-10-25T17:42:12.435Z"
   },
   {
    "duration": 6,
    "start_time": "2022-10-25T17:42:12.720Z"
   },
   {
    "duration": 110,
    "start_time": "2022-10-25T17:42:12.728Z"
   },
   {
    "duration": 594,
    "start_time": "2022-10-25T17:45:56.846Z"
   },
   {
    "duration": 514,
    "start_time": "2022-10-25T17:46:02.879Z"
   },
   {
    "duration": 531,
    "start_time": "2022-10-25T17:46:12.345Z"
   },
   {
    "duration": 535,
    "start_time": "2022-10-25T17:46:18.587Z"
   },
   {
    "duration": 549,
    "start_time": "2022-10-25T17:46:30.097Z"
   },
   {
    "duration": 568,
    "start_time": "2022-10-25T17:46:53.105Z"
   },
   {
    "duration": 556,
    "start_time": "2022-10-25T17:46:58.181Z"
   },
   {
    "duration": 511,
    "start_time": "2022-10-25T17:56:49.425Z"
   },
   {
    "duration": 490,
    "start_time": "2022-10-25T17:56:52.914Z"
   },
   {
    "duration": 495,
    "start_time": "2022-10-25T17:56:58.519Z"
   },
   {
    "duration": 11,
    "start_time": "2022-10-25T18:42:10.000Z"
   },
   {
    "duration": 6,
    "start_time": "2022-10-25T18:42:56.231Z"
   },
   {
    "duration": 7,
    "start_time": "2022-10-25T18:43:11.468Z"
   },
   {
    "duration": 7,
    "start_time": "2022-10-25T18:43:18.658Z"
   },
   {
    "duration": 7,
    "start_time": "2022-10-25T18:43:38.898Z"
   },
   {
    "duration": 7,
    "start_time": "2022-10-25T18:44:13.786Z"
   },
   {
    "duration": 7,
    "start_time": "2022-10-25T18:44:28.738Z"
   },
   {
    "duration": 9,
    "start_time": "2022-10-25T18:44:44.551Z"
   },
   {
    "duration": 7,
    "start_time": "2022-10-25T18:46:58.928Z"
   },
   {
    "duration": 7,
    "start_time": "2022-10-25T18:47:05.842Z"
   },
   {
    "duration": 7,
    "start_time": "2022-10-25T18:47:17.035Z"
   },
   {
    "duration": 10,
    "start_time": "2022-10-25T18:47:30.378Z"
   },
   {
    "duration": 7,
    "start_time": "2022-10-25T18:47:38.351Z"
   },
   {
    "duration": 14,
    "start_time": "2022-10-25T18:49:22.232Z"
   },
   {
    "duration": 7,
    "start_time": "2022-10-25T18:49:33.861Z"
   },
   {
    "duration": 7,
    "start_time": "2022-10-25T18:50:44.051Z"
   },
   {
    "duration": 9,
    "start_time": "2022-10-25T18:50:57.237Z"
   },
   {
    "duration": 5,
    "start_time": "2022-10-25T18:54:20.618Z"
   },
   {
    "duration": 403,
    "start_time": "2022-10-25T18:56:10.381Z"
   },
   {
    "duration": 505,
    "start_time": "2022-10-25T18:56:32.698Z"
   },
   {
    "duration": 455,
    "start_time": "2022-10-25T18:56:42.998Z"
   },
   {
    "duration": 3,
    "start_time": "2022-10-25T18:58:03.441Z"
   },
   {
    "duration": 4,
    "start_time": "2022-10-25T18:58:06.760Z"
   },
   {
    "duration": 4,
    "start_time": "2022-10-25T18:58:21.908Z"
   },
   {
    "duration": 433,
    "start_time": "2022-10-25T19:03:38.873Z"
   },
   {
    "duration": 15,
    "start_time": "2022-10-25T19:28:25.213Z"
   },
   {
    "duration": 457,
    "start_time": "2022-10-25T19:29:50.471Z"
   },
   {
    "duration": 5,
    "start_time": "2022-10-25T19:30:54.466Z"
   },
   {
    "duration": 440,
    "start_time": "2022-10-25T19:31:41.982Z"
   },
   {
    "duration": 10,
    "start_time": "2022-10-25T19:37:16.710Z"
   },
   {
    "duration": 10,
    "start_time": "2022-10-25T19:38:04.305Z"
   },
   {
    "duration": 11,
    "start_time": "2022-10-25T19:38:16.213Z"
   },
   {
    "duration": 9,
    "start_time": "2022-10-25T19:38:31.564Z"
   },
   {
    "duration": 1054,
    "start_time": "2022-10-25T19:39:36.749Z"
   },
   {
    "duration": 51,
    "start_time": "2022-10-25T19:39:37.805Z"
   },
   {
    "duration": 18,
    "start_time": "2022-10-25T19:39:37.857Z"
   },
   {
    "duration": 14,
    "start_time": "2022-10-25T19:39:37.876Z"
   },
   {
    "duration": 619,
    "start_time": "2022-10-25T19:39:37.893Z"
   },
   {
    "duration": 287,
    "start_time": "2022-10-25T19:39:38.514Z"
   },
   {
    "duration": 3,
    "start_time": "2022-10-25T19:39:38.803Z"
   },
   {
    "duration": 11,
    "start_time": "2022-10-25T19:39:38.808Z"
   },
   {
    "duration": 29,
    "start_time": "2022-10-25T19:39:38.820Z"
   },
   {
    "duration": 8,
    "start_time": "2022-10-25T19:39:38.851Z"
   },
   {
    "duration": 558,
    "start_time": "2022-10-25T19:39:38.861Z"
   },
   {
    "duration": 4,
    "start_time": "2022-10-25T19:39:39.421Z"
   },
   {
    "duration": 19,
    "start_time": "2022-10-25T19:39:39.426Z"
   },
   {
    "duration": 12,
    "start_time": "2022-10-25T19:39:39.449Z"
   },
   {
    "duration": 33,
    "start_time": "2022-10-25T19:39:39.463Z"
   },
   {
    "duration": 8,
    "start_time": "2022-10-25T19:39:39.497Z"
   },
   {
    "duration": 20,
    "start_time": "2022-10-25T19:39:39.506Z"
   },
   {
    "duration": 17,
    "start_time": "2022-10-25T19:39:39.528Z"
   },
   {
    "duration": 23,
    "start_time": "2022-10-25T19:39:39.547Z"
   },
   {
    "duration": 11,
    "start_time": "2022-10-25T19:39:39.571Z"
   },
   {
    "duration": 12,
    "start_time": "2022-10-25T19:39:39.584Z"
   },
   {
    "duration": 21,
    "start_time": "2022-10-25T19:39:39.598Z"
   },
   {
    "duration": 25,
    "start_time": "2022-10-25T19:39:39.621Z"
   },
   {
    "duration": 33,
    "start_time": "2022-10-25T19:39:39.648Z"
   },
   {
    "duration": 15,
    "start_time": "2022-10-25T19:39:39.683Z"
   },
   {
    "duration": 14,
    "start_time": "2022-10-25T19:39:39.700Z"
   },
   {
    "duration": 23,
    "start_time": "2022-10-25T19:39:39.716Z"
   },
   {
    "duration": 6,
    "start_time": "2022-10-25T19:39:39.741Z"
   },
   {
    "duration": 13,
    "start_time": "2022-10-25T19:39:39.748Z"
   },
   {
    "duration": 11,
    "start_time": "2022-10-25T19:39:39.763Z"
   },
   {
    "duration": 13,
    "start_time": "2022-10-25T19:39:39.775Z"
   },
   {
    "duration": 26,
    "start_time": "2022-10-25T19:39:39.790Z"
   },
   {
    "duration": 9,
    "start_time": "2022-10-25T19:39:39.817Z"
   },
   {
    "duration": 20,
    "start_time": "2022-10-25T19:39:39.828Z"
   },
   {
    "duration": 461,
    "start_time": "2022-10-25T19:39:39.849Z"
   },
   {
    "duration": 538,
    "start_time": "2022-10-25T19:39:40.311Z"
   },
   {
    "duration": 4,
    "start_time": "2022-10-25T19:39:40.850Z"
   },
   {
    "duration": 105,
    "start_time": "2022-10-25T19:39:40.855Z"
   },
   {
    "duration": 0,
    "start_time": "2022-10-25T19:39:40.961Z"
   },
   {
    "duration": 0,
    "start_time": "2022-10-25T19:39:40.962Z"
   },
   {
    "duration": 0,
    "start_time": "2022-10-25T19:39:40.964Z"
   },
   {
    "duration": 0,
    "start_time": "2022-10-25T19:39:40.965Z"
   },
   {
    "duration": 0,
    "start_time": "2022-10-25T19:39:40.966Z"
   },
   {
    "duration": 4,
    "start_time": "2022-10-25T19:40:32.851Z"
   },
   {
    "duration": 67,
    "start_time": "2022-10-25T19:40:35.037Z"
   },
   {
    "duration": 186,
    "start_time": "2022-10-25T19:40:52.819Z"
   },
   {
    "duration": 53,
    "start_time": "2022-10-25T19:41:45.654Z"
   },
   {
    "duration": 47,
    "start_time": "2022-10-25T19:41:58.185Z"
   },
   {
    "duration": 43,
    "start_time": "2022-10-25T19:42:05.240Z"
   },
   {
    "duration": 55,
    "start_time": "2022-10-25T19:43:12.300Z"
   },
   {
    "duration": 42,
    "start_time": "2022-10-25T19:43:19.842Z"
   },
   {
    "duration": 58,
    "start_time": "2022-10-25T19:44:14.740Z"
   },
   {
    "duration": 67,
    "start_time": "2022-10-25T19:47:09.617Z"
   },
   {
    "duration": 66,
    "start_time": "2022-10-25T19:47:30.173Z"
   },
   {
    "duration": 44,
    "start_time": "2022-10-25T19:48:01.985Z"
   },
   {
    "duration": 430,
    "start_time": "2022-10-25T19:49:07.621Z"
   },
   {
    "duration": 43,
    "start_time": "2022-10-25T19:49:28.645Z"
   },
   {
    "duration": 44,
    "start_time": "2022-10-25T19:50:06.348Z"
   },
   {
    "duration": 45,
    "start_time": "2022-10-25T19:51:10.247Z"
   },
   {
    "duration": 44,
    "start_time": "2022-10-25T19:51:17.322Z"
   },
   {
    "duration": 43,
    "start_time": "2022-10-25T19:51:25.729Z"
   },
   {
    "duration": 40,
    "start_time": "2022-10-25T19:52:22.743Z"
   },
   {
    "duration": 26,
    "start_time": "2022-10-25T19:53:23.271Z"
   },
   {
    "duration": 44,
    "start_time": "2022-10-25T19:53:44.120Z"
   },
   {
    "duration": 9,
    "start_time": "2022-10-25T19:53:48.757Z"
   },
   {
    "duration": 26,
    "start_time": "2022-10-25T19:55:11.442Z"
   },
   {
    "duration": 25,
    "start_time": "2022-10-25T19:55:29.416Z"
   },
   {
    "duration": 21,
    "start_time": "2022-10-25T20:02:33.619Z"
   },
   {
    "duration": 23,
    "start_time": "2022-10-25T20:02:52.616Z"
   },
   {
    "duration": 46,
    "start_time": "2022-10-25T20:06:53.345Z"
   },
   {
    "duration": 44,
    "start_time": "2022-10-25T20:07:00.881Z"
   },
   {
    "duration": 46,
    "start_time": "2022-10-25T20:07:23.549Z"
   },
   {
    "duration": 132,
    "start_time": "2022-10-25T20:08:08.063Z"
   },
   {
    "duration": 48,
    "start_time": "2022-10-25T20:08:18.218Z"
   },
   {
    "duration": 44,
    "start_time": "2022-10-25T20:08:28.532Z"
   },
   {
    "duration": 43,
    "start_time": "2022-10-25T20:10:47.713Z"
   },
   {
    "duration": 46,
    "start_time": "2022-10-25T20:11:14.210Z"
   },
   {
    "duration": 185,
    "start_time": "2022-10-25T20:11:19.547Z"
   },
   {
    "duration": 45,
    "start_time": "2022-10-25T20:11:43.982Z"
   },
   {
    "duration": 44,
    "start_time": "2022-10-26T08:18:49.955Z"
   },
   {
    "duration": 1297,
    "start_time": "2022-10-26T08:19:02.799Z"
   },
   {
    "duration": 189,
    "start_time": "2022-10-26T08:19:04.098Z"
   },
   {
    "duration": 17,
    "start_time": "2022-10-26T08:19:04.288Z"
   },
   {
    "duration": 13,
    "start_time": "2022-10-26T08:19:04.307Z"
   },
   {
    "duration": 594,
    "start_time": "2022-10-26T08:19:04.321Z"
   },
   {
    "duration": 350,
    "start_time": "2022-10-26T08:19:04.916Z"
   },
   {
    "duration": 3,
    "start_time": "2022-10-26T08:19:05.267Z"
   },
   {
    "duration": 10,
    "start_time": "2022-10-26T08:19:05.272Z"
   },
   {
    "duration": 26,
    "start_time": "2022-10-26T08:19:05.283Z"
   },
   {
    "duration": 17,
    "start_time": "2022-10-26T08:19:05.312Z"
   },
   {
    "duration": 535,
    "start_time": "2022-10-26T08:19:05.330Z"
   },
   {
    "duration": 3,
    "start_time": "2022-10-26T08:19:05.867Z"
   },
   {
    "duration": 13,
    "start_time": "2022-10-26T08:19:05.872Z"
   },
   {
    "duration": 4,
    "start_time": "2022-10-26T08:19:05.886Z"
   },
   {
    "duration": 32,
    "start_time": "2022-10-26T08:19:05.891Z"
   },
   {
    "duration": 12,
    "start_time": "2022-10-26T08:19:05.925Z"
   },
   {
    "duration": 6,
    "start_time": "2022-10-26T08:19:05.939Z"
   },
   {
    "duration": 7,
    "start_time": "2022-10-26T08:19:05.946Z"
   },
   {
    "duration": 15,
    "start_time": "2022-10-26T08:19:05.955Z"
   },
   {
    "duration": 6,
    "start_time": "2022-10-26T08:19:05.972Z"
   },
   {
    "duration": 6,
    "start_time": "2022-10-26T08:19:05.980Z"
   },
   {
    "duration": 16,
    "start_time": "2022-10-26T08:19:05.987Z"
   },
   {
    "duration": 20,
    "start_time": "2022-10-26T08:19:06.006Z"
   },
   {
    "duration": 29,
    "start_time": "2022-10-26T08:19:06.028Z"
   },
   {
    "duration": 5,
    "start_time": "2022-10-26T08:19:06.059Z"
   },
   {
    "duration": 10,
    "start_time": "2022-10-26T08:19:06.066Z"
   },
   {
    "duration": 12,
    "start_time": "2022-10-26T08:19:06.078Z"
   },
   {
    "duration": 20,
    "start_time": "2022-10-26T08:19:06.093Z"
   },
   {
    "duration": 14,
    "start_time": "2022-10-26T08:19:06.122Z"
   },
   {
    "duration": 13,
    "start_time": "2022-10-26T08:19:06.138Z"
   },
   {
    "duration": 15,
    "start_time": "2022-10-26T08:19:06.153Z"
   },
   {
    "duration": 21,
    "start_time": "2022-10-26T08:19:06.170Z"
   },
   {
    "duration": 10,
    "start_time": "2022-10-26T08:19:06.193Z"
   },
   {
    "duration": 29,
    "start_time": "2022-10-26T08:19:06.204Z"
   },
   {
    "duration": 470,
    "start_time": "2022-10-26T08:19:06.234Z"
   },
   {
    "duration": 518,
    "start_time": "2022-10-26T08:19:06.706Z"
   },
   {
    "duration": 4,
    "start_time": "2022-10-26T08:19:07.226Z"
   },
   {
    "duration": 157,
    "start_time": "2022-10-26T08:19:07.231Z"
   },
   {
    "duration": 56,
    "start_time": "2022-10-26T08:19:07.390Z"
   },
   {
    "duration": 9,
    "start_time": "2022-10-26T08:19:07.448Z"
   },
   {
    "duration": 12,
    "start_time": "2022-10-26T08:19:07.460Z"
   },
   {
    "duration": 273,
    "start_time": "2022-10-26T08:19:07.523Z"
   },
   {
    "duration": 8,
    "start_time": "2022-10-26T08:19:07.797Z"
   },
   {
    "duration": 117,
    "start_time": "2022-10-26T08:19:07.806Z"
   },
   {
    "duration": 431,
    "start_time": "2022-10-26T08:19:53.784Z"
   },
   {
    "duration": 76,
    "start_time": "2022-10-26T08:20:20.105Z"
   },
   {
    "duration": 436,
    "start_time": "2022-10-26T08:20:28.686Z"
   },
   {
    "duration": 494,
    "start_time": "2022-10-26T08:20:59.646Z"
   },
   {
    "duration": 5,
    "start_time": "2022-10-26T08:22:00.467Z"
   },
   {
    "duration": 42,
    "start_time": "2022-10-26T08:23:36.667Z"
   },
   {
    "duration": 46,
    "start_time": "2022-10-26T08:23:42.295Z"
   },
   {
    "duration": 48,
    "start_time": "2022-10-26T08:23:54.542Z"
   },
   {
    "duration": 39,
    "start_time": "2022-10-26T08:24:01.971Z"
   },
   {
    "duration": 42,
    "start_time": "2022-10-26T08:24:09.915Z"
   },
   {
    "duration": 4,
    "start_time": "2022-10-26T08:24:17.003Z"
   },
   {
    "duration": 43,
    "start_time": "2022-10-26T08:24:46.379Z"
   },
   {
    "duration": 46,
    "start_time": "2022-10-26T08:24:54.455Z"
   },
   {
    "duration": 59,
    "start_time": "2022-10-26T08:25:19.342Z"
   },
   {
    "duration": 49,
    "start_time": "2022-10-26T08:27:57.160Z"
   },
   {
    "duration": 161,
    "start_time": "2022-10-26T08:28:28.301Z"
   },
   {
    "duration": 150,
    "start_time": "2022-10-26T08:28:43.447Z"
   },
   {
    "duration": 150,
    "start_time": "2022-10-26T08:29:03.147Z"
   },
   {
    "duration": 54,
    "start_time": "2022-10-26T08:30:17.562Z"
   },
   {
    "duration": 437,
    "start_time": "2022-10-26T08:33:00.101Z"
   },
   {
    "duration": 466,
    "start_time": "2022-10-26T08:33:09.512Z"
   },
   {
    "duration": 447,
    "start_time": "2022-10-26T08:33:17.507Z"
   },
   {
    "duration": 512,
    "start_time": "2022-10-26T08:33:26.847Z"
   },
   {
    "duration": 432,
    "start_time": "2022-10-26T08:33:44.706Z"
   },
   {
    "duration": 461,
    "start_time": "2022-10-26T08:33:59.747Z"
   },
   {
    "duration": 512,
    "start_time": "2022-10-26T08:34:05.581Z"
   },
   {
    "duration": 493,
    "start_time": "2022-10-26T08:34:11.048Z"
   },
   {
    "duration": 431,
    "start_time": "2022-10-26T08:34:19.646Z"
   },
   {
    "duration": 519,
    "start_time": "2022-10-26T08:34:42.148Z"
   },
   {
    "duration": 126,
    "start_time": "2022-10-26T08:35:24.079Z"
   },
   {
    "duration": 74,
    "start_time": "2022-10-26T08:35:42.584Z"
   },
   {
    "duration": 46,
    "start_time": "2022-10-26T08:35:49.211Z"
   },
   {
    "duration": 68,
    "start_time": "2022-10-26T08:39:20.047Z"
   },
   {
    "duration": 71,
    "start_time": "2022-10-26T08:39:25.285Z"
   },
   {
    "duration": 184,
    "start_time": "2022-10-26T08:39:37.945Z"
   },
   {
    "duration": 63,
    "start_time": "2022-10-26T08:39:47.884Z"
   },
   {
    "duration": 24,
    "start_time": "2022-10-26T08:40:09.286Z"
   },
   {
    "duration": 44,
    "start_time": "2022-10-26T08:40:17.047Z"
   },
   {
    "duration": 11,
    "start_time": "2022-10-26T09:48:01.656Z"
   },
   {
    "duration": 1326,
    "start_time": "2022-10-26T09:48:13.370Z"
   },
   {
    "duration": 1035,
    "start_time": "2022-10-26T09:49:13.934Z"
   },
   {
    "duration": 18,
    "start_time": "2022-10-26T09:50:03.745Z"
   },
   {
    "duration": 1174,
    "start_time": "2022-10-26T09:50:14.338Z"
   },
   {
    "duration": 74,
    "start_time": "2022-10-26T09:52:17.238Z"
   },
   {
    "duration": 965,
    "start_time": "2022-10-26T09:52:32.369Z"
   },
   {
    "duration": 88,
    "start_time": "2022-10-26T09:56:09.681Z"
   },
   {
    "duration": 98,
    "start_time": "2022-10-26T09:56:26.041Z"
   },
   {
    "duration": 70,
    "start_time": "2022-10-26T09:56:33.880Z"
   },
   {
    "duration": 68,
    "start_time": "2022-10-26T09:56:40.549Z"
   },
   {
    "duration": 101,
    "start_time": "2022-10-26T09:56:56.935Z"
   },
   {
    "duration": 77,
    "start_time": "2022-10-26T10:32:18.282Z"
   },
   {
    "duration": 146,
    "start_time": "2022-10-26T10:35:27.306Z"
   },
   {
    "duration": 76,
    "start_time": "2022-10-26T10:35:39.132Z"
   },
   {
    "duration": 83,
    "start_time": "2022-10-26T10:36:11.385Z"
   },
   {
    "duration": 83,
    "start_time": "2022-10-26T10:36:22.202Z"
   },
   {
    "duration": 85,
    "start_time": "2022-10-26T10:36:28.460Z"
   },
   {
    "duration": 158,
    "start_time": "2022-10-26T10:36:55.730Z"
   },
   {
    "duration": 74,
    "start_time": "2022-10-26T10:37:15.398Z"
   },
   {
    "duration": 80,
    "start_time": "2022-10-26T10:42:03.134Z"
   },
   {
    "duration": 83,
    "start_time": "2022-10-26T10:42:29.732Z"
   },
   {
    "duration": 73,
    "start_time": "2022-10-26T10:43:03.912Z"
   },
   {
    "duration": 75,
    "start_time": "2022-10-26T10:43:24.917Z"
   },
   {
    "duration": 75,
    "start_time": "2022-10-26T10:43:28.012Z"
   },
   {
    "duration": 81,
    "start_time": "2022-10-26T10:43:52.977Z"
   },
   {
    "duration": 73,
    "start_time": "2022-10-26T10:44:10.645Z"
   },
   {
    "duration": 83,
    "start_time": "2022-10-26T10:44:35.310Z"
   },
   {
    "duration": 67,
    "start_time": "2022-10-26T10:45:11.969Z"
   },
   {
    "duration": 78,
    "start_time": "2022-10-26T10:45:20.844Z"
   },
   {
    "duration": 84,
    "start_time": "2022-10-26T10:45:30.948Z"
   },
   {
    "duration": 75,
    "start_time": "2022-10-26T10:45:35.091Z"
   },
   {
    "duration": 75,
    "start_time": "2022-10-26T10:46:04.391Z"
   },
   {
    "duration": 108,
    "start_time": "2022-10-26T10:46:20.953Z"
   },
   {
    "duration": 72,
    "start_time": "2022-10-26T10:48:13.953Z"
   },
   {
    "duration": 3,
    "start_time": "2022-10-26T10:48:40.718Z"
   },
   {
    "duration": 5,
    "start_time": "2022-10-26T10:48:45.423Z"
   },
   {
    "duration": 111,
    "start_time": "2022-10-26T11:10:37.530Z"
   },
   {
    "duration": 83,
    "start_time": "2022-10-26T11:10:57.252Z"
   },
   {
    "duration": 84,
    "start_time": "2022-10-26T11:11:56.160Z"
   },
   {
    "duration": 82,
    "start_time": "2022-10-26T11:12:15.344Z"
   },
   {
    "duration": 74,
    "start_time": "2022-10-26T11:13:22.022Z"
   },
   {
    "duration": 79,
    "start_time": "2022-10-26T11:13:50.079Z"
   },
   {
    "duration": 205,
    "start_time": "2022-10-26T11:25:35.747Z"
   },
   {
    "duration": 369,
    "start_time": "2022-10-26T11:25:48.445Z"
   },
   {
    "duration": 186,
    "start_time": "2022-10-26T11:25:55.156Z"
   },
   {
    "duration": 123,
    "start_time": "2022-10-26T11:26:18.252Z"
   },
   {
    "duration": 121,
    "start_time": "2022-10-26T11:26:25.806Z"
   },
   {
    "duration": 12,
    "start_time": "2022-10-26T11:27:46.055Z"
   },
   {
    "duration": 63,
    "start_time": "2022-10-26T11:28:27.512Z"
   },
   {
    "duration": 95,
    "start_time": "2022-10-26T11:28:33.951Z"
   },
   {
    "duration": 65,
    "start_time": "2022-10-26T11:29:42.497Z"
   },
   {
    "duration": 63,
    "start_time": "2022-10-26T11:29:54.663Z"
   },
   {
    "duration": 72,
    "start_time": "2022-10-26T11:29:57.760Z"
   },
   {
    "duration": 62,
    "start_time": "2022-10-26T11:30:06.612Z"
   },
   {
    "duration": 100,
    "start_time": "2022-10-26T11:30:16.062Z"
   },
   {
    "duration": 106,
    "start_time": "2022-10-26T11:30:30.781Z"
   },
   {
    "duration": 53,
    "start_time": "2022-10-26T11:30:36.490Z"
   },
   {
    "duration": 54,
    "start_time": "2022-10-26T11:30:43.258Z"
   },
   {
    "duration": 93,
    "start_time": "2022-10-26T11:30:54.420Z"
   },
   {
    "duration": 105,
    "start_time": "2022-10-26T11:31:21.138Z"
   },
   {
    "duration": 55,
    "start_time": "2022-10-26T11:31:45.286Z"
   },
   {
    "duration": 60,
    "start_time": "2022-10-26T11:31:59.016Z"
   },
   {
    "duration": 63,
    "start_time": "2022-10-26T11:32:13.331Z"
   },
   {
    "duration": 74,
    "start_time": "2022-10-26T11:39:09.515Z"
   },
   {
    "duration": 54,
    "start_time": "2022-10-26T11:39:16.452Z"
   },
   {
    "duration": 42,
    "start_time": "2022-10-26T11:40:23.511Z"
   },
   {
    "duration": 98,
    "start_time": "2022-10-26T11:40:27.808Z"
   },
   {
    "duration": 55,
    "start_time": "2022-10-26T11:40:55.189Z"
   },
   {
    "duration": 55,
    "start_time": "2022-10-26T11:40:59.558Z"
   },
   {
    "duration": 81,
    "start_time": "2022-10-26T11:41:46.094Z"
   },
   {
    "duration": 61,
    "start_time": "2022-10-26T11:41:52.575Z"
   },
   {
    "duration": 57,
    "start_time": "2022-10-26T11:41:58.043Z"
   },
   {
    "duration": 31,
    "start_time": "2022-10-26T12:15:53.624Z"
   },
   {
    "duration": 28,
    "start_time": "2022-10-26T12:15:56.286Z"
   },
   {
    "duration": 56,
    "start_time": "2022-10-26T12:16:08.576Z"
   },
   {
    "duration": 61,
    "start_time": "2022-10-26T12:17:30.838Z"
   },
   {
    "duration": 28,
    "start_time": "2022-10-26T12:22:24.313Z"
   },
   {
    "duration": 68,
    "start_time": "2022-10-26T12:31:47.013Z"
   },
   {
    "duration": 831,
    "start_time": "2022-10-26T12:31:51.959Z"
   },
   {
    "duration": 752,
    "start_time": "2022-10-26T12:32:38.925Z"
   },
   {
    "duration": 759,
    "start_time": "2022-10-26T12:32:46.698Z"
   },
   {
    "duration": 872,
    "start_time": "2022-10-26T12:32:58.569Z"
   },
   {
    "duration": 735,
    "start_time": "2022-10-26T12:33:08.605Z"
   },
   {
    "duration": 740,
    "start_time": "2022-10-26T12:33:13.789Z"
   },
   {
    "duration": 990,
    "start_time": "2022-10-26T12:33:30.540Z"
   },
   {
    "duration": 760,
    "start_time": "2022-10-26T12:33:37.282Z"
   },
   {
    "duration": 817,
    "start_time": "2022-10-26T12:33:48.511Z"
   },
   {
    "duration": 964,
    "start_time": "2022-10-26T12:33:56.019Z"
   },
   {
    "duration": 647,
    "start_time": "2022-10-26T12:34:53.338Z"
   },
   {
    "duration": 782,
    "start_time": "2022-10-26T12:35:04.086Z"
   },
   {
    "duration": 889,
    "start_time": "2022-10-26T12:35:21.220Z"
   },
   {
    "duration": 1087,
    "start_time": "2022-10-26T12:35:32.664Z"
   },
   {
    "duration": 51,
    "start_time": "2022-10-26T12:35:33.753Z"
   },
   {
    "duration": 16,
    "start_time": "2022-10-26T12:35:33.806Z"
   },
   {
    "duration": 30,
    "start_time": "2022-10-26T12:35:33.824Z"
   },
   {
    "duration": 606,
    "start_time": "2022-10-26T12:35:33.856Z"
   },
   {
    "duration": 303,
    "start_time": "2022-10-26T12:35:34.463Z"
   },
   {
    "duration": 4,
    "start_time": "2022-10-26T12:35:34.768Z"
   },
   {
    "duration": 13,
    "start_time": "2022-10-26T12:35:34.774Z"
   },
   {
    "duration": 39,
    "start_time": "2022-10-26T12:35:34.789Z"
   },
   {
    "duration": 8,
    "start_time": "2022-10-26T12:35:34.832Z"
   },
   {
    "duration": 556,
    "start_time": "2022-10-26T12:35:34.842Z"
   },
   {
    "duration": 4,
    "start_time": "2022-10-26T12:35:35.400Z"
   },
   {
    "duration": 18,
    "start_time": "2022-10-26T12:35:35.406Z"
   },
   {
    "duration": 16,
    "start_time": "2022-10-26T12:35:35.425Z"
   },
   {
    "duration": 17,
    "start_time": "2022-10-26T12:35:35.442Z"
   },
   {
    "duration": 13,
    "start_time": "2022-10-26T12:35:35.460Z"
   },
   {
    "duration": 9,
    "start_time": "2022-10-26T12:35:35.474Z"
   },
   {
    "duration": 8,
    "start_time": "2022-10-26T12:35:35.484Z"
   },
   {
    "duration": 14,
    "start_time": "2022-10-26T12:35:35.493Z"
   },
   {
    "duration": 7,
    "start_time": "2022-10-26T12:35:35.508Z"
   },
   {
    "duration": 20,
    "start_time": "2022-10-26T12:35:35.516Z"
   },
   {
    "duration": 19,
    "start_time": "2022-10-26T12:35:35.537Z"
   },
   {
    "duration": 26,
    "start_time": "2022-10-26T12:35:35.558Z"
   },
   {
    "duration": 19,
    "start_time": "2022-10-26T12:35:35.585Z"
   },
   {
    "duration": 9,
    "start_time": "2022-10-26T12:35:35.605Z"
   },
   {
    "duration": 18,
    "start_time": "2022-10-26T12:35:35.615Z"
   },
   {
    "duration": 8,
    "start_time": "2022-10-26T12:35:35.634Z"
   },
   {
    "duration": 6,
    "start_time": "2022-10-26T12:35:35.646Z"
   },
   {
    "duration": 12,
    "start_time": "2022-10-26T12:35:35.654Z"
   },
   {
    "duration": 9,
    "start_time": "2022-10-26T12:35:35.668Z"
   },
   {
    "duration": 10,
    "start_time": "2022-10-26T12:35:35.679Z"
   },
   {
    "duration": 18,
    "start_time": "2022-10-26T12:35:35.690Z"
   },
   {
    "duration": 21,
    "start_time": "2022-10-26T12:35:35.709Z"
   },
   {
    "duration": 18,
    "start_time": "2022-10-26T12:35:35.731Z"
   },
   {
    "duration": 550,
    "start_time": "2022-10-26T12:35:35.750Z"
   },
   {
    "duration": 554,
    "start_time": "2022-10-26T12:35:36.301Z"
   },
   {
    "duration": 4,
    "start_time": "2022-10-26T12:35:36.857Z"
   },
   {
    "duration": 151,
    "start_time": "2022-10-26T12:35:36.863Z"
   },
   {
    "duration": 80,
    "start_time": "2022-10-26T12:35:37.016Z"
   },
   {
    "duration": 36,
    "start_time": "2022-10-26T12:35:37.098Z"
   },
   {
    "duration": 8,
    "start_time": "2022-10-26T12:35:37.136Z"
   },
   {
    "duration": 10,
    "start_time": "2022-10-26T12:35:37.146Z"
   },
   {
    "duration": 437,
    "start_time": "2022-10-26T12:35:37.157Z"
   },
   {
    "duration": 27,
    "start_time": "2022-10-26T12:35:37.596Z"
   },
   {
    "duration": 106,
    "start_time": "2022-10-26T12:35:37.625Z"
   },
   {
    "duration": 12,
    "start_time": "2022-10-26T12:35:57.627Z"
   },
   {
    "duration": 761,
    "start_time": "2022-10-26T12:36:08.354Z"
   },
   {
    "duration": 1090,
    "start_time": "2022-10-26T12:36:16.037Z"
   },
   {
    "duration": 53,
    "start_time": "2022-10-26T12:36:17.129Z"
   },
   {
    "duration": 20,
    "start_time": "2022-10-26T12:36:17.183Z"
   },
   {
    "duration": 14,
    "start_time": "2022-10-26T12:36:17.205Z"
   },
   {
    "duration": 618,
    "start_time": "2022-10-26T12:36:17.222Z"
   },
   {
    "duration": 292,
    "start_time": "2022-10-26T12:36:17.841Z"
   },
   {
    "duration": 3,
    "start_time": "2022-10-26T12:36:18.135Z"
   },
   {
    "duration": 9,
    "start_time": "2022-10-26T12:36:18.139Z"
   },
   {
    "duration": 23,
    "start_time": "2022-10-26T12:36:18.150Z"
   },
   {
    "duration": 9,
    "start_time": "2022-10-26T12:36:18.174Z"
   },
   {
    "duration": 562,
    "start_time": "2022-10-26T12:36:18.184Z"
   },
   {
    "duration": 4,
    "start_time": "2022-10-26T12:36:18.748Z"
   },
   {
    "duration": 12,
    "start_time": "2022-10-26T12:36:18.753Z"
   },
   {
    "duration": 3,
    "start_time": "2022-10-26T12:36:18.768Z"
   },
   {
    "duration": 15,
    "start_time": "2022-10-26T12:36:18.773Z"
   },
   {
    "duration": 7,
    "start_time": "2022-10-26T12:36:18.790Z"
   },
   {
    "duration": 7,
    "start_time": "2022-10-26T12:36:18.821Z"
   },
   {
    "duration": 8,
    "start_time": "2022-10-26T12:36:18.830Z"
   },
   {
    "duration": 9,
    "start_time": "2022-10-26T12:36:18.840Z"
   },
   {
    "duration": 9,
    "start_time": "2022-10-26T12:36:18.850Z"
   },
   {
    "duration": 11,
    "start_time": "2022-10-26T12:36:18.861Z"
   },
   {
    "duration": 20,
    "start_time": "2022-10-26T12:36:18.874Z"
   },
   {
    "duration": 11,
    "start_time": "2022-10-26T12:36:18.896Z"
   },
   {
    "duration": 41,
    "start_time": "2022-10-26T12:36:18.909Z"
   },
   {
    "duration": 13,
    "start_time": "2022-10-26T12:36:18.952Z"
   },
   {
    "duration": 17,
    "start_time": "2022-10-26T12:36:18.967Z"
   },
   {
    "duration": 7,
    "start_time": "2022-10-26T12:36:18.985Z"
   },
   {
    "duration": 23,
    "start_time": "2022-10-26T12:36:18.993Z"
   },
   {
    "duration": 12,
    "start_time": "2022-10-26T12:36:19.018Z"
   },
   {
    "duration": 9,
    "start_time": "2022-10-26T12:36:19.031Z"
   },
   {
    "duration": 13,
    "start_time": "2022-10-26T12:36:19.041Z"
   },
   {
    "duration": 14,
    "start_time": "2022-10-26T12:36:19.055Z"
   },
   {
    "duration": 8,
    "start_time": "2022-10-26T12:36:19.071Z"
   },
   {
    "duration": 11,
    "start_time": "2022-10-26T12:36:19.081Z"
   },
   {
    "duration": 531,
    "start_time": "2022-10-26T12:36:19.093Z"
   },
   {
    "duration": 532,
    "start_time": "2022-10-26T12:36:19.626Z"
   },
   {
    "duration": 5,
    "start_time": "2022-10-26T12:36:20.160Z"
   },
   {
    "duration": 187,
    "start_time": "2022-10-26T12:36:20.166Z"
   },
   {
    "duration": 120,
    "start_time": "2022-10-26T12:36:20.355Z"
   },
   {
    "duration": 61,
    "start_time": "2022-10-26T12:36:20.477Z"
   },
   {
    "duration": 6,
    "start_time": "2022-10-26T12:36:20.541Z"
   },
   {
    "duration": 16,
    "start_time": "2022-10-26T12:36:20.548Z"
   },
   {
    "duration": 249,
    "start_time": "2022-10-26T12:36:20.565Z"
   },
   {
    "duration": 6,
    "start_time": "2022-10-26T12:36:20.821Z"
   },
   {
    "duration": 104,
    "start_time": "2022-10-26T12:36:20.829Z"
   },
   {
    "duration": 738,
    "start_time": "2022-10-26T12:36:39.736Z"
   },
   {
    "duration": 1141,
    "start_time": "2022-10-26T12:36:47.708Z"
   },
   {
    "duration": 55,
    "start_time": "2022-10-26T12:36:48.851Z"
   },
   {
    "duration": 19,
    "start_time": "2022-10-26T12:36:48.908Z"
   },
   {
    "duration": 27,
    "start_time": "2022-10-26T12:36:48.929Z"
   },
   {
    "duration": 706,
    "start_time": "2022-10-26T12:36:48.958Z"
   },
   {
    "duration": 425,
    "start_time": "2022-10-26T12:36:49.666Z"
   },
   {
    "duration": 3,
    "start_time": "2022-10-26T12:36:50.093Z"
   },
   {
    "duration": 20,
    "start_time": "2022-10-26T12:36:50.098Z"
   },
   {
    "duration": 48,
    "start_time": "2022-10-26T12:36:50.119Z"
   },
   {
    "duration": 10,
    "start_time": "2022-10-26T12:36:50.169Z"
   },
   {
    "duration": 1066,
    "start_time": "2022-10-26T12:36:50.181Z"
   },
   {
    "duration": 4,
    "start_time": "2022-10-26T12:36:51.248Z"
   },
   {
    "duration": 15,
    "start_time": "2022-10-26T12:36:51.253Z"
   },
   {
    "duration": 4,
    "start_time": "2022-10-26T12:36:51.271Z"
   },
   {
    "duration": 18,
    "start_time": "2022-10-26T12:36:51.277Z"
   },
   {
    "duration": 32,
    "start_time": "2022-10-26T12:36:51.297Z"
   },
   {
    "duration": 7,
    "start_time": "2022-10-26T12:36:51.330Z"
   },
   {
    "duration": 14,
    "start_time": "2022-10-26T12:36:51.338Z"
   },
   {
    "duration": 10,
    "start_time": "2022-10-26T12:36:51.354Z"
   },
   {
    "duration": 10,
    "start_time": "2022-10-26T12:36:51.366Z"
   },
   {
    "duration": 12,
    "start_time": "2022-10-26T12:36:51.378Z"
   },
   {
    "duration": 11,
    "start_time": "2022-10-26T12:36:51.392Z"
   },
   {
    "duration": 22,
    "start_time": "2022-10-26T12:36:51.404Z"
   },
   {
    "duration": 33,
    "start_time": "2022-10-26T12:36:51.428Z"
   },
   {
    "duration": 7,
    "start_time": "2022-10-26T12:36:51.464Z"
   },
   {
    "duration": 13,
    "start_time": "2022-10-26T12:36:51.473Z"
   },
   {
    "duration": 107,
    "start_time": "2022-10-26T12:36:51.488Z"
   },
   {
    "duration": 23,
    "start_time": "2022-10-26T12:36:51.597Z"
   },
   {
    "duration": 32,
    "start_time": "2022-10-26T12:36:51.621Z"
   },
   {
    "duration": 18,
    "start_time": "2022-10-26T12:36:51.655Z"
   },
   {
    "duration": 15,
    "start_time": "2022-10-26T12:36:51.675Z"
   },
   {
    "duration": 32,
    "start_time": "2022-10-26T12:36:51.691Z"
   },
   {
    "duration": 13,
    "start_time": "2022-10-26T12:36:51.729Z"
   },
   {
    "duration": 16,
    "start_time": "2022-10-26T12:36:51.744Z"
   },
   {
    "duration": 570,
    "start_time": "2022-10-26T12:36:51.762Z"
   },
   {
    "duration": 562,
    "start_time": "2022-10-26T12:36:52.334Z"
   },
   {
    "duration": 4,
    "start_time": "2022-10-26T12:36:52.898Z"
   },
   {
    "duration": 166,
    "start_time": "2022-10-26T12:36:52.904Z"
   },
   {
    "duration": 174,
    "start_time": "2022-10-26T12:36:53.072Z"
   },
   {
    "duration": 32,
    "start_time": "2022-10-26T12:36:53.248Z"
   },
   {
    "duration": 7,
    "start_time": "2022-10-26T12:36:53.284Z"
   },
   {
    "duration": 33,
    "start_time": "2022-10-26T12:36:53.293Z"
   },
   {
    "duration": 291,
    "start_time": "2022-10-26T12:36:53.328Z"
   },
   {
    "duration": 7,
    "start_time": "2022-10-26T12:36:53.621Z"
   },
   {
    "duration": 122,
    "start_time": "2022-10-26T12:36:53.629Z"
   },
   {
    "duration": 801,
    "start_time": "2022-10-26T12:37:11.662Z"
   },
   {
    "duration": 1108,
    "start_time": "2022-10-26T12:37:22.773Z"
   },
   {
    "duration": 53,
    "start_time": "2022-10-26T12:37:23.883Z"
   },
   {
    "duration": 21,
    "start_time": "2022-10-26T12:37:23.937Z"
   },
   {
    "duration": 17,
    "start_time": "2022-10-26T12:37:23.959Z"
   },
   {
    "duration": 647,
    "start_time": "2022-10-26T12:37:23.978Z"
   },
   {
    "duration": 298,
    "start_time": "2022-10-26T12:37:24.627Z"
   },
   {
    "duration": 5,
    "start_time": "2022-10-26T12:37:24.927Z"
   },
   {
    "duration": 8,
    "start_time": "2022-10-26T12:37:24.934Z"
   },
   {
    "duration": 25,
    "start_time": "2022-10-26T12:37:24.943Z"
   },
   {
    "duration": 9,
    "start_time": "2022-10-26T12:37:24.969Z"
   },
   {
    "duration": 690,
    "start_time": "2022-10-26T12:37:24.980Z"
   },
   {
    "duration": 4,
    "start_time": "2022-10-26T12:37:25.672Z"
   },
   {
    "duration": 12,
    "start_time": "2022-10-26T12:37:25.677Z"
   },
   {
    "duration": 4,
    "start_time": "2022-10-26T12:37:25.691Z"
   },
   {
    "duration": 27,
    "start_time": "2022-10-26T12:37:25.696Z"
   },
   {
    "duration": 14,
    "start_time": "2022-10-26T12:37:25.725Z"
   },
   {
    "duration": 8,
    "start_time": "2022-10-26T12:37:25.740Z"
   },
   {
    "duration": 9,
    "start_time": "2022-10-26T12:37:25.749Z"
   },
   {
    "duration": 8,
    "start_time": "2022-10-26T12:37:25.760Z"
   },
   {
    "duration": 8,
    "start_time": "2022-10-26T12:37:25.770Z"
   },
   {
    "duration": 10,
    "start_time": "2022-10-26T12:37:25.779Z"
   },
   {
    "duration": 9,
    "start_time": "2022-10-26T12:37:25.790Z"
   },
   {
    "duration": 13,
    "start_time": "2022-10-26T12:37:25.800Z"
   },
   {
    "duration": 26,
    "start_time": "2022-10-26T12:37:25.815Z"
   },
   {
    "duration": 5,
    "start_time": "2022-10-26T12:37:25.843Z"
   },
   {
    "duration": 9,
    "start_time": "2022-10-26T12:37:25.849Z"
   },
   {
    "duration": 5,
    "start_time": "2022-10-26T12:37:25.860Z"
   },
   {
    "duration": 7,
    "start_time": "2022-10-26T12:37:25.866Z"
   },
   {
    "duration": 10,
    "start_time": "2022-10-26T12:37:25.874Z"
   },
   {
    "duration": 3,
    "start_time": "2022-10-26T12:37:25.886Z"
   },
   {
    "duration": 11,
    "start_time": "2022-10-26T12:37:25.891Z"
   },
   {
    "duration": 13,
    "start_time": "2022-10-26T12:37:25.904Z"
   },
   {
    "duration": 8,
    "start_time": "2022-10-26T12:37:25.918Z"
   },
   {
    "duration": 12,
    "start_time": "2022-10-26T12:37:25.928Z"
   },
   {
    "duration": 770,
    "start_time": "2022-10-26T12:37:25.942Z"
   },
   {
    "duration": 708,
    "start_time": "2022-10-26T12:37:26.714Z"
   },
   {
    "duration": 4,
    "start_time": "2022-10-26T12:37:27.423Z"
   },
   {
    "duration": 168,
    "start_time": "2022-10-26T12:37:27.429Z"
   },
   {
    "duration": 154,
    "start_time": "2022-10-26T12:37:27.599Z"
   },
   {
    "duration": 31,
    "start_time": "2022-10-26T12:37:27.754Z"
   },
   {
    "duration": 8,
    "start_time": "2022-10-26T12:37:27.789Z"
   },
   {
    "duration": 9,
    "start_time": "2022-10-26T12:37:27.821Z"
   },
   {
    "duration": 254,
    "start_time": "2022-10-26T12:37:27.832Z"
   },
   {
    "duration": 6,
    "start_time": "2022-10-26T12:37:28.088Z"
   },
   {
    "duration": 128,
    "start_time": "2022-10-26T12:37:28.095Z"
   },
   {
    "duration": 10,
    "start_time": "2022-10-26T12:51:34.922Z"
   },
   {
    "duration": 1273,
    "start_time": "2022-10-26T12:52:20.812Z"
   },
   {
    "duration": 285,
    "start_time": "2022-10-26T12:56:47.040Z"
   },
   {
    "duration": 97,
    "start_time": "2022-10-26T12:59:21.043Z"
   },
   {
    "duration": 73,
    "start_time": "2022-10-26T12:59:34.952Z"
   },
   {
    "duration": 393,
    "start_time": "2022-10-26T13:00:03.223Z"
   },
   {
    "duration": 296,
    "start_time": "2022-10-26T13:01:18.060Z"
   },
   {
    "duration": 1243,
    "start_time": "2022-10-26T13:04:23.778Z"
   },
   {
    "duration": 1292,
    "start_time": "2022-10-26T13:04:38.785Z"
   },
   {
    "duration": 1272,
    "start_time": "2022-10-26T13:05:10.163Z"
   },
   {
    "duration": 53,
    "start_time": "2022-10-26T13:05:11.437Z"
   },
   {
    "duration": 24,
    "start_time": "2022-10-26T13:05:11.492Z"
   },
   {
    "duration": 16,
    "start_time": "2022-10-26T13:05:11.518Z"
   },
   {
    "duration": 697,
    "start_time": "2022-10-26T13:05:11.537Z"
   },
   {
    "duration": 296,
    "start_time": "2022-10-26T13:05:12.236Z"
   },
   {
    "duration": 3,
    "start_time": "2022-10-26T13:05:12.534Z"
   },
   {
    "duration": 23,
    "start_time": "2022-10-26T13:05:12.538Z"
   },
   {
    "duration": 33,
    "start_time": "2022-10-26T13:05:12.562Z"
   },
   {
    "duration": 9,
    "start_time": "2022-10-26T13:05:12.597Z"
   },
   {
    "duration": 555,
    "start_time": "2022-10-26T13:05:12.608Z"
   },
   {
    "duration": 5,
    "start_time": "2022-10-26T13:05:13.165Z"
   },
   {
    "duration": 24,
    "start_time": "2022-10-26T13:05:13.172Z"
   },
   {
    "duration": 5,
    "start_time": "2022-10-26T13:05:13.200Z"
   },
   {
    "duration": 29,
    "start_time": "2022-10-26T13:05:13.207Z"
   },
   {
    "duration": 10,
    "start_time": "2022-10-26T13:05:13.238Z"
   },
   {
    "duration": 6,
    "start_time": "2022-10-26T13:05:13.250Z"
   },
   {
    "duration": 11,
    "start_time": "2022-10-26T13:05:13.258Z"
   },
   {
    "duration": 8,
    "start_time": "2022-10-26T13:05:13.271Z"
   },
   {
    "duration": 8,
    "start_time": "2022-10-26T13:05:13.280Z"
   },
   {
    "duration": 41,
    "start_time": "2022-10-26T13:05:13.290Z"
   },
   {
    "duration": 9,
    "start_time": "2022-10-26T13:05:13.333Z"
   },
   {
    "duration": 18,
    "start_time": "2022-10-26T13:05:13.344Z"
   },
   {
    "duration": 36,
    "start_time": "2022-10-26T13:05:13.364Z"
   },
   {
    "duration": 6,
    "start_time": "2022-10-26T13:05:13.402Z"
   },
   {
    "duration": 15,
    "start_time": "2022-10-26T13:05:13.410Z"
   },
   {
    "duration": 16,
    "start_time": "2022-10-26T13:05:13.426Z"
   },
   {
    "duration": 12,
    "start_time": "2022-10-26T13:05:13.444Z"
   },
   {
    "duration": 22,
    "start_time": "2022-10-26T13:05:13.458Z"
   },
   {
    "duration": 4,
    "start_time": "2022-10-26T13:05:13.483Z"
   },
   {
    "duration": 16,
    "start_time": "2022-10-26T13:05:13.489Z"
   },
   {
    "duration": 16,
    "start_time": "2022-10-26T13:05:13.506Z"
   },
   {
    "duration": 8,
    "start_time": "2022-10-26T13:05:13.524Z"
   },
   {
    "duration": 15,
    "start_time": "2022-10-26T13:05:13.534Z"
   },
   {
    "duration": 617,
    "start_time": "2022-10-26T13:05:13.551Z"
   },
   {
    "duration": 526,
    "start_time": "2022-10-26T13:05:14.170Z"
   },
   {
    "duration": 5,
    "start_time": "2022-10-26T13:05:14.697Z"
   },
   {
    "duration": 165,
    "start_time": "2022-10-26T13:05:14.704Z"
   },
   {
    "duration": 167,
    "start_time": "2022-10-26T13:05:14.871Z"
   },
   {
    "duration": 35,
    "start_time": "2022-10-26T13:05:15.040Z"
   },
   {
    "duration": 342,
    "start_time": "2022-10-26T13:05:15.080Z"
   },
   {
    "duration": 1340,
    "start_time": "2022-10-26T13:05:15.423Z"
   },
   {
    "duration": 6,
    "start_time": "2022-10-26T13:05:16.764Z"
   },
   {
    "duration": 8,
    "start_time": "2022-10-26T13:05:16.772Z"
   },
   {
    "duration": 255,
    "start_time": "2022-10-26T13:05:16.782Z"
   },
   {
    "duration": 6,
    "start_time": "2022-10-26T13:05:17.039Z"
   },
   {
    "duration": 115,
    "start_time": "2022-10-26T13:05:17.046Z"
   },
   {
    "duration": 411,
    "start_time": "2022-10-26T13:28:09.774Z"
   },
   {
    "duration": 163,
    "start_time": "2022-10-26T13:28:45.657Z"
   },
   {
    "duration": 280,
    "start_time": "2022-10-26T13:29:01.105Z"
   },
   {
    "duration": 324,
    "start_time": "2022-10-26T13:29:39.601Z"
   },
   {
    "duration": 294,
    "start_time": "2022-10-26T13:30:22.409Z"
   },
   {
    "duration": 166,
    "start_time": "2022-10-26T13:33:07.432Z"
   },
   {
    "duration": 275,
    "start_time": "2022-10-26T13:33:16.303Z"
   },
   {
    "duration": 164,
    "start_time": "2022-10-26T13:36:07.169Z"
   },
   {
    "duration": 84,
    "start_time": "2022-10-26T13:37:18.766Z"
   },
   {
    "duration": 8,
    "start_time": "2022-10-26T13:38:19.258Z"
   },
   {
    "duration": 9,
    "start_time": "2022-10-26T13:38:36.204Z"
   },
   {
    "duration": 71,
    "start_time": "2022-10-26T13:39:27.725Z"
   },
   {
    "duration": 287,
    "start_time": "2022-10-26T13:39:36.147Z"
   },
   {
    "duration": 147,
    "start_time": "2022-10-26T13:39:44.197Z"
   },
   {
    "duration": 266,
    "start_time": "2022-10-26T13:39:57.953Z"
   },
   {
    "duration": 87,
    "start_time": "2022-10-26T13:40:56.647Z"
   },
   {
    "duration": 1081,
    "start_time": "2022-10-26T13:41:13.148Z"
   },
   {
    "duration": 50,
    "start_time": "2022-10-26T13:41:14.231Z"
   },
   {
    "duration": 20,
    "start_time": "2022-10-26T13:41:14.283Z"
   },
   {
    "duration": 24,
    "start_time": "2022-10-26T13:41:14.305Z"
   },
   {
    "duration": 609,
    "start_time": "2022-10-26T13:41:14.331Z"
   },
   {
    "duration": 287,
    "start_time": "2022-10-26T13:41:14.942Z"
   },
   {
    "duration": 3,
    "start_time": "2022-10-26T13:41:15.230Z"
   },
   {
    "duration": 8,
    "start_time": "2022-10-26T13:41:15.234Z"
   },
   {
    "duration": 22,
    "start_time": "2022-10-26T13:41:15.243Z"
   },
   {
    "duration": 9,
    "start_time": "2022-10-26T13:41:15.266Z"
   },
   {
    "duration": 577,
    "start_time": "2022-10-26T13:41:15.276Z"
   },
   {
    "duration": 4,
    "start_time": "2022-10-26T13:41:15.854Z"
   },
   {
    "duration": 10,
    "start_time": "2022-10-26T13:41:15.860Z"
   },
   {
    "duration": 3,
    "start_time": "2022-10-26T13:41:15.874Z"
   },
   {
    "duration": 15,
    "start_time": "2022-10-26T13:41:15.879Z"
   },
   {
    "duration": 33,
    "start_time": "2022-10-26T13:41:15.895Z"
   },
   {
    "duration": 5,
    "start_time": "2022-10-26T13:41:15.929Z"
   },
   {
    "duration": 8,
    "start_time": "2022-10-26T13:41:15.936Z"
   },
   {
    "duration": 6,
    "start_time": "2022-10-26T13:41:15.946Z"
   },
   {
    "duration": 7,
    "start_time": "2022-10-26T13:41:15.953Z"
   },
   {
    "duration": 7,
    "start_time": "2022-10-26T13:41:15.962Z"
   },
   {
    "duration": 8,
    "start_time": "2022-10-26T13:41:15.970Z"
   },
   {
    "duration": 4,
    "start_time": "2022-10-26T13:41:15.980Z"
   },
   {
    "duration": 53,
    "start_time": "2022-10-26T13:41:15.986Z"
   },
   {
    "duration": 6,
    "start_time": "2022-10-26T13:41:16.041Z"
   },
   {
    "duration": 16,
    "start_time": "2022-10-26T13:41:16.048Z"
   },
   {
    "duration": 10,
    "start_time": "2022-10-26T13:41:16.066Z"
   },
   {
    "duration": 10,
    "start_time": "2022-10-26T13:41:16.078Z"
   },
   {
    "duration": 14,
    "start_time": "2022-10-26T13:41:16.090Z"
   },
   {
    "duration": 19,
    "start_time": "2022-10-26T13:41:16.106Z"
   },
   {
    "duration": 13,
    "start_time": "2022-10-26T13:41:16.127Z"
   },
   {
    "duration": 19,
    "start_time": "2022-10-26T13:41:16.142Z"
   },
   {
    "duration": 10,
    "start_time": "2022-10-26T13:41:16.163Z"
   },
   {
    "duration": 14,
    "start_time": "2022-10-26T13:41:16.175Z"
   },
   {
    "duration": 467,
    "start_time": "2022-10-26T13:41:16.221Z"
   },
   {
    "duration": 521,
    "start_time": "2022-10-26T13:41:16.690Z"
   },
   {
    "duration": 11,
    "start_time": "2022-10-26T13:41:17.212Z"
   },
   {
    "duration": 177,
    "start_time": "2022-10-26T13:41:17.224Z"
   },
   {
    "duration": 151,
    "start_time": "2022-10-26T13:41:17.402Z"
   },
   {
    "duration": 31,
    "start_time": "2022-10-26T13:41:17.554Z"
   },
   {
    "duration": 68,
    "start_time": "2022-10-26T13:41:17.589Z"
   },
   {
    "duration": 0,
    "start_time": "2022-10-26T13:41:17.659Z"
   },
   {
    "duration": 0,
    "start_time": "2022-10-26T13:41:17.660Z"
   },
   {
    "duration": 0,
    "start_time": "2022-10-26T13:41:17.662Z"
   },
   {
    "duration": 0,
    "start_time": "2022-10-26T13:41:17.663Z"
   },
   {
    "duration": 0,
    "start_time": "2022-10-26T13:41:17.664Z"
   },
   {
    "duration": 0,
    "start_time": "2022-10-26T13:41:17.664Z"
   },
   {
    "duration": 285,
    "start_time": "2022-10-26T13:42:12.968Z"
   },
   {
    "duration": 302,
    "start_time": "2022-10-26T13:42:37.753Z"
   },
   {
    "duration": 257,
    "start_time": "2022-10-26T13:43:05.813Z"
   },
   {
    "duration": 76,
    "start_time": "2022-10-26T13:43:13.726Z"
   },
   {
    "duration": 298,
    "start_time": "2022-10-26T13:43:23.419Z"
   },
   {
    "duration": 309,
    "start_time": "2022-10-26T13:43:32.444Z"
   },
   {
    "duration": 302,
    "start_time": "2022-10-26T13:44:57.843Z"
   },
   {
    "duration": 307,
    "start_time": "2022-10-26T13:45:14.803Z"
   },
   {
    "duration": 116,
    "start_time": "2022-10-26T13:45:21.444Z"
   },
   {
    "duration": 327,
    "start_time": "2022-10-26T13:45:28.194Z"
   },
   {
    "duration": 397,
    "start_time": "2022-10-26T13:46:06.303Z"
   },
   {
    "duration": 373,
    "start_time": "2022-10-26T13:46:45.897Z"
   },
   {
    "duration": 345,
    "start_time": "2022-10-26T13:46:57.020Z"
   },
   {
    "duration": 7,
    "start_time": "2022-10-26T13:47:14.504Z"
   },
   {
    "duration": 8,
    "start_time": "2022-10-26T13:47:33.360Z"
   },
   {
    "duration": 6,
    "start_time": "2022-10-26T13:47:36.595Z"
   },
   {
    "duration": 84,
    "start_time": "2022-10-26T13:54:07.667Z"
   },
   {
    "duration": 70,
    "start_time": "2022-10-26T13:54:22.063Z"
   },
   {
    "duration": 7,
    "start_time": "2022-10-26T13:54:38.894Z"
   },
   {
    "duration": 11,
    "start_time": "2022-10-26T13:55:40.108Z"
   },
   {
    "duration": 165,
    "start_time": "2022-10-26T13:59:57.638Z"
   },
   {
    "duration": 145,
    "start_time": "2022-10-26T14:00:05.464Z"
   },
   {
    "duration": 366,
    "start_time": "2022-10-26T14:00:15.802Z"
   },
   {
    "duration": 363,
    "start_time": "2022-10-26T14:00:32.116Z"
   },
   {
    "duration": 321,
    "start_time": "2022-10-26T14:00:40.084Z"
   },
   {
    "duration": 332,
    "start_time": "2022-10-26T14:00:47.150Z"
   },
   {
    "duration": 330,
    "start_time": "2022-10-26T14:01:12.566Z"
   },
   {
    "duration": 328,
    "start_time": "2022-10-26T14:01:17.344Z"
   },
   {
    "duration": 308,
    "start_time": "2022-10-26T14:01:21.225Z"
   },
   {
    "duration": 305,
    "start_time": "2022-10-26T14:01:26.594Z"
   },
   {
    "duration": 10,
    "start_time": "2022-10-26T14:14:46.902Z"
   },
   {
    "duration": 1881,
    "start_time": "2022-10-26T14:15:18.044Z"
   },
   {
    "duration": 26,
    "start_time": "2022-10-26T14:15:42.199Z"
   },
   {
    "duration": 34,
    "start_time": "2022-10-26T14:16:43.476Z"
   },
   {
    "duration": 29,
    "start_time": "2022-10-26T14:16:56.830Z"
   },
   {
    "duration": 29,
    "start_time": "2022-10-26T14:17:13.904Z"
   },
   {
    "duration": 88,
    "start_time": "2022-10-26T14:26:31.776Z"
   },
   {
    "duration": 20,
    "start_time": "2022-10-26T14:26:45.650Z"
   },
   {
    "duration": 302,
    "start_time": "2022-10-26T14:27:01.003Z"
   },
   {
    "duration": 269,
    "start_time": "2022-10-26T14:27:24.750Z"
   },
   {
    "duration": 87,
    "start_time": "2022-10-26T14:27:29.172Z"
   },
   {
    "duration": 76,
    "start_time": "2022-10-26T14:27:33.775Z"
   },
   {
    "duration": 289,
    "start_time": "2022-10-26T14:27:37.064Z"
   },
   {
    "duration": 325,
    "start_time": "2022-10-26T14:28:02.490Z"
   },
   {
    "duration": 302,
    "start_time": "2022-10-26T14:28:08.650Z"
   },
   {
    "duration": 302,
    "start_time": "2022-10-26T14:29:16.267Z"
   },
   {
    "duration": 379,
    "start_time": "2022-10-26T14:29:30.184Z"
   },
   {
    "duration": 341,
    "start_time": "2022-10-26T14:29:36.469Z"
   },
   {
    "duration": 499,
    "start_time": "2022-10-26T14:29:49.436Z"
   },
   {
    "duration": 373,
    "start_time": "2022-10-26T14:29:58.139Z"
   },
   {
    "duration": 415,
    "start_time": "2022-10-26T14:30:09.202Z"
   },
   {
    "duration": 260,
    "start_time": "2022-10-26T14:30:16.996Z"
   },
   {
    "duration": 311,
    "start_time": "2022-10-26T14:30:24.477Z"
   },
   {
    "duration": 393,
    "start_time": "2022-10-26T14:30:30.567Z"
   },
   {
    "duration": 418,
    "start_time": "2022-10-26T14:30:36.298Z"
   },
   {
    "duration": 472,
    "start_time": "2022-10-26T14:30:44.161Z"
   },
   {
    "duration": 307,
    "start_time": "2022-10-26T14:30:49.062Z"
   },
   {
    "duration": 260,
    "start_time": "2022-10-26T14:30:59.099Z"
   },
   {
    "duration": 432,
    "start_time": "2022-10-26T14:31:13.011Z"
   },
   {
    "duration": 439,
    "start_time": "2022-10-26T14:31:26.349Z"
   },
   {
    "duration": 321,
    "start_time": "2022-10-26T14:31:33.857Z"
   },
   {
    "duration": 256,
    "start_time": "2022-10-26T14:31:51.727Z"
   },
   {
    "duration": 270,
    "start_time": "2022-10-26T14:32:04.595Z"
   },
   {
    "duration": 252,
    "start_time": "2022-10-26T14:32:20.162Z"
   },
   {
    "duration": 335,
    "start_time": "2022-10-26T14:32:29.930Z"
   },
   {
    "duration": 610,
    "start_time": "2022-10-26T14:53:10.561Z"
   },
   {
    "duration": 609,
    "start_time": "2022-10-26T14:53:19.280Z"
   },
   {
    "duration": 560,
    "start_time": "2022-10-26T14:53:36.656Z"
   },
   {
    "duration": 594,
    "start_time": "2022-10-26T14:53:42.175Z"
   },
   {
    "duration": 1140,
    "start_time": "2022-10-26T14:53:49.641Z"
   },
   {
    "duration": 54,
    "start_time": "2022-10-26T14:53:50.783Z"
   },
   {
    "duration": 19,
    "start_time": "2022-10-26T14:53:50.839Z"
   },
   {
    "duration": 15,
    "start_time": "2022-10-26T14:53:50.861Z"
   },
   {
    "duration": 681,
    "start_time": "2022-10-26T14:53:50.877Z"
   },
   {
    "duration": 270,
    "start_time": "2022-10-26T14:53:51.560Z"
   },
   {
    "duration": 3,
    "start_time": "2022-10-26T14:53:51.832Z"
   },
   {
    "duration": 8,
    "start_time": "2022-10-26T14:53:51.837Z"
   },
   {
    "duration": 24,
    "start_time": "2022-10-26T14:53:51.846Z"
   },
   {
    "duration": 8,
    "start_time": "2022-10-26T14:53:51.872Z"
   },
   {
    "duration": 563,
    "start_time": "2022-10-26T14:53:51.881Z"
   },
   {
    "duration": 3,
    "start_time": "2022-10-26T14:53:52.446Z"
   },
   {
    "duration": 13,
    "start_time": "2022-10-26T14:53:52.451Z"
   },
   {
    "duration": 10,
    "start_time": "2022-10-26T14:53:52.465Z"
   },
   {
    "duration": 17,
    "start_time": "2022-10-26T14:53:52.477Z"
   },
   {
    "duration": 9,
    "start_time": "2022-10-26T14:53:52.495Z"
   },
   {
    "duration": 21,
    "start_time": "2022-10-26T14:53:52.506Z"
   },
   {
    "duration": 10,
    "start_time": "2022-10-26T14:53:52.529Z"
   },
   {
    "duration": 8,
    "start_time": "2022-10-26T14:53:52.540Z"
   },
   {
    "duration": 10,
    "start_time": "2022-10-26T14:53:52.550Z"
   },
   {
    "duration": 7,
    "start_time": "2022-10-26T14:53:52.562Z"
   },
   {
    "duration": 7,
    "start_time": "2022-10-26T14:53:52.571Z"
   },
   {
    "duration": 22,
    "start_time": "2022-10-26T14:53:52.579Z"
   },
   {
    "duration": 26,
    "start_time": "2022-10-26T14:53:52.602Z"
   },
   {
    "duration": 4,
    "start_time": "2022-10-26T14:53:52.630Z"
   },
   {
    "duration": 10,
    "start_time": "2022-10-26T14:53:52.636Z"
   },
   {
    "duration": 7,
    "start_time": "2022-10-26T14:53:52.648Z"
   },
   {
    "duration": 11,
    "start_time": "2022-10-26T14:53:52.658Z"
   },
   {
    "duration": 10,
    "start_time": "2022-10-26T14:53:52.671Z"
   },
   {
    "duration": 4,
    "start_time": "2022-10-26T14:53:52.682Z"
   },
   {
    "duration": 15,
    "start_time": "2022-10-26T14:53:52.688Z"
   },
   {
    "duration": 30,
    "start_time": "2022-10-26T14:53:52.705Z"
   },
   {
    "duration": 8,
    "start_time": "2022-10-26T14:53:52.737Z"
   },
   {
    "duration": 11,
    "start_time": "2022-10-26T14:53:52.747Z"
   },
   {
    "duration": 493,
    "start_time": "2022-10-26T14:53:52.759Z"
   },
   {
    "duration": 532,
    "start_time": "2022-10-26T14:53:53.253Z"
   },
   {
    "duration": 3,
    "start_time": "2022-10-26T14:53:53.787Z"
   },
   {
    "duration": 164,
    "start_time": "2022-10-26T14:53:53.792Z"
   },
   {
    "duration": 133,
    "start_time": "2022-10-26T14:53:53.957Z"
   },
   {
    "duration": 32,
    "start_time": "2022-10-26T14:53:54.121Z"
   },
   {
    "duration": 321,
    "start_time": "2022-10-26T14:53:54.155Z"
   },
   {
    "duration": 11,
    "start_time": "2022-10-26T14:53:54.478Z"
   },
   {
    "duration": 39,
    "start_time": "2022-10-26T14:53:54.491Z"
   },
   {
    "duration": 277,
    "start_time": "2022-10-26T14:53:54.531Z"
   },
   {
    "duration": 13,
    "start_time": "2022-10-26T14:53:54.810Z"
   },
   {
    "duration": 11,
    "start_time": "2022-10-26T14:53:54.825Z"
   },
   {
    "duration": 234,
    "start_time": "2022-10-26T14:53:54.838Z"
   },
   {
    "duration": 7,
    "start_time": "2022-10-26T14:53:55.074Z"
   },
   {
    "duration": 106,
    "start_time": "2022-10-26T14:53:55.082Z"
   },
   {
    "duration": 567,
    "start_time": "2022-10-26T14:54:08.839Z"
   },
   {
    "duration": 1115,
    "start_time": "2022-10-26T14:54:15.273Z"
   },
   {
    "duration": 56,
    "start_time": "2022-10-26T14:54:16.390Z"
   },
   {
    "duration": 17,
    "start_time": "2022-10-26T14:54:16.448Z"
   },
   {
    "duration": 14,
    "start_time": "2022-10-26T14:54:16.466Z"
   },
   {
    "duration": 594,
    "start_time": "2022-10-26T14:54:16.482Z"
   },
   {
    "duration": 299,
    "start_time": "2022-10-26T14:54:17.078Z"
   },
   {
    "duration": 3,
    "start_time": "2022-10-26T14:54:17.379Z"
   },
   {
    "duration": 9,
    "start_time": "2022-10-26T14:54:17.383Z"
   },
   {
    "duration": 29,
    "start_time": "2022-10-26T14:54:17.393Z"
   },
   {
    "duration": 10,
    "start_time": "2022-10-26T14:54:17.423Z"
   },
   {
    "duration": 563,
    "start_time": "2022-10-26T14:54:17.434Z"
   },
   {
    "duration": 3,
    "start_time": "2022-10-26T14:54:17.999Z"
   },
   {
    "duration": 19,
    "start_time": "2022-10-26T14:54:18.004Z"
   },
   {
    "duration": 3,
    "start_time": "2022-10-26T14:54:18.025Z"
   },
   {
    "duration": 16,
    "start_time": "2022-10-26T14:54:18.029Z"
   },
   {
    "duration": 8,
    "start_time": "2022-10-26T14:54:18.047Z"
   },
   {
    "duration": 5,
    "start_time": "2022-10-26T14:54:18.057Z"
   },
   {
    "duration": 10,
    "start_time": "2022-10-26T14:54:18.063Z"
   },
   {
    "duration": 14,
    "start_time": "2022-10-26T14:54:18.074Z"
   },
   {
    "duration": 9,
    "start_time": "2022-10-26T14:54:18.089Z"
   },
   {
    "duration": 24,
    "start_time": "2022-10-26T14:54:18.099Z"
   },
   {
    "duration": 5,
    "start_time": "2022-10-26T14:54:18.125Z"
   },
   {
    "duration": 17,
    "start_time": "2022-10-26T14:54:18.131Z"
   },
   {
    "duration": 19,
    "start_time": "2022-10-26T14:54:18.150Z"
   },
   {
    "duration": 4,
    "start_time": "2022-10-26T14:54:18.171Z"
   },
   {
    "duration": 10,
    "start_time": "2022-10-26T14:54:18.177Z"
   },
   {
    "duration": 8,
    "start_time": "2022-10-26T14:54:18.188Z"
   },
   {
    "duration": 27,
    "start_time": "2022-10-26T14:54:18.197Z"
   },
   {
    "duration": 10,
    "start_time": "2022-10-26T14:54:18.225Z"
   },
   {
    "duration": 5,
    "start_time": "2022-10-26T14:54:18.236Z"
   },
   {
    "duration": 12,
    "start_time": "2022-10-26T14:54:18.243Z"
   },
   {
    "duration": 14,
    "start_time": "2022-10-26T14:54:18.257Z"
   },
   {
    "duration": 8,
    "start_time": "2022-10-26T14:54:18.272Z"
   },
   {
    "duration": 45,
    "start_time": "2022-10-26T14:54:18.281Z"
   },
   {
    "duration": 525,
    "start_time": "2022-10-26T14:54:18.327Z"
   },
   {
    "duration": 528,
    "start_time": "2022-10-26T14:54:18.854Z"
   },
   {
    "duration": 8,
    "start_time": "2022-10-26T14:54:19.384Z"
   },
   {
    "duration": 157,
    "start_time": "2022-10-26T14:54:19.394Z"
   },
   {
    "duration": 170,
    "start_time": "2022-10-26T14:54:19.552Z"
   },
   {
    "duration": 30,
    "start_time": "2022-10-26T14:54:19.724Z"
   },
   {
    "duration": 364,
    "start_time": "2022-10-26T14:54:19.759Z"
   },
   {
    "duration": 10,
    "start_time": "2022-10-26T14:54:20.125Z"
   },
   {
    "duration": 32,
    "start_time": "2022-10-26T14:54:20.136Z"
   },
   {
    "duration": 296,
    "start_time": "2022-10-26T14:54:20.169Z"
   },
   {
    "duration": 6,
    "start_time": "2022-10-26T14:54:20.466Z"
   },
   {
    "duration": 12,
    "start_time": "2022-10-26T14:54:20.474Z"
   },
   {
    "duration": 244,
    "start_time": "2022-10-26T14:54:20.487Z"
   },
   {
    "duration": 6,
    "start_time": "2022-10-26T14:54:20.733Z"
   },
   {
    "duration": 109,
    "start_time": "2022-10-26T14:54:20.741Z"
   },
   {
    "duration": 40,
    "start_time": "2022-10-26T14:58:32.471Z"
   },
   {
    "duration": 15,
    "start_time": "2022-10-26T15:01:10.547Z"
   },
   {
    "duration": 12,
    "start_time": "2022-10-26T15:01:27.608Z"
   },
   {
    "duration": 361,
    "start_time": "2022-10-26T15:01:40.790Z"
   },
   {
    "duration": 360,
    "start_time": "2022-10-26T15:02:18.404Z"
   },
   {
    "duration": 698,
    "start_time": "2022-10-26T15:15:34.133Z"
   },
   {
    "duration": 393,
    "start_time": "2022-10-26T15:15:43.051Z"
   },
   {
    "duration": 353,
    "start_time": "2022-10-26T15:16:02.710Z"
   },
   {
    "duration": 10,
    "start_time": "2022-10-26T15:17:41.702Z"
   },
   {
    "duration": 9,
    "start_time": "2022-10-26T15:18:09.990Z"
   },
   {
    "duration": 5,
    "start_time": "2022-10-26T15:18:41.382Z"
   },
   {
    "duration": 73,
    "start_time": "2022-10-26T15:23:08.470Z"
   },
   {
    "duration": 9,
    "start_time": "2022-10-26T15:23:26.835Z"
   },
   {
    "duration": 7,
    "start_time": "2022-10-26T15:23:29.400Z"
   },
   {
    "duration": 2,
    "start_time": "2022-10-26T15:25:19.411Z"
   },
   {
    "duration": 21,
    "start_time": "2022-10-26T15:31:26.042Z"
   },
   {
    "duration": 12,
    "start_time": "2022-10-26T15:31:30.996Z"
   },
   {
    "duration": 11,
    "start_time": "2022-10-26T15:31:52.331Z"
   },
   {
    "duration": 11,
    "start_time": "2022-10-26T15:43:30.750Z"
   },
   {
    "duration": 19,
    "start_time": "2022-10-26T15:43:43.332Z"
   },
   {
    "duration": 12,
    "start_time": "2022-10-26T15:43:51.065Z"
   },
   {
    "duration": 9,
    "start_time": "2022-10-26T15:46:24.745Z"
   },
   {
    "duration": 13,
    "start_time": "2022-10-26T15:46:34.581Z"
   },
   {
    "duration": 21,
    "start_time": "2022-10-26T15:46:47.019Z"
   },
   {
    "duration": 59,
    "start_time": "2022-10-26T17:33:46.620Z"
   },
   {
    "duration": 8,
    "start_time": "2022-10-26T17:34:00.335Z"
   },
   {
    "duration": 1375,
    "start_time": "2022-10-26T17:34:11.305Z"
   },
   {
    "duration": 194,
    "start_time": "2022-10-26T17:34:12.681Z"
   },
   {
    "duration": 19,
    "start_time": "2022-10-26T17:34:12.877Z"
   },
   {
    "duration": 16,
    "start_time": "2022-10-26T17:34:12.898Z"
   },
   {
    "duration": 664,
    "start_time": "2022-10-26T17:34:12.916Z"
   },
   {
    "duration": 408,
    "start_time": "2022-10-26T17:34:13.582Z"
   },
   {
    "duration": 3,
    "start_time": "2022-10-26T17:34:13.992Z"
   },
   {
    "duration": 16,
    "start_time": "2022-10-26T17:34:13.997Z"
   },
   {
    "duration": 34,
    "start_time": "2022-10-26T17:34:14.014Z"
   },
   {
    "duration": 10,
    "start_time": "2022-10-26T17:34:14.050Z"
   },
   {
    "duration": 629,
    "start_time": "2022-10-26T17:34:14.061Z"
   },
   {
    "duration": 4,
    "start_time": "2022-10-26T17:34:14.692Z"
   },
   {
    "duration": 12,
    "start_time": "2022-10-26T17:34:14.697Z"
   },
   {
    "duration": 4,
    "start_time": "2022-10-26T17:34:14.712Z"
   },
   {
    "duration": 16,
    "start_time": "2022-10-26T17:34:14.730Z"
   },
   {
    "duration": 8,
    "start_time": "2022-10-26T17:34:14.748Z"
   },
   {
    "duration": 5,
    "start_time": "2022-10-26T17:34:14.758Z"
   },
   {
    "duration": 11,
    "start_time": "2022-10-26T17:34:14.765Z"
   },
   {
    "duration": 8,
    "start_time": "2022-10-26T17:34:14.777Z"
   },
   {
    "duration": 6,
    "start_time": "2022-10-26T17:34:14.786Z"
   },
   {
    "duration": 7,
    "start_time": "2022-10-26T17:34:14.828Z"
   },
   {
    "duration": 6,
    "start_time": "2022-10-26T17:34:14.837Z"
   },
   {
    "duration": 4,
    "start_time": "2022-10-26T17:34:14.845Z"
   },
   {
    "duration": 19,
    "start_time": "2022-10-26T17:34:14.851Z"
   },
   {
    "duration": 7,
    "start_time": "2022-10-26T17:34:14.871Z"
   },
   {
    "duration": 6,
    "start_time": "2022-10-26T17:34:14.879Z"
   },
   {
    "duration": 5,
    "start_time": "2022-10-26T17:34:14.886Z"
   },
   {
    "duration": 45,
    "start_time": "2022-10-26T17:34:14.892Z"
   },
   {
    "duration": 12,
    "start_time": "2022-10-26T17:34:14.938Z"
   },
   {
    "duration": 4,
    "start_time": "2022-10-26T17:34:14.951Z"
   },
   {
    "duration": 10,
    "start_time": "2022-10-26T17:34:14.957Z"
   },
   {
    "duration": 15,
    "start_time": "2022-10-26T17:34:14.968Z"
   },
   {
    "duration": 9,
    "start_time": "2022-10-26T17:34:14.985Z"
   },
   {
    "duration": 12,
    "start_time": "2022-10-26T17:34:15.030Z"
   },
   {
    "duration": 541,
    "start_time": "2022-10-26T17:34:15.044Z"
   },
   {
    "duration": 567,
    "start_time": "2022-10-26T17:34:15.587Z"
   },
   {
    "duration": 5,
    "start_time": "2022-10-26T17:34:16.155Z"
   },
   {
    "duration": 195,
    "start_time": "2022-10-26T17:34:16.161Z"
   },
   {
    "duration": 176,
    "start_time": "2022-10-26T17:34:16.357Z"
   },
   {
    "duration": 33,
    "start_time": "2022-10-26T17:34:16.535Z"
   },
   {
    "duration": 352,
    "start_time": "2022-10-26T17:34:16.572Z"
   },
   {
    "duration": 13,
    "start_time": "2022-10-26T17:34:16.926Z"
   },
   {
    "duration": 30,
    "start_time": "2022-10-26T17:34:16.940Z"
   },
   {
    "duration": 311,
    "start_time": "2022-10-26T17:34:16.972Z"
   },
   {
    "duration": 473,
    "start_time": "2022-10-26T17:34:17.285Z"
   },
   {
    "duration": 0,
    "start_time": "2022-10-26T17:34:17.760Z"
   },
   {
    "duration": 0,
    "start_time": "2022-10-26T17:34:17.761Z"
   },
   {
    "duration": 25,
    "start_time": "2022-10-26T17:40:05.301Z"
   },
   {
    "duration": 25,
    "start_time": "2022-10-26T17:40:33.125Z"
   },
   {
    "duration": 150,
    "start_time": "2022-10-26T17:40:39.557Z"
   },
   {
    "duration": 21,
    "start_time": "2022-10-26T17:40:44.261Z"
   },
   {
    "duration": 23,
    "start_time": "2022-10-26T17:40:56.810Z"
   },
   {
    "duration": 13,
    "start_time": "2022-10-26T17:41:18.297Z"
   },
   {
    "duration": 11,
    "start_time": "2022-10-26T17:44:40.866Z"
   },
   {
    "duration": 42,
    "start_time": "2022-10-27T08:11:43.421Z"
   },
   {
    "duration": 1294,
    "start_time": "2022-10-27T08:11:50.010Z"
   },
   {
    "duration": 183,
    "start_time": "2022-10-27T08:11:51.306Z"
   },
   {
    "duration": 17,
    "start_time": "2022-10-27T08:11:51.490Z"
   },
   {
    "duration": 12,
    "start_time": "2022-10-27T08:11:51.509Z"
   },
   {
    "duration": 581,
    "start_time": "2022-10-27T08:11:51.523Z"
   },
   {
    "duration": 344,
    "start_time": "2022-10-27T08:11:52.105Z"
   },
   {
    "duration": 3,
    "start_time": "2022-10-27T08:11:52.451Z"
   },
   {
    "duration": 20,
    "start_time": "2022-10-27T08:11:52.455Z"
   },
   {
    "duration": 23,
    "start_time": "2022-10-27T08:11:52.476Z"
   },
   {
    "duration": 8,
    "start_time": "2022-10-27T08:11:52.500Z"
   },
   {
    "duration": 537,
    "start_time": "2022-10-27T08:11:52.509Z"
   },
   {
    "duration": 3,
    "start_time": "2022-10-27T08:11:53.048Z"
   },
   {
    "duration": 14,
    "start_time": "2022-10-27T08:11:53.053Z"
   },
   {
    "duration": 3,
    "start_time": "2022-10-27T08:11:53.070Z"
   },
   {
    "duration": 16,
    "start_time": "2022-10-27T08:11:53.074Z"
   },
   {
    "duration": 10,
    "start_time": "2022-10-27T08:11:53.091Z"
   },
   {
    "duration": 4,
    "start_time": "2022-10-27T08:11:53.103Z"
   },
   {
    "duration": 13,
    "start_time": "2022-10-27T08:11:53.122Z"
   },
   {
    "duration": 11,
    "start_time": "2022-10-27T08:11:53.137Z"
   },
   {
    "duration": 5,
    "start_time": "2022-10-27T08:11:53.150Z"
   },
   {
    "duration": 23,
    "start_time": "2022-10-27T08:11:53.156Z"
   },
   {
    "duration": 7,
    "start_time": "2022-10-27T08:11:53.180Z"
   },
   {
    "duration": 5,
    "start_time": "2022-10-27T08:11:53.188Z"
   },
   {
    "duration": 18,
    "start_time": "2022-10-27T08:11:53.195Z"
   },
   {
    "duration": 4,
    "start_time": "2022-10-27T08:11:53.215Z"
   },
   {
    "duration": 8,
    "start_time": "2022-10-27T08:11:53.222Z"
   },
   {
    "duration": 9,
    "start_time": "2022-10-27T08:11:53.231Z"
   },
   {
    "duration": 11,
    "start_time": "2022-10-27T08:11:53.242Z"
   },
   {
    "duration": 10,
    "start_time": "2022-10-27T08:11:53.254Z"
   },
   {
    "duration": 11,
    "start_time": "2022-10-27T08:11:53.265Z"
   },
   {
    "duration": 10,
    "start_time": "2022-10-27T08:11:53.277Z"
   },
   {
    "duration": 17,
    "start_time": "2022-10-27T08:11:53.288Z"
   },
   {
    "duration": 17,
    "start_time": "2022-10-27T08:11:53.307Z"
   },
   {
    "duration": 9,
    "start_time": "2022-10-27T08:11:53.325Z"
   },
   {
    "duration": 500,
    "start_time": "2022-10-27T08:11:53.336Z"
   },
   {
    "duration": 499,
    "start_time": "2022-10-27T08:11:53.837Z"
   },
   {
    "duration": 4,
    "start_time": "2022-10-27T08:11:54.337Z"
   },
   {
    "duration": 218,
    "start_time": "2022-10-27T08:11:54.343Z"
   },
   {
    "duration": 117,
    "start_time": "2022-10-27T08:11:54.563Z"
   },
   {
    "duration": 66,
    "start_time": "2022-10-27T08:11:54.682Z"
   },
   {
    "duration": 301,
    "start_time": "2022-10-27T08:11:54.751Z"
   },
   {
    "duration": 9,
    "start_time": "2022-10-27T08:11:55.054Z"
   },
   {
    "duration": 28,
    "start_time": "2022-10-27T08:11:55.065Z"
   },
   {
    "duration": 280,
    "start_time": "2022-10-27T08:11:55.094Z"
   },
   {
    "duration": 422,
    "start_time": "2022-10-27T08:11:55.375Z"
   },
   {
    "duration": 0,
    "start_time": "2022-10-27T08:11:55.798Z"
   },
   {
    "duration": 0,
    "start_time": "2022-10-27T08:11:55.799Z"
   },
   {
    "duration": 41,
    "start_time": "2022-10-27T09:01:34.300Z"
   },
   {
    "duration": 20,
    "start_time": "2022-10-27T09:02:30.548Z"
   },
   {
    "duration": 39,
    "start_time": "2022-10-27T09:02:37.757Z"
   },
   {
    "duration": 12,
    "start_time": "2022-10-27T09:07:57.001Z"
   },
   {
    "duration": 13,
    "start_time": "2022-10-27T09:26:41.481Z"
   },
   {
    "duration": 90,
    "start_time": "2022-10-27T09:59:18.744Z"
   },
   {
    "duration": 73,
    "start_time": "2022-10-27T09:59:39.935Z"
   },
   {
    "duration": 80,
    "start_time": "2022-10-27T09:59:50.921Z"
   },
   {
    "duration": 76,
    "start_time": "2022-10-27T09:59:58.358Z"
   },
   {
    "duration": 5,
    "start_time": "2022-10-27T10:03:59.082Z"
   },
   {
    "duration": 5,
    "start_time": "2022-10-27T10:04:05.706Z"
   },
   {
    "duration": 5,
    "start_time": "2022-10-27T10:04:48.166Z"
   },
   {
    "duration": 319,
    "start_time": "2022-10-27T10:24:53.689Z"
   },
   {
    "duration": 11,
    "start_time": "2022-10-27T10:25:57.757Z"
   },
   {
    "duration": 7,
    "start_time": "2022-10-27T10:26:13.719Z"
   },
   {
    "duration": 10,
    "start_time": "2022-10-27T10:26:36.410Z"
   },
   {
    "duration": 9,
    "start_time": "2022-10-27T10:27:54.833Z"
   },
   {
    "duration": 7,
    "start_time": "2022-10-27T10:28:03.692Z"
   },
   {
    "duration": 8,
    "start_time": "2022-10-27T10:28:24.532Z"
   },
   {
    "duration": 10,
    "start_time": "2022-10-27T10:28:38.467Z"
   },
   {
    "duration": 10,
    "start_time": "2022-10-27T10:28:42.131Z"
   },
   {
    "duration": 12,
    "start_time": "2022-10-27T10:28:54.719Z"
   },
   {
    "duration": 10,
    "start_time": "2022-10-27T10:29:05.937Z"
   },
   {
    "duration": 44,
    "start_time": "2022-10-27T10:44:07.708Z"
   },
   {
    "duration": 47,
    "start_time": "2022-10-27T10:44:51.618Z"
   },
   {
    "duration": 44,
    "start_time": "2022-10-27T10:45:10.872Z"
   },
   {
    "duration": 45,
    "start_time": "2022-10-27T10:45:21.228Z"
   },
   {
    "duration": 409,
    "start_time": "2022-10-27T10:50:12.420Z"
   },
   {
    "duration": 280,
    "start_time": "2022-10-27T11:14:23.472Z"
   },
   {
    "duration": 344,
    "start_time": "2022-10-27T11:14:31.631Z"
   },
   {
    "duration": 315,
    "start_time": "2022-10-27T11:14:42.128Z"
   },
   {
    "duration": 315,
    "start_time": "2022-10-27T11:15:03.343Z"
   },
   {
    "duration": 6,
    "start_time": "2022-10-27T11:16:08.696Z"
   },
   {
    "duration": 6,
    "start_time": "2022-10-27T11:16:40.684Z"
   },
   {
    "duration": 5,
    "start_time": "2022-10-27T11:16:59.380Z"
   },
   {
    "duration": 284,
    "start_time": "2022-10-27T11:19:16.464Z"
   },
   {
    "duration": 389,
    "start_time": "2022-10-27T11:20:39.303Z"
   },
   {
    "duration": 317,
    "start_time": "2022-10-27T11:31:14.797Z"
   },
   {
    "duration": 342,
    "start_time": "2022-10-27T11:31:28.682Z"
   },
   {
    "duration": 298,
    "start_time": "2022-10-27T11:31:58.951Z"
   },
   {
    "duration": 302,
    "start_time": "2022-10-27T11:32:06.916Z"
   },
   {
    "duration": 388,
    "start_time": "2022-10-27T11:32:21.491Z"
   },
   {
    "duration": 390,
    "start_time": "2022-10-27T11:32:29.177Z"
   },
   {
    "duration": 317,
    "start_time": "2022-10-27T11:32:40.481Z"
   },
   {
    "duration": 71,
    "start_time": "2022-10-27T11:32:47.036Z"
   },
   {
    "duration": 398,
    "start_time": "2022-10-27T11:33:05.564Z"
   },
   {
    "duration": 324,
    "start_time": "2022-10-27T11:33:16.382Z"
   },
   {
    "duration": 308,
    "start_time": "2022-10-27T11:33:23.854Z"
   },
   {
    "duration": 393,
    "start_time": "2022-10-27T11:33:33.691Z"
   },
   {
    "duration": 395,
    "start_time": "2022-10-27T11:33:41.347Z"
   },
   {
    "duration": 787,
    "start_time": "2022-10-27T11:34:01.061Z"
   },
   {
    "duration": 313,
    "start_time": "2022-10-27T11:34:15.110Z"
   },
   {
    "duration": 289,
    "start_time": "2022-10-27T11:34:23.496Z"
   },
   {
    "duration": 403,
    "start_time": "2022-10-27T11:34:28.179Z"
   },
   {
    "duration": 314,
    "start_time": "2022-10-27T11:34:54.283Z"
   },
   {
    "duration": 309,
    "start_time": "2022-10-27T11:35:15.541Z"
   },
   {
    "duration": 337,
    "start_time": "2022-10-27T11:35:28.538Z"
   },
   {
    "duration": 297,
    "start_time": "2022-10-27T11:35:53.164Z"
   },
   {
    "duration": 322,
    "start_time": "2022-10-27T11:36:41.953Z"
   },
   {
    "duration": 414,
    "start_time": "2022-10-27T11:36:46.999Z"
   },
   {
    "duration": 308,
    "start_time": "2022-10-27T11:39:16.935Z"
   },
   {
    "duration": 328,
    "start_time": "2022-10-27T11:39:48.981Z"
   },
   {
    "duration": 331,
    "start_time": "2022-10-27T11:40:05.079Z"
   },
   {
    "duration": 314,
    "start_time": "2022-10-27T11:40:13.444Z"
   },
   {
    "duration": 6,
    "start_time": "2022-10-27T11:41:25.315Z"
   },
   {
    "duration": 5,
    "start_time": "2022-10-27T12:02:02.414Z"
   },
   {
    "duration": 5,
    "start_time": "2022-10-27T12:09:27.364Z"
   },
   {
    "duration": 314,
    "start_time": "2022-10-27T12:17:33.211Z"
   },
   {
    "duration": 554,
    "start_time": "2022-10-27T12:30:21.549Z"
   },
   {
    "duration": 15,
    "start_time": "2022-10-27T12:31:27.553Z"
   },
   {
    "duration": 490,
    "start_time": "2022-10-27T12:32:19.294Z"
   },
   {
    "duration": 516,
    "start_time": "2022-10-27T12:32:53.252Z"
   },
   {
    "duration": 541,
    "start_time": "2022-10-27T12:34:00.364Z"
   },
   {
    "duration": 592,
    "start_time": "2022-10-27T12:34:07.645Z"
   },
   {
    "duration": 508,
    "start_time": "2022-10-27T12:34:13.014Z"
   },
   {
    "duration": 510,
    "start_time": "2022-10-27T12:34:24.306Z"
   },
   {
    "duration": 468,
    "start_time": "2022-10-27T12:34:43.098Z"
   },
   {
    "duration": 652,
    "start_time": "2022-10-27T12:34:45.980Z"
   },
   {
    "duration": 506,
    "start_time": "2022-10-27T12:35:16.943Z"
   },
   {
    "duration": 173,
    "start_time": "2022-10-27T12:36:20.442Z"
   },
   {
    "duration": 476,
    "start_time": "2022-10-27T12:36:34.908Z"
   },
   {
    "duration": 567,
    "start_time": "2022-10-27T12:36:47.903Z"
   },
   {
    "duration": 477,
    "start_time": "2022-10-27T12:37:42.938Z"
   },
   {
    "duration": 79,
    "start_time": "2022-10-27T12:39:16.028Z"
   },
   {
    "duration": 81,
    "start_time": "2022-10-27T12:39:23.273Z"
   },
   {
    "duration": 468,
    "start_time": "2022-10-27T12:39:34.943Z"
   },
   {
    "duration": 508,
    "start_time": "2022-10-27T12:40:33.013Z"
   },
   {
    "duration": 603,
    "start_time": "2022-10-27T12:41:03.392Z"
   },
   {
    "duration": 495,
    "start_time": "2022-10-27T12:42:36.989Z"
   },
   {
    "duration": 514,
    "start_time": "2022-10-27T12:42:54.825Z"
   },
   {
    "duration": 554,
    "start_time": "2022-10-27T12:43:05.963Z"
   },
   {
    "duration": 569,
    "start_time": "2022-10-27T12:43:14.084Z"
   },
   {
    "duration": 50,
    "start_time": "2022-10-27T18:38:27.642Z"
   },
   {
    "duration": 1578,
    "start_time": "2022-10-27T18:38:45.497Z"
   },
   {
    "duration": 198,
    "start_time": "2022-10-27T18:38:47.077Z"
   },
   {
    "duration": 20,
    "start_time": "2022-10-27T18:38:47.276Z"
   },
   {
    "duration": 16,
    "start_time": "2022-10-27T18:38:47.297Z"
   },
   {
    "duration": 759,
    "start_time": "2022-10-27T18:38:47.316Z"
   },
   {
    "duration": 420,
    "start_time": "2022-10-27T18:38:48.077Z"
   },
   {
    "duration": 4,
    "start_time": "2022-10-27T18:38:48.499Z"
   },
   {
    "duration": 18,
    "start_time": "2022-10-27T18:38:48.506Z"
   },
   {
    "duration": 28,
    "start_time": "2022-10-27T18:38:48.526Z"
   },
   {
    "duration": 10,
    "start_time": "2022-10-27T18:38:48.555Z"
   },
   {
    "duration": 649,
    "start_time": "2022-10-27T18:38:48.567Z"
   },
   {
    "duration": 7,
    "start_time": "2022-10-27T18:38:49.218Z"
   },
   {
    "duration": 18,
    "start_time": "2022-10-27T18:38:49.226Z"
   },
   {
    "duration": 5,
    "start_time": "2022-10-27T18:38:49.245Z"
   },
   {
    "duration": 25,
    "start_time": "2022-10-27T18:38:49.252Z"
   },
   {
    "duration": 11,
    "start_time": "2022-10-27T18:38:49.282Z"
   },
   {
    "duration": 32,
    "start_time": "2022-10-27T18:38:49.295Z"
   },
   {
    "duration": 9,
    "start_time": "2022-10-27T18:38:49.329Z"
   },
   {
    "duration": 6,
    "start_time": "2022-10-27T18:38:49.340Z"
   },
   {
    "duration": 7,
    "start_time": "2022-10-27T18:38:49.347Z"
   },
   {
    "duration": 9,
    "start_time": "2022-10-27T18:38:49.355Z"
   },
   {
    "duration": 9,
    "start_time": "2022-10-27T18:38:49.365Z"
   },
   {
    "duration": 5,
    "start_time": "2022-10-27T18:38:49.375Z"
   },
   {
    "duration": 58,
    "start_time": "2022-10-27T18:38:49.382Z"
   },
   {
    "duration": 6,
    "start_time": "2022-10-27T18:38:49.442Z"
   },
   {
    "duration": 8,
    "start_time": "2022-10-27T18:38:49.450Z"
   },
   {
    "duration": 6,
    "start_time": "2022-10-27T18:38:49.460Z"
   },
   {
    "duration": 9,
    "start_time": "2022-10-27T18:38:49.468Z"
   },
   {
    "duration": 51,
    "start_time": "2022-10-27T18:38:49.478Z"
   },
   {
    "duration": 7,
    "start_time": "2022-10-27T18:38:49.532Z"
   },
   {
    "duration": 10,
    "start_time": "2022-10-27T18:38:49.540Z"
   },
   {
    "duration": 17,
    "start_time": "2022-10-27T18:38:49.552Z"
   },
   {
    "duration": 9,
    "start_time": "2022-10-27T18:38:49.571Z"
   },
   {
    "duration": 50,
    "start_time": "2022-10-27T18:38:49.582Z"
   },
   {
    "duration": 313,
    "start_time": "2022-10-27T18:38:49.634Z"
   },
   {
    "duration": 567,
    "start_time": "2022-10-27T18:38:49.949Z"
   },
   {
    "duration": 5,
    "start_time": "2022-10-27T18:38:50.518Z"
   },
   {
    "duration": 273,
    "start_time": "2022-10-27T18:38:50.525Z"
   },
   {
    "duration": 184,
    "start_time": "2022-10-27T18:38:50.800Z"
   },
   {
    "duration": 42,
    "start_time": "2022-10-27T18:38:51.023Z"
   },
   {
    "duration": 378,
    "start_time": "2022-10-27T18:38:51.067Z"
   },
   {
    "duration": 11,
    "start_time": "2022-10-27T18:38:51.446Z"
   },
   {
    "duration": 32,
    "start_time": "2022-10-27T18:38:51.459Z"
   },
   {
    "duration": 402,
    "start_time": "2022-10-27T18:38:51.493Z"
   },
   {
    "duration": 475,
    "start_time": "2022-10-27T18:38:51.897Z"
   },
   {
    "duration": 377,
    "start_time": "2022-10-27T18:38:52.373Z"
   },
   {
    "duration": 690,
    "start_time": "2022-10-27T18:38:52.752Z"
   },
   {
    "duration": 13,
    "start_time": "2022-10-27T18:38:53.444Z"
   },
   {
    "duration": 18,
    "start_time": "2022-10-27T18:38:53.458Z"
   },
   {
    "duration": 76,
    "start_time": "2022-10-27T18:40:52.513Z"
   },
   {
    "duration": 113,
    "start_time": "2022-10-27T18:42:20.643Z"
   },
   {
    "duration": 11,
    "start_time": "2022-10-27T18:42:42.708Z"
   },
   {
    "duration": 632,
    "start_time": "2022-10-27T18:42:49.291Z"
   },
   {
    "duration": 7,
    "start_time": "2022-10-27T18:42:59.420Z"
   },
   {
    "duration": 58,
    "start_time": "2022-10-27T18:42:59.799Z"
   },
   {
    "duration": 16,
    "start_time": "2022-10-27T18:43:00.698Z"
   },
   {
    "duration": 20,
    "start_time": "2022-10-27T18:43:01.854Z"
   },
   {
    "duration": 1015,
    "start_time": "2022-10-27T18:43:02.366Z"
   },
   {
    "duration": 396,
    "start_time": "2022-10-27T18:43:04.667Z"
   },
   {
    "duration": 4,
    "start_time": "2022-10-27T18:43:26.878Z"
   },
   {
    "duration": 6,
    "start_time": "2022-10-27T18:43:27.322Z"
   },
   {
    "duration": 27,
    "start_time": "2022-10-27T18:43:29.533Z"
   },
   {
    "duration": 10,
    "start_time": "2022-10-27T18:43:34.019Z"
   },
   {
    "duration": 658,
    "start_time": "2022-10-27T18:43:36.662Z"
   },
   {
    "duration": 11,
    "start_time": "2022-10-27T18:43:40.038Z"
   },
   {
    "duration": 1285,
    "start_time": "2022-10-27T18:45:52.975Z"
   },
   {
    "duration": 59,
    "start_time": "2022-10-27T18:45:54.263Z"
   },
   {
    "duration": 25,
    "start_time": "2022-10-27T18:45:54.324Z"
   },
   {
    "duration": 24,
    "start_time": "2022-10-27T18:45:54.351Z"
   },
   {
    "duration": 778,
    "start_time": "2022-10-27T18:45:54.379Z"
   },
   {
    "duration": 347,
    "start_time": "2022-10-27T18:45:55.159Z"
   },
   {
    "duration": 4,
    "start_time": "2022-10-27T18:45:55.508Z"
   },
   {
    "duration": 6,
    "start_time": "2022-10-27T18:45:55.524Z"
   },
   {
    "duration": 25,
    "start_time": "2022-10-27T18:45:55.532Z"
   },
   {
    "duration": 14,
    "start_time": "2022-10-27T18:45:55.559Z"
   },
   {
    "duration": 763,
    "start_time": "2022-10-27T18:45:55.575Z"
   },
   {
    "duration": 4,
    "start_time": "2022-10-27T18:46:06.902Z"
   },
   {
    "duration": 9,
    "start_time": "2022-10-27T18:46:06.909Z"
   },
   {
    "duration": 1350,
    "start_time": "2022-10-27T18:46:51.740Z"
   },
   {
    "duration": 60,
    "start_time": "2022-10-27T18:46:53.093Z"
   },
   {
    "duration": 20,
    "start_time": "2022-10-27T18:46:53.155Z"
   },
   {
    "duration": 23,
    "start_time": "2022-10-27T18:46:53.177Z"
   },
   {
    "duration": 866,
    "start_time": "2022-10-27T18:46:53.204Z"
   },
   {
    "duration": 424,
    "start_time": "2022-10-27T18:46:54.071Z"
   },
   {
    "duration": 3,
    "start_time": "2022-10-27T18:46:54.498Z"
   },
   {
    "duration": 35,
    "start_time": "2022-10-27T18:46:54.503Z"
   },
   {
    "duration": 38,
    "start_time": "2022-10-27T18:46:54.540Z"
   },
   {
    "duration": 11,
    "start_time": "2022-10-27T18:46:54.580Z"
   },
   {
    "duration": 662,
    "start_time": "2022-10-27T18:46:54.593Z"
   },
   {
    "duration": 4,
    "start_time": "2022-10-27T18:50:51.632Z"
   },
   {
    "duration": 4,
    "start_time": "2022-10-27T18:50:58.572Z"
   },
   {
    "duration": 348,
    "start_time": "2022-10-27T18:51:19.792Z"
   },
   {
    "duration": 384,
    "start_time": "2022-10-27T18:52:27.176Z"
   },
   {
    "duration": 401,
    "start_time": "2022-10-27T18:52:32.810Z"
   },
   {
    "duration": 383,
    "start_time": "2022-10-27T18:54:30.727Z"
   },
   {
    "duration": 71,
    "start_time": "2022-10-27T18:55:18.566Z"
   },
   {
    "duration": 47,
    "start_time": "2022-10-27T18:55:35.918Z"
   },
   {
    "duration": 591,
    "start_time": "2022-10-27T18:56:45.234Z"
   },
   {
    "duration": 4,
    "start_time": "2022-10-27T18:56:47.200Z"
   },
   {
    "duration": 74,
    "start_time": "2022-10-27T18:56:59.033Z"
   },
   {
    "duration": 1323,
    "start_time": "2022-10-27T19:04:37.105Z"
   },
   {
    "duration": 67,
    "start_time": "2022-10-27T19:04:38.431Z"
   },
   {
    "duration": 26,
    "start_time": "2022-10-27T19:04:38.500Z"
   },
   {
    "duration": 22,
    "start_time": "2022-10-27T19:04:38.529Z"
   },
   {
    "duration": 929,
    "start_time": "2022-10-27T19:04:38.554Z"
   },
   {
    "duration": 364,
    "start_time": "2022-10-27T19:04:39.485Z"
   },
   {
    "duration": 267,
    "start_time": "2022-10-27T19:04:39.851Z"
   },
   {
    "duration": 12,
    "start_time": "2022-10-27T19:04:40.120Z"
   },
   {
    "duration": 48,
    "start_time": "2022-10-27T19:04:40.134Z"
   },
   {
    "duration": 12,
    "start_time": "2022-10-27T19:04:40.188Z"
   },
   {
    "duration": 814,
    "start_time": "2022-10-27T19:04:40.203Z"
   },
   {
    "duration": 60,
    "start_time": "2022-10-27T19:04:41.020Z"
   },
   {
    "duration": 4,
    "start_time": "2022-10-27T19:04:41.083Z"
   },
   {
    "duration": 5,
    "start_time": "2022-10-27T19:04:41.090Z"
   },
   {
    "duration": 35,
    "start_time": "2022-10-27T19:04:41.097Z"
   },
   {
    "duration": 20,
    "start_time": "2022-10-27T19:04:41.134Z"
   },
   {
    "duration": 41,
    "start_time": "2022-10-27T19:04:41.156Z"
   },
   {
    "duration": 11,
    "start_time": "2022-10-27T19:04:41.200Z"
   },
   {
    "duration": 36,
    "start_time": "2022-10-27T19:04:41.213Z"
   },
   {
    "duration": 21,
    "start_time": "2022-10-27T19:04:41.252Z"
   },
   {
    "duration": 29,
    "start_time": "2022-10-27T19:04:41.276Z"
   },
   {
    "duration": 14,
    "start_time": "2022-10-27T19:04:41.308Z"
   },
   {
    "duration": 34,
    "start_time": "2022-10-27T19:04:41.324Z"
   },
   {
    "duration": 38,
    "start_time": "2022-10-27T19:04:41.360Z"
   },
   {
    "duration": 32,
    "start_time": "2022-10-27T19:04:41.400Z"
   },
   {
    "duration": 42,
    "start_time": "2022-10-27T19:04:41.433Z"
   },
   {
    "duration": 19,
    "start_time": "2022-10-27T19:04:41.478Z"
   },
   {
    "duration": 17,
    "start_time": "2022-10-27T19:04:41.498Z"
   },
   {
    "duration": 17,
    "start_time": "2022-10-27T19:04:41.518Z"
   },
   {
    "duration": 12,
    "start_time": "2022-10-27T19:04:41.539Z"
   },
   {
    "duration": 35,
    "start_time": "2022-10-27T19:04:41.554Z"
   },
   {
    "duration": 25,
    "start_time": "2022-10-27T19:04:41.594Z"
   },
   {
    "duration": 33,
    "start_time": "2022-10-27T19:04:41.622Z"
   },
   {
    "duration": 33,
    "start_time": "2022-10-27T19:04:41.658Z"
   },
   {
    "duration": 15,
    "start_time": "2022-10-27T19:04:41.693Z"
   },
   {
    "duration": 45,
    "start_time": "2022-10-27T19:04:41.709Z"
   },
   {
    "duration": 600,
    "start_time": "2022-10-27T19:04:41.756Z"
   },
   {
    "duration": 711,
    "start_time": "2022-10-27T19:04:42.358Z"
   },
   {
    "duration": 5,
    "start_time": "2022-10-27T19:04:43.071Z"
   },
   {
    "duration": 1313,
    "start_time": "2022-10-27T19:06:48.422Z"
   },
   {
    "duration": 64,
    "start_time": "2022-10-27T19:06:49.738Z"
   },
   {
    "duration": 27,
    "start_time": "2022-10-27T19:06:49.806Z"
   },
   {
    "duration": 18,
    "start_time": "2022-10-27T19:06:49.836Z"
   },
   {
    "duration": 804,
    "start_time": "2022-10-27T19:06:49.857Z"
   },
   {
    "duration": 332,
    "start_time": "2022-10-27T19:06:50.662Z"
   },
   {
    "duration": 6,
    "start_time": "2022-10-27T19:06:50.996Z"
   },
   {
    "duration": 29,
    "start_time": "2022-10-27T19:06:51.004Z"
   },
   {
    "duration": 38,
    "start_time": "2022-10-27T19:06:51.035Z"
   },
   {
    "duration": 14,
    "start_time": "2022-10-27T19:06:51.075Z"
   },
   {
    "duration": 734,
    "start_time": "2022-10-27T19:06:51.091Z"
   },
   {
    "duration": 59,
    "start_time": "2022-10-27T19:06:51.827Z"
   },
   {
    "duration": 5,
    "start_time": "2022-10-27T19:06:51.888Z"
   },
   {
    "duration": 37,
    "start_time": "2022-10-27T19:06:51.897Z"
   },
   {
    "duration": 27,
    "start_time": "2022-10-27T19:06:51.936Z"
   },
   {
    "duration": 20,
    "start_time": "2022-10-27T19:06:51.968Z"
   },
   {
    "duration": 59,
    "start_time": "2022-10-27T19:06:51.990Z"
   },
   {
    "duration": 21,
    "start_time": "2022-10-27T19:06:52.055Z"
   },
   {
    "duration": 12,
    "start_time": "2022-10-27T19:06:52.079Z"
   },
   {
    "duration": 9,
    "start_time": "2022-10-27T19:06:52.093Z"
   },
   {
    "duration": 21,
    "start_time": "2022-10-27T19:06:52.104Z"
   },
   {
    "duration": 8,
    "start_time": "2022-10-27T19:06:52.128Z"
   },
   {
    "duration": 12,
    "start_time": "2022-10-27T19:06:52.138Z"
   },
   {
    "duration": 12,
    "start_time": "2022-10-27T19:06:52.152Z"
   },
   {
    "duration": 8,
    "start_time": "2022-10-27T19:06:52.167Z"
   },
   {
    "duration": 60,
    "start_time": "2022-10-27T19:06:52.178Z"
   },
   {
    "duration": 7,
    "start_time": "2022-10-27T19:06:52.240Z"
   },
   {
    "duration": 13,
    "start_time": "2022-10-27T19:06:52.248Z"
   },
   {
    "duration": 6,
    "start_time": "2022-10-27T19:06:52.264Z"
   },
   {
    "duration": 12,
    "start_time": "2022-10-27T19:06:52.272Z"
   },
   {
    "duration": 44,
    "start_time": "2022-10-27T19:06:52.287Z"
   },
   {
    "duration": 14,
    "start_time": "2022-10-27T19:06:52.333Z"
   },
   {
    "duration": 16,
    "start_time": "2022-10-27T19:06:52.349Z"
   },
   {
    "duration": 21,
    "start_time": "2022-10-27T19:06:52.368Z"
   },
   {
    "duration": 12,
    "start_time": "2022-10-27T19:06:52.391Z"
   },
   {
    "duration": 13,
    "start_time": "2022-10-27T19:06:52.425Z"
   },
   {
    "duration": 460,
    "start_time": "2022-10-27T19:06:52.440Z"
   },
   {
    "duration": 722,
    "start_time": "2022-10-27T19:06:52.902Z"
   },
   {
    "duration": 5,
    "start_time": "2022-10-27T19:06:53.626Z"
   },
   {
    "duration": 199,
    "start_time": "2022-10-27T19:06:53.633Z"
   },
   {
    "duration": 210,
    "start_time": "2022-10-27T19:06:53.837Z"
   },
   {
    "duration": 474,
    "start_time": "2022-10-27T19:06:54.049Z"
   },
   {
    "duration": 451,
    "start_time": "2022-10-27T19:06:54.526Z"
   },
   {
    "duration": 12,
    "start_time": "2022-10-27T19:06:54.979Z"
   },
   {
    "duration": 53,
    "start_time": "2022-10-27T19:06:54.993Z"
   },
   {
    "duration": 367,
    "start_time": "2022-10-27T19:06:55.049Z"
   },
   {
    "duration": 502,
    "start_time": "2022-10-27T19:06:55.418Z"
   },
   {
    "duration": 454,
    "start_time": "2022-10-27T19:06:55.923Z"
   },
   {
    "duration": 700,
    "start_time": "2022-10-27T19:06:56.379Z"
   },
   {
    "duration": 19,
    "start_time": "2022-10-27T19:06:57.081Z"
   },
   {
    "duration": 33,
    "start_time": "2022-10-27T19:06:57.103Z"
   },
   {
    "duration": 53,
    "start_time": "2022-10-27T19:19:42.392Z"
   },
   {
    "duration": 58,
    "start_time": "2022-10-27T19:22:01.982Z"
   },
   {
    "duration": 49,
    "start_time": "2022-10-27T19:23:25.041Z"
   },
   {
    "duration": 45,
    "start_time": "2022-10-27T19:23:35.128Z"
   },
   {
    "duration": 113,
    "start_time": "2022-10-27T19:23:44.145Z"
   },
   {
    "duration": 37,
    "start_time": "2022-10-27T19:23:49.291Z"
   },
   {
    "duration": 33,
    "start_time": "2022-10-27T19:23:58.510Z"
   },
   {
    "duration": 35,
    "start_time": "2022-10-27T19:24:31.195Z"
   },
   {
    "duration": 38,
    "start_time": "2022-10-27T19:24:40.985Z"
   },
   {
    "duration": 40,
    "start_time": "2022-10-27T19:25:04.446Z"
   },
   {
    "duration": 69,
    "start_time": "2022-10-27T19:28:18.079Z"
   },
   {
    "duration": 67,
    "start_time": "2022-10-27T19:28:42.352Z"
   },
   {
    "duration": 52,
    "start_time": "2022-10-27T19:28:54.151Z"
   },
   {
    "duration": 50,
    "start_time": "2022-10-27T19:29:18.701Z"
   },
   {
    "duration": 5,
    "start_time": "2022-10-27T19:32:51.957Z"
   },
   {
    "duration": 5,
    "start_time": "2022-10-27T19:33:14.238Z"
   },
   {
    "duration": 4,
    "start_time": "2022-10-27T19:33:29.915Z"
   },
   {
    "duration": 4,
    "start_time": "2022-10-27T19:35:27.659Z"
   },
   {
    "duration": 11248,
    "start_time": "2022-10-27T19:37:59.782Z"
   },
   {
    "duration": 11794,
    "start_time": "2022-10-27T19:41:29.866Z"
   },
   {
    "duration": 10719,
    "start_time": "2022-10-27T19:44:25.195Z"
   },
   {
    "duration": 139,
    "start_time": "2022-10-27T19:47:28.116Z"
   },
   {
    "duration": 8758,
    "start_time": "2022-10-27T19:47:37.263Z"
   },
   {
    "duration": 12,
    "start_time": "2022-10-27T19:53:47.193Z"
   },
   {
    "duration": 1440,
    "start_time": "2022-10-27T19:54:22.505Z"
   },
   {
    "duration": 60,
    "start_time": "2022-10-27T19:54:23.948Z"
   },
   {
    "duration": 20,
    "start_time": "2022-10-27T19:54:24.010Z"
   },
   {
    "duration": 22,
    "start_time": "2022-10-27T19:54:24.033Z"
   },
   {
    "duration": 841,
    "start_time": "2022-10-27T19:54:24.057Z"
   },
   {
    "duration": 373,
    "start_time": "2022-10-27T19:54:24.900Z"
   },
   {
    "duration": 4,
    "start_time": "2022-10-27T19:54:25.275Z"
   },
   {
    "duration": 9,
    "start_time": "2022-10-27T19:54:25.281Z"
   },
   {
    "duration": 40,
    "start_time": "2022-10-27T19:54:25.292Z"
   },
   {
    "duration": 12,
    "start_time": "2022-10-27T19:54:25.334Z"
   },
   {
    "duration": 11,
    "start_time": "2022-10-27T19:54:25.348Z"
   },
   {
    "duration": 130,
    "start_time": "2022-10-27T19:54:25.360Z"
   },
   {
    "duration": 0,
    "start_time": "2022-10-27T19:54:25.492Z"
   },
   {
    "duration": 0,
    "start_time": "2022-10-27T19:54:25.493Z"
   },
   {
    "duration": 5,
    "start_time": "2022-10-27T19:54:26.116Z"
   },
   {
    "duration": 19,
    "start_time": "2022-10-27T19:54:26.123Z"
   },
   {
    "duration": 10,
    "start_time": "2022-10-27T19:54:26.143Z"
   },
   {
    "duration": 5,
    "start_time": "2022-10-27T19:54:26.231Z"
   },
   {
    "duration": 7,
    "start_time": "2022-10-27T19:54:26.238Z"
   },
   {
    "duration": 6,
    "start_time": "2022-10-27T19:54:26.247Z"
   },
   {
    "duration": 6,
    "start_time": "2022-10-27T19:54:26.254Z"
   },
   {
    "duration": 5,
    "start_time": "2022-10-27T19:54:26.262Z"
   },
   {
    "duration": 7,
    "start_time": "2022-10-27T19:54:26.269Z"
   },
   {
    "duration": 7,
    "start_time": "2022-10-27T19:54:26.277Z"
   },
   {
    "duration": 50,
    "start_time": "2022-10-27T19:54:26.286Z"
   },
   {
    "duration": 6,
    "start_time": "2022-10-27T19:54:26.338Z"
   },
   {
    "duration": 8,
    "start_time": "2022-10-27T19:54:26.345Z"
   },
   {
    "duration": 6,
    "start_time": "2022-10-27T19:54:26.355Z"
   },
   {
    "duration": 7,
    "start_time": "2022-10-27T19:54:26.364Z"
   },
   {
    "duration": 12,
    "start_time": "2022-10-27T19:54:26.372Z"
   },
   {
    "duration": 7,
    "start_time": "2022-10-27T19:54:26.423Z"
   },
   {
    "duration": 9,
    "start_time": "2022-10-27T19:54:26.432Z"
   },
   {
    "duration": 20,
    "start_time": "2022-10-27T19:54:26.443Z"
   },
   {
    "duration": 12,
    "start_time": "2022-10-27T19:54:26.465Z"
   },
   {
    "duration": 53,
    "start_time": "2022-10-27T19:54:26.479Z"
   },
   {
    "duration": 434,
    "start_time": "2022-10-27T19:54:26.534Z"
   },
   {
    "duration": 527,
    "start_time": "2022-10-27T19:54:26.970Z"
   },
   {
    "duration": 5,
    "start_time": "2022-10-27T19:54:27.498Z"
   },
   {
    "duration": 298,
    "start_time": "2022-10-27T19:54:27.505Z"
   },
   {
    "duration": 62,
    "start_time": "2022-10-27T19:54:27.805Z"
   },
   {
    "duration": 98,
    "start_time": "2022-10-27T19:54:27.871Z"
   },
   {
    "duration": 68,
    "start_time": "2022-10-27T19:54:27.972Z"
   },
   {
    "duration": 0,
    "start_time": "2022-10-27T19:54:28.042Z"
   },
   {
    "duration": 0,
    "start_time": "2022-10-27T19:54:28.044Z"
   },
   {
    "duration": 0,
    "start_time": "2022-10-27T19:54:28.045Z"
   },
   {
    "duration": 0,
    "start_time": "2022-10-27T19:54:28.046Z"
   },
   {
    "duration": 0,
    "start_time": "2022-10-27T19:54:28.047Z"
   },
   {
    "duration": 0,
    "start_time": "2022-10-27T19:54:28.048Z"
   },
   {
    "duration": 0,
    "start_time": "2022-10-27T19:54:28.049Z"
   },
   {
    "duration": 0,
    "start_time": "2022-10-27T19:54:28.050Z"
   },
   {
    "duration": 0,
    "start_time": "2022-10-27T19:54:28.051Z"
   },
   {
    "duration": 8324,
    "start_time": "2022-10-27T20:08:05.553Z"
   },
   {
    "duration": 1292,
    "start_time": "2022-10-27T20:25:16.912Z"
   },
   {
    "duration": 58,
    "start_time": "2022-10-27T20:25:18.206Z"
   },
   {
    "duration": 19,
    "start_time": "2022-10-27T20:25:18.266Z"
   },
   {
    "duration": 32,
    "start_time": "2022-10-27T20:25:18.287Z"
   },
   {
    "duration": 679,
    "start_time": "2022-10-27T20:25:18.321Z"
   },
   {
    "duration": 351,
    "start_time": "2022-10-27T20:25:19.002Z"
   },
   {
    "duration": 3,
    "start_time": "2022-10-27T20:25:19.355Z"
   },
   {
    "duration": 8,
    "start_time": "2022-10-27T20:25:19.360Z"
   },
   {
    "duration": 50,
    "start_time": "2022-10-27T20:25:19.369Z"
   },
   {
    "duration": 11,
    "start_time": "2022-10-27T20:25:19.423Z"
   },
   {
    "duration": 135,
    "start_time": "2022-10-27T20:25:19.435Z"
   },
   {
    "duration": 0,
    "start_time": "2022-10-27T20:25:19.573Z"
   },
   {
    "duration": 0,
    "start_time": "2022-10-27T20:25:19.574Z"
   },
   {
    "duration": 0,
    "start_time": "2022-10-27T20:25:19.574Z"
   },
   {
    "duration": 0,
    "start_time": "2022-10-27T20:25:19.576Z"
   },
   {
    "duration": 0,
    "start_time": "2022-10-27T20:25:19.577Z"
   },
   {
    "duration": 0,
    "start_time": "2022-10-27T20:25:19.578Z"
   },
   {
    "duration": 0,
    "start_time": "2022-10-27T20:25:19.579Z"
   },
   {
    "duration": 0,
    "start_time": "2022-10-27T20:25:19.580Z"
   },
   {
    "duration": 0,
    "start_time": "2022-10-27T20:25:19.581Z"
   },
   {
    "duration": 0,
    "start_time": "2022-10-27T20:25:19.583Z"
   },
   {
    "duration": 0,
    "start_time": "2022-10-27T20:25:19.583Z"
   },
   {
    "duration": 0,
    "start_time": "2022-10-27T20:25:19.584Z"
   },
   {
    "duration": 0,
    "start_time": "2022-10-27T20:25:19.586Z"
   },
   {
    "duration": 0,
    "start_time": "2022-10-27T20:25:19.587Z"
   },
   {
    "duration": 0,
    "start_time": "2022-10-27T20:25:19.588Z"
   },
   {
    "duration": 0,
    "start_time": "2022-10-27T20:25:19.589Z"
   },
   {
    "duration": 0,
    "start_time": "2022-10-27T20:25:19.590Z"
   },
   {
    "duration": 0,
    "start_time": "2022-10-27T20:25:19.591Z"
   },
   {
    "duration": 0,
    "start_time": "2022-10-27T20:25:19.592Z"
   },
   {
    "duration": 0,
    "start_time": "2022-10-27T20:25:19.593Z"
   },
   {
    "duration": 0,
    "start_time": "2022-10-27T20:25:19.624Z"
   },
   {
    "duration": 0,
    "start_time": "2022-10-27T20:25:19.626Z"
   },
   {
    "duration": 0,
    "start_time": "2022-10-27T20:25:19.627Z"
   },
   {
    "duration": 0,
    "start_time": "2022-10-27T20:25:19.628Z"
   },
   {
    "duration": 0,
    "start_time": "2022-10-27T20:25:19.630Z"
   },
   {
    "duration": 0,
    "start_time": "2022-10-27T20:25:19.631Z"
   },
   {
    "duration": 0,
    "start_time": "2022-10-27T20:25:19.633Z"
   },
   {
    "duration": 0,
    "start_time": "2022-10-27T20:25:19.635Z"
   },
   {
    "duration": 0,
    "start_time": "2022-10-27T20:25:19.636Z"
   },
   {
    "duration": 0,
    "start_time": "2022-10-27T20:25:19.638Z"
   },
   {
    "duration": 0,
    "start_time": "2022-10-27T20:25:19.639Z"
   },
   {
    "duration": 0,
    "start_time": "2022-10-27T20:25:19.640Z"
   },
   {
    "duration": 0,
    "start_time": "2022-10-27T20:25:19.641Z"
   },
   {
    "duration": 0,
    "start_time": "2022-10-27T20:25:19.643Z"
   },
   {
    "duration": 0,
    "start_time": "2022-10-27T20:25:19.644Z"
   },
   {
    "duration": 1,
    "start_time": "2022-10-27T20:25:19.645Z"
   },
   {
    "duration": 0,
    "start_time": "2022-10-27T20:25:19.647Z"
   },
   {
    "duration": 0,
    "start_time": "2022-10-27T20:25:19.649Z"
   },
   {
    "duration": 0,
    "start_time": "2022-10-27T20:25:19.650Z"
   },
   {
    "duration": 19,
    "start_time": "2022-10-27T20:25:45.143Z"
   },
   {
    "duration": 9,
    "start_time": "2022-10-27T20:29:19.725Z"
   },
   {
    "duration": 9,
    "start_time": "2022-10-27T20:29:23.790Z"
   },
   {
    "duration": 10,
    "start_time": "2022-10-27T20:29:24.440Z"
   },
   {
    "duration": 10,
    "start_time": "2022-10-27T20:29:36.263Z"
   },
   {
    "duration": 13,
    "start_time": "2022-10-27T21:38:41.425Z"
   },
   {
    "duration": 10,
    "start_time": "2022-10-27T21:38:49.478Z"
   },
   {
    "duration": 12,
    "start_time": "2022-10-27T21:39:06.703Z"
   },
   {
    "duration": 105,
    "start_time": "2022-10-27T21:39:29.332Z"
   },
   {
    "duration": 11,
    "start_time": "2022-10-27T21:39:34.294Z"
   },
   {
    "duration": 21,
    "start_time": "2022-10-27T22:01:19.397Z"
   },
   {
    "duration": 13,
    "start_time": "2022-10-27T22:03:40.762Z"
   },
   {
    "duration": 9,
    "start_time": "2022-10-27T22:04:07.395Z"
   },
   {
    "duration": 10,
    "start_time": "2022-10-27T22:04:55.186Z"
   },
   {
    "duration": 10,
    "start_time": "2022-10-27T22:05:56.357Z"
   },
   {
    "duration": 22,
    "start_time": "2022-10-27T22:07:37.547Z"
   },
   {
    "duration": 17,
    "start_time": "2022-10-27T22:08:24.575Z"
   },
   {
    "duration": 15,
    "start_time": "2022-10-27T22:08:42.571Z"
   },
   {
    "duration": 17,
    "start_time": "2022-10-27T22:08:50.280Z"
   },
   {
    "duration": 15,
    "start_time": "2022-10-27T22:08:57.031Z"
   },
   {
    "duration": 13,
    "start_time": "2022-10-27T22:09:10.656Z"
   },
   {
    "duration": 3,
    "start_time": "2022-10-27T22:10:40.533Z"
   },
   {
    "duration": 12,
    "start_time": "2022-10-27T22:12:21.696Z"
   },
   {
    "duration": 12,
    "start_time": "2022-10-27T22:12:37.739Z"
   },
   {
    "duration": 12,
    "start_time": "2022-10-27T22:12:47.024Z"
   },
   {
    "duration": 16,
    "start_time": "2022-10-27T22:12:53.447Z"
   },
   {
    "duration": 18,
    "start_time": "2022-10-27T22:13:01.440Z"
   },
   {
    "duration": 15,
    "start_time": "2022-10-27T22:13:20.942Z"
   },
   {
    "duration": 52,
    "start_time": "2022-10-28T08:14:45.166Z"
   },
   {
    "duration": 1367,
    "start_time": "2022-10-28T08:14:53.451Z"
   },
   {
    "duration": 94,
    "start_time": "2022-10-28T08:14:54.820Z"
   },
   {
    "duration": 19,
    "start_time": "2022-10-28T08:14:54.916Z"
   },
   {
    "duration": 38,
    "start_time": "2022-10-28T08:14:54.937Z"
   },
   {
    "duration": 680,
    "start_time": "2022-10-28T08:14:54.977Z"
   },
   {
    "duration": 342,
    "start_time": "2022-10-28T08:14:55.658Z"
   },
   {
    "duration": 3,
    "start_time": "2022-10-28T08:14:56.002Z"
   },
   {
    "duration": 10,
    "start_time": "2022-10-28T08:14:56.006Z"
   },
   {
    "duration": 37,
    "start_time": "2022-10-28T08:14:56.017Z"
   },
   {
    "duration": 9,
    "start_time": "2022-10-28T08:14:56.056Z"
   },
   {
    "duration": 127,
    "start_time": "2022-10-28T08:14:56.067Z"
   },
   {
    "duration": 0,
    "start_time": "2022-10-28T08:14:56.197Z"
   },
   {
    "duration": 0,
    "start_time": "2022-10-28T08:14:56.198Z"
   },
   {
    "duration": 0,
    "start_time": "2022-10-28T08:14:56.199Z"
   },
   {
    "duration": 0,
    "start_time": "2022-10-28T08:14:56.200Z"
   },
   {
    "duration": 0,
    "start_time": "2022-10-28T08:14:56.201Z"
   },
   {
    "duration": 0,
    "start_time": "2022-10-28T08:14:56.202Z"
   },
   {
    "duration": 0,
    "start_time": "2022-10-28T08:14:56.203Z"
   },
   {
    "duration": 0,
    "start_time": "2022-10-28T08:14:56.204Z"
   },
   {
    "duration": 0,
    "start_time": "2022-10-28T08:14:56.206Z"
   },
   {
    "duration": 1,
    "start_time": "2022-10-28T08:14:56.206Z"
   },
   {
    "duration": 0,
    "start_time": "2022-10-28T08:14:56.207Z"
   },
   {
    "duration": 0,
    "start_time": "2022-10-28T08:14:56.209Z"
   },
   {
    "duration": 0,
    "start_time": "2022-10-28T08:14:56.210Z"
   },
   {
    "duration": 0,
    "start_time": "2022-10-28T08:14:56.211Z"
   },
   {
    "duration": 0,
    "start_time": "2022-10-28T08:14:56.212Z"
   },
   {
    "duration": 0,
    "start_time": "2022-10-28T08:14:56.213Z"
   },
   {
    "duration": 0,
    "start_time": "2022-10-28T08:14:56.214Z"
   },
   {
    "duration": 0,
    "start_time": "2022-10-28T08:14:56.215Z"
   },
   {
    "duration": 0,
    "start_time": "2022-10-28T08:14:56.216Z"
   },
   {
    "duration": 0,
    "start_time": "2022-10-28T08:14:56.253Z"
   },
   {
    "duration": 0,
    "start_time": "2022-10-28T08:14:56.256Z"
   },
   {
    "duration": 0,
    "start_time": "2022-10-28T08:14:56.257Z"
   },
   {
    "duration": 0,
    "start_time": "2022-10-28T08:14:56.258Z"
   },
   {
    "duration": 0,
    "start_time": "2022-10-28T08:14:56.259Z"
   },
   {
    "duration": 0,
    "start_time": "2022-10-28T08:14:56.260Z"
   },
   {
    "duration": 0,
    "start_time": "2022-10-28T08:14:56.261Z"
   },
   {
    "duration": 0,
    "start_time": "2022-10-28T08:14:56.262Z"
   },
   {
    "duration": 1,
    "start_time": "2022-10-28T08:14:56.263Z"
   },
   {
    "duration": 0,
    "start_time": "2022-10-28T08:14:56.265Z"
   },
   {
    "duration": 0,
    "start_time": "2022-10-28T08:14:56.266Z"
   },
   {
    "duration": 0,
    "start_time": "2022-10-28T08:14:56.267Z"
   },
   {
    "duration": 0,
    "start_time": "2022-10-28T08:14:56.268Z"
   },
   {
    "duration": 0,
    "start_time": "2022-10-28T08:14:56.269Z"
   },
   {
    "duration": 0,
    "start_time": "2022-10-28T08:14:56.271Z"
   },
   {
    "duration": 0,
    "start_time": "2022-10-28T08:14:56.271Z"
   },
   {
    "duration": 0,
    "start_time": "2022-10-28T08:14:56.273Z"
   },
   {
    "duration": 0,
    "start_time": "2022-10-28T08:14:56.274Z"
   },
   {
    "duration": 0,
    "start_time": "2022-10-28T08:14:56.275Z"
   },
   {
    "duration": 0,
    "start_time": "2022-10-28T08:14:56.276Z"
   },
   {
    "duration": 0,
    "start_time": "2022-10-28T08:14:56.277Z"
   },
   {
    "duration": 12,
    "start_time": "2022-10-28T08:15:05.357Z"
   },
   {
    "duration": 5,
    "start_time": "2022-10-28T08:15:20.259Z"
   },
   {
    "duration": 53,
    "start_time": "2022-10-28T08:15:20.559Z"
   },
   {
    "duration": 15,
    "start_time": "2022-10-28T08:15:21.234Z"
   },
   {
    "duration": 15,
    "start_time": "2022-10-28T08:15:22.231Z"
   },
   {
    "duration": 683,
    "start_time": "2022-10-28T08:15:22.833Z"
   },
   {
    "duration": 412,
    "start_time": "2022-10-28T08:15:24.504Z"
   },
   {
    "duration": 4,
    "start_time": "2022-10-28T08:15:27.224Z"
   },
   {
    "duration": 6,
    "start_time": "2022-10-28T08:15:27.721Z"
   },
   {
    "duration": 28,
    "start_time": "2022-10-28T08:15:28.658Z"
   },
   {
    "duration": 11,
    "start_time": "2022-10-28T08:15:30.181Z"
   },
   {
    "duration": 17,
    "start_time": "2022-10-28T08:15:31.448Z"
   },
   {
    "duration": 16,
    "start_time": "2022-10-28T08:15:49.832Z"
   },
   {
    "duration": 17,
    "start_time": "2022-10-28T08:16:17.468Z"
   },
   {
    "duration": 14,
    "start_time": "2022-10-28T08:19:58.729Z"
   },
   {
    "duration": 16,
    "start_time": "2022-10-28T08:20:09.861Z"
   },
   {
    "duration": 11,
    "start_time": "2022-10-28T08:21:12.623Z"
   },
   {
    "duration": 13,
    "start_time": "2022-10-28T08:34:33.925Z"
   },
   {
    "duration": 14,
    "start_time": "2022-10-28T08:34:41.407Z"
   },
   {
    "duration": 13,
    "start_time": "2022-10-28T08:34:54.513Z"
   },
   {
    "duration": 16,
    "start_time": "2022-10-28T08:35:05.301Z"
   },
   {
    "duration": 14,
    "start_time": "2022-10-28T08:36:13.621Z"
   },
   {
    "duration": 15,
    "start_time": "2022-10-28T08:36:54.287Z"
   },
   {
    "duration": 11,
    "start_time": "2022-10-28T08:37:07.737Z"
   },
   {
    "duration": 15,
    "start_time": "2022-10-28T08:37:08.338Z"
   },
   {
    "duration": 10,
    "start_time": "2022-10-28T08:37:17.740Z"
   },
   {
    "duration": 16,
    "start_time": "2022-10-28T08:39:21.109Z"
   },
   {
    "duration": 22,
    "start_time": "2022-10-28T08:39:36.734Z"
   },
   {
    "duration": 22,
    "start_time": "2022-10-28T08:39:54.734Z"
   },
   {
    "duration": 29,
    "start_time": "2022-10-28T08:41:49.694Z"
   },
   {
    "duration": 40,
    "start_time": "2022-10-28T08:42:05.910Z"
   },
   {
    "duration": 21,
    "start_time": "2022-10-28T08:42:39.662Z"
   },
   {
    "duration": 22,
    "start_time": "2022-10-28T08:43:32.645Z"
   },
   {
    "duration": 21,
    "start_time": "2022-10-28T08:43:56.285Z"
   },
   {
    "duration": 28,
    "start_time": "2022-10-28T08:44:31.746Z"
   },
   {
    "duration": 58,
    "start_time": "2022-10-28T08:44:56.533Z"
   },
   {
    "duration": 12,
    "start_time": "2022-10-28T08:45:03.090Z"
   },
   {
    "duration": 11,
    "start_time": "2022-10-28T08:47:12.009Z"
   },
   {
    "duration": 12,
    "start_time": "2022-10-28T08:47:42.286Z"
   },
   {
    "duration": 12,
    "start_time": "2022-10-28T08:47:48.867Z"
   },
   {
    "duration": 12,
    "start_time": "2022-10-28T08:48:00.489Z"
   },
   {
    "duration": 12,
    "start_time": "2022-10-28T08:48:04.842Z"
   },
   {
    "duration": 12,
    "start_time": "2022-10-28T08:48:23.628Z"
   },
   {
    "duration": 11,
    "start_time": "2022-10-28T08:48:42.815Z"
   },
   {
    "duration": 12,
    "start_time": "2022-10-28T08:48:52.601Z"
   },
   {
    "duration": 11,
    "start_time": "2022-10-28T08:48:57.551Z"
   },
   {
    "duration": 12,
    "start_time": "2022-10-28T08:49:02.994Z"
   },
   {
    "duration": 59,
    "start_time": "2022-10-28T08:50:10.025Z"
   },
   {
    "duration": 11,
    "start_time": "2022-10-28T08:50:19.622Z"
   },
   {
    "duration": 18,
    "start_time": "2022-10-28T08:50:28.241Z"
   },
   {
    "duration": 10,
    "start_time": "2022-10-28T08:50:33.173Z"
   },
   {
    "duration": 12,
    "start_time": "2022-10-28T08:50:39.800Z"
   },
   {
    "duration": 12,
    "start_time": "2022-10-28T08:50:51.333Z"
   },
   {
    "duration": 13,
    "start_time": "2022-10-28T08:51:42.343Z"
   },
   {
    "duration": 11,
    "start_time": "2022-10-28T08:51:57.902Z"
   },
   {
    "duration": 12,
    "start_time": "2022-10-28T08:52:45.192Z"
   },
   {
    "duration": 12,
    "start_time": "2022-10-28T08:52:53.661Z"
   },
   {
    "duration": 11,
    "start_time": "2022-10-28T08:52:57.577Z"
   },
   {
    "duration": 12,
    "start_time": "2022-10-28T08:53:01.812Z"
   },
   {
    "duration": 12,
    "start_time": "2022-10-28T08:53:35.038Z"
   },
   {
    "duration": 13,
    "start_time": "2022-10-28T08:53:37.763Z"
   },
   {
    "duration": 23,
    "start_time": "2022-10-28T08:54:35.155Z"
   },
   {
    "duration": 11,
    "start_time": "2022-10-28T08:54:38.941Z"
   },
   {
    "duration": 14,
    "start_time": "2022-10-28T08:55:05.009Z"
   },
   {
    "duration": 13,
    "start_time": "2022-10-28T08:55:22.767Z"
   },
   {
    "duration": 12,
    "start_time": "2022-10-28T08:55:26.144Z"
   },
   {
    "duration": 13,
    "start_time": "2022-10-28T08:55:40.065Z"
   },
   {
    "duration": 14,
    "start_time": "2022-10-28T08:55:41.727Z"
   },
   {
    "duration": 14,
    "start_time": "2022-10-28T08:56:01.105Z"
   },
   {
    "duration": 14,
    "start_time": "2022-10-28T08:56:01.516Z"
   },
   {
    "duration": 15,
    "start_time": "2022-10-28T08:58:01.485Z"
   },
   {
    "duration": 13,
    "start_time": "2022-10-28T08:58:01.770Z"
   },
   {
    "duration": 1212,
    "start_time": "2022-10-28T09:00:48.108Z"
   },
   {
    "duration": 53,
    "start_time": "2022-10-28T09:00:49.322Z"
   },
   {
    "duration": 19,
    "start_time": "2022-10-28T09:00:49.377Z"
   },
   {
    "duration": 15,
    "start_time": "2022-10-28T09:00:49.397Z"
   },
   {
    "duration": 698,
    "start_time": "2022-10-28T09:00:49.415Z"
   },
   {
    "duration": 347,
    "start_time": "2022-10-28T09:00:50.115Z"
   },
   {
    "duration": 4,
    "start_time": "2022-10-28T09:00:50.464Z"
   },
   {
    "duration": 27,
    "start_time": "2022-10-28T09:00:50.470Z"
   },
   {
    "duration": 62,
    "start_time": "2022-10-28T09:00:50.499Z"
   },
   {
    "duration": 10,
    "start_time": "2022-10-28T09:00:50.563Z"
   },
   {
    "duration": 27,
    "start_time": "2022-10-28T09:00:50.574Z"
   },
   {
    "duration": 64,
    "start_time": "2022-10-28T09:00:50.603Z"
   },
   {
    "duration": 3,
    "start_time": "2022-10-28T09:00:50.669Z"
   },
   {
    "duration": 29,
    "start_time": "2022-10-28T09:00:50.675Z"
   },
   {
    "duration": 21,
    "start_time": "2022-10-28T09:00:50.705Z"
   },
   {
    "duration": 31,
    "start_time": "2022-10-28T09:00:50.728Z"
   },
   {
    "duration": 22,
    "start_time": "2022-10-28T09:00:50.760Z"
   },
   {
    "duration": 29,
    "start_time": "2022-10-28T09:00:50.784Z"
   },
   {
    "duration": 14,
    "start_time": "2022-10-28T09:00:50.815Z"
   },
   {
    "duration": 15,
    "start_time": "2022-10-28T09:00:50.831Z"
   },
   {
    "duration": 27,
    "start_time": "2022-10-28T09:00:50.848Z"
   },
   {
    "duration": 18,
    "start_time": "2022-10-28T09:00:50.878Z"
   },
   {
    "duration": 18,
    "start_time": "2022-10-28T09:00:50.898Z"
   },
   {
    "duration": 11,
    "start_time": "2022-10-28T09:00:50.917Z"
   },
   {
    "duration": 40,
    "start_time": "2022-10-28T09:00:50.930Z"
   },
   {
    "duration": 25,
    "start_time": "2022-10-28T09:00:50.972Z"
   },
   {
    "duration": 37,
    "start_time": "2022-10-28T09:00:50.998Z"
   },
   {
    "duration": 35,
    "start_time": "2022-10-28T09:00:51.037Z"
   },
   {
    "duration": 22,
    "start_time": "2022-10-28T09:00:51.074Z"
   },
   {
    "duration": 20,
    "start_time": "2022-10-28T09:00:51.098Z"
   },
   {
    "duration": 22,
    "start_time": "2022-10-28T09:00:51.120Z"
   },
   {
    "duration": 29,
    "start_time": "2022-10-28T09:00:51.146Z"
   },
   {
    "duration": 30,
    "start_time": "2022-10-28T09:00:51.177Z"
   },
   {
    "duration": 37,
    "start_time": "2022-10-28T09:00:51.209Z"
   },
   {
    "duration": 37,
    "start_time": "2022-10-28T09:00:51.248Z"
   },
   {
    "duration": 462,
    "start_time": "2022-10-28T09:00:51.287Z"
   },
   {
    "duration": 527,
    "start_time": "2022-10-28T09:00:51.751Z"
   },
   {
    "duration": 5,
    "start_time": "2022-10-28T09:00:52.280Z"
   },
   {
    "duration": 331,
    "start_time": "2022-10-28T09:00:52.286Z"
   },
   {
    "duration": 74,
    "start_time": "2022-10-28T09:00:52.619Z"
   },
   {
    "duration": 120,
    "start_time": "2022-10-28T09:00:52.698Z"
   },
   {
    "duration": 157,
    "start_time": "2022-10-28T09:00:52.820Z"
   },
   {
    "duration": 0,
    "start_time": "2022-10-28T09:00:52.979Z"
   },
   {
    "duration": 0,
    "start_time": "2022-10-28T09:00:52.981Z"
   },
   {
    "duration": 0,
    "start_time": "2022-10-28T09:00:52.983Z"
   },
   {
    "duration": 0,
    "start_time": "2022-10-28T09:00:52.984Z"
   },
   {
    "duration": 0,
    "start_time": "2022-10-28T09:00:52.986Z"
   },
   {
    "duration": 0,
    "start_time": "2022-10-28T09:00:52.988Z"
   },
   {
    "duration": 0,
    "start_time": "2022-10-28T09:00:52.989Z"
   },
   {
    "duration": 0,
    "start_time": "2022-10-28T09:00:52.991Z"
   },
   {
    "duration": 0,
    "start_time": "2022-10-28T09:00:52.994Z"
   },
   {
    "duration": 1245,
    "start_time": "2022-10-28T09:07:07.851Z"
   },
   {
    "duration": 52,
    "start_time": "2022-10-28T09:07:09.098Z"
   },
   {
    "duration": 18,
    "start_time": "2022-10-28T09:07:09.152Z"
   },
   {
    "duration": 16,
    "start_time": "2022-10-28T09:07:09.172Z"
   },
   {
    "duration": 702,
    "start_time": "2022-10-28T09:07:09.190Z"
   },
   {
    "duration": 321,
    "start_time": "2022-10-28T09:07:09.894Z"
   },
   {
    "duration": 3,
    "start_time": "2022-10-28T09:07:10.217Z"
   },
   {
    "duration": 22,
    "start_time": "2022-10-28T09:07:10.222Z"
   },
   {
    "duration": 30,
    "start_time": "2022-10-28T09:07:10.246Z"
   },
   {
    "duration": 12,
    "start_time": "2022-10-28T09:07:10.278Z"
   },
   {
    "duration": 12,
    "start_time": "2022-10-28T09:07:10.292Z"
   },
   {
    "duration": 72,
    "start_time": "2022-10-28T09:07:10.306Z"
   },
   {
    "duration": 5,
    "start_time": "2022-10-28T09:07:10.380Z"
   },
   {
    "duration": 15,
    "start_time": "2022-10-28T09:07:10.390Z"
   },
   {
    "duration": 5,
    "start_time": "2022-10-28T09:07:10.408Z"
   },
   {
    "duration": 52,
    "start_time": "2022-10-28T09:07:10.415Z"
   },
   {
    "duration": 14,
    "start_time": "2022-10-28T09:07:10.470Z"
   },
   {
    "duration": 8,
    "start_time": "2022-10-28T09:07:10.486Z"
   },
   {
    "duration": 9,
    "start_time": "2022-10-28T09:07:10.496Z"
   },
   {
    "duration": 11,
    "start_time": "2022-10-28T09:07:10.507Z"
   },
   {
    "duration": 35,
    "start_time": "2022-10-28T09:07:10.520Z"
   },
   {
    "duration": 9,
    "start_time": "2022-10-28T09:07:10.557Z"
   },
   {
    "duration": 13,
    "start_time": "2022-10-28T09:07:10.568Z"
   },
   {
    "duration": 8,
    "start_time": "2022-10-28T09:07:10.583Z"
   },
   {
    "duration": 21,
    "start_time": "2022-10-28T09:07:10.593Z"
   },
   {
    "duration": 6,
    "start_time": "2022-10-28T09:07:10.616Z"
   },
   {
    "duration": 39,
    "start_time": "2022-10-28T09:07:10.623Z"
   },
   {
    "duration": 6,
    "start_time": "2022-10-28T09:07:10.664Z"
   },
   {
    "duration": 17,
    "start_time": "2022-10-28T09:07:10.671Z"
   },
   {
    "duration": 22,
    "start_time": "2022-10-28T09:07:10.690Z"
   },
   {
    "duration": 6,
    "start_time": "2022-10-28T09:07:10.714Z"
   },
   {
    "duration": 33,
    "start_time": "2022-10-28T09:07:10.722Z"
   },
   {
    "duration": 17,
    "start_time": "2022-10-28T09:07:10.757Z"
   },
   {
    "duration": 11,
    "start_time": "2022-10-28T09:07:10.776Z"
   },
   {
    "duration": 15,
    "start_time": "2022-10-28T09:07:10.788Z"
   },
   {
    "duration": 444,
    "start_time": "2022-10-28T09:07:10.805Z"
   },
   {
    "duration": 647,
    "start_time": "2022-10-28T09:07:11.251Z"
   },
   {
    "duration": 6,
    "start_time": "2022-10-28T09:07:11.901Z"
   },
   {
    "duration": 307,
    "start_time": "2022-10-28T09:07:11.909Z"
   },
   {
    "duration": 74,
    "start_time": "2022-10-28T09:07:12.218Z"
   },
   {
    "duration": 107,
    "start_time": "2022-10-28T09:07:12.296Z"
   },
   {
    "duration": 144,
    "start_time": "2022-10-28T09:07:12.405Z"
   },
   {
    "duration": 0,
    "start_time": "2022-10-28T09:07:12.554Z"
   },
   {
    "duration": 0,
    "start_time": "2022-10-28T09:07:12.555Z"
   },
   {
    "duration": 0,
    "start_time": "2022-10-28T09:07:12.556Z"
   },
   {
    "duration": 0,
    "start_time": "2022-10-28T09:07:12.557Z"
   },
   {
    "duration": 0,
    "start_time": "2022-10-28T09:07:12.558Z"
   },
   {
    "duration": 0,
    "start_time": "2022-10-28T09:07:12.559Z"
   },
   {
    "duration": 0,
    "start_time": "2022-10-28T09:07:12.560Z"
   },
   {
    "duration": 0,
    "start_time": "2022-10-28T09:07:12.561Z"
   },
   {
    "duration": 0,
    "start_time": "2022-10-28T09:07:12.562Z"
   },
   {
    "duration": 45,
    "start_time": "2022-11-15T09:17:08.834Z"
   },
   {
    "duration": 1334,
    "start_time": "2022-11-15T09:17:14.800Z"
   },
   {
    "duration": 203,
    "start_time": "2022-11-15T09:17:16.136Z"
   },
   {
    "duration": 16,
    "start_time": "2022-11-15T09:17:16.341Z"
   },
   {
    "duration": 13,
    "start_time": "2022-11-15T09:17:16.359Z"
   },
   {
    "duration": 629,
    "start_time": "2022-11-15T09:17:16.373Z"
   },
   {
    "duration": 332,
    "start_time": "2022-11-15T09:17:17.203Z"
   },
   {
    "duration": 3,
    "start_time": "2022-11-15T09:17:18.994Z"
   },
   {
    "duration": 4,
    "start_time": "2022-11-15T09:17:19.173Z"
   },
   {
    "duration": 23,
    "start_time": "2022-11-15T09:17:19.803Z"
   },
   {
    "duration": 10,
    "start_time": "2022-11-15T09:17:20.572Z"
   },
   {
    "duration": 13,
    "start_time": "2022-11-15T09:17:21.182Z"
   },
   {
    "duration": 45,
    "start_time": "2022-11-15T09:17:21.519Z"
   },
   {
    "duration": 5,
    "start_time": "2022-11-15T09:17:22.951Z"
   },
   {
    "duration": 9,
    "start_time": "2022-11-15T09:17:28.986Z"
   },
   {
    "duration": 4,
    "start_time": "2022-11-15T09:17:29.235Z"
   },
   {
    "duration": 14,
    "start_time": "2022-11-15T09:17:29.873Z"
   },
   {
    "duration": 8,
    "start_time": "2022-11-15T09:17:30.510Z"
   },
   {
    "duration": 6,
    "start_time": "2022-11-15T09:17:31.735Z"
   },
   {
    "duration": 6,
    "start_time": "2022-11-15T09:17:32.189Z"
   },
   {
    "duration": 6,
    "start_time": "2022-11-15T09:22:07.588Z"
   },
   {
    "duration": 5,
    "start_time": "2022-11-15T09:22:07.726Z"
   },
   {
    "duration": 5,
    "start_time": "2022-11-15T09:22:08.001Z"
   },
   {
    "duration": 5,
    "start_time": "2022-11-15T09:22:08.399Z"
   },
   {
    "duration": 5,
    "start_time": "2022-11-15T09:22:09.094Z"
   },
   {
    "duration": 17,
    "start_time": "2022-11-15T09:22:10.117Z"
   },
   {
    "duration": 5,
    "start_time": "2022-11-15T09:22:10.271Z"
   },
   {
    "duration": 6,
    "start_time": "2022-11-15T09:22:10.641Z"
   },
   {
    "duration": 5,
    "start_time": "2022-11-15T09:22:10.896Z"
   },
   {
    "duration": 6,
    "start_time": "2022-11-15T09:22:11.304Z"
   },
   {
    "duration": 10,
    "start_time": "2022-11-15T09:22:11.786Z"
   },
   {
    "duration": 6,
    "start_time": "2022-11-15T09:22:12.206Z"
   },
   {
    "duration": 9,
    "start_time": "2022-11-15T09:22:13.094Z"
   },
   {
    "duration": 15,
    "start_time": "2022-11-15T09:22:13.654Z"
   },
   {
    "duration": 9,
    "start_time": "2022-11-15T09:22:13.878Z"
   },
   {
    "duration": 12,
    "start_time": "2022-11-15T09:22:14.711Z"
   },
   {
    "duration": 342,
    "start_time": "2022-11-15T09:22:15.716Z"
   },
   {
    "duration": 442,
    "start_time": "2022-11-15T09:22:17.104Z"
   },
   {
    "duration": 5,
    "start_time": "2022-11-15T09:22:17.548Z"
   },
   {
    "duration": 1114,
    "start_time": "2022-11-15T09:22:54.273Z"
   },
   {
    "duration": 51,
    "start_time": "2022-11-15T09:22:55.389Z"
   },
   {
    "duration": 15,
    "start_time": "2022-11-15T09:22:55.442Z"
   },
   {
    "duration": 20,
    "start_time": "2022-11-15T09:22:55.458Z"
   },
   {
    "duration": 629,
    "start_time": "2022-11-15T09:22:55.480Z"
   },
   {
    "duration": 299,
    "start_time": "2022-11-15T09:22:56.111Z"
   },
   {
    "duration": 3,
    "start_time": "2022-11-15T09:22:56.412Z"
   },
   {
    "duration": 27,
    "start_time": "2022-11-15T09:22:56.417Z"
   },
   {
    "duration": 39,
    "start_time": "2022-11-15T09:22:56.446Z"
   },
   {
    "duration": 16,
    "start_time": "2022-11-15T09:22:56.487Z"
   },
   {
    "duration": 12,
    "start_time": "2022-11-15T09:22:56.504Z"
   },
   {
    "duration": 46,
    "start_time": "2022-11-15T09:22:56.518Z"
   },
   {
    "duration": 3,
    "start_time": "2022-11-15T09:22:56.566Z"
   },
   {
    "duration": 26,
    "start_time": "2022-11-15T09:22:56.572Z"
   },
   {
    "duration": 15,
    "start_time": "2022-11-15T09:22:56.599Z"
   },
   {
    "duration": 31,
    "start_time": "2022-11-15T09:22:56.615Z"
   },
   {
    "duration": 23,
    "start_time": "2022-11-15T09:22:56.647Z"
   },
   {
    "duration": 38,
    "start_time": "2022-11-15T09:22:56.672Z"
   },
   {
    "duration": 21,
    "start_time": "2022-11-15T09:22:56.712Z"
   },
   {
    "duration": 18,
    "start_time": "2022-11-15T09:22:56.735Z"
   },
   {
    "duration": 27,
    "start_time": "2022-11-15T09:22:56.755Z"
   },
   {
    "duration": 22,
    "start_time": "2022-11-15T09:22:56.784Z"
   },
   {
    "duration": 21,
    "start_time": "2022-11-15T09:22:56.807Z"
   },
   {
    "duration": 26,
    "start_time": "2022-11-15T09:22:56.829Z"
   },
   {
    "duration": 55,
    "start_time": "2022-11-15T09:22:56.856Z"
   },
   {
    "duration": 23,
    "start_time": "2022-11-15T09:22:56.913Z"
   },
   {
    "duration": 34,
    "start_time": "2022-11-15T09:22:56.938Z"
   },
   {
    "duration": 22,
    "start_time": "2022-11-15T09:22:56.973Z"
   },
   {
    "duration": 29,
    "start_time": "2022-11-15T09:22:56.996Z"
   },
   {
    "duration": 23,
    "start_time": "2022-11-15T09:22:57.027Z"
   },
   {
    "duration": 20,
    "start_time": "2022-11-15T09:22:57.051Z"
   },
   {
    "duration": 34,
    "start_time": "2022-11-15T09:22:57.072Z"
   },
   {
    "duration": 48,
    "start_time": "2022-11-15T09:22:57.107Z"
   },
   {
    "duration": 32,
    "start_time": "2022-11-15T09:22:57.156Z"
   },
   {
    "duration": 30,
    "start_time": "2022-11-15T09:22:57.189Z"
   },
   {
    "duration": 345,
    "start_time": "2022-11-15T09:22:57.221Z"
   },
   {
    "duration": 448,
    "start_time": "2022-11-15T09:22:57.567Z"
   },
   {
    "duration": 4,
    "start_time": "2022-11-15T09:22:58.017Z"
   },
   {
    "duration": 253,
    "start_time": "2022-11-15T09:22:58.023Z"
   },
   {
    "duration": 51,
    "start_time": "2022-11-15T09:22:58.278Z"
   },
   {
    "duration": 91,
    "start_time": "2022-11-15T09:22:58.332Z"
   },
   {
    "duration": 124,
    "start_time": "2022-11-15T09:22:58.425Z"
   },
   {
    "duration": 0,
    "start_time": "2022-11-15T09:22:58.551Z"
   },
   {
    "duration": 0,
    "start_time": "2022-11-15T09:22:58.552Z"
   },
   {
    "duration": 0,
    "start_time": "2022-11-15T09:22:58.553Z"
   },
   {
    "duration": 0,
    "start_time": "2022-11-15T09:22:58.554Z"
   },
   {
    "duration": 0,
    "start_time": "2022-11-15T09:22:58.555Z"
   },
   {
    "duration": 0,
    "start_time": "2022-11-15T09:22:58.556Z"
   },
   {
    "duration": 0,
    "start_time": "2022-11-15T09:22:58.557Z"
   },
   {
    "duration": 0,
    "start_time": "2022-11-15T09:22:58.558Z"
   },
   {
    "duration": 0,
    "start_time": "2022-11-15T09:22:58.559Z"
   },
   {
    "duration": 11,
    "start_time": "2022-11-15T09:23:49.120Z"
   },
   {
    "duration": 10,
    "start_time": "2022-11-15T09:24:17.273Z"
   },
   {
    "duration": 1206,
    "start_time": "2023-01-20T12:19:16.175Z"
   },
   {
    "duration": 96,
    "start_time": "2023-01-20T12:19:17.384Z"
   },
   {
    "duration": 22,
    "start_time": "2023-01-20T12:19:17.482Z"
   },
   {
    "duration": 31,
    "start_time": "2023-01-20T12:19:17.508Z"
   },
   {
    "duration": 746,
    "start_time": "2023-01-20T12:19:17.546Z"
   },
   {
    "duration": 328,
    "start_time": "2023-01-20T12:19:18.294Z"
   },
   {
    "duration": 4,
    "start_time": "2023-01-20T12:19:18.623Z"
   },
   {
    "duration": 8,
    "start_time": "2023-01-20T12:19:18.628Z"
   },
   {
    "duration": 39,
    "start_time": "2023-01-20T12:19:18.637Z"
   },
   {
    "duration": 9,
    "start_time": "2023-01-20T12:19:18.679Z"
   },
   {
    "duration": 14,
    "start_time": "2023-01-20T12:19:18.690Z"
   },
   {
    "duration": 72,
    "start_time": "2023-01-20T12:19:18.706Z"
   },
   {
    "duration": 13,
    "start_time": "2023-01-20T12:19:18.781Z"
   },
   {
    "duration": 28,
    "start_time": "2023-01-20T12:19:18.796Z"
   },
   {
    "duration": 8,
    "start_time": "2023-01-20T12:19:18.826Z"
   },
   {
    "duration": 19,
    "start_time": "2023-01-20T12:19:18.836Z"
   },
   {
    "duration": 13,
    "start_time": "2023-01-20T12:19:18.857Z"
   },
   {
    "duration": 8,
    "start_time": "2023-01-20T12:19:18.872Z"
   },
   {
    "duration": 13,
    "start_time": "2023-01-20T12:19:18.882Z"
   },
   {
    "duration": 14,
    "start_time": "2023-01-20T12:19:18.897Z"
   },
   {
    "duration": 8,
    "start_time": "2023-01-20T12:19:18.913Z"
   },
   {
    "duration": 32,
    "start_time": "2023-01-20T12:19:18.923Z"
   },
   {
    "duration": 23,
    "start_time": "2023-01-20T12:19:18.957Z"
   },
   {
    "duration": 16,
    "start_time": "2023-01-20T12:19:18.982Z"
   },
   {
    "duration": 30,
    "start_time": "2023-01-20T12:19:19.000Z"
   },
   {
    "duration": 10,
    "start_time": "2023-01-20T12:19:19.032Z"
   },
   {
    "duration": 17,
    "start_time": "2023-01-20T12:19:19.044Z"
   },
   {
    "duration": 7,
    "start_time": "2023-01-20T12:19:19.064Z"
   },
   {
    "duration": 19,
    "start_time": "2023-01-20T12:19:19.073Z"
   },
   {
    "duration": 14,
    "start_time": "2023-01-20T12:19:19.093Z"
   },
   {
    "duration": 6,
    "start_time": "2023-01-20T12:19:19.109Z"
   },
   {
    "duration": 11,
    "start_time": "2023-01-20T12:19:19.116Z"
   },
   {
    "duration": 31,
    "start_time": "2023-01-20T12:19:19.129Z"
   },
   {
    "duration": 9,
    "start_time": "2023-01-20T12:19:19.162Z"
   },
   {
    "duration": 12,
    "start_time": "2023-01-20T12:19:19.173Z"
   },
   {
    "duration": 407,
    "start_time": "2023-01-20T12:19:19.187Z"
   },
   {
    "duration": 552,
    "start_time": "2023-01-20T12:19:19.596Z"
   },
   {
    "duration": 4,
    "start_time": "2023-01-20T12:19:20.153Z"
   },
   {
    "duration": 286,
    "start_time": "2023-01-20T12:19:20.159Z"
   },
   {
    "duration": 106,
    "start_time": "2023-01-20T12:19:20.447Z"
   },
   {
    "duration": 107,
    "start_time": "2023-01-20T12:19:20.556Z"
   },
   {
    "duration": 169,
    "start_time": "2023-01-20T12:19:20.665Z"
   },
   {
    "duration": 0,
    "start_time": "2023-01-20T12:19:20.835Z"
   },
   {
    "duration": 0,
    "start_time": "2023-01-20T12:19:20.837Z"
   },
   {
    "duration": 0,
    "start_time": "2023-01-20T12:19:20.854Z"
   },
   {
    "duration": 0,
    "start_time": "2023-01-20T12:19:20.856Z"
   },
   {
    "duration": 0,
    "start_time": "2023-01-20T12:19:20.858Z"
   },
   {
    "duration": 0,
    "start_time": "2023-01-20T12:19:20.859Z"
   },
   {
    "duration": 0,
    "start_time": "2023-01-20T12:19:20.861Z"
   },
   {
    "duration": 1,
    "start_time": "2023-01-20T12:19:20.862Z"
   },
   {
    "duration": 0,
    "start_time": "2023-01-20T12:19:20.864Z"
   }
  ],
  "kernelspec": {
   "display_name": "Python 3 (ipykernel)",
   "language": "python",
   "name": "python3"
  },
  "language_info": {
   "codemirror_mode": {
    "name": "ipython",
    "version": 3
   },
   "file_extension": ".py",
   "mimetype": "text/x-python",
   "name": "python",
   "nbconvert_exporter": "python",
   "pygments_lexer": "ipython3",
   "version": "3.9.8"
  },
  "toc": {
   "base_numbering": 1,
   "nav_menu": {},
   "number_sections": true,
   "sideBar": true,
   "skip_h1_title": true,
   "title_cell": "Table of Contents",
   "title_sidebar": "Contents",
   "toc_cell": false,
   "toc_position": {},
   "toc_section_display": true,
   "toc_window_display": false
  }
 },
 "nbformat": 4,
 "nbformat_minor": 2
}
